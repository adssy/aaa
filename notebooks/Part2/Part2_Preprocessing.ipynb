{
  "metadata": {
    "saveOutput": true,
    "language_info": {
      "name": "python"
    }
  },
  "nbformat": 4,
  "nbformat_minor": 2,
  "cells": [
    {
      "cell_type": "markdown",
      "metadata": {},
      "source": [
        "# Advanced Azure Data Analytics Day : Azure Synapse Analytics Training For Game Industry\n",
        ""
      ],
      "attachments": {}
    },
    {
      "cell_type": "markdown",
      "metadata": {},
      "source": [
        "- ## Churn Prediction Using Azure Synapse Analytics\n",
        "- ## Step 1. Data Preprocessing\n",
        "\n",
        ""
      ],
      "attachments": {}
    },
    {
      "cell_type": "markdown",
      "metadata": {},
      "source": [
        "# 1. Import Spark Lib\n",
        ""
      ],
      "attachments": {}
    },
    {
      "cell_type": "code",
      "execution_count": 21,
      "outputs": [],
      "metadata": {},
      "source": [
        "from pyspark.sql.functions import *\n",
        "from pyspark.sql.types import *\n",
        "import pandas as pd"
      ],
      "attachments": {}
    },
    {
      "cell_type": "markdown",
      "metadata": {},
      "source": [
        "# 2. Load Raw Data Set\n",
        ""
      ],
      "attachments": {}
    },
    {
      "cell_type": "code",
      "execution_count": 3,
      "outputs": [],
      "metadata": {},
      "source": [
        "# abfss://{filesystem}@{storage acount}.{domain}/{path}/{filename}.{fileformat}\n",
        "# Character_Log_Data(사용자 캐릭터 로그 데이터)\n",
        "wow_log_df = spark.read.load('abfss://aaafilesystem@aaatraing.dfs.core.windows.net/sparkpooldata/WoW_Logs.csv', format='csv', header=True)\n",
        "\n",
        "# InGame_Log_Data(인게임 캐릭터 위치 로그 데이터)\n",
        "zones_df = spark.read.load('abfss://aaafilesystem@aaatraing.dfs.core.windows.net/sparkpooldata/zones.csv', format='csv', header=True)\n",
        "\n",
        "# Churn_Label_Log_Data(이탈 여부 태그 로그 데이터)\n",
        "churners_df = spark.read.load('abfss://aaafilesystem@aaatraing.dfs.core.windows.net/sparkpooldata/churners.csv', format='csv', header=True)"
      ],
      "attachments": {}
    },
    {
      "cell_type": "code",
      "execution_count": 16,
      "outputs": [],
      "metadata": {},
      "source": [
        "#spark dataframe to pandas dataframe 변환작업 \n",
        "#churner_pandas_df = churners_df.toPandas()\n",
        "#wow_log_pandas_df = wow_log_df.toPandas()\n",
        "#zones_pandas_df = zones_df.toPandas()"
      ],
      "attachments": {}
    },
    {
      "cell_type": "code",
      "execution_count": 39,
      "outputs": [
        {
          "output_type": "execute_result",
          "execution_count": 39,
          "data": {
            "text/plain": "14579"
          },
          "metadata": {}
        }
      ],
      "metadata": {
        "diagram": {
          "activateDiagramType": 2,
          "chartConfig": {
            "category": "bar",
            "keys": [
              "IdentifierId"
            ],
            "values": [
              "IdentifierId"
            ],
            "yLabel": "IdentifierId",
            "xLabel": "IdentifierId",
            "aggregation": "COUNT",
            "aggByBackend": false
          },
          "aggData": "{\"IdentifierId\":{\"IdentifierId(1003)\":3,\"IdentifierId(10043)\":2,\"IdentifierId(10223)\":3,\"IdentifierId(10263)\":2,\"IdentifierId(10266)\":1,\"IdentifierId(10543)\":2,\"IdentifierId(1055)\":2,\"IdentifierId(1094)\":2,\"IdentifierId(11087)\":2,\"IdentifierId(112)\":2,\"IdentifierId(11609)\":1,\"IdentifierId(11705)\":2,\"IdentifierId(11706)\":2,\"IdentifierId(1195)\":3,\"IdentifierId(12166)\":2,\"IdentifierId(12213)\":1,\"IdentifierId(12295)\":3,\"IdentifierId(12386)\":2,\"IdentifierId(12663)\":1,\"IdentifierId(1274)\":3,\"IdentifierId(12930)\":2,\"IdentifierId(1316)\":3,\"IdentifierId(133)\":2,\"IdentifierId(13619)\":2,\"IdentifierId(1379)\":3,\"IdentifierId(13816)\":2,\"IdentifierId(1386)\":2,\"IdentifierId(13980)\":2,\"IdentifierId(140)\":3,\"IdentifierId(141)\":1,\"IdentifierId(14525)\":2,\"IdentifierId(1484)\":2,\"IdentifierId(1491)\":1,\"IdentifierId(15224)\":1,\"IdentifierId(15605)\":1,\"IdentifierId(16156)\":1,\"IdentifierId(1617)\":3,\"IdentifierId(16384)\":1,\"IdentifierId(16597)\":2,\"IdentifierId(16797)\":2,\"IdentifierId(16817)\":3,\"IdentifierId(16884)\":3,\"IdentifierId(16968)\":3,\"IdentifierId(17230)\":1,\"IdentifierId(17528)\":2,\"IdentifierId(17738)\":2,\"IdentifierId(1774)\":2,\"IdentifierId(178)\":2,\"IdentifierId(18065)\":2,\"IdentifierId(182)\":2,\"IdentifierId(18411)\":1,\"IdentifierId(18442)\":1,\"IdentifierId(18473)\":2,\"IdentifierId(18610)\":2,\"IdentifierId(18827)\":2,\"IdentifierId(18863)\":2,\"IdentifierId(18898)\":1,\"IdentifierId(19050)\":3,\"IdentifierId(19085)\":3,\"IdentifierId(19449)\":2,\"IdentifierId(195)\":1,\"IdentifierId(19566)\":2,\"IdentifierId(19666)\":2,\"IdentifierId(19818)\":1,\"IdentifierId(2035)\":2,\"IdentifierId(20521)\":2,\"IdentifierId(21046)\":2,\"IdentifierId(2158)\":2,\"IdentifierId(2166)\":2,\"IdentifierId(21752)\":2,\"IdentifierId(21810)\":2,\"IdentifierId(21828)\":3,\"IdentifierId(21861)\":2,\"IdentifierId(21880)\":3,\"IdentifierId(21885)\":2,\"IdentifierId(21905)\":2,\"IdentifierId(21950)\":2,\"IdentifierId(21957)\":2,\"IdentifierId(21976)\":2,\"IdentifierId(22007)\":1,\"IdentifierId(22021)\":2,\"IdentifierId(22039)\":2,\"IdentifierId(22069)\":1,\"IdentifierId(22071)\":2,\"IdentifierId(22155)\":2,\"IdentifierId(22167)\":2,\"IdentifierId(22171)\":2,\"IdentifierId(22176)\":2,\"IdentifierId(22246)\":2,\"IdentifierId(22249)\":2,\"IdentifierId(22271)\":2,\"IdentifierId(22307)\":2,\"IdentifierId(22311)\":2,\"IdentifierId(22321)\":2,\"IdentifierId(22350)\":2,\"IdentifierId(22368)\":2,\"IdentifierId(22379)\":3,\"IdentifierId(2240)\":1,\"IdentifierId(22410)\":2,\"IdentifierId(22424)\":1,\"IdentifierId(22444)\":1,\"IdentifierId(22453)\":2,\"IdentifierId(22454)\":2,\"IdentifierId(22456)\":2,\"IdentifierId(22466)\":3,\"IdentifierId(22474)\":1,\"IdentifierId(22488)\":2,\"IdentifierId(22519)\":2,\"IdentifierId(22541)\":3,\"IdentifierId(22555)\":3,\"IdentifierId(22557)\":3,\"IdentifierId(22576)\":2,\"IdentifierId(22594)\":3,\"IdentifierId(22609)\":2,\"IdentifierId(22629)\":1,\"IdentifierId(22653)\":2,\"IdentifierId(22662)\":1,\"IdentifierId(22666)\":2,\"IdentifierId(22703)\":1,\"IdentifierId(22737)\":2,\"IdentifierId(22793)\":3,\"IdentifierId(2288)\":1,\"IdentifierId(2289)\":1,\"IdentifierId(22934)\":2,\"IdentifierId(22937)\":3,\"IdentifierId(230)\":2,\"IdentifierId(23060)\":2,\"IdentifierId(23062)\":1,\"IdentifierId(23145)\":2,\"IdentifierId(23186)\":1,\"IdentifierId(23248)\":2,\"IdentifierId(23291)\":2,\"IdentifierId(23482)\":1,\"IdentifierId(23487)\":3,\"IdentifierId(23577)\":3,\"IdentifierId(23737)\":1,\"IdentifierId(23807)\":3,\"IdentifierId(24158)\":2,\"IdentifierId(24209)\":3,\"IdentifierId(24388)\":3,\"IdentifierId(24390)\":2,\"IdentifierId(246)\":2,\"IdentifierId(24674)\":1,\"IdentifierId(24707)\":2,\"IdentifierId(24723)\":2,\"IdentifierId(24767)\":3,\"IdentifierId(24815)\":2,\"IdentifierId(24854)\":2,\"IdentifierId(25140)\":2,\"IdentifierId(25213)\":1,\"IdentifierId(25335)\":2,\"IdentifierId(25501)\":3,\"IdentifierId(25687)\":1,\"IdentifierId(25748)\":2,\"IdentifierId(26111)\":3,\"IdentifierId(26137)\":2,\"IdentifierId(26235)\":3,\"IdentifierId(26278)\":2,\"IdentifierId(26610)\":2,\"IdentifierId(2663)\":3,\"IdentifierId(26843)\":3,\"IdentifierId(26983)\":2,\"IdentifierId(27081)\":2,\"IdentifierId(27288)\":2,\"IdentifierId(27427)\":2,\"IdentifierId(27554)\":2,\"IdentifierId(27659)\":2,\"IdentifierId(27711)\":2,\"IdentifierId(27725)\":1,\"IdentifierId(2780)\":1,\"IdentifierId(2796)\":3,\"IdentifierId(28651)\":2,\"IdentifierId(28695)\":1,\"IdentifierId(29058)\":2,\"IdentifierId(29710)\":2,\"IdentifierId(29896)\":1,\"IdentifierId(29999)\":1,\"IdentifierId(30072)\":2,\"IdentifierId(30078)\":3,\"IdentifierId(303)\":2,\"IdentifierId(30452)\":2,\"IdentifierId(30974)\":2,\"IdentifierId(31524)\":3,\"IdentifierId(31647)\":1,\"IdentifierId(323)\":2,\"IdentifierId(32357)\":1,\"IdentifierId(32438)\":3,\"IdentifierId(3249)\":3,\"IdentifierId(32661)\":1,\"IdentifierId(3275)\":2,\"IdentifierId(32794)\":1,\"IdentifierId(32818)\":2,\"IdentifierId(32985)\":2,\"IdentifierId(33016)\":2,\"IdentifierId(33170)\":2,\"IdentifierId(33256)\":3,\"IdentifierId(34319)\":2,\"IdentifierId(34454)\":1,\"IdentifierId(345)\":2,\"IdentifierId(34666)\":2,\"IdentifierId(34673)\":1,\"IdentifierId(34870)\":2,\"IdentifierId(35004)\":2,\"IdentifierId(35143)\":1,\"IdentifierId(35204)\":2,\"IdentifierId(35263)\":2,\"IdentifierId(35268)\":2,\"IdentifierId(35336)\":6,\"IdentifierId(354)\":2,\"IdentifierId(35580)\":2,\"IdentifierId(35622)\":2,\"IdentifierId(3565)\":3,\"IdentifierId(35697)\":2,\"IdentifierId(35729)\":2,\"IdentifierId(35760)\":2,\"IdentifierId(36)\":3,\"IdentifierId(36139)\":2,\"IdentifierId(36187)\":2,\"IdentifierId(36200)\":2,\"IdentifierId(36245)\":2,\"IdentifierId(36328)\":2,\"IdentifierId(36407)\":1,\"IdentifierId(36442)\":2,\"IdentifierId(36553)\":2,\"IdentifierId(37029)\":2,\"IdentifierId(37036)\":2,\"IdentifierId(37039)\":3,\"IdentifierId(37084)\":2,\"IdentifierId(38081)\":2,\"IdentifierId(38082)\":2,\"IdentifierId(38324)\":1,\"IdentifierId(38495)\":6,\"IdentifierId(38500)\":2,\"IdentifierId(39107)\":2,\"IdentifierId(39253)\":2,\"IdentifierId(39365)\":3,\"IdentifierId(394)\":2,\"IdentifierId(39590)\":2,\"IdentifierId(4002)\":3,\"IdentifierId(40092)\":2,\"IdentifierId(40453)\":2,\"IdentifierId(40469)\":2,\"IdentifierId(40700)\":1,\"IdentifierId(41029)\":2,\"IdentifierId(41252)\":2,\"IdentifierId(4141)\":2,\"IdentifierId(41436)\":2,\"IdentifierId(41519)\":2,\"IdentifierId(41661)\":6,\"IdentifierId(417)\":2,\"IdentifierId(41715)\":3,\"IdentifierId(41728)\":2,\"IdentifierId(41802)\":2,\"IdentifierId(41829)\":2,\"IdentifierId(42099)\":2,\"IdentifierId(42267)\":2,\"IdentifierId(43945)\":2,\"IdentifierId(4399)\":3,\"IdentifierId(44)\":1,\"IdentifierId(44354)\":1,\"IdentifierId(44387)\":2,\"IdentifierId(44398)\":2,\"IdentifierId(44477)\":3,\"IdentifierId(45029)\":2,\"IdentifierId(45364)\":1,\"IdentifierId(45368)\":1,\"IdentifierId(45422)\":2,\"IdentifierId(45457)\":2,\"IdentifierId(45491)\":1,\"IdentifierId(45552)\":1,\"IdentifierId(45704)\":2,\"IdentifierId(45918)\":2,\"IdentifierId(460)\":2,\"IdentifierId(46138)\":1,\"IdentifierId(46188)\":2,\"IdentifierId(46502)\":2,\"IdentifierId(46755)\":2,\"IdentifierId(46794)\":3,\"IdentifierId(46803)\":2,\"IdentifierId(47077)\":2,\"IdentifierId(47108)\":2,\"IdentifierId(47116)\":1,\"IdentifierId(47531)\":2,\"IdentifierId(47637)\":2,\"IdentifierId(47880)\":6,\"IdentifierId(48234)\":2,\"IdentifierId(48417)\":2,\"IdentifierId(48432)\":3,\"IdentifierId(48589)\":1,\"IdentifierId(48660)\":1,\"IdentifierId(48670)\":3,\"IdentifierId(48821)\":1,\"IdentifierId(4932)\":1,\"IdentifierId(49719)\":3,\"IdentifierId(49788)\":2,\"IdentifierId(49810)\":1,\"IdentifierId(4989)\":3,\"IdentifierId(49944)\":3,\"IdentifierId(50046)\":2,\"IdentifierId(50401)\":2,\"IdentifierId(50524)\":2,\"IdentifierId(5088)\":3,\"IdentifierId(51138)\":2,\"IdentifierId(51246)\":2,\"IdentifierId(51444)\":2,\"IdentifierId(51738)\":2,\"IdentifierId(51768)\":2,\"IdentifierId(52103)\":2,\"IdentifierId(52362)\":2,\"IdentifierId(52427)\":2,\"IdentifierId(52445)\":2,\"IdentifierId(52497)\":1,\"IdentifierId(52499)\":2,\"IdentifierId(52549)\":2,\"IdentifierId(52793)\":2,\"IdentifierId(52818)\":2,\"IdentifierId(52944)\":2,\"IdentifierId(53)\":1,\"IdentifierId(53170)\":2,\"IdentifierId(53228)\":2,\"IdentifierId(53229)\":2,\"IdentifierId(53785)\":2,\"IdentifierId(53911)\":2,\"IdentifierId(54534)\":4,\"IdentifierId(54676)\":2,\"IdentifierId(54869)\":2,\"IdentifierId(54918)\":1,\"IdentifierId(55037)\":2,\"IdentifierId(55051)\":2,\"IdentifierId(55614)\":2,\"IdentifierId(55667)\":2,\"IdentifierId(55762)\":2,\"IdentifierId(55787)\":2,\"IdentifierId(55791)\":2,\"IdentifierId(55922)\":3,\"IdentifierId(55932)\":2,\"IdentifierId(56579)\":2,\"IdentifierId(56692)\":2,\"IdentifierId(57101)\":2,\"IdentifierId(57137)\":3,\"IdentifierId(57316)\":2,\"IdentifierId(57744)\":2,\"IdentifierId(57770)\":6,\"IdentifierId(57830)\":1,\"IdentifierId(58074)\":1,\"IdentifierId(582)\":2,\"IdentifierId(58242)\":2,\"IdentifierId(58710)\":2,\"IdentifierId(58800)\":2,\"IdentifierId(58813)\":4,\"IdentifierId(58974)\":2,\"IdentifierId(58987)\":2,\"IdentifierId(59029)\":2,\"IdentifierId(59334)\":2,\"IdentifierId(59425)\":2,\"IdentifierId(59467)\":2,\"IdentifierId(59548)\":2,\"IdentifierId(59629)\":2,\"IdentifierId(59772)\":3,\"IdentifierId(60100)\":2,\"IdentifierId(60168)\":2,\"IdentifierId(60179)\":3,\"IdentifierId(60250)\":2,\"IdentifierId(60343)\":2,\"IdentifierId(60525)\":2,\"IdentifierId(60628)\":2,\"IdentifierId(60674)\":2,\"IdentifierId(60782)\":3,\"IdentifierId(60859)\":3,\"IdentifierId(60870)\":2,\"IdentifierId(61105)\":2,\"IdentifierId(61239)\":3,\"IdentifierId(61409)\":2,\"IdentifierId(61421)\":3,\"IdentifierId(61505)\":2,\"IdentifierId(61510)\":3,\"IdentifierId(61560)\":2,\"IdentifierId(61663)\":2,\"IdentifierId(61736)\":3,\"IdentifierId(61755)\":2,\"IdentifierId(61769)\":2,\"IdentifierId(61773)\":2,\"IdentifierId(61856)\":1,\"IdentifierId(61883)\":2,\"IdentifierId(61942)\":2,\"IdentifierId(62)\":3,\"IdentifierId(62023)\":2,\"IdentifierId(62095)\":3,\"IdentifierId(62348)\":2,\"IdentifierId(62410)\":2,\"IdentifierId(62426)\":2,\"IdentifierId(62580)\":3,\"IdentifierId(62585)\":2,\"IdentifierId(62591)\":2,\"IdentifierId(62829)\":2,\"IdentifierId(62933)\":2,\"IdentifierId(62987)\":2,\"IdentifierId(62995)\":2,\"IdentifierId(62999)\":2,\"IdentifierId(63081)\":2,\"IdentifierId(63133)\":2,\"IdentifierId(63273)\":2,\"IdentifierId(63302)\":2,\"IdentifierId(63311)\":1,\"IdentifierId(63335)\":2,\"IdentifierId(63401)\":2,\"IdentifierId(63533)\":2,\"IdentifierId(63541)\":3,\"IdentifierId(63599)\":3,\"IdentifierId(63604)\":3,\"IdentifierId(63646)\":2,\"IdentifierId(63662)\":1,\"IdentifierId(63729)\":2,\"IdentifierId(63753)\":2,\"IdentifierId(63804)\":2,\"IdentifierId(64)\":3,\"IdentifierId(64031)\":2,\"IdentifierId(64095)\":2,\"IdentifierId(64136)\":3,\"IdentifierId(64141)\":1,\"IdentifierId(64297)\":3,\"IdentifierId(64310)\":1,\"IdentifierId(64380)\":1,\"IdentifierId(64397)\":2,\"IdentifierId(64475)\":2,\"IdentifierId(64497)\":2,\"IdentifierId(64510)\":1,\"IdentifierId(64580)\":2,\"IdentifierId(64604)\":2,\"IdentifierId(64609)\":2,\"IdentifierId(64632)\":2,\"IdentifierId(64650)\":2,\"IdentifierId(64655)\":3,\"IdentifierId(64656)\":2,\"IdentifierId(64784)\":2,\"IdentifierId(64813)\":2,\"IdentifierId(64823)\":2,\"IdentifierId(64875)\":2,\"IdentifierId(64904)\":2,\"IdentifierId(64923)\":3,\"IdentifierId(64950)\":2,\"IdentifierId(64975)\":2,\"IdentifierId(650)\":1,\"IdentifierId(65002)\":1,\"IdentifierId(65013)\":2,\"IdentifierId(65077)\":2,\"IdentifierId(65180)\":3,\"IdentifierId(65181)\":3,\"IdentifierId(65217)\":2,\"IdentifierId(65230)\":2,\"IdentifierId(65322)\":2,\"IdentifierId(65403)\":2,\"IdentifierId(65409)\":2,\"IdentifierId(65415)\":2,\"IdentifierId(65420)\":2,\"IdentifierId(65436)\":1,\"IdentifierId(65444)\":3,\"IdentifierId(65469)\":1,\"IdentifierId(65477)\":2,\"IdentifierId(65490)\":3,\"IdentifierId(65494)\":3,\"IdentifierId(65531)\":3,\"IdentifierId(65547)\":2,\"IdentifierId(65548)\":1,\"IdentifierId(65549)\":3,\"IdentifierId(65550)\":2,\"IdentifierId(663)\":2,\"IdentifierId(6759)\":1,\"IdentifierId(68)\":1,\"IdentifierId(7087)\":2,\"IdentifierId(7127)\":3,\"IdentifierId(722)\":2,\"IdentifierId(753)\":3,\"IdentifierId(782)\":2,\"IdentifierId(7842)\":1,\"IdentifierId(87)\":1,\"IdentifierId(9084)\":2,\"IdentifierId(9085)\":3,\"IdentifierId(91)\":2,\"IdentifierId(9194)\":2,\"IdentifierId(941)\":2,\"IdentifierId(9486)\":2,\"IdentifierId(9583)\":3,\"IdentifierId(9695)\":2,\"IdentifierId(973)\":2,\"IdentifierId(980)\":2}}",
          "isSummary": false,
          "previewData": {
            "filter": null
          },
          "isSql": false
        }
      },
      "source": [
        "#연습용 셀\n",
        "\n",
        "#wow_log_df.printschema()\n",
        "#print(wow_log_df.describe().show()) #컬럼정보들 표시\n",
        "#display(wow_log_df)\n",
        "#print(wow_log_df.agg({\"level\": \"max\"}).collect()) #표현식 계산\n",
        "#print(wow_log_df.columns) #컬럼명\n",
        "#print(wow_log_df.count()) #row수 반환\n",
        "#print(wow_log_df.drop('level').printSchema()) #컬럼삭제\n",
        "#print(wow_log_df.dropDuplicates(['IdentifierId']).count()) #중복제거\n",
        ""
      ],
      "attachments": {}
    },
    {
      "cell_type": "markdown",
      "metadata": {},
      "source": [
        "# 3. Preprocess Data\n",
        "## 3.1 Rename Column name\n",
        ""
      ],
      "attachments": {}
    },
    {
      "cell_type": "code",
      "execution_count": 18,
      "outputs": [],
      "metadata": {},
      "source": [
        "# Character_Log_Data(사용자 캐릭터 로그 데이터)\n",
        "wow_log_df = wow_log_df.withColumnRenamed('char', 'IdentifierId').withColumnRenamed('zone', 'zoneId')\\\n",
        "            .withColumnRenamed('timestamp', 'log_timestamp')\n",
        "\n",
        "# InGame_Log_Data(인게임 캐릭터 위치 로그 데이터)\n",
        "zones_df = zones_df.withColumnRenamed('Zone_Name', 'zoneId')\n",
        "\n",
        "# Churn_Label_Log_Data(이탈 여부 태그 로그 데이터)\n",
        "churners_df = churners_df.withColumnRenamed('char', 'IdentifierId')\\\n",
        "                         .withColumnRenamed('timestamp', 'churn_timestamp')"
      ],
      "attachments": {}
    },
    {
      "cell_type": "code",
      "execution_count": 17,
      "outputs": [
        {
          "output_type": "execute_result",
          "execution_count": 17,
          "data": {
            "text/plain": "Index(['IdentifierId', 'churn_timestamp', 'churn'], dtype='object')"
          },
          "metadata": {}
        }
      ],
      "metadata": {},
      "source": [
        "churner_pandas_df = churner_pandas_df.rename(columns={'char': 'IdentifierId','timestamp': 'churn_timestamp'})\n",
        "wow_log_pandas_df = wow_log_pandas_df.rename(columns={'char': 'IdentifierId','zone': 'zoneId','timestamp': 'log_timestamp'})\n",
        "zones_pandas_df =zones_pandas_df.rename(columns={'Zone_Name': 'zoneId'})\n",
        "churner_pandas_df.columns"
      ],
      "attachments": {}
    },
    {
      "cell_type": "code",
      "execution_count": null,
      "outputs": [],
      "metadata": {},
      "source": [
        "#연습용 셀\n",
        "#printschema()"
      ],
      "attachments": {}
    },
    {
      "cell_type": "markdown",
      "metadata": {},
      "source": [
        "## 3.2 Convert DataType ( log_timestamp , churn_timestamp )\n",
        "- #### String to timestamp( unix_timestamp → to_timestamp )"
      ],
      "attachments": {}
    },
    {
      "cell_type": "code",
      "execution_count": 4,
      "outputs": [
        {
          "output_type": "execute_result",
          "data": {
            "application/json": {
              "table": {
                "rows": [
                  {
                    "IdentifierId": "IdentifierId(59425)",
                    "log_timestamp": "2008-01-01 00:02:04",
                    "race": "Orc",
                    "charclass": "Rogue",
                    "zoneId": "ZoneidId(Orgrimmar)",
                    "guild": "165",
                    "level": "1"
                  },
                  {
                    "IdentifierId": "IdentifierId(65494)",
                    "log_timestamp": "2008-01-01 00:02:04",
                    "race": "Orc",
                    "charclass": "Hunter",
                    "zoneId": "ZoneidId(Durotar)",
                    "guild": "-1",
                    "level": "9"
                  },
                  {
                    "IdentifierId": "IdentifierId(65490)",
                    "log_timestamp": "2008-01-01 00:02:04",
                    "race": "Orc",
                    "charclass": "Hunter",
                    "zoneId": "ZoneidId(Ghostlands)",
                    "guild": "-1",
                    "level": "18"
                  },
                  {
                    "IdentifierId": "IdentifierId(2288)",
                    "log_timestamp": "2008-01-01 00:02:09",
                    "race": "Orc",
                    "charclass": "Hunter",
                    "zoneId": "ZoneidId(Hellfire Peninsula)",
                    "guild": "-1",
                    "level": "60"
                  },
                  {
                    "IdentifierId": "IdentifierId(2289)",
                    "log_timestamp": "2008-01-01 00:02:09",
                    "race": "Orc",
                    "charclass": "Hunter",
                    "zoneId": "ZoneidId(Hellfire Peninsula)",
                    "guild": "-1",
                    "level": "60"
                  },
                  {
                    "IdentifierId": "IdentifierId(61239)",
                    "log_timestamp": "2008-01-01 00:02:14",
                    "race": "Orc",
                    "charclass": "Hunter",
                    "zoneId": "ZoneidId(Blade's Edge Mountains)",
                    "guild": "243",
                    "level": "68"
                  },
                  {
                    "IdentifierId": "IdentifierId(59772)",
                    "log_timestamp": "2008-01-01 00:02:14",
                    "race": "Orc",
                    "charclass": "Warrior",
                    "zoneId": "ZoneidId(Shadowmoon Valley)",
                    "guild": "35",
                    "level": "69"
                  },
                  {
                    "IdentifierId": "IdentifierId(22937)",
                    "log_timestamp": "2008-01-01 00:02:14",
                    "race": "Orc",
                    "charclass": "Rogue",
                    "zoneId": "ZoneidId(Warsong Gulch)",
                    "guild": "243",
                    "level": "69"
                  },
                  {
                    "IdentifierId": "IdentifierId(23062)",
                    "log_timestamp": "2008-01-01 00:02:14",
                    "race": "Orc",
                    "charclass": "Shaman",
                    "zoneId": "ZoneidId(Shattrath City)",
                    "guild": "103",
                    "level": "69"
                  },
                  {
                    "IdentifierId": "IdentifierId(48432)",
                    "log_timestamp": "2008-01-01 00:02:19",
                    "race": "Orc",
                    "charclass": "Warrior",
                    "zoneId": "ZoneidId(Blade's Edge Mountains)",
                    "guild": "79",
                    "level": "70"
                  },
                  {
                    "IdentifierId": "IdentifierId(582)",
                    "log_timestamp": "2008-01-01 00:02:19",
                    "race": "Orc",
                    "charclass": "Warrior",
                    "zoneId": "ZoneidId(Sethekk Halls)",
                    "guild": "19",
                    "level": "70"
                  },
                  {
                    "IdentifierId": "IdentifierId(33256)",
                    "log_timestamp": "2008-01-01 00:02:19",
                    "race": "Orc",
                    "charclass": "Warrior",
                    "zoneId": "ZoneidId(Orgrimmar)",
                    "guild": "53",
                    "level": "70"
                  },
                  {
                    "IdentifierId": "IdentifierId(22307)",
                    "log_timestamp": "2008-01-01 00:02:19",
                    "race": "Orc",
                    "charclass": "Warrior",
                    "zoneId": "ZoneidId(Orgrimmar)",
                    "guild": "174",
                    "level": "70"
                  },
                  {
                    "IdentifierId": "IdentifierId(22466)",
                    "log_timestamp": "2008-01-01 00:02:19",
                    "race": "Orc",
                    "charclass": "Warrior",
                    "zoneId": "ZoneidId(Undercity)",
                    "guild": "101",
                    "level": "70"
                  },
                  {
                    "IdentifierId": "IdentifierId(1003)",
                    "log_timestamp": "2008-01-01 00:02:19",
                    "race": "Orc",
                    "charclass": "Warrior",
                    "zoneId": "ZoneidId(Tirisfal Glades)",
                    "guild": "204",
                    "level": "70"
                  },
                  {
                    "IdentifierId": "IdentifierId(62)",
                    "log_timestamp": "2008-01-01 00:02:19",
                    "race": "Orc",
                    "charclass": "Warrior",
                    "zoneId": "ZoneidId(Shattrath City)",
                    "guild": "5",
                    "level": "70"
                  },
                  {
                    "IdentifierId": "IdentifierId(2663)",
                    "log_timestamp": "2008-01-01 00:02:19",
                    "race": "Orc",
                    "charclass": "Warrior",
                    "zoneId": "ZoneidId(Shattrath City)",
                    "guild": "53",
                    "level": "70"
                  },
                  {
                    "IdentifierId": "IdentifierId(49944)",
                    "log_timestamp": "2008-01-01 00:02:19",
                    "race": "Orc",
                    "charclass": "Warrior",
                    "zoneId": "ZoneidId(Terokkar Forest)",
                    "guild": "167",
                    "level": "70"
                  },
                  {
                    "IdentifierId": "IdentifierId(10223)",
                    "log_timestamp": "2008-01-01 00:02:19",
                    "race": "Orc",
                    "charclass": "Warrior",
                    "zoneId": "ZoneidId(Netherstorm)",
                    "guild": "5",
                    "level": "70"
                  },
                  {
                    "IdentifierId": "IdentifierId(22594)",
                    "log_timestamp": "2008-01-01 00:02:24",
                    "race": "Orc",
                    "charclass": "Hunter",
                    "zoneId": "ZoneidId(Hellfire Peninsula)",
                    "guild": "35",
                    "level": "70"
                  },
                  {
                    "IdentifierId": "IdentifierId(62095)",
                    "log_timestamp": "2008-01-01 00:02:24",
                    "race": "Orc",
                    "charclass": "Hunter",
                    "zoneId": "ZoneidId(Auchenai Crypts)",
                    "guild": "35",
                    "level": "70"
                  },
                  {
                    "IdentifierId": "IdentifierId(16817)",
                    "log_timestamp": "2008-01-01 00:02:24",
                    "race": "Orc",
                    "charclass": "Hunter",
                    "zoneId": "ZoneidId(Orgrimmar)",
                    "guild": "9",
                    "level": "70"
                  },
                  {
                    "IdentifierId": "IdentifierId(22557)",
                    "log_timestamp": "2008-01-01 00:02:24",
                    "race": "Orc",
                    "charclass": "Hunter",
                    "zoneId": "ZoneidId(Orgrimmar)",
                    "guild": "103",
                    "level": "70"
                  },
                  {
                    "IdentifierId": "IdentifierId(22555)",
                    "log_timestamp": "2008-01-01 00:02:24",
                    "race": "Orc",
                    "charclass": "Hunter",
                    "zoneId": "ZoneidId(Orgrimmar)",
                    "guild": "104",
                    "level": "70"
                  },
                  {
                    "IdentifierId": "IdentifierId(753)",
                    "log_timestamp": "2008-01-01 00:02:24",
                    "race": "Orc",
                    "charclass": "Hunter",
                    "zoneId": "ZoneidId(Orgrimmar)",
                    "guild": "53",
                    "level": "70"
                  },
                  {
                    "IdentifierId": "IdentifierId(1379)",
                    "log_timestamp": "2008-01-01 00:02:24",
                    "race": "Orc",
                    "charclass": "Hunter",
                    "zoneId": "ZoneidId(Shadowmoon Valley)",
                    "guild": "53",
                    "level": "70"
                  },
                  {
                    "IdentifierId": "IdentifierId(44477)",
                    "log_timestamp": "2008-01-01 00:02:24",
                    "race": "Orc",
                    "charclass": "Hunter",
                    "zoneId": "ZoneidId(Shadowmoon Valley)",
                    "guild": "167",
                    "level": "70"
                  },
                  {
                    "IdentifierId": "IdentifierId(25501)",
                    "log_timestamp": "2008-01-01 00:02:24",
                    "race": "Orc",
                    "charclass": "Hunter",
                    "zoneId": "ZoneidId(Shadowmoon Valley)",
                    "guild": "-1",
                    "level": "70"
                  },
                  {
                    "IdentifierId": "IdentifierId(53)",
                    "log_timestamp": "2008-01-01 00:02:24",
                    "race": "Orc",
                    "charclass": "Hunter",
                    "zoneId": "ZoneidId(Warsong Gulch)",
                    "guild": "5",
                    "level": "70"
                  },
                  {
                    "IdentifierId": "IdentifierId(19050)",
                    "log_timestamp": "2008-01-01 00:02:24",
                    "race": "Orc",
                    "charclass": "Hunter",
                    "zoneId": "ZoneidId(Tirisfal Glades)",
                    "guild": "-1",
                    "level": "70"
                  },
                  {
                    "IdentifierId": "IdentifierId(23186)",
                    "log_timestamp": "2008-01-01 00:02:24",
                    "race": "Orc",
                    "charclass": "Hunter",
                    "zoneId": "ZoneidId(Shattrath City)",
                    "guild": "103",
                    "level": "70"
                  },
                  {
                    "IdentifierId": "IdentifierId(64)",
                    "log_timestamp": "2008-01-01 00:02:24",
                    "race": "Orc",
                    "charclass": "Hunter",
                    "zoneId": "ZoneidId(Shattrath City)",
                    "guild": "5",
                    "level": "70"
                  },
                  {
                    "IdentifierId": "IdentifierId(15605)",
                    "log_timestamp": "2008-01-01 00:02:24",
                    "race": "Orc",
                    "charclass": "Hunter",
                    "zoneId": "ZoneidId(Shattrath City)",
                    "guild": "103",
                    "level": "70"
                  },
                  {
                    "IdentifierId": "IdentifierId(64510)",
                    "log_timestamp": "2008-01-01 00:02:24",
                    "race": "Orc",
                    "charclass": "Hunter",
                    "zoneId": "ZoneidId(Eye of the Storm)",
                    "guild": "103",
                    "level": "70"
                  },
                  {
                    "IdentifierId": "IdentifierId(2796)",
                    "log_timestamp": "2008-01-01 00:02:24",
                    "race": "Orc",
                    "charclass": "Hunter",
                    "zoneId": "ZoneidId(Zul'Farrak)",
                    "guild": "19",
                    "level": "70"
                  },
                  {
                    "IdentifierId": "IdentifierId(7127)",
                    "log_timestamp": "2008-01-01 00:02:24",
                    "race": "Orc",
                    "charclass": "Hunter",
                    "zoneId": "ZoneidId(The Steamvault)",
                    "guild": "5",
                    "level": "70"
                  },
                  {
                    "IdentifierId": "IdentifierId(62580)",
                    "log_timestamp": "2008-01-01 00:02:24",
                    "race": "Orc",
                    "charclass": "Hunter",
                    "zoneId": "ZoneidId(The Mechanar)",
                    "guild": "216",
                    "level": "70"
                  },
                  {
                    "IdentifierId": "IdentifierId(4002)",
                    "log_timestamp": "2008-01-01 00:02:24",
                    "race": "Orc",
                    "charclass": "Hunter",
                    "zoneId": "ZoneidId(The Mechanar)",
                    "guild": "5",
                    "level": "70"
                  },
                  {
                    "IdentifierId": "IdentifierId(61421)",
                    "log_timestamp": "2008-01-01 00:02:29",
                    "race": "Orc",
                    "charclass": "Rogue",
                    "zoneId": "ZoneidId(Alterac Valley)",
                    "guild": "103",
                    "level": "70"
                  },
                  {
                    "IdentifierId": "IdentifierId(57137)",
                    "log_timestamp": "2008-01-01 00:02:29",
                    "race": "Orc",
                    "charclass": "Rogue",
                    "zoneId": "ZoneidId(Alterac Valley)",
                    "guild": "103",
                    "level": "70"
                  },
                  {
                    "IdentifierId": "IdentifierId(23807)",
                    "log_timestamp": "2008-01-01 00:02:34",
                    "race": "Orc",
                    "charclass": "Shaman",
                    "zoneId": "ZoneidId(Orgrimmar)",
                    "guild": "174",
                    "level": "70"
                  },
                  {
                    "IdentifierId": "IdentifierId(9085)",
                    "log_timestamp": "2008-01-01 00:02:34",
                    "race": "Orc",
                    "charclass": "Shaman",
                    "zoneId": "ZoneidId(Tirisfal Glades)",
                    "guild": "101",
                    "level": "70"
                  },
                  {
                    "IdentifierId": "IdentifierId(36)",
                    "log_timestamp": "2008-01-01 00:02:34",
                    "race": "Orc",
                    "charclass": "Shaman",
                    "zoneId": "ZoneidId(Shattrath City)",
                    "guild": "101",
                    "level": "70"
                  },
                  {
                    "IdentifierId": "IdentifierId(5088)",
                    "log_timestamp": "2008-01-01 00:02:39",
                    "race": "Orc",
                    "charclass": "Warlock",
                    "zoneId": "ZoneidId(Blade's Edge Mountains)",
                    "guild": "9",
                    "level": "70"
                  },
                  {
                    "IdentifierId": "IdentifierId(49719)",
                    "log_timestamp": "2008-01-01 00:02:39",
                    "race": "Orc",
                    "charclass": "Warlock",
                    "zoneId": "ZoneidId(Netherstorm)",
                    "guild": "79",
                    "level": "70"
                  },
                  {
                    "IdentifierId": "IdentifierId(64297)",
                    "log_timestamp": "2008-01-01 00:02:44",
                    "race": "Tauren",
                    "charclass": "Warrior",
                    "zoneId": "ZoneidId(Tanaris)",
                    "guild": "-1",
                    "level": "48"
                  },
                  {
                    "IdentifierId": "IdentifierId(63541)",
                    "log_timestamp": "2008-01-01 00:02:44",
                    "race": "Tauren",
                    "charclass": "Druid",
                    "zoneId": "ZoneidId(Hillsbrad Foothills)",
                    "guild": "282",
                    "level": "28"
                  },
                  {
                    "IdentifierId": "IdentifierId(60859)",
                    "log_timestamp": "2008-01-01 00:02:44",
                    "race": "Tauren",
                    "charclass": "Shaman",
                    "zoneId": "ZoneidId(Warsong Gulch)",
                    "guild": "228",
                    "level": "44"
                  },
                  {
                    "IdentifierId": "IdentifierId(62023)",
                    "log_timestamp": "2008-01-01 00:02:44",
                    "race": "Tauren",
                    "charclass": "Shaman",
                    "zoneId": "ZoneidId(Warsong Gulch)",
                    "guild": "-1",
                    "level": "49"
                  },
                  {
                    "IdentifierId": "IdentifierId(65180)",
                    "log_timestamp": "2008-01-01 00:02:44",
                    "race": "Tauren",
                    "charclass": "Warrior",
                    "zoneId": "ZoneidId(Ashenvale)",
                    "guild": "35",
                    "level": "26"
                  },
                  {
                    "IdentifierId": "IdentifierId(65181)",
                    "log_timestamp": "2008-01-01 00:02:44",
                    "race": "Tauren",
                    "charclass": "Shaman",
                    "zoneId": "ZoneidId(Ashenvale)",
                    "guild": "35",
                    "level": "26"
                  },
                  {
                    "IdentifierId": "IdentifierId(64136)",
                    "log_timestamp": "2008-01-01 00:02:44",
                    "race": "Tauren",
                    "charclass": "Druid",
                    "zoneId": "ZoneidId(Stranglethorn Vale)",
                    "guild": "220",
                    "level": "34"
                  },
                  {
                    "IdentifierId": "IdentifierId(64655)",
                    "log_timestamp": "2008-01-01 00:02:44",
                    "race": "Tauren",
                    "charclass": "Druid",
                    "zoneId": "ZoneidId(Stranglethorn Vale)",
                    "guild": "282",
                    "level": "35"
                  },
                  {
                    "IdentifierId": "IdentifierId(65549)",
                    "log_timestamp": "2008-01-01 00:02:44",
                    "race": "Tauren",
                    "charclass": "Druid",
                    "zoneId": "ZoneidId(Mulgore)",
                    "guild": "-1",
                    "level": "4"
                  },
                  {
                    "IdentifierId": "IdentifierId(65531)",
                    "log_timestamp": "2008-01-01 00:02:44",
                    "race": "Tauren",
                    "charclass": "Druid",
                    "zoneId": "ZoneidId(The Barrens)",
                    "guild": "282",
                    "level": "13"
                  },
                  {
                    "IdentifierId": "IdentifierId(65444)",
                    "log_timestamp": "2008-01-01 00:02:44",
                    "race": "Tauren",
                    "charclass": "Druid",
                    "zoneId": "ZoneidId(The Barrens)",
                    "guild": "291",
                    "level": "17"
                  },
                  {
                    "IdentifierId": "IdentifierId(55787)",
                    "log_timestamp": "2008-01-01 00:02:44",
                    "race": "Tauren",
                    "charclass": "Druid",
                    "zoneId": "ZoneidId(The Barrens)",
                    "guild": "-1",
                    "level": "19"
                  },
                  {
                    "IdentifierId": "IdentifierId(63604)",
                    "log_timestamp": "2008-01-01 00:02:49",
                    "race": "Tauren",
                    "charclass": "Druid",
                    "zoneId": "ZoneidId(Winterspring)",
                    "guild": "293",
                    "level": "57"
                  },
                  {
                    "IdentifierId": "IdentifierId(63599)",
                    "log_timestamp": "2008-01-01 00:02:49",
                    "race": "Tauren",
                    "charclass": "Shaman",
                    "zoneId": "ZoneidId(Hellfire Peninsula)",
                    "guild": "79",
                    "level": "60"
                  },
                  {
                    "IdentifierId": "IdentifierId(48670)",
                    "log_timestamp": "2008-01-01 00:02:49",
                    "race": "Tauren",
                    "charclass": "Druid",
                    "zoneId": "ZoneidId(Orgrimmar)",
                    "guild": "282",
                    "level": "54"
                  },
                  {
                    "IdentifierId": "IdentifierId(60782)",
                    "log_timestamp": "2008-01-01 00:02:49",
                    "race": "Tauren",
                    "charclass": "Druid",
                    "zoneId": "ZoneidId(Silithus)",
                    "guild": "165",
                    "level": "59"
                  },
                  {
                    "IdentifierId": "IdentifierId(3565)",
                    "log_timestamp": "2008-01-01 00:02:49",
                    "race": "Tauren",
                    "charclass": "Warrior",
                    "zoneId": "ZoneidId(Undercity)",
                    "guild": "273",
                    "level": "56"
                  },
                  {
                    "IdentifierId": "IdentifierId(56692)",
                    "log_timestamp": "2008-01-01 00:02:49",
                    "race": "Tauren",
                    "charclass": "Druid",
                    "zoneId": "ZoneidId(Tirisfal Glades)",
                    "guild": "282",
                    "level": "64"
                  },
                  {
                    "IdentifierId": "IdentifierId(55922)",
                    "log_timestamp": "2008-01-01 00:02:49",
                    "race": "Tauren",
                    "charclass": "Shaman",
                    "zoneId": "ZoneidId(Terokkar Forest)",
                    "guild": "167",
                    "level": "64"
                  },
                  {
                    "IdentifierId": "IdentifierId(9583)",
                    "log_timestamp": "2008-01-01 00:02:49",
                    "race": "Tauren",
                    "charclass": "Warrior",
                    "zoneId": "ZoneidId(Stranglethorn Vale)",
                    "guild": "205",
                    "level": "56"
                  },
                  {
                    "IdentifierId": "IdentifierId(31524)",
                    "log_timestamp": "2008-01-01 00:02:49",
                    "race": "Tauren",
                    "charclass": "Warrior",
                    "zoneId": "ZoneidId(Feralas)",
                    "guild": "-1",
                    "level": "53"
                  },
                  {
                    "IdentifierId": "IdentifierId(37039)",
                    "log_timestamp": "2008-01-01 00:02:49",
                    "race": "Tauren",
                    "charclass": "Druid",
                    "zoneId": "ZoneidId(Zangarmarsh)",
                    "guild": "53",
                    "level": "64"
                  },
                  {
                    "IdentifierId": "IdentifierId(112)",
                    "log_timestamp": "2008-01-01 00:02:49",
                    "race": "Tauren",
                    "charclass": "Druid",
                    "zoneId": "ZoneidId(Zangarmarsh)",
                    "guild": "243",
                    "level": "64"
                  },
                  {
                    "IdentifierId": "IdentifierId(41715)",
                    "log_timestamp": "2008-01-01 00:02:49",
                    "race": "Tauren",
                    "charclass": "Warrior",
                    "zoneId": "ZoneidId(Zangarmarsh)",
                    "guild": "-1",
                    "level": "64"
                  },
                  {
                    "IdentifierId": "IdentifierId(61510)",
                    "log_timestamp": "2008-01-01 00:02:49",
                    "race": "Tauren",
                    "charclass": "Hunter",
                    "zoneId": "ZoneidId(Thunder Bluff)",
                    "guild": "251",
                    "level": "63"
                  },
                  {
                    "IdentifierId": "IdentifierId(61736)",
                    "log_timestamp": "2008-01-01 00:02:54",
                    "race": "Tauren",
                    "charclass": "Warrior",
                    "zoneId": "ZoneidId(Blade's Edge Mountains)",
                    "guild": "243",
                    "level": "67"
                  },
                  {
                    "IdentifierId": "IdentifierId(68)",
                    "log_timestamp": "2008-01-01 00:02:54",
                    "race": "Tauren",
                    "charclass": "Warrior",
                    "zoneId": "ZoneidId(Blade's Edge Mountains)",
                    "guild": "205",
                    "level": "67"
                  },
                  {
                    "IdentifierId": "IdentifierId(12295)",
                    "log_timestamp": "2008-01-01 00:02:54",
                    "race": "Tauren",
                    "charclass": "Druid",
                    "zoneId": "ZoneidId(Blade's Edge Mountains)",
                    "guild": "104",
                    "level": "69"
                  },
                  {
                    "IdentifierId": "IdentifierId(24767)",
                    "log_timestamp": "2008-01-01 00:02:54",
                    "race": "Tauren",
                    "charclass": "Shaman",
                    "zoneId": "ZoneidId(Hellfire Peninsula)",
                    "guild": "35",
                    "level": "67"
                  },
                  {
                    "IdentifierId": "IdentifierId(48660)",
                    "log_timestamp": "2008-01-01 00:02:54",
                    "race": "Tauren",
                    "charclass": "Shaman",
                    "zoneId": "ZoneidId(Shattrath City)",
                    "guild": "161",
                    "level": "67"
                  },
                  {
                    "IdentifierId": "IdentifierId(1316)",
                    "log_timestamp": "2008-01-01 00:02:59",
                    "race": "Tauren",
                    "charclass": "Warrior",
                    "zoneId": "ZoneidId(Auchenai Crypts)",
                    "guild": "103",
                    "level": "70"
                  },
                  {
                    "IdentifierId": "IdentifierId(37029)",
                    "log_timestamp": "2008-01-01 00:02:59",
                    "race": "Tauren",
                    "charclass": "Warrior",
                    "zoneId": "ZoneidId(Orgrimmar)",
                    "guild": "-1",
                    "level": "70"
                  },
                  {
                    "IdentifierId": "IdentifierId(24209)",
                    "log_timestamp": "2008-01-01 00:02:59",
                    "race": "Tauren",
                    "charclass": "Warrior",
                    "zoneId": "ZoneidId(Orgrimmar)",
                    "guild": "204",
                    "level": "70"
                  },
                  {
                    "IdentifierId": "IdentifierId(140)",
                    "log_timestamp": "2008-01-01 00:02:59",
                    "race": "Tauren",
                    "charclass": "Warrior",
                    "zoneId": "ZoneidId(Shadowmoon Valley)",
                    "guild": "5",
                    "level": "70"
                  },
                  {
                    "IdentifierId": "IdentifierId(23577)",
                    "log_timestamp": "2008-01-01 00:02:59",
                    "race": "Tauren",
                    "charclass": "Warrior",
                    "zoneId": "ZoneidId(Shadowmoon Valley)",
                    "guild": "103",
                    "level": "70"
                  },
                  {
                    "IdentifierId": "IdentifierId(26111)",
                    "log_timestamp": "2008-01-01 00:02:59",
                    "race": "Tauren",
                    "charclass": "Warrior",
                    "zoneId": "ZoneidId(Warsong Gulch)",
                    "guild": "104",
                    "level": "70"
                  },
                  {
                    "IdentifierId": "IdentifierId(22071)",
                    "log_timestamp": "2008-01-01 00:02:59",
                    "race": "Tauren",
                    "charclass": "Warrior",
                    "zoneId": "ZoneidId(Warsong Gulch)",
                    "guild": "103",
                    "level": "70"
                  },
                  {
                    "IdentifierId": "IdentifierId(45552)",
                    "log_timestamp": "2008-01-01 00:02:59",
                    "race": "Tauren",
                    "charclass": "Warrior",
                    "zoneId": "ZoneidId(Shattrath City)",
                    "guild": "5",
                    "level": "70"
                  },
                  {
                    "IdentifierId": "IdentifierId(1274)",
                    "log_timestamp": "2008-01-01 00:02:59",
                    "race": "Tauren",
                    "charclass": "Warrior",
                    "zoneId": "ZoneidId(Netherstorm)",
                    "guild": "104",
                    "level": "70"
                  },
                  {
                    "IdentifierId": "IdentifierId(26843)",
                    "log_timestamp": "2008-01-01 00:02:59",
                    "race": "Tauren",
                    "charclass": "Warrior",
                    "zoneId": "ZoneidId(Blasted Lands)",
                    "guild": "-1",
                    "level": "70"
                  },
                  {
                    "IdentifierId": "IdentifierId(1617)",
                    "log_timestamp": "2008-01-01 00:02:59",
                    "race": "Tauren",
                    "charclass": "Warrior",
                    "zoneId": "ZoneidId(Zangarmarsh)",
                    "guild": "243",
                    "level": "70"
                  },
                  {
                    "IdentifierId": "IdentifierId(22541)",
                    "log_timestamp": "2008-01-01 00:02:59",
                    "race": "Tauren",
                    "charclass": "Warrior",
                    "zoneId": "ZoneidId(Arathi Basin)",
                    "guild": "-1",
                    "level": "70"
                  },
                  {
                    "IdentifierId": "IdentifierId(4399)",
                    "log_timestamp": "2008-01-01 00:02:59",
                    "race": "Tauren",
                    "charclass": "Warrior",
                    "zoneId": "ZoneidId(The Mechanar)",
                    "guild": "266",
                    "level": "70"
                  },
                  {
                    "IdentifierId": "IdentifierId(16968)",
                    "log_timestamp": "2008-01-01 00:02:59",
                    "race": "Tauren",
                    "charclass": "Warrior",
                    "zoneId": "ZoneidId(The Mechanar)",
                    "guild": "220",
                    "level": "70"
                  },
                  {
                    "IdentifierId": "IdentifierId(21880)",
                    "log_timestamp": "2008-01-01 00:03:04",
                    "race": "Tauren",
                    "charclass": "Hunter",
                    "zoneId": "ZoneidId(Alterac Valley)",
                    "guild": "204",
                    "level": "70"
                  },
                  {
                    "IdentifierId": "IdentifierId(22793)",
                    "log_timestamp": "2008-01-01 00:03:04",
                    "race": "Tauren",
                    "charclass": "Hunter",
                    "zoneId": "ZoneidId(Warsong Gulch)",
                    "guild": "-1",
                    "level": "70"
                  },
                  {
                    "IdentifierId": "IdentifierId(24388)",
                    "log_timestamp": "2008-01-01 00:03:04",
                    "race": "Tauren",
                    "charclass": "Hunter",
                    "zoneId": "ZoneidId(Tirisfal Glades)",
                    "guild": "-1",
                    "level": "70"
                  },
                  {
                    "IdentifierId": "IdentifierId(23487)",
                    "log_timestamp": "2008-01-01 00:03:04",
                    "race": "Tauren",
                    "charclass": "Hunter",
                    "zoneId": "ZoneidId(Shattrath City)",
                    "guild": "101",
                    "level": "70"
                  },
                  {
                    "IdentifierId": "IdentifierId(3249)",
                    "log_timestamp": "2008-01-01 00:03:04",
                    "race": "Tauren",
                    "charclass": "Hunter",
                    "zoneId": "ZoneidId(Shattrath City)",
                    "guild": "19",
                    "level": "70"
                  },
                  {
                    "IdentifierId": "IdentifierId(133)",
                    "log_timestamp": "2008-01-01 00:03:04",
                    "race": "Tauren",
                    "charclass": "Hunter",
                    "zoneId": "ZoneidId(Netherstorm)",
                    "guild": "-1",
                    "level": "70"
                  },
                  {
                    "IdentifierId": "IdentifierId(22379)",
                    "log_timestamp": "2008-01-01 00:03:09",
                    "race": "Tauren",
                    "charclass": "Shaman",
                    "zoneId": "ZoneidId(Blade's Edge Mountains)",
                    "guild": "103",
                    "level": "70"
                  },
                  {
                    "IdentifierId": "IdentifierId(3275)",
                    "log_timestamp": "2008-01-01 00:03:09",
                    "race": "Tauren",
                    "charclass": "Shaman",
                    "zoneId": "ZoneidId(Sethekk Halls)",
                    "guild": "19",
                    "level": "70"
                  },
                  {
                    "IdentifierId": "IdentifierId(1195)",
                    "log_timestamp": "2008-01-01 00:03:09",
                    "race": "Tauren",
                    "charclass": "Shaman",
                    "zoneId": "ZoneidId(Sethekk Halls)",
                    "guild": "19",
                    "level": "70"
                  },
                  {
                    "IdentifierId": "IdentifierId(32438)",
                    "log_timestamp": "2008-01-01 00:03:09",
                    "race": "Tauren",
                    "charclass": "Shaman",
                    "zoneId": "ZoneidId(Shadowmoon Valley)",
                    "guild": "35",
                    "level": "70"
                  },
                  {
                    "IdentifierId": "IdentifierId(21828)",
                    "log_timestamp": "2008-01-01 00:03:09",
                    "race": "Tauren",
                    "charclass": "Shaman",
                    "zoneId": "ZoneidId(Warsong Gulch)",
                    "guild": "204",
                    "level": "70"
                  },
                  {
                    "IdentifierId": "IdentifierId(26235)",
                    "log_timestamp": "2008-01-01 00:03:09",
                    "race": "Tauren",
                    "charclass": "Shaman",
                    "zoneId": "ZoneidId(Shattrath City)",
                    "guild": "53",
                    "level": "70"
                  },
                  {
                    "IdentifierId": "IdentifierId(141)",
                    "log_timestamp": "2008-01-01 00:03:09",
                    "race": "Tauren",
                    "charclass": "Shaman",
                    "zoneId": "ZoneidId(Feralas)",
                    "guild": "19",
                    "level": "70"
                  },
                  {
                    "IdentifierId": "IdentifierId(30078)",
                    "log_timestamp": "2008-01-01 00:03:09",
                    "race": "Tauren",
                    "charclass": "Shaman",
                    "zoneId": "ZoneidId(The Steamvault)",
                    "guild": "5",
                    "level": "70"
                  },
                  {
                    "IdentifierId": "IdentifierId(46794)",
                    "log_timestamp": "2008-01-01 00:03:09",
                    "race": "Tauren",
                    "charclass": "Shaman",
                    "zoneId": "ZoneidId(Arathi Basin)",
                    "guild": "204",
                    "level": "70"
                  },
                  {
                    "IdentifierId": "IdentifierId(60179)",
                    "log_timestamp": "2008-01-01 00:03:09",
                    "race": "Tauren",
                    "charclass": "Shaman",
                    "zoneId": "ZoneidId(Arathi Basin)",
                    "guild": "53",
                    "level": "70"
                  },
                  {
                    "IdentifierId": "IdentifierId(39365)",
                    "log_timestamp": "2008-01-01 00:03:09",
                    "race": "Tauren",
                    "charclass": "Shaman",
                    "zoneId": "ZoneidId(Ghostlands)",
                    "guild": "35",
                    "level": "70"
                  },
                  {
                    "IdentifierId": "IdentifierId(4989)",
                    "log_timestamp": "2008-01-01 00:03:09",
                    "race": "Tauren",
                    "charclass": "Shaman",
                    "zoneId": "ZoneidId(The Mechanar)",
                    "guild": "5",
                    "level": "70"
                  },
                  {
                    "IdentifierId": "IdentifierId(16884)",
                    "log_timestamp": "2008-01-01 00:03:09",
                    "race": "Tauren",
                    "charclass": "Shaman",
                    "zoneId": "ZoneidId(The Mechanar)",
                    "guild": "103",
                    "level": "70"
                  },
                  {
                    "IdentifierId": "IdentifierId(19085)",
                    "log_timestamp": "2008-01-01 00:03:15",
                    "race": "Tauren",
                    "charclass": "Druid",
                    "zoneId": "ZoneidId(The Arcatraz)",
                    "guild": "103",
                    "level": "70"
                  },
                  {
                    "IdentifierId": "IdentifierId(91)",
                    "log_timestamp": "2008-01-01 00:03:15",
                    "race": "Tauren",
                    "charclass": "Druid",
                    "zoneId": "ZoneidId(Tanaris)",
                    "guild": "103",
                    "level": "70"
                  },
                  {
                    "IdentifierId": "IdentifierId(178)",
                    "log_timestamp": "2008-01-01 00:03:15",
                    "race": "Tauren",
                    "charclass": "Druid",
                    "zoneId": "ZoneidId(Undercity)",
                    "guild": "9",
                    "level": "70"
                  },
                  {
                    "IdentifierId": "IdentifierId(20521)",
                    "log_timestamp": "2008-01-01 00:03:15",
                    "race": "Tauren",
                    "charclass": "Druid",
                    "zoneId": "ZoneidId(Undercity)",
                    "guild": "9",
                    "level": "70"
                  },
                  {
                    "IdentifierId": "IdentifierId(2780)",
                    "log_timestamp": "2008-01-01 00:03:15",
                    "race": "Tauren",
                    "charclass": "Druid",
                    "zoneId": "ZoneidId(Undercity)",
                    "guild": "9",
                    "level": "70"
                  },
                  {
                    "IdentifierId": "IdentifierId(22350)",
                    "log_timestamp": "2008-01-01 00:03:15",
                    "race": "Tauren",
                    "charclass": "Druid",
                    "zoneId": "ZoneidId(Warsong Gulch)",
                    "guild": "104",
                    "level": "70"
                  },
                  {
                    "IdentifierId": "IdentifierId(42267)",
                    "log_timestamp": "2008-01-01 00:03:15",
                    "race": "Tauren",
                    "charclass": "Druid",
                    "zoneId": "ZoneidId(Shattrath City)",
                    "guild": "79",
                    "level": "70"
                  },
                  {
                    "IdentifierId": "IdentifierId(22653)",
                    "log_timestamp": "2008-01-01 00:03:15",
                    "race": "Tauren",
                    "charclass": "Druid",
                    "zoneId": "ZoneidId(The Botanica)",
                    "guild": "204",
                    "level": "70"
                  },
                  {
                    "IdentifierId": "IdentifierId(64923)",
                    "log_timestamp": "2008-01-01 00:03:15",
                    "race": "Tauren",
                    "charclass": "Druid",
                    "zoneId": "ZoneidId(Feralas)",
                    "guild": "103",
                    "level": "70"
                  },
                  {
                    "IdentifierId": "IdentifierId(59029)",
                    "log_timestamp": "2008-01-01 00:03:15",
                    "race": "Tauren",
                    "charclass": "Druid",
                    "zoneId": "ZoneidId(The Steamvault)",
                    "guild": "103",
                    "level": "70"
                  },
                  {
                    "IdentifierId": "IdentifierId(21885)",
                    "log_timestamp": "2008-01-01 00:03:15",
                    "race": "Tauren",
                    "charclass": "Druid",
                    "zoneId": "ZoneidId(Silverpine Forest)",
                    "guild": "101",
                    "level": "70"
                  },
                  {
                    "IdentifierId": "IdentifierId(27554)",
                    "log_timestamp": "2008-01-01 00:03:15",
                    "race": "Tauren",
                    "charclass": "Druid",
                    "zoneId": "ZoneidId(Arathi Basin)",
                    "guild": "235",
                    "level": "70"
                  },
                  {
                    "IdentifierId": "IdentifierId(182)",
                    "log_timestamp": "2008-01-01 00:03:20",
                    "race": "Troll",
                    "charclass": "Hunter",
                    "zoneId": "ZoneidId(Durotar)",
                    "guild": "-1",
                    "level": "1"
                  },
                  {
                    "IdentifierId": "IdentifierId(64875)",
                    "log_timestamp": "2008-01-01 00:03:20",
                    "race": "Troll",
                    "charclass": "Hunter",
                    "zoneId": "ZoneidId(Ashenvale)",
                    "guild": "-1",
                    "level": "28"
                  },
                  {
                    "IdentifierId": "IdentifierId(64650)",
                    "log_timestamp": "2008-01-01 00:03:20",
                    "race": "Troll",
                    "charclass": "Hunter",
                    "zoneId": "ZoneidId(Stonetalon Mountains)",
                    "guild": "251",
                    "level": "28"
                  },
                  {
                    "IdentifierId": "IdentifierId(65077)",
                    "log_timestamp": "2008-01-01 00:03:20",
                    "race": "Troll",
                    "charclass": "Hunter",
                    "zoneId": "ZoneidId(Thunder Bluff)",
                    "guild": "-1",
                    "level": "24"
                  },
                  {
                    "IdentifierId": "IdentifierId(10263)",
                    "log_timestamp": "2008-01-01 00:03:25",
                    "race": "Troll",
                    "charclass": "Rogue",
                    "zoneId": "ZoneidId(Winterspring)",
                    "guild": "79",
                    "level": "57"
                  },
                  {
                    "IdentifierId": "IdentifierId(22488)",
                    "log_timestamp": "2008-01-01 00:03:25",
                    "race": "Troll",
                    "charclass": "Hunter",
                    "zoneId": "ZoneidId(Zangarmarsh)",
                    "guild": "156",
                    "level": "63"
                  },
                  {
                    "IdentifierId": "IdentifierId(64580)",
                    "log_timestamp": "2008-01-01 00:03:25",
                    "race": "Troll",
                    "charclass": "Hunter",
                    "zoneId": "ZoneidId(Thunder Bluff)",
                    "guild": "282",
                    "level": "54"
                  },
                  {
                    "IdentifierId": "IdentifierId(47531)",
                    "log_timestamp": "2008-01-01 00:03:30",
                    "race": "Troll",
                    "charclass": "Rogue",
                    "zoneId": "ZoneidId(Undercity)",
                    "guild": "103",
                    "level": "68"
                  },
                  {
                    "IdentifierId": "IdentifierId(1484)",
                    "log_timestamp": "2008-01-01 00:03:30",
                    "race": "Troll",
                    "charclass": "Rogue",
                    "zoneId": "ZoneidId(Western Plaguelands)",
                    "guild": "161",
                    "level": "69"
                  },
                  {
                    "IdentifierId": "IdentifierId(417)",
                    "log_timestamp": "2008-01-01 00:03:35",
                    "race": "Troll",
                    "charclass": "Warrior",
                    "zoneId": "ZoneidId(Orgrimmar)",
                    "guild": "101",
                    "level": "70"
                  },
                  {
                    "IdentifierId": "IdentifierId(230)",
                    "log_timestamp": "2008-01-01 00:03:35",
                    "race": "Troll",
                    "charclass": "Warrior",
                    "zoneId": "ZoneidId(Netherstorm)",
                    "guild": "103",
                    "level": "70"
                  },
                  {
                    "IdentifierId": "IdentifierId(50401)",
                    "log_timestamp": "2008-01-01 00:03:40",
                    "race": "Troll",
                    "charclass": "Hunter",
                    "zoneId": "ZoneidId(Orgrimmar)",
                    "guild": "103",
                    "level": "70"
                  },
                  {
                    "IdentifierId": "IdentifierId(46502)",
                    "log_timestamp": "2008-01-01 00:03:40",
                    "race": "Troll",
                    "charclass": "Hunter",
                    "zoneId": "ZoneidId(Undercity)",
                    "guild": "161",
                    "level": "70"
                  },
                  {
                    "IdentifierId": "IdentifierId(46755)",
                    "log_timestamp": "2008-01-01 00:03:40",
                    "race": "Troll",
                    "charclass": "Hunter",
                    "zoneId": "ZoneidId(Warsong Gulch)",
                    "guild": "167",
                    "level": "70"
                  },
                  {
                    "IdentifierId": "IdentifierId(29710)",
                    "log_timestamp": "2008-01-01 00:03:40",
                    "race": "Troll",
                    "charclass": "Hunter",
                    "zoneId": "ZoneidId(Warsong Gulch)",
                    "guild": "79",
                    "level": "70"
                  },
                  {
                    "IdentifierId": "IdentifierId(22167)",
                    "log_timestamp": "2008-01-01 00:03:40",
                    "race": "Troll",
                    "charclass": "Hunter",
                    "zoneId": "ZoneidId(Shattrath City)",
                    "guild": "103",
                    "level": "70"
                  },
                  {
                    "IdentifierId": "IdentifierId(22155)",
                    "log_timestamp": "2008-01-01 00:03:40",
                    "race": "Troll",
                    "charclass": "Hunter",
                    "zoneId": "ZoneidId(Shattrath City)",
                    "guild": "104",
                    "level": "70"
                  },
                  {
                    "IdentifierId": "IdentifierId(22368)",
                    "log_timestamp": "2008-01-01 00:03:40",
                    "race": "Troll",
                    "charclass": "Hunter",
                    "zoneId": "ZoneidId(Terokkar Forest)",
                    "guild": "103",
                    "level": "70"
                  },
                  {
                    "IdentifierId": "IdentifierId(24854)",
                    "log_timestamp": "2008-01-01 00:03:40",
                    "race": "Troll",
                    "charclass": "Hunter",
                    "zoneId": "ZoneidId(Felwood)",
                    "guild": "-1",
                    "level": "70"
                  },
                  {
                    "IdentifierId": "IdentifierId(16384)",
                    "log_timestamp": "2008-01-01 00:03:40",
                    "race": "Troll",
                    "charclass": "Hunter",
                    "zoneId": "ZoneidId(Zangarmarsh)",
                    "guild": "53",
                    "level": "70"
                  },
                  {
                    "IdentifierId": "IdentifierId(26278)",
                    "log_timestamp": "2008-01-01 00:03:40",
                    "race": "Troll",
                    "charclass": "Hunter",
                    "zoneId": "ZoneidId(Silverpine Forest)",
                    "guild": "-1",
                    "level": "70"
                  },
                  {
                    "IdentifierId": "IdentifierId(22246)",
                    "log_timestamp": "2008-01-01 00:03:40",
                    "race": "Troll",
                    "charclass": "Hunter",
                    "zoneId": "ZoneidId(Arathi Basin)",
                    "guild": "243",
                    "level": "70"
                  },
                  {
                    "IdentifierId": "IdentifierId(28651)",
                    "log_timestamp": "2008-01-01 00:03:45",
                    "race": "Troll",
                    "charclass": "Rogue",
                    "zoneId": "ZoneidId(Orgrimmar)",
                    "guild": "53",
                    "level": "70"
                  },
                  {
                    "IdentifierId": "IdentifierId(30974)",
                    "log_timestamp": "2008-01-01 00:03:45",
                    "race": "Troll",
                    "charclass": "Rogue",
                    "zoneId": "ZoneidId(Zangarmarsh)",
                    "guild": "103",
                    "level": "70"
                  },
                  {
                    "IdentifierId": "IdentifierId(18610)",
                    "log_timestamp": "2008-01-01 00:03:50",
                    "race": "Troll",
                    "charclass": "Shaman",
                    "zoneId": "ZoneidId(Shattrath City)",
                    "guild": "5",
                    "level": "70"
                  },
                  {
                    "IdentifierId": "IdentifierId(22666)",
                    "log_timestamp": "2008-01-01 00:03:50",
                    "race": "Troll",
                    "charclass": "Shaman",
                    "zoneId": "ZoneidId(Terokkar Forest)",
                    "guild": "5",
                    "level": "70"
                  },
                  {
                    "IdentifierId": "IdentifierId(1386)",
                    "log_timestamp": "2008-01-01 00:03:50",
                    "race": "Troll",
                    "charclass": "Shaman",
                    "zoneId": "ZoneidId(Nagrand)",
                    "guild": "5",
                    "level": "70"
                  },
                  {
                    "IdentifierId": "IdentifierId(21810)",
                    "log_timestamp": "2008-01-01 00:03:50",
                    "race": "Troll",
                    "charclass": "Shaman",
                    "zoneId": "ZoneidId(Western Plaguelands)",
                    "guild": "-1",
                    "level": "70"
                  },
                  {
                    "IdentifierId": "IdentifierId(663)",
                    "log_timestamp": "2008-01-01 00:03:50",
                    "race": "Troll",
                    "charclass": "Shaman",
                    "zoneId": "ZoneidId(The Mechanar)",
                    "guild": "5",
                    "level": "70"
                  },
                  {
                    "IdentifierId": "IdentifierId(18473)",
                    "log_timestamp": "2008-01-01 00:03:55",
                    "race": "Troll",
                    "charclass": "Priest",
                    "zoneId": "ZoneidId(Shattrath City)",
                    "guild": "79",
                    "level": "70"
                  },
                  {
                    "IdentifierId": "IdentifierId(246)",
                    "log_timestamp": "2008-01-01 00:03:55",
                    "race": "Troll",
                    "charclass": "Priest",
                    "zoneId": "ZoneidId(Shattrath City)",
                    "guild": "19",
                    "level": "70"
                  },
                  {
                    "IdentifierId": "IdentifierId(27659)",
                    "log_timestamp": "2008-01-01 00:03:55",
                    "race": "Troll",
                    "charclass": "Priest",
                    "zoneId": "ZoneidId(Eye of the Storm)",
                    "guild": "174",
                    "level": "70"
                  },
                  {
                    "IdentifierId": "IdentifierId(22021)",
                    "log_timestamp": "2008-01-01 00:03:55",
                    "race": "Troll",
                    "charclass": "Priest",
                    "zoneId": "ZoneidId(Terokkar Forest)",
                    "guild": "103",
                    "level": "70"
                  },
                  {
                    "IdentifierId": "IdentifierId(21957)",
                    "log_timestamp": "2008-01-01 00:03:55",
                    "race": "Troll",
                    "charclass": "Priest",
                    "zoneId": "ZoneidId(Netherstorm)",
                    "guild": "103",
                    "level": "70"
                  },
                  {
                    "IdentifierId": "IdentifierId(22934)",
                    "log_timestamp": "2008-01-01 00:04:00",
                    "race": "Troll",
                    "charclass": "Mage",
                    "zoneId": "ZoneidId(Blade's Edge Mountains)",
                    "guild": "282",
                    "level": "70"
                  },
                  {
                    "IdentifierId": "IdentifierId(7087)",
                    "log_timestamp": "2008-01-01 00:04:00",
                    "race": "Troll",
                    "charclass": "Mage",
                    "zoneId": "ZoneidId(Orgrimmar)",
                    "guild": "204",
                    "level": "70"
                  },
                  {
                    "IdentifierId": "IdentifierId(25335)",
                    "log_timestamp": "2008-01-01 00:04:00",
                    "race": "Troll",
                    "charclass": "Mage",
                    "zoneId": "ZoneidId(Alterac Valley)",
                    "guild": "243",
                    "level": "70"
                  },
                  {
                    "IdentifierId": "IdentifierId(18898)",
                    "log_timestamp": "2008-01-01 00:04:00",
                    "race": "Troll",
                    "charclass": "Mage",
                    "zoneId": "ZoneidId(Shattrath City)",
                    "guild": "5",
                    "level": "70"
                  },
                  {
                    "IdentifierId": "IdentifierId(64784)",
                    "log_timestamp": "2008-01-01 00:04:00",
                    "race": "Troll",
                    "charclass": "Mage",
                    "zoneId": "ZoneidId(Shattrath City)",
                    "guild": "104",
                    "level": "70"
                  },
                  {
                    "IdentifierId": "IdentifierId(25748)",
                    "log_timestamp": "2008-01-01 00:04:00",
                    "race": "Troll",
                    "charclass": "Mage",
                    "zoneId": "ZoneidId(The Botanica)",
                    "guild": "259",
                    "level": "70"
                  },
                  {
                    "IdentifierId": "IdentifierId(19666)",
                    "log_timestamp": "2008-01-01 00:04:00",
                    "race": "Troll",
                    "charclass": "Mage",
                    "zoneId": "ZoneidId(The Botanica)",
                    "guild": "35",
                    "level": "70"
                  },
                  {
                    "IdentifierId": "IdentifierId(27081)",
                    "log_timestamp": "2008-01-01 00:04:00",
                    "race": "Troll",
                    "charclass": "Mage",
                    "zoneId": "ZoneidId(Terokkar Forest)",
                    "guild": "243",
                    "level": "70"
                  },
                  {
                    "IdentifierId": "IdentifierId(46188)",
                    "log_timestamp": "2008-01-01 00:04:00",
                    "race": "Troll",
                    "charclass": "Mage",
                    "zoneId": "ZoneidId(The Underbog)",
                    "guild": "35",
                    "level": "70"
                  },
                  {
                    "IdentifierId": "IdentifierId(62348)",
                    "log_timestamp": "2008-01-01 00:04:00",
                    "race": "Troll",
                    "charclass": "Mage",
                    "zoneId": "ZoneidId(The Shattered Halls)",
                    "guild": "103",
                    "level": "70"
                  },
                  {
                    "IdentifierId": "IdentifierId(64823)",
                    "log_timestamp": "2008-01-01 00:04:06",
                    "race": "Undead",
                    "charclass": "Rogue",
                    "zoneId": "ZoneidId(Hillsbrad Foothills)",
                    "guild": "-1",
                    "level": "32"
                  },
                  {
                    "IdentifierId": "IdentifierId(62410)",
                    "log_timestamp": "2008-01-01 00:04:06",
                    "race": "Undead",
                    "charclass": "Priest",
                    "zoneId": "ZoneidId(Undercity)",
                    "guild": "-1",
                    "level": "15"
                  },
                  {
                    "IdentifierId": "IdentifierId(64031)",
                    "log_timestamp": "2008-01-01 00:04:06",
                    "race": "Undead",
                    "charclass": "Warrior",
                    "zoneId": "ZoneidId(Swamp of Sorrows)",
                    "guild": "-1",
                    "level": "48"
                  },
                  {
                    "IdentifierId": "IdentifierId(65548)",
                    "log_timestamp": "2008-01-01 00:04:06",
                    "race": "Undead",
                    "charclass": "Rogue",
                    "zoneId": "ZoneidId(Tirisfal Glades)",
                    "guild": "282",
                    "level": "7"
                  },
                  {
                    "IdentifierId": "IdentifierId(26983)",
                    "log_timestamp": "2008-01-01 00:04:06",
                    "race": "Undead",
                    "charclass": "Warrior",
                    "zoneId": "ZoneidId(Tirisfal Glades)",
                    "guild": "253",
                    "level": "50"
                  },
                  {
                    "IdentifierId": "IdentifierId(64609)",
                    "log_timestamp": "2008-01-01 00:04:06",
                    "race": "Undead",
                    "charclass": "Warrior",
                    "zoneId": "ZoneidId(Stranglethorn Vale)",
                    "guild": "108",
                    "level": "43"
                  },
                  {
                    "IdentifierId": "IdentifierId(22311)",
                    "log_timestamp": "2008-01-01 00:04:06",
                    "race": "Undead",
                    "charclass": "Mage",
                    "zoneId": "ZoneidId(Badlands)",
                    "guild": "282",
                    "level": "46"
                  },
                  {
                    "IdentifierId": "IdentifierId(2240)",
                    "log_timestamp": "2008-01-01 00:04:06",
                    "race": "Undead",
                    "charclass": "Mage",
                    "zoneId": "ZoneidId(Feralas)",
                    "guild": "171",
                    "level": "49"
                  },
                  {
                    "IdentifierId": "IdentifierId(64904)",
                    "log_timestamp": "2008-01-01 00:04:06",
                    "race": "Undead",
                    "charclass": "Warlock",
                    "zoneId": "ZoneidId(The Barrens)",
                    "guild": "282",
                    "level": "23"
                  },
                  {
                    "IdentifierId": "IdentifierId(60628)",
                    "log_timestamp": "2008-01-01 00:04:06",
                    "race": "Undead",
                    "charclass": "Warlock",
                    "zoneId": "ZoneidId(The Hinterlands)",
                    "guild": "167",
                    "level": "48"
                  },
                  {
                    "IdentifierId": "IdentifierId(64604)",
                    "log_timestamp": "2008-01-01 00:04:06",
                    "race": "Undead",
                    "charclass": "Warlock",
                    "zoneId": "ZoneidId(Silverpine Forest)",
                    "guild": "273",
                    "level": "18"
                  },
                  {
                    "IdentifierId": "IdentifierId(22576)",
                    "log_timestamp": "2008-01-01 00:04:11",
                    "race": "Undead",
                    "charclass": "Warrior",
                    "zoneId": "ZoneidId(Hellfire Peninsula)",
                    "guild": "35",
                    "level": "61"
                  },
                  {
                    "IdentifierId": "IdentifierId(13980)",
                    "log_timestamp": "2008-01-01 00:04:11",
                    "race": "Undead",
                    "charclass": "Warrior",
                    "zoneId": "ZoneidId(Hellfire Peninsula)",
                    "guild": "35",
                    "level": "61"
                  },
                  {
                    "IdentifierId": "IdentifierId(61409)",
                    "log_timestamp": "2008-01-01 00:04:11",
                    "race": "Undead",
                    "charclass": "Warlock",
                    "zoneId": "ZoneidId(Hellfire Peninsula)",
                    "guild": "35",
                    "level": "61"
                  },
                  {
                    "IdentifierId": "IdentifierId(62987)",
                    "log_timestamp": "2008-01-01 00:04:11",
                    "race": "Undead",
                    "charclass": "Warrior",
                    "zoneId": "ZoneidId(Hellfire Peninsula)",
                    "guild": "282",
                    "level": "63"
                  },
                  {
                    "IdentifierId": "IdentifierId(60870)",
                    "log_timestamp": "2008-01-01 00:04:11",
                    "race": "Undead",
                    "charclass": "Rogue",
                    "zoneId": "ZoneidId(Un'Goro Crater)",
                    "guild": "9",
                    "level": "52"
                  },
                  {
                    "IdentifierId": "IdentifierId(32818)",
                    "log_timestamp": "2008-01-01 00:04:11",
                    "race": "Undead",
                    "charclass": "Mage",
                    "zoneId": "ZoneidId(Undercity)",
                    "guild": "167",
                    "level": "60"
                  },
                  {
                    "IdentifierId": "IdentifierId(58800)",
                    "log_timestamp": "2008-01-01 00:04:11",
                    "race": "Undead",
                    "charclass": "Warrior",
                    "zoneId": "ZoneidId(Swamp of Sorrows)",
                    "guild": "167",
                    "level": "58"
                  },
                  {
                    "IdentifierId": "IdentifierId(60525)",
                    "log_timestamp": "2008-01-01 00:04:11",
                    "race": "Undead",
                    "charclass": "Rogue",
                    "zoneId": "ZoneidId(Tirisfal Glades)",
                    "guild": "53",
                    "level": "53"
                  },
                  {
                    "IdentifierId": "IdentifierId(34666)",
                    "log_timestamp": "2008-01-01 00:04:11",
                    "race": "Undead",
                    "charclass": "Warlock",
                    "zoneId": "ZoneidId(Shattrath City)",
                    "guild": "243",
                    "level": "62"
                  },
                  {
                    "IdentifierId": "IdentifierId(33170)",
                    "log_timestamp": "2008-01-01 00:04:11",
                    "race": "Undead",
                    "charclass": "Priest",
                    "zoneId": "ZoneidId(Felwood)",
                    "guild": "282",
                    "level": "52"
                  },
                  {
                    "IdentifierId": "IdentifierId(30072)",
                    "log_timestamp": "2008-01-01 00:04:11",
                    "race": "Undead",
                    "charclass": "Mage",
                    "zoneId": "ZoneidId(Zangarmarsh)",
                    "guild": "167",
                    "level": "62"
                  },
                  {
                    "IdentifierId": "IdentifierId(2035)",
                    "log_timestamp": "2008-01-01 00:04:16",
                    "race": "Undead",
                    "charclass": "Priest",
                    "zoneId": "ZoneidId(Blade's Edge Mountains)",
                    "guild": "9",
                    "level": "66"
                  },
                  {
                    "IdentifierId": "IdentifierId(21046)",
                    "log_timestamp": "2008-01-01 00:04:16",
                    "race": "Undead",
                    "charclass": "Warlock",
                    "zoneId": "ZoneidId(Terokkar Forest)",
                    "guild": "-1",
                    "level": "65"
                  },
                  {
                    "IdentifierId": "IdentifierId(45422)",
                    "log_timestamp": "2008-01-01 00:04:16",
                    "race": "Undead",
                    "charclass": "Rogue",
                    "zoneId": "ZoneidId(Nagrand)",
                    "guild": "216",
                    "level": "66"
                  },
                  {
                    "IdentifierId": "IdentifierId(63804)",
                    "log_timestamp": "2008-01-01 00:04:16",
                    "race": "Undead",
                    "charclass": "Mage",
                    "zoneId": "ZoneidId(Blackfathom Deeps)",
                    "guild": "273",
                    "level": "65"
                  },
                  {
                    "IdentifierId": "IdentifierId(62591)",
                    "log_timestamp": "2008-01-01 00:04:21",
                    "race": "Undead",
                    "charclass": "Mage",
                    "zoneId": "ZoneidId(Shadowmoon Valley)",
                    "guild": "174",
                    "level": "68"
                  },
                  {
                    "IdentifierId": "IdentifierId(11087)",
                    "log_timestamp": "2008-01-01 00:04:21",
                    "race": "Undead",
                    "charclass": "Warlock",
                    "zoneId": "ZoneidId(Terokkar Forest)",
                    "guild": "-1",
                    "level": "68"
                  },
                  {
                    "IdentifierId": "IdentifierId(21752)",
                    "log_timestamp": "2008-01-01 00:04:21",
                    "race": "Undead",
                    "charclass": "Mage",
                    "zoneId": "ZoneidId(Nagrand)",
                    "guild": "205",
                    "level": "67"
                  },
                  {
                    "IdentifierId": "IdentifierId(21976)",
                    "log_timestamp": "2008-01-01 00:04:21",
                    "race": "Undead",
                    "charclass": "Warlock",
                    "zoneId": "ZoneidId(Nagrand)",
                    "guild": "103",
                    "level": "68"
                  },
                  {
                    "IdentifierId": "IdentifierId(61883)",
                    "log_timestamp": "2008-01-01 00:04:21",
                    "race": "Undead",
                    "charclass": "Rogue",
                    "zoneId": "ZoneidId(Arathi Basin)",
                    "guild": "291",
                    "level": "69"
                  },
                  {
                    "IdentifierId": "IdentifierId(4141)",
                    "log_timestamp": "2008-01-01 00:04:26",
                    "race": "Undead",
                    "charclass": "Mage",
                    "zoneId": "ZoneidId(Blade's Edge Mountains)",
                    "guild": "35",
                    "level": "70"
                  },
                  {
                    "IdentifierId": "IdentifierId(460)",
                    "log_timestamp": "2008-01-01 00:04:26",
                    "race": "Undead",
                    "charclass": "Mage",
                    "zoneId": "ZoneidId(Blade's Edge Mountains)",
                    "guild": "-1",
                    "level": "70"
                  },
                  {
                    "IdentifierId": "IdentifierId(24707)",
                    "log_timestamp": "2008-01-01 00:04:26",
                    "race": "Undead",
                    "charclass": "Mage",
                    "zoneId": "ZoneidId(Orgrimmar)",
                    "guild": "174",
                    "level": "70"
                  },
                  {
                    "IdentifierId": "IdentifierId(31647)",
                    "log_timestamp": "2008-01-01 00:04:26",
                    "race": "Undead",
                    "charclass": "Mage",
                    "zoneId": "ZoneidId(Undercity)",
                    "guild": "103",
                    "level": "70"
                  },
                  {
                    "IdentifierId": "IdentifierId(55614)",
                    "log_timestamp": "2008-01-01 00:04:26",
                    "race": "Undead",
                    "charclass": "Mage",
                    "zoneId": "ZoneidId(Undercity)",
                    "guild": "101",
                    "level": "70"
                  },
                  {
                    "IdentifierId": "IdentifierId(30452)",
                    "log_timestamp": "2008-01-01 00:04:26",
                    "race": "Undead",
                    "charclass": "Mage",
                    "zoneId": "ZoneidId(Undercity)",
                    "guild": "167",
                    "level": "70"
                  },
                  {
                    "IdentifierId": "IdentifierId(22039)",
                    "log_timestamp": "2008-01-01 00:04:26",
                    "race": "Undead",
                    "charclass": "Mage",
                    "zoneId": "ZoneidId(Shadowmoon Valley)",
                    "guild": "103",
                    "level": "70"
                  },
                  {
                    "IdentifierId": "IdentifierId(18863)",
                    "log_timestamp": "2008-01-01 00:04:26",
                    "race": "Undead",
                    "charclass": "Mage",
                    "zoneId": "ZoneidId(Shadowmoon Valley)",
                    "guild": "53",
                    "level": "70"
                  },
                  {
                    "IdentifierId": "IdentifierId(22171)",
                    "log_timestamp": "2008-01-01 00:04:26",
                    "race": "Undead",
                    "charclass": "Mage",
                    "zoneId": "ZoneidId(Warsong Gulch)",
                    "guild": "243",
                    "level": "70"
                  },
                  {
                    "IdentifierId": "IdentifierId(22737)",
                    "log_timestamp": "2008-01-01 00:04:26",
                    "race": "Undead",
                    "charclass": "Mage",
                    "zoneId": "ZoneidId(Tirisfal Glades)",
                    "guild": "103",
                    "level": "70"
                  },
                  {
                    "IdentifierId": "IdentifierId(345)",
                    "log_timestamp": "2008-01-01 00:04:26",
                    "race": "Undead",
                    "charclass": "Mage",
                    "zoneId": "ZoneidId(Shattrath City)",
                    "guild": "9",
                    "level": "70"
                  },
                  {
                    "IdentifierId": "IdentifierId(17738)",
                    "log_timestamp": "2008-01-01 00:04:26",
                    "race": "Undead",
                    "charclass": "Mage",
                    "zoneId": "ZoneidId(Shattrath City)",
                    "guild": "79",
                    "level": "70"
                  },
                  {
                    "IdentifierId": "IdentifierId(650)",
                    "log_timestamp": "2008-01-01 00:04:26",
                    "race": "Undead",
                    "charclass": "Mage",
                    "zoneId": "ZoneidId(Shattrath City)",
                    "guild": "62",
                    "level": "70"
                  },
                  {
                    "IdentifierId": "IdentifierId(24674)",
                    "log_timestamp": "2008-01-01 00:04:26",
                    "race": "Undead",
                    "charclass": "Mage",
                    "zoneId": "ZoneidId(Eye of the Storm)",
                    "guild": "101",
                    "level": "70"
                  },
                  {
                    "IdentifierId": "IdentifierId(22454)",
                    "log_timestamp": "2008-01-01 00:04:26",
                    "race": "Undead",
                    "charclass": "Mage",
                    "zoneId": "ZoneidId(Terokkar Forest)",
                    "guild": "204",
                    "level": "70"
                  },
                  {
                    "IdentifierId": "IdentifierId(54869)",
                    "log_timestamp": "2008-01-01 00:04:26",
                    "race": "Undead",
                    "charclass": "Mage",
                    "zoneId": "ZoneidId(The Underbog)",
                    "guild": "35",
                    "level": "70"
                  },
                  {
                    "IdentifierId": "IdentifierId(19449)",
                    "log_timestamp": "2008-01-01 00:04:26",
                    "race": "Undead",
                    "charclass": "Mage",
                    "zoneId": "ZoneidId(The Shattered Halls)",
                    "guild": "167",
                    "level": "70"
                  },
                  {
                    "IdentifierId": "IdentifierId(22249)",
                    "log_timestamp": "2008-01-01 00:04:26",
                    "race": "Undead",
                    "charclass": "Mage",
                    "zoneId": "ZoneidId(Nagrand Arena)",
                    "guild": "204",
                    "level": "70"
                  },
                  {
                    "IdentifierId": "IdentifierId(22321)",
                    "log_timestamp": "2008-01-01 00:04:26",
                    "race": "Undead",
                    "charclass": "Mage",
                    "zoneId": "ZoneidId(The Steamvault)",
                    "guild": "282",
                    "level": "70"
                  },
                  {
                    "IdentifierId": "IdentifierId(354)",
                    "log_timestamp": "2008-01-01 00:04:26",
                    "race": "Undead",
                    "charclass": "Mage",
                    "zoneId": "ZoneidId(Netherstorm)",
                    "guild": "5",
                    "level": "70"
                  },
                  {
                    "IdentifierId": "IdentifierId(10543)",
                    "log_timestamp": "2008-01-01 00:04:26",
                    "race": "Undead",
                    "charclass": "Mage",
                    "zoneId": "ZoneidId(Netherstorm)",
                    "guild": "9",
                    "level": "70"
                  },
                  {
                    "IdentifierId": "IdentifierId(22453)",
                    "log_timestamp": "2008-01-01 00:04:26",
                    "race": "Undead",
                    "charclass": "Mage",
                    "zoneId": "ZoneidId(Netherstorm)",
                    "guild": "103",
                    "level": "70"
                  },
                  {
                    "IdentifierId": "IdentifierId(7842)",
                    "log_timestamp": "2008-01-01 00:04:26",
                    "race": "Undead",
                    "charclass": "Mage",
                    "zoneId": "ZoneidId(Netherstorm)",
                    "guild": "62",
                    "level": "70"
                  },
                  {
                    "IdentifierId": "IdentifierId(52497)",
                    "log_timestamp": "2008-01-01 00:04:26",
                    "race": "Undead",
                    "charclass": "Mage",
                    "zoneId": "ZoneidId(Arathi Basin)",
                    "guild": "204",
                    "level": "70"
                  },
                  {
                    "IdentifierId": "IdentifierId(9695)",
                    "log_timestamp": "2008-01-01 00:04:31",
                    "race": "Undead",
                    "charclass": "Priest",
                    "zoneId": "ZoneidId(Blade's Edge Mountains)",
                    "guild": "204",
                    "level": "70"
                  },
                  {
                    "IdentifierId": "IdentifierId(941)",
                    "log_timestamp": "2008-01-01 00:04:31",
                    "race": "Undead",
                    "charclass": "Priest",
                    "zoneId": "ZoneidId(Sethekk Halls)",
                    "guild": "19",
                    "level": "70"
                  },
                  {
                    "IdentifierId": "IdentifierId(24390)",
                    "log_timestamp": "2008-01-01 00:04:31",
                    "race": "Undead",
                    "charclass": "Priest",
                    "zoneId": "ZoneidId(Auchenai Crypts)",
                    "guild": "174",
                    "level": "70"
                  },
                  {
                    "IdentifierId": "IdentifierId(29058)",
                    "log_timestamp": "2008-01-01 00:04:31",
                    "race": "Undead",
                    "charclass": "Priest",
                    "zoneId": "ZoneidId(Orgrimmar)",
                    "guild": "53",
                    "level": "70"
                  },
                  {
                    "IdentifierId": "IdentifierId(45457)",
                    "log_timestamp": "2008-01-01 00:04:31",
                    "race": "Undead",
                    "charclass": "Priest",
                    "zoneId": "ZoneidId(Orgrimmar)",
                    "guild": "103",
                    "level": "70"
                  },
                  {
                    "IdentifierId": "IdentifierId(23145)",
                    "log_timestamp": "2008-01-01 00:04:31",
                    "race": "Undead",
                    "charclass": "Priest",
                    "zoneId": "ZoneidId(Orgrimmar)",
                    "guild": "174",
                    "level": "70"
                  },
                  {
                    "IdentifierId": "IdentifierId(22176)",
                    "log_timestamp": "2008-01-01 00:04:31",
                    "race": "Undead",
                    "charclass": "Priest",
                    "zoneId": "ZoneidId(Orgrimmar)",
                    "guild": "101",
                    "level": "70"
                  },
                  {
                    "IdentifierId": "IdentifierId(13816)",
                    "log_timestamp": "2008-01-01 00:04:31",
                    "race": "Undead",
                    "charclass": "Priest",
                    "zoneId": "ZoneidId(Warsong Gulch)",
                    "guild": "99",
                    "level": "70"
                  },
                  {
                    "IdentifierId": "IdentifierId(13619)",
                    "log_timestamp": "2008-01-01 00:04:31",
                    "race": "Undead",
                    "charclass": "Priest",
                    "zoneId": "ZoneidId(Tirisfal Glades)",
                    "guild": "281",
                    "level": "70"
                  },
                  {
                    "IdentifierId": "IdentifierId(26610)",
                    "log_timestamp": "2008-01-01 00:04:31",
                    "race": "Undead",
                    "charclass": "Priest",
                    "zoneId": "ZoneidId(Shattrath City)",
                    "guild": "204",
                    "level": "70"
                  },
                  {
                    "IdentifierId": "IdentifierId(2166)",
                    "log_timestamp": "2008-01-01 00:04:31",
                    "race": "Undead",
                    "charclass": "Priest",
                    "zoneId": "ZoneidId(Shattrath City)",
                    "guild": "62",
                    "level": "70"
                  },
                  {
                    "IdentifierId": "IdentifierId(19566)",
                    "log_timestamp": "2008-01-01 00:04:31",
                    "race": "Undead",
                    "charclass": "Priest",
                    "zoneId": "ZoneidId(Shattrath City)",
                    "guild": "5",
                    "level": "70"
                  },
                  {
                    "IdentifierId": "IdentifierId(57316)",
                    "log_timestamp": "2008-01-01 00:04:31",
                    "race": "Undead",
                    "charclass": "Priest",
                    "zoneId": "ZoneidId(Shattrath City)",
                    "guild": "35",
                    "level": "70"
                  },
                  {
                    "IdentifierId": "IdentifierId(12386)",
                    "log_timestamp": "2008-01-01 00:04:31",
                    "race": "Undead",
                    "charclass": "Priest",
                    "zoneId": "ZoneidId(Shattrath City)",
                    "guild": "167",
                    "level": "70"
                  },
                  {
                    "IdentifierId": "IdentifierId(303)",
                    "log_timestamp": "2008-01-01 00:04:31",
                    "race": "Undead",
                    "charclass": "Priest",
                    "zoneId": "ZoneidId(Shattrath City)",
                    "guild": "103",
                    "level": "70"
                  },
                  {
                    "IdentifierId": "IdentifierId(23482)",
                    "log_timestamp": "2008-01-01 00:04:31",
                    "race": "Undead",
                    "charclass": "Priest",
                    "zoneId": "ZoneidId(Terokkar Forest)",
                    "guild": "53",
                    "level": "70"
                  },
                  {
                    "IdentifierId": "IdentifierId(25140)",
                    "log_timestamp": "2008-01-01 00:04:31",
                    "race": "Undead",
                    "charclass": "Priest",
                    "zoneId": "ZoneidId(The Shattered Halls)",
                    "guild": "103",
                    "level": "70"
                  },
                  {
                    "IdentifierId": "IdentifierId(27711)",
                    "log_timestamp": "2008-01-01 00:04:31",
                    "race": "Undead",
                    "charclass": "Priest",
                    "zoneId": "ZoneidId(Stranglethorn Vale)",
                    "guild": "103",
                    "level": "70"
                  },
                  {
                    "IdentifierId": "IdentifierId(12930)",
                    "log_timestamp": "2008-01-01 00:04:31",
                    "race": "Undead",
                    "charclass": "Priest",
                    "zoneId": "ZoneidId(Arathi Basin)",
                    "guild": "-1",
                    "level": "70"
                  },
                  {
                    "IdentifierId": "IdentifierId(58987)",
                    "log_timestamp": "2008-01-01 00:04:36",
                    "race": "Undead",
                    "charclass": "Rogue",
                    "zoneId": "ZoneidId(Blade's Edge Mountains)",
                    "guild": "161",
                    "level": "70"
                  },
                  {
                    "IdentifierId": "IdentifierId(11705)",
                    "log_timestamp": "2008-01-01 00:04:36",
                    "race": "Undead",
                    "charclass": "Rogue",
                    "zoneId": "ZoneidId(Sethekk Halls)",
                    "guild": "19",
                    "level": "70"
                  },
                  {
                    "IdentifierId": "IdentifierId(52427)",
                    "log_timestamp": "2008-01-01 00:04:36",
                    "race": "Undead",
                    "charclass": "Rogue",
                    "zoneId": "ZoneidId(Orgrimmar)",
                    "guild": "104",
                    "level": "70"
                  },
                  {
                    "IdentifierId": "IdentifierId(1774)",
                    "log_timestamp": "2008-01-01 00:04:36",
                    "race": "Undead",
                    "charclass": "Rogue",
                    "zoneId": "ZoneidId(Alterac Valley)",
                    "guild": "5",
                    "level": "70"
                  },
                  {
                    "IdentifierId": "IdentifierId(22519)",
                    "log_timestamp": "2008-01-01 00:04:36",
                    "race": "Undead",
                    "charclass": "Rogue",
                    "zoneId": "ZoneidId(Undercity)",
                    "guild": "101",
                    "level": "70"
                  },
                  {
                    "IdentifierId": "IdentifierId(21950)",
                    "log_timestamp": "2008-01-01 00:04:36",
                    "race": "Undead",
                    "charclass": "Rogue",
                    "zoneId": "ZoneidId(Undercity)",
                    "guild": "174",
                    "level": "70"
                  },
                  {
                    "IdentifierId": "IdentifierId(22609)",
                    "log_timestamp": "2008-01-01 00:04:36",
                    "race": "Undead",
                    "charclass": "Rogue",
                    "zoneId": "ZoneidId(Tirisfal Glades)",
                    "guild": "216",
                    "level": "70"
                  },
                  {
                    "IdentifierId": "IdentifierId(28695)",
                    "log_timestamp": "2008-01-01 00:04:36",
                    "race": "Undead",
                    "charclass": "Rogue",
                    "zoneId": "ZoneidId(Tirisfal Glades)",
                    "guild": "103",
                    "level": "70"
                  },
                  {
                    "IdentifierId": "IdentifierId(61755)",
                    "log_timestamp": "2008-01-01 00:04:36",
                    "race": "Undead",
                    "charclass": "Rogue",
                    "zoneId": "ZoneidId(Tirisfal Glades)",
                    "guild": "282",
                    "level": "70"
                  },
                  {
                    "IdentifierId": "IdentifierId(10043)",
                    "log_timestamp": "2008-01-01 00:04:36",
                    "race": "Undead",
                    "charclass": "Rogue",
                    "zoneId": "ZoneidId(Tirisfal Glades)",
                    "guild": "79",
                    "level": "70"
                  },
                  {
                    "IdentifierId": "IdentifierId(22662)",
                    "log_timestamp": "2008-01-01 00:04:36",
                    "race": "Undead",
                    "charclass": "Rogue",
                    "zoneId": "ZoneidId(Tirisfal Glades)",
                    "guild": "101",
                    "level": "70"
                  },
                  {
                    "IdentifierId": "IdentifierId(323)",
                    "log_timestamp": "2008-01-01 00:04:36",
                    "race": "Undead",
                    "charclass": "Rogue",
                    "zoneId": "ZoneidId(Shattrath City)",
                    "guild": "9",
                    "level": "70"
                  },
                  {
                    "IdentifierId": "IdentifierId(1094)",
                    "log_timestamp": "2008-01-01 00:04:36",
                    "race": "Undead",
                    "charclass": "Rogue",
                    "zoneId": "ZoneidId(Eye of the Storm)",
                    "guild": "103",
                    "level": "70"
                  },
                  {
                    "IdentifierId": "IdentifierId(22444)",
                    "log_timestamp": "2008-01-01 00:04:36",
                    "race": "Undead",
                    "charclass": "Rogue",
                    "zoneId": "ZoneidId(Eye of the Storm)",
                    "guild": "204",
                    "level": "70"
                  },
                  {
                    "IdentifierId": "IdentifierId(63302)",
                    "log_timestamp": "2008-01-01 00:04:36",
                    "race": "Undead",
                    "charclass": "Rogue",
                    "zoneId": "ZoneidId(Mana-Tombs)",
                    "guild": "161",
                    "level": "70"
                  },
                  {
                    "IdentifierId": "IdentifierId(23291)",
                    "log_timestamp": "2008-01-01 00:04:36",
                    "race": "Undead",
                    "charclass": "Rogue",
                    "zoneId": "ZoneidId(Nagrand Arena)",
                    "guild": "103",
                    "level": "70"
                  },
                  {
                    "IdentifierId": "IdentifierId(22456)",
                    "log_timestamp": "2008-01-01 00:04:41",
                    "race": "Undead",
                    "charclass": "Warlock",
                    "zoneId": "ZoneidId(The Arcatraz)",
                    "guild": "103",
                    "level": "70"
                  },
                  {
                    "IdentifierId": "IdentifierId(47077)",
                    "log_timestamp": "2008-01-01 00:04:41",
                    "race": "Undead",
                    "charclass": "Warlock",
                    "zoneId": "ZoneidId(Orgrimmar)",
                    "guild": "204",
                    "level": "70"
                  },
                  {
                    "IdentifierId": "IdentifierId(722)",
                    "log_timestamp": "2008-01-01 00:04:41",
                    "race": "Undead",
                    "charclass": "Warlock",
                    "zoneId": "ZoneidId(Undercity)",
                    "guild": "62",
                    "level": "70"
                  },
                  {
                    "IdentifierId": "IdentifierId(22410)",
                    "log_timestamp": "2008-01-01 00:04:41",
                    "race": "Undead",
                    "charclass": "Warlock",
                    "zoneId": "ZoneidId(Undercity)",
                    "guild": "101",
                    "level": "70"
                  },
                  {
                    "IdentifierId": "IdentifierId(782)",
                    "log_timestamp": "2008-01-01 00:04:41",
                    "race": "Undead",
                    "charclass": "Warlock",
                    "zoneId": "ZoneidId(Undercity)",
                    "guild": "9",
                    "level": "70"
                  },
                  {
                    "IdentifierId": "IdentifierId(1055)",
                    "log_timestamp": "2008-01-01 00:04:41",
                    "race": "Undead",
                    "charclass": "Warlock",
                    "zoneId": "ZoneidId(Tirisfal Glades)",
                    "guild": "5",
                    "level": "70"
                  },
                  {
                    "IdentifierId": "IdentifierId(18827)",
                    "log_timestamp": "2008-01-01 00:04:41",
                    "race": "Undead",
                    "charclass": "Warlock",
                    "zoneId": "ZoneidId(Shattrath City)",
                    "guild": "189",
                    "level": "70"
                  },
                  {
                    "IdentifierId": "IdentifierId(32357)",
                    "log_timestamp": "2008-01-01 00:04:41",
                    "race": "Undead",
                    "charclass": "Warlock",
                    "zoneId": "ZoneidId(Shattrath City)",
                    "guild": "103",
                    "level": "70"
                  },
                  {
                    "IdentifierId": "IdentifierId(18065)",
                    "log_timestamp": "2008-01-01 00:04:41",
                    "race": "Undead",
                    "charclass": "Warlock",
                    "zoneId": "ZoneidId(Shattrath City)",
                    "guild": "103",
                    "level": "70"
                  },
                  {
                    "IdentifierId": "IdentifierId(9084)",
                    "log_timestamp": "2008-01-01 00:04:41",
                    "race": "Undead",
                    "charclass": "Warlock",
                    "zoneId": "ZoneidId(Eye of the Storm)",
                    "guild": "205",
                    "level": "70"
                  },
                  {
                    "IdentifierId": "IdentifierId(16597)",
                    "log_timestamp": "2008-01-01 00:04:41",
                    "race": "Undead",
                    "charclass": "Warlock",
                    "zoneId": "ZoneidId(The Underbog)",
                    "guild": "103",
                    "level": "70"
                  },
                  {
                    "IdentifierId": "IdentifierId(21905)",
                    "log_timestamp": "2008-01-01 00:04:41",
                    "race": "Undead",
                    "charclass": "Warlock",
                    "zoneId": "ZoneidId(Nagrand)",
                    "guild": "167",
                    "level": "70"
                  },
                  {
                    "IdentifierId": "IdentifierId(11706)",
                    "log_timestamp": "2008-01-01 00:04:41",
                    "race": "Undead",
                    "charclass": "Warlock",
                    "zoneId": "ZoneidId(Netherstorm)",
                    "guild": "101",
                    "level": "70"
                  },
                  {
                    "IdentifierId": "IdentifierId(51246)",
                    "log_timestamp": "2008-01-01 00:04:41",
                    "race": "Undead",
                    "charclass": "Warlock",
                    "zoneId": "ZoneidId(Zangarmarsh)",
                    "guild": "5",
                    "level": "70"
                  },
                  {
                    "IdentifierId": "IdentifierId(17528)",
                    "log_timestamp": "2008-01-01 00:04:41",
                    "race": "Undead",
                    "charclass": "Warlock",
                    "zoneId": "ZoneidId(Arathi Basin)",
                    "guild": "-1",
                    "level": "70"
                  },
                  {
                    "IdentifierId": "IdentifierId(27288)",
                    "log_timestamp": "2008-01-01 00:04:41",
                    "race": "Undead",
                    "charclass": "Warlock",
                    "zoneId": "ZoneidId(Arathi Basin)",
                    "guild": "228",
                    "level": "70"
                  },
                  {
                    "IdentifierId": "IdentifierId(394)",
                    "log_timestamp": "2008-01-01 00:04:41",
                    "race": "Undead",
                    "charclass": "Warlock",
                    "zoneId": "ZoneidId(Arathi Basin)",
                    "guild": "35",
                    "level": "70"
                  },
                  {
                    "IdentifierId": "IdentifierId(33016)",
                    "log_timestamp": "2008-01-01 00:04:41",
                    "race": "Undead",
                    "charclass": "Warlock",
                    "zoneId": "ZoneidId(Arathi Basin)",
                    "guild": "204",
                    "level": "70"
                  },
                  {
                    "IdentifierId": "IdentifierId(23060)",
                    "log_timestamp": "2008-01-01 00:04:41",
                    "race": "Undead",
                    "charclass": "Warlock",
                    "zoneId": "ZoneidId(The Mechanar)",
                    "guild": "216",
                    "level": "70"
                  },
                  {
                    "IdentifierId": "IdentifierId(9194)",
                    "log_timestamp": "2008-01-01 00:04:41",
                    "race": "Undead",
                    "charclass": "Warlock",
                    "zoneId": "ZoneidId(The Mechanar)",
                    "guild": "103",
                    "level": "70"
                  },
                  {
                    "IdentifierId": "IdentifierId(12166)",
                    "log_timestamp": "2008-01-01 00:04:46",
                    "race": "Undead",
                    "charclass": "Warrior",
                    "zoneId": "ZoneidId(Blade's Edge Mountains)",
                    "guild": "-1",
                    "level": "70"
                  },
                  {
                    "IdentifierId": "IdentifierId(22069)",
                    "log_timestamp": "2008-01-01 00:04:46",
                    "race": "Undead",
                    "charclass": "Warrior",
                    "zoneId": "ZoneidId(Tirisfal Glades)",
                    "guild": "103",
                    "level": "70"
                  },
                  {
                    "IdentifierId": "IdentifierId(29999)",
                    "log_timestamp": "2008-01-01 00:04:46",
                    "race": "Undead",
                    "charclass": "Warrior",
                    "zoneId": "ZoneidId(Tirisfal Glades)",
                    "guild": "165",
                    "level": "70"
                  },
                  {
                    "IdentifierId": "IdentifierId(23248)",
                    "log_timestamp": "2008-01-01 00:04:46",
                    "race": "Undead",
                    "charclass": "Warrior",
                    "zoneId": "ZoneidId(Shattrath City)",
                    "guild": "243",
                    "level": "70"
                  },
                  {
                    "IdentifierId": "IdentifierId(41829)",
                    "log_timestamp": "2008-01-01 00:04:46",
                    "race": "Undead",
                    "charclass": "Warrior",
                    "zoneId": "ZoneidId(The Botanica)",
                    "guild": "104",
                    "level": "70"
                  },
                  {
                    "IdentifierId": "IdentifierId(24723)",
                    "log_timestamp": "2008-01-01 00:04:46",
                    "race": "Undead",
                    "charclass": "Warrior",
                    "zoneId": "ZoneidId(Searing Gorge)",
                    "guild": "103",
                    "level": "70"
                  },
                  {
                    "IdentifierId": "IdentifierId(24158)",
                    "log_timestamp": "2008-01-01 00:04:46",
                    "race": "Undead",
                    "charclass": "Warrior",
                    "zoneId": "ZoneidId(The Shattered Halls)",
                    "guild": "103",
                    "level": "70"
                  },
                  {
                    "IdentifierId": "IdentifierId(16797)",
                    "log_timestamp": "2008-01-01 00:04:46",
                    "race": "Undead",
                    "charclass": "Warrior",
                    "zoneId": "ZoneidId(Mulgore)",
                    "guild": "204",
                    "level": "70"
                  },
                  {
                    "IdentifierId": "IdentifierId(973)",
                    "log_timestamp": "2008-01-01 00:04:46",
                    "race": "Undead",
                    "charclass": "Warrior",
                    "zoneId": "ZoneidId(Arathi Basin)",
                    "guild": "167",
                    "level": "70"
                  },
                  {
                    "IdentifierId": "IdentifierId(65550)",
                    "log_timestamp": "2008-01-01 00:04:51",
                    "race": "Blood Elf",
                    "charclass": "Rogue",
                    "zoneId": "ZoneidId(Eversong Woods)",
                    "guild": "-1",
                    "level": "4"
                  },
                  {
                    "IdentifierId": "IdentifierId(65469)",
                    "log_timestamp": "2008-01-01 00:04:51",
                    "race": "Blood Elf",
                    "charclass": "Paladin",
                    "zoneId": "ZoneidId(Eversong Woods)",
                    "guild": "-1",
                    "level": "7"
                  },
                  {
                    "IdentifierId": "IdentifierId(41252)",
                    "log_timestamp": "2008-01-01 00:04:57",
                    "race": "Blood Elf",
                    "charclass": "Paladin",
                    "zoneId": "ZoneidId(Eversong Woods)",
                    "guild": "103",
                    "level": "11"
                  },
                  {
                    "IdentifierId": "IdentifierId(65409)",
                    "log_timestamp": "2008-01-01 00:04:57",
                    "race": "Blood Elf",
                    "charclass": "Paladin",
                    "zoneId": "ZoneidId(Eversong Woods)",
                    "guild": "-1",
                    "level": "11"
                  },
                  {
                    "IdentifierId": "IdentifierId(65403)",
                    "log_timestamp": "2008-01-01 00:04:57",
                    "race": "Blood Elf",
                    "charclass": "Paladin",
                    "zoneId": "ZoneidId(Eversong Woods)",
                    "guild": "-1",
                    "level": "11"
                  },
                  {
                    "IdentifierId": "IdentifierId(46138)",
                    "log_timestamp": "2008-01-01 00:04:57",
                    "race": "Blood Elf",
                    "charclass": "Warlock",
                    "zoneId": "ZoneidId(Eversong Woods)",
                    "guild": "-1",
                    "level": "11"
                  },
                  {
                    "IdentifierId": "IdentifierId(65013)",
                    "log_timestamp": "2008-01-01 00:04:57",
                    "race": "Blood Elf",
                    "charclass": "Warlock",
                    "zoneId": "ZoneidId(The Barrens)",
                    "guild": "-1",
                    "level": "17"
                  },
                  {
                    "IdentifierId": "IdentifierId(65477)",
                    "log_timestamp": "2008-01-01 00:04:57",
                    "race": "Blood Elf",
                    "charclass": "Paladin",
                    "zoneId": "ZoneidId(Ghostlands)",
                    "guild": "-1",
                    "level": "15"
                  },
                  {
                    "IdentifierId": "IdentifierId(41436)",
                    "log_timestamp": "2008-01-01 00:04:57",
                    "race": "Blood Elf",
                    "charclass": "Paladin",
                    "zoneId": "ZoneidId(Ghostlands)",
                    "guild": "282",
                    "level": "17"
                  },
                  {
                    "IdentifierId": "IdentifierId(48234)",
                    "log_timestamp": "2008-01-01 00:04:57",
                    "race": "Blood Elf",
                    "charclass": "Warlock",
                    "zoneId": "ZoneidId(Ghostlands)",
                    "guild": "-1",
                    "level": "20"
                  },
                  {
                    "IdentifierId": "IdentifierId(45704)",
                    "log_timestamp": "2008-01-01 00:05:02",
                    "race": "Blood Elf",
                    "charclass": "Hunter",
                    "zoneId": "ZoneidId(Warsong Gulch)",
                    "guild": "-1",
                    "level": "28"
                  },
                  {
                    "IdentifierId": "IdentifierId(64310)",
                    "log_timestamp": "2008-01-01 00:05:02",
                    "race": "Blood Elf",
                    "charclass": "Priest",
                    "zoneId": "ZoneidId(Ashenvale)",
                    "guild": "-1",
                    "level": "25"
                  },
                  {
                    "IdentifierId": "IdentifierId(63273)",
                    "log_timestamp": "2008-01-01 00:05:02",
                    "race": "Blood Elf",
                    "charclass": "Priest",
                    "zoneId": "ZoneidId(Ashenvale)",
                    "guild": "282",
                    "level": "30"
                  },
                  {
                    "IdentifierId": "IdentifierId(64975)",
                    "log_timestamp": "2008-01-01 00:05:02",
                    "race": "Blood Elf",
                    "charclass": "Mage",
                    "zoneId": "ZoneidId(Stonetalon Mountains)",
                    "guild": "-1",
                    "level": "26"
                  },
                  {
                    "IdentifierId": "IdentifierId(64950)",
                    "log_timestamp": "2008-01-01 00:05:02",
                    "race": "Blood Elf",
                    "charclass": "Priest",
                    "zoneId": "ZoneidId(Stonetalon Mountains)",
                    "guild": "-1",
                    "level": "26"
                  },
                  {
                    "IdentifierId": "IdentifierId(64632)",
                    "log_timestamp": "2008-01-01 00:05:02",
                    "race": "Blood Elf",
                    "charclass": "Paladin",
                    "zoneId": "ZoneidId(Stranglethorn Vale)",
                    "guild": "282",
                    "level": "28"
                  },
                  {
                    "IdentifierId": "IdentifierId(65217)",
                    "log_timestamp": "2008-01-01 00:05:02",
                    "race": "Blood Elf",
                    "charclass": "Hunter",
                    "zoneId": "ZoneidId(The Barrens)",
                    "guild": "282",
                    "level": "21"
                  },
                  {
                    "IdentifierId": "IdentifierId(65322)",
                    "log_timestamp": "2008-01-01 00:05:02",
                    "race": "Blood Elf",
                    "charclass": "Rogue",
                    "zoneId": "ZoneidId(The Barrens)",
                    "guild": "-1",
                    "level": "22"
                  },
                  {
                    "IdentifierId": "IdentifierId(65230)",
                    "log_timestamp": "2008-01-01 00:05:02",
                    "race": "Blood Elf",
                    "charclass": "Hunter",
                    "zoneId": "ZoneidId(The Barrens)",
                    "guild": "-1",
                    "level": "23"
                  },
                  {
                    "IdentifierId": "IdentifierId(39253)",
                    "log_timestamp": "2008-01-01 00:05:02",
                    "race": "Blood Elf",
                    "charclass": "Rogue",
                    "zoneId": "ZoneidId(The Barrens)",
                    "guild": "-1",
                    "level": "25"
                  },
                  {
                    "IdentifierId": "IdentifierId(63081)",
                    "log_timestamp": "2008-01-01 00:05:02",
                    "race": "Blood Elf",
                    "charclass": "Rogue",
                    "zoneId": "ZoneidId(Silvermoon City)",
                    "guild": "282",
                    "level": "22"
                  },
                  {
                    "IdentifierId": "IdentifierId(52499)",
                    "log_timestamp": "2008-01-01 00:05:02",
                    "race": "Blood Elf",
                    "charclass": "Paladin",
                    "zoneId": "ZoneidId(Silverpine Forest)",
                    "guild": "167",
                    "level": "22"
                  },
                  {
                    "IdentifierId": "IdentifierId(62585)",
                    "log_timestamp": "2008-01-01 00:05:02",
                    "race": "Blood Elf",
                    "charclass": "Paladin",
                    "zoneId": "ZoneidId(Silverpine Forest)",
                    "guild": "282",
                    "level": "23"
                  },
                  {
                    "IdentifierId": "IdentifierId(63133)",
                    "log_timestamp": "2008-01-01 00:05:02",
                    "race": "Blood Elf",
                    "charclass": "Hunter",
                    "zoneId": "ZoneidId(Silverpine Forest)",
                    "guild": "-1",
                    "level": "24"
                  },
                  {
                    "IdentifierId": "IdentifierId(64497)",
                    "log_timestamp": "2008-01-01 00:05:02",
                    "race": "Blood Elf",
                    "charclass": "Hunter",
                    "zoneId": "ZoneidId(Silverpine Forest)",
                    "guild": "167",
                    "level": "26"
                  },
                  {
                    "IdentifierId": "IdentifierId(36245)",
                    "log_timestamp": "2008-01-01 00:05:02",
                    "race": "Blood Elf",
                    "charclass": "Warlock",
                    "zoneId": "ZoneidId(Silverpine Forest)",
                    "guild": "167",
                    "level": "29"
                  },
                  {
                    "IdentifierId": "IdentifierId(47637)",
                    "log_timestamp": "2008-01-01 00:05:02",
                    "race": "Blood Elf",
                    "charclass": "Mage",
                    "zoneId": "ZoneidId(Ghostlands)",
                    "guild": "-1",
                    "level": "21"
                  },
                  {
                    "IdentifierId": "IdentifierId(65420)",
                    "log_timestamp": "2008-01-01 00:05:02",
                    "race": "Blood Elf",
                    "charclass": "Paladin",
                    "zoneId": "ZoneidId(Ghostlands)",
                    "guild": "-1",
                    "level": "21"
                  },
                  {
                    "IdentifierId": "IdentifierId(36553)",
                    "log_timestamp": "2008-01-01 00:05:02",
                    "race": "Blood Elf",
                    "charclass": "Mage",
                    "zoneId": "ZoneidId(Ghostlands)",
                    "guild": "282",
                    "level": "23"
                  },
                  {
                    "IdentifierId": "IdentifierId(64475)",
                    "log_timestamp": "2008-01-01 00:05:02",
                    "race": "Blood Elf",
                    "charclass": "Paladin",
                    "zoneId": "ZoneidId(Blackfathom Deeps)",
                    "guild": "273",
                    "level": "27"
                  },
                  {
                    "IdentifierId": "IdentifierId(47116)",
                    "log_timestamp": "2008-01-01 00:05:07",
                    "race": "Blood Elf",
                    "charclass": "Mage",
                    "zoneId": "ZoneidId(Orgrimmar)",
                    "guild": "-1",
                    "level": "33"
                  },
                  {
                    "IdentifierId": "IdentifierId(36407)",
                    "log_timestamp": "2008-01-01 00:05:07",
                    "race": "Blood Elf",
                    "charclass": "Hunter",
                    "zoneId": "ZoneidId(Ashenvale)",
                    "guild": "-1",
                    "level": "31"
                  },
                  {
                    "IdentifierId": "IdentifierId(62995)",
                    "log_timestamp": "2008-01-01 00:05:07",
                    "race": "Blood Elf",
                    "charclass": "Hunter",
                    "zoneId": "ZoneidId(Elwynn Forest)",
                    "guild": "293",
                    "level": "39"
                  },
                  {
                    "IdentifierId": "IdentifierId(64656)",
                    "log_timestamp": "2008-01-01 00:05:07",
                    "race": "Blood Elf",
                    "charclass": "Paladin",
                    "zoneId": "ZoneidId(Stranglethorn Vale)",
                    "guild": "282",
                    "level": "34"
                  },
                  {
                    "IdentifierId": "IdentifierId(44387)",
                    "log_timestamp": "2008-01-01 00:05:07",
                    "race": "Blood Elf",
                    "charclass": "Paladin",
                    "zoneId": "ZoneidId(Stranglethorn Vale)",
                    "guild": "289",
                    "level": "35"
                  },
                  {
                    "IdentifierId": "IdentifierId(63533)",
                    "log_timestamp": "2008-01-01 00:05:07",
                    "race": "Blood Elf",
                    "charclass": "Mage",
                    "zoneId": "ZoneidId(Stranglethorn Vale)",
                    "guild": "220",
                    "level": "38"
                  },
                  {
                    "IdentifierId": "IdentifierId(55762)",
                    "log_timestamp": "2008-01-01 00:05:07",
                    "race": "Blood Elf",
                    "charclass": "Paladin",
                    "zoneId": "ZoneidId(Stranglethorn Vale)",
                    "guild": "167",
                    "level": "40"
                  },
                  {
                    "IdentifierId": "IdentifierId(36200)",
                    "log_timestamp": "2008-01-01 00:05:07",
                    "race": "Blood Elf",
                    "charclass": "Warlock",
                    "zoneId": "ZoneidId(Arathi Basin)",
                    "guild": "-1",
                    "level": "34"
                  },
                  {
                    "IdentifierId": "IdentifierId(37036)",
                    "log_timestamp": "2008-01-01 00:05:07",
                    "race": "Blood Elf",
                    "charclass": "Priest",
                    "zoneId": "ZoneidId(Arathi Highlands)",
                    "guild": "282",
                    "level": "36"
                  },
                  {
                    "IdentifierId": "IdentifierId(63311)",
                    "log_timestamp": "2008-01-01 00:05:12",
                    "race": "Blood Elf",
                    "charclass": "Paladin",
                    "zoneId": "ZoneidId(Dustwallow Marsh)",
                    "guild": "256",
                    "level": "42"
                  },
                  {
                    "IdentifierId": "IdentifierId(32985)",
                    "log_timestamp": "2008-01-01 00:05:12",
                    "race": "Blood Elf",
                    "charclass": "Paladin",
                    "zoneId": "ZoneidId(Stranglethorn Vale)",
                    "guild": "108",
                    "level": "41"
                  },
                  {
                    "IdentifierId": "IdentifierId(64380)",
                    "log_timestamp": "2008-01-01 00:05:12",
                    "race": "Blood Elf",
                    "charclass": "Warlock",
                    "zoneId": "ZoneidId(Stranglethorn Vale)",
                    "guild": "-1",
                    "level": "42"
                  },
                  {
                    "IdentifierId": "IdentifierId(52818)",
                    "log_timestamp": "2008-01-01 00:05:12",
                    "race": "Blood Elf",
                    "charclass": "Mage",
                    "zoneId": "ZoneidId(Stranglethorn Vale)",
                    "guild": "-1",
                    "level": "44"
                  },
                  {
                    "IdentifierId": "IdentifierId(64397)",
                    "log_timestamp": "2008-01-01 00:05:12",
                    "race": "Blood Elf",
                    "charclass": "Hunter",
                    "zoneId": "ZoneidId(Feralas)",
                    "guild": "-1",
                    "level": "43"
                  },
                  {
                    "IdentifierId": "IdentifierId(61942)",
                    "log_timestamp": "2008-01-01 00:05:12",
                    "race": "Blood Elf",
                    "charclass": "Priest",
                    "zoneId": "ZoneidId(Feralas)",
                    "guild": "-1",
                    "level": "44"
                  },
                  {
                    "IdentifierId": "IdentifierId(53785)",
                    "log_timestamp": "2008-01-01 00:05:17",
                    "race": "Blood Elf",
                    "charclass": "Priest",
                    "zoneId": "ZoneidId(Tanaris)",
                    "guild": "-1",
                    "level": "50"
                  },
                  {
                    "IdentifierId": "IdentifierId(48417)",
                    "log_timestamp": "2008-01-01 00:05:17",
                    "race": "Blood Elf",
                    "charclass": "Paladin",
                    "zoneId": "ZoneidId(Zul'Farrak)",
                    "guild": "-1",
                    "level": "49"
                  },
                  {
                    "IdentifierId": "IdentifierId(63646)",
                    "log_timestamp": "2008-01-01 00:05:17",
                    "race": "Blood Elf",
                    "charclass": "Mage",
                    "zoneId": "ZoneidId(Stranglethorn Vale)",
                    "guild": "220",
                    "level": "49"
                  },
                  {
                    "IdentifierId": "IdentifierId(47108)",
                    "log_timestamp": "2008-01-01 00:05:17",
                    "race": "Blood Elf",
                    "charclass": "Paladin",
                    "zoneId": "ZoneidId(Feralas)",
                    "guild": "161",
                    "level": "49"
                  },
                  {
                    "IdentifierId": "IdentifierId(37084)",
                    "log_timestamp": "2008-01-01 00:05:22",
                    "race": "Blood Elf",
                    "charclass": "Paladin",
                    "zoneId": "ZoneidId(Thousand Needles)",
                    "guild": "282",
                    "level": "51"
                  },
                  {
                    "IdentifierId": "IdentifierId(61663)",
                    "log_timestamp": "2008-01-01 00:05:22",
                    "race": "Blood Elf",
                    "charclass": "Rogue",
                    "zoneId": "ZoneidId(Un'Goro Crater)",
                    "guild": "282",
                    "level": "51"
                  },
                  {
                    "IdentifierId": "IdentifierId(40453)",
                    "log_timestamp": "2008-01-01 00:05:22",
                    "race": "Blood Elf",
                    "charclass": "Paladin",
                    "zoneId": "ZoneidId(Feralas)",
                    "guild": "256",
                    "level": "54"
                  },
                  {
                    "IdentifierId": "IdentifierId(54918)",
                    "log_timestamp": "2008-01-01 00:05:22",
                    "race": "Blood Elf",
                    "charclass": "Paladin",
                    "zoneId": "ZoneidId(Western Plaguelands)",
                    "guild": "-1",
                    "level": "55"
                  },
                  {
                    "IdentifierId": "IdentifierId(56579)",
                    "log_timestamp": "2008-01-01 00:05:22",
                    "race": "Blood Elf",
                    "charclass": "Paladin",
                    "zoneId": "ZoneidId(The Hinterlands)",
                    "guild": "243",
                    "level": "51"
                  },
                  {
                    "IdentifierId": "IdentifierId(63729)",
                    "log_timestamp": "2008-01-01 00:05:27",
                    "race": "Blood Elf",
                    "charclass": "Mage",
                    "zoneId": "ZoneidId(Winterspring)",
                    "guild": "79",
                    "level": "56"
                  },
                  {
                    "IdentifierId": "IdentifierId(61773)",
                    "log_timestamp": "2008-01-01 00:05:27",
                    "race": "Blood Elf",
                    "charclass": "Warlock",
                    "zoneId": "ZoneidId(Thousand Needles)",
                    "guild": "269",
                    "level": "56"
                  },
                  {
                    "IdentifierId": "IdentifierId(50524)",
                    "log_timestamp": "2008-01-01 00:05:27",
                    "race": "Blood Elf",
                    "charclass": "Hunter",
                    "zoneId": "ZoneidId(Hellfire Peninsula)",
                    "guild": "282",
                    "level": "60"
                  },
                  {
                    "IdentifierId": "IdentifierId(59629)",
                    "log_timestamp": "2008-01-01 00:05:27",
                    "race": "Blood Elf",
                    "charclass": "Rogue",
                    "zoneId": "ZoneidId(Hellfire Peninsula)",
                    "guild": "-1",
                    "level": "60"
                  },
                  {
                    "IdentifierId": "IdentifierId(62999)",
                    "log_timestamp": "2008-01-01 00:05:27",
                    "race": "Blood Elf",
                    "charclass": "Rogue",
                    "zoneId": "ZoneidId(Un'Goro Crater)",
                    "guild": "101",
                    "level": "59"
                  },
                  {
                    "IdentifierId": "IdentifierId(60674)",
                    "log_timestamp": "2008-01-01 00:05:27",
                    "race": "Blood Elf",
                    "charclass": "Rogue",
                    "zoneId": "ZoneidId(Silithus)",
                    "guild": "-1",
                    "level": "59"
                  },
                  {
                    "IdentifierId": "IdentifierId(62829)",
                    "log_timestamp": "2008-01-01 00:05:27",
                    "race": "Blood Elf",
                    "charclass": "Mage",
                    "zoneId": "ZoneidId(Undercity)",
                    "guild": "282",
                    "level": "58"
                  },
                  {
                    "IdentifierId": "IdentifierId(55932)",
                    "log_timestamp": "2008-01-01 00:05:27",
                    "race": "Blood Elf",
                    "charclass": "Mage",
                    "zoneId": "ZoneidId(Undercity)",
                    "guild": "251",
                    "level": "58"
                  },
                  {
                    "IdentifierId": "IdentifierId(34870)",
                    "log_timestamp": "2008-01-01 00:05:27",
                    "race": "Blood Elf",
                    "charclass": "Paladin",
                    "zoneId": "ZoneidId(Eastern Plaguelands)",
                    "guild": "282",
                    "level": "58"
                  },
                  {
                    "IdentifierId": "IdentifierId(38500)",
                    "log_timestamp": "2008-01-01 00:05:27",
                    "race": "Blood Elf",
                    "charclass": "Paladin",
                    "zoneId": "ZoneidId(Eastern Plaguelands)",
                    "guild": "282",
                    "level": "59"
                  },
                  {
                    "IdentifierId": "IdentifierId(60100)",
                    "log_timestamp": "2008-01-01 00:05:27",
                    "race": "Blood Elf",
                    "charclass": "Paladin",
                    "zoneId": "ZoneidId(Azshara)",
                    "guild": "161",
                    "level": "56"
                  },
                  {
                    "IdentifierId": "IdentifierId(57744)",
                    "log_timestamp": "2008-01-01 00:05:27",
                    "race": "Blood Elf",
                    "charclass": "Hunter",
                    "zoneId": "ZoneidId(The Barrens)",
                    "guild": "-1",
                    "level": "56"
                  },
                  {
                    "IdentifierId": "IdentifierId(64095)",
                    "log_timestamp": "2008-01-01 00:05:27",
                    "race": "Blood Elf",
                    "charclass": "Warlock",
                    "zoneId": "ZoneidId(Thunder Bluff)",
                    "guild": "288",
                    "level": "59"
                  },
                  {
                    "IdentifierId": "IdentifierId(63401)",
                    "log_timestamp": "2008-01-01 00:05:32",
                    "race": "Blood Elf",
                    "charclass": "Hunter",
                    "zoneId": "ZoneidId(Hellfire Peninsula)",
                    "guild": "220",
                    "level": "61"
                  },
                  {
                    "IdentifierId": "IdentifierId(35263)",
                    "log_timestamp": "2008-01-01 00:05:32",
                    "race": "Blood Elf",
                    "charclass": "Mage",
                    "zoneId": "ZoneidId(Hellfire Peninsula)",
                    "guild": "53",
                    "level": "65"
                  },
                  {
                    "IdentifierId": "IdentifierId(41802)",
                    "log_timestamp": "2008-01-01 00:05:32",
                    "race": "Blood Elf",
                    "charclass": "Rogue",
                    "zoneId": "ZoneidId(Auchenai Crypts)",
                    "guild": "103",
                    "level": "64"
                  },
                  {
                    "IdentifierId": "IdentifierId(58974)",
                    "log_timestamp": "2008-01-01 00:05:32",
                    "race": "Blood Elf",
                    "charclass": "Paladin",
                    "zoneId": "ZoneidId(Shattrath City)",
                    "guild": "-1",
                    "level": "64"
                  },
                  {
                    "IdentifierId": "IdentifierId(41728)",
                    "log_timestamp": "2008-01-01 00:05:32",
                    "race": "Blood Elf",
                    "charclass": "Mage",
                    "zoneId": "ZoneidId(Shattrath City)",
                    "guild": "19",
                    "level": "65"
                  },
                  {
                    "IdentifierId": "IdentifierId(64813)",
                    "log_timestamp": "2008-01-01 00:05:32",
                    "race": "Blood Elf",
                    "charclass": "Priest",
                    "zoneId": "ZoneidId(Terokkar Forest)",
                    "guild": "-1",
                    "level": "63"
                  },
                  {
                    "IdentifierId": "IdentifierId(34319)",
                    "log_timestamp": "2008-01-01 00:05:32",
                    "race": "Blood Elf",
                    "charclass": "Paladin",
                    "zoneId": "ZoneidId(Terokkar Forest)",
                    "guild": "165",
                    "level": "65"
                  },
                  {
                    "IdentifierId": "IdentifierId(35268)",
                    "log_timestamp": "2008-01-01 00:05:32",
                    "race": "Blood Elf",
                    "charclass": "Paladin",
                    "zoneId": "ZoneidId(Nagrand)",
                    "guild": "103",
                    "level": "64"
                  },
                  {
                    "IdentifierId": "IdentifierId(63753)",
                    "log_timestamp": "2008-01-01 00:05:32",
                    "race": "Blood Elf",
                    "charclass": "Hunter",
                    "zoneId": "ZoneidId(Nagrand)",
                    "guild": "282",
                    "level": "65"
                  },
                  {
                    "IdentifierId": "IdentifierId(26137)",
                    "log_timestamp": "2008-01-01 00:05:32",
                    "race": "Blood Elf",
                    "charclass": "Rogue",
                    "zoneId": "ZoneidId(Zangarmarsh)",
                    "guild": "167",
                    "level": "63"
                  },
                  {
                    "IdentifierId": "IdentifierId(35580)",
                    "log_timestamp": "2008-01-01 00:05:32",
                    "race": "Blood Elf",
                    "charclass": "Warlock",
                    "zoneId": "ZoneidId(Zangarmarsh)",
                    "guild": "189",
                    "level": "63"
                  },
                  {
                    "IdentifierId": "IdentifierId(61105)",
                    "log_timestamp": "2008-01-01 00:05:32",
                    "race": "Blood Elf",
                    "charclass": "Priest",
                    "zoneId": "ZoneidId(Zangarmarsh)",
                    "guild": "165",
                    "level": "64"
                  },
                  {
                    "IdentifierId": "IdentifierId(61769)",
                    "log_timestamp": "2008-01-01 00:05:32",
                    "race": "Blood Elf",
                    "charclass": "Hunter",
                    "zoneId": "ZoneidId(Zangarmarsh)",
                    "guild": "167",
                    "level": "64"
                  },
                  {
                    "IdentifierId": "IdentifierId(35336)",
                    "log_timestamp": "2008-01-01 00:05:37",
                    "race": "Blood Elf",
                    "charclass": "Paladin",
                    "zoneId": "ZoneidId(Undercity)",
                    "guild": "19",
                    "level": "67"
                  },
                  {
                    "IdentifierId": "IdentifierId(47880)",
                    "log_timestamp": "2008-01-01 00:05:37",
                    "race": "Blood Elf",
                    "charclass": "Hunter",
                    "zoneId": "ZoneidId(Nagrand)",
                    "guild": "53",
                    "level": "66"
                  },
                  {
                    "IdentifierId": "IdentifierId(41661)",
                    "log_timestamp": "2008-01-01 00:05:37",
                    "race": "Blood Elf",
                    "charclass": "Warlock",
                    "zoneId": "ZoneidId(Nagrand)",
                    "guild": "53",
                    "level": "67"
                  },
                  {
                    "IdentifierId": "IdentifierId(38495)",
                    "log_timestamp": "2008-01-01 00:05:37",
                    "race": "Blood Elf",
                    "charclass": "Paladin",
                    "zoneId": "ZoneidId(Netherstorm)",
                    "guild": "62",
                    "level": "67"
                  },
                  {
                    "IdentifierId": "IdentifierId(57770)",
                    "log_timestamp": "2008-01-01 00:05:37",
                    "race": "Blood Elf",
                    "charclass": "Warlock",
                    "zoneId": "ZoneidId(Arathi Basin)",
                    "guild": "165",
                    "level": "67"
                  },
                  {
                    "IdentifierId": "IdentifierId(54534)",
                    "log_timestamp": "2008-01-01 00:05:43",
                    "race": "Blood Elf",
                    "charclass": "Priest",
                    "zoneId": "ZoneidId(Dustwallow Marsh)",
                    "guild": "-1",
                    "level": "68"
                  },
                  {
                    "IdentifierId": "IdentifierId(35336)",
                    "log_timestamp": "2008-01-01 00:05:43",
                    "race": "Blood Elf",
                    "charclass": "Paladin",
                    "zoneId": "ZoneidId(Undercity)",
                    "guild": "19",
                    "level": "67"
                  },
                  {
                    "IdentifierId": "IdentifierId(47880)",
                    "log_timestamp": "2008-01-01 00:05:43",
                    "race": "Blood Elf",
                    "charclass": "Hunter",
                    "zoneId": "ZoneidId(Nagrand)",
                    "guild": "53",
                    "level": "66"
                  },
                  {
                    "IdentifierId": "IdentifierId(41661)",
                    "log_timestamp": "2008-01-01 00:05:43",
                    "race": "Blood Elf",
                    "charclass": "Warlock",
                    "zoneId": "ZoneidId(Nagrand)",
                    "guild": "53",
                    "level": "67"
                  },
                  {
                    "IdentifierId": "IdentifierId(38495)",
                    "log_timestamp": "2008-01-01 00:05:43",
                    "race": "Blood Elf",
                    "charclass": "Paladin",
                    "zoneId": "ZoneidId(Netherstorm)",
                    "guild": "62",
                    "level": "67"
                  },
                  {
                    "IdentifierId": "IdentifierId(58813)",
                    "log_timestamp": "2008-01-01 00:05:43",
                    "race": "Blood Elf",
                    "charclass": "Hunter",
                    "zoneId": "ZoneidId(Silvermoon City)",
                    "guild": "165",
                    "level": "68"
                  },
                  {
                    "IdentifierId": "IdentifierId(57770)",
                    "log_timestamp": "2008-01-01 00:05:43",
                    "race": "Blood Elf",
                    "charclass": "Warlock",
                    "zoneId": "ZoneidId(Arathi Basin)",
                    "guild": "165",
                    "level": "67"
                  },
                  {
                    "IdentifierId": "IdentifierId(54534)",
                    "log_timestamp": "2008-01-01 00:05:48",
                    "race": "Blood Elf",
                    "charclass": "Priest",
                    "zoneId": "ZoneidId(Dustwallow Marsh)",
                    "guild": "-1",
                    "level": "68"
                  },
                  {
                    "IdentifierId": "IdentifierId(35336)",
                    "log_timestamp": "2008-01-01 00:05:48",
                    "race": "Blood Elf",
                    "charclass": "Paladin",
                    "zoneId": "ZoneidId(Undercity)",
                    "guild": "19",
                    "level": "67"
                  },
                  {
                    "IdentifierId": "IdentifierId(41519)",
                    "log_timestamp": "2008-01-01 00:05:48",
                    "race": "Blood Elf",
                    "charclass": "Mage",
                    "zoneId": "ZoneidId(Terokkar Forest)",
                    "guild": "282",
                    "level": "69"
                  },
                  {
                    "IdentifierId": "IdentifierId(47880)",
                    "log_timestamp": "2008-01-01 00:05:48",
                    "race": "Blood Elf",
                    "charclass": "Hunter",
                    "zoneId": "ZoneidId(Nagrand)",
                    "guild": "53",
                    "level": "66"
                  },
                  {
                    "IdentifierId": "IdentifierId(41661)",
                    "log_timestamp": "2008-01-01 00:05:48",
                    "race": "Blood Elf",
                    "charclass": "Warlock",
                    "zoneId": "ZoneidId(Nagrand)",
                    "guild": "53",
                    "level": "67"
                  },
                  {
                    "IdentifierId": "IdentifierId(41029)",
                    "log_timestamp": "2008-01-01 00:05:48",
                    "race": "Blood Elf",
                    "charclass": "Paladin",
                    "zoneId": "ZoneidId(The Steamvault)",
                    "guild": "5",
                    "level": "69"
                  },
                  {
                    "IdentifierId": "IdentifierId(38495)",
                    "log_timestamp": "2008-01-01 00:05:48",
                    "race": "Blood Elf",
                    "charclass": "Paladin",
                    "zoneId": "ZoneidId(Netherstorm)",
                    "guild": "62",
                    "level": "67"
                  },
                  {
                    "IdentifierId": "IdentifierId(58813)",
                    "log_timestamp": "2008-01-01 00:05:48",
                    "race": "Blood Elf",
                    "charclass": "Hunter",
                    "zoneId": "ZoneidId(Silvermoon City)",
                    "guild": "165",
                    "level": "68"
                  },
                  {
                    "IdentifierId": "IdentifierId(57770)",
                    "log_timestamp": "2008-01-01 00:05:48",
                    "race": "Blood Elf",
                    "charclass": "Warlock",
                    "zoneId": "ZoneidId(Arathi Basin)",
                    "guild": "165",
                    "level": "67"
                  },
                  {
                    "IdentifierId": "IdentifierId(61505)",
                    "log_timestamp": "2008-01-01 00:05:48",
                    "race": "Blood Elf",
                    "charclass": "Rogue",
                    "zoneId": "ZoneidId(Arathi Basin)",
                    "guild": "174",
                    "level": "69"
                  },
                  {
                    "IdentifierId": "IdentifierId(52793)",
                    "log_timestamp": "2008-01-01 00:05:53",
                    "race": "Blood Elf",
                    "charclass": "Paladin",
                    "zoneId": "ZoneidId(The Arcatraz)",
                    "guild": "103",
                    "level": "70"
                  },
                  {
                    "IdentifierId": "IdentifierId(35729)",
                    "log_timestamp": "2008-01-01 00:05:53",
                    "race": "Blood Elf",
                    "charclass": "Paladin",
                    "zoneId": "ZoneidId(Dustwallow Marsh)",
                    "guild": "189",
                    "level": "70"
                  },
                  {
                    "IdentifierId": "IdentifierId(34454)",
                    "log_timestamp": "2008-01-01 00:05:53",
                    "race": "Blood Elf",
                    "charclass": "Paladin",
                    "zoneId": "ZoneidId(Undercity)",
                    "guild": "103",
                    "level": "70"
                  },
                  {
                    "IdentifierId": "IdentifierId(17230)",
                    "log_timestamp": "2008-01-01 00:05:53",
                    "race": "Blood Elf",
                    "charclass": "Paladin",
                    "zoneId": "ZoneidId(Undercity)",
                    "guild": "53",
                    "level": "70"
                  },
                  {
                    "IdentifierId": "IdentifierId(42099)",
                    "log_timestamp": "2008-01-01 00:05:53",
                    "race": "Blood Elf",
                    "charclass": "Paladin",
                    "zoneId": "ZoneidId(Tirisfal Glades)",
                    "guild": "9",
                    "level": "70"
                  },
                  {
                    "IdentifierId": "IdentifierId(61560)",
                    "log_timestamp": "2008-01-01 00:05:53",
                    "race": "Blood Elf",
                    "charclass": "Paladin",
                    "zoneId": "ZoneidId(Shattrath City)",
                    "guild": "204",
                    "level": "70"
                  },
                  {
                    "IdentifierId": "IdentifierId(36442)",
                    "log_timestamp": "2008-01-01 00:05:53",
                    "race": "Blood Elf",
                    "charclass": "Paladin",
                    "zoneId": "ZoneidId(Shattrath City)",
                    "guild": "-1",
                    "level": "70"
                  },
                  {
                    "IdentifierId": "IdentifierId(35004)",
                    "log_timestamp": "2008-01-01 00:05:53",
                    "race": "Blood Elf",
                    "charclass": "Paladin",
                    "zoneId": "ZoneidId(Eye of the Storm)",
                    "guild": "167",
                    "level": "70"
                  },
                  {
                    "IdentifierId": "IdentifierId(51138)",
                    "log_timestamp": "2008-01-01 00:05:53",
                    "race": "Blood Elf",
                    "charclass": "Paladin",
                    "zoneId": "ZoneidId(The Botanica)",
                    "guild": "189",
                    "level": "70"
                  },
                  {
                    "IdentifierId": "IdentifierId(39107)",
                    "log_timestamp": "2008-01-01 00:05:53",
                    "race": "Blood Elf",
                    "charclass": "Paladin",
                    "zoneId": "ZoneidId(The Botanica)",
                    "guild": "103",
                    "level": "70"
                  },
                  {
                    "IdentifierId": "IdentifierId(35760)",
                    "log_timestamp": "2008-01-01 00:05:53",
                    "race": "Blood Elf",
                    "charclass": "Paladin",
                    "zoneId": "ZoneidId(Terokkar Forest)",
                    "guild": "53",
                    "level": "70"
                  },
                  {
                    "IdentifierId": "IdentifierId(62933)",
                    "log_timestamp": "2008-01-01 00:05:53",
                    "race": "Blood Elf",
                    "charclass": "Paladin",
                    "zoneId": "ZoneidId(The Underbog)",
                    "guild": "35",
                    "level": "70"
                  },
                  {
                    "IdentifierId": "IdentifierId(35204)",
                    "log_timestamp": "2008-01-01 00:05:53",
                    "race": "Blood Elf",
                    "charclass": "Paladin",
                    "zoneId": "ZoneidId(The Underbog)",
                    "guild": "35",
                    "level": "70"
                  },
                  {
                    "IdentifierId": "IdentifierId(51444)",
                    "log_timestamp": "2008-01-01 00:05:53",
                    "race": "Blood Elf",
                    "charclass": "Paladin",
                    "zoneId": "ZoneidId(Netherstorm)",
                    "guild": "103",
                    "level": "70"
                  },
                  {
                    "IdentifierId": "IdentifierId(57101)",
                    "log_timestamp": "2008-01-01 00:05:53",
                    "race": "Blood Elf",
                    "charclass": "Paladin",
                    "zoneId": "ZoneidId(Netherstorm)",
                    "guild": "165",
                    "level": "70"
                  },
                  {
                    "IdentifierId": "IdentifierId(65547)",
                    "log_timestamp": "2008-01-01 00:05:53",
                    "race": "Blood Elf",
                    "charclass": "Paladin",
                    "zoneId": "ZoneidId(Netherstorm)",
                    "guild": "204",
                    "level": "70"
                  },
                  {
                    "IdentifierId": "IdentifierId(50046)",
                    "log_timestamp": "2008-01-01 00:05:53",
                    "race": "Blood Elf",
                    "charclass": "Paladin",
                    "zoneId": "ZoneidId(Netherstorm)",
                    "guild": "-1",
                    "level": "70"
                  },
                  {
                    "IdentifierId": "IdentifierId(49788)",
                    "log_timestamp": "2008-01-01 00:05:53",
                    "race": "Blood Elf",
                    "charclass": "Paladin",
                    "zoneId": "ZoneidId(Netherstorm)",
                    "guild": "104",
                    "level": "70"
                  },
                  {
                    "IdentifierId": "IdentifierId(59548)",
                    "log_timestamp": "2008-01-01 00:05:53",
                    "race": "Blood Elf",
                    "charclass": "Paladin",
                    "zoneId": "ZoneidId(Arathi Basin)",
                    "guild": "282",
                    "level": "70"
                  },
                  {
                    "IdentifierId": "IdentifierId(40469)",
                    "log_timestamp": "2008-01-01 00:05:53",
                    "race": "Blood Elf",
                    "charclass": "Paladin",
                    "zoneId": "ZoneidId(Ghostlands)",
                    "guild": "174",
                    "level": "70"
                  },
                  {
                    "IdentifierId": "IdentifierId(36328)",
                    "log_timestamp": "2008-01-01 00:05:58",
                    "race": "Blood Elf",
                    "charclass": "Hunter",
                    "zoneId": "ZoneidId(Blade's Edge Mountains)",
                    "guild": "289",
                    "level": "70"
                  },
                  {
                    "IdentifierId": "IdentifierId(52103)",
                    "log_timestamp": "2008-01-01 00:05:58",
                    "race": "Blood Elf",
                    "charclass": "Hunter",
                    "zoneId": "ZoneidId(Auchenai Crypts)",
                    "guild": "53",
                    "level": "70"
                  },
                  {
                    "IdentifierId": "IdentifierId(35143)",
                    "log_timestamp": "2008-01-01 00:05:58",
                    "race": "Blood Elf",
                    "charclass": "Hunter",
                    "zoneId": "ZoneidId(Orgrimmar)",
                    "guild": "5",
                    "level": "70"
                  },
                  {
                    "IdentifierId": "IdentifierId(38324)",
                    "log_timestamp": "2008-01-01 00:05:58",
                    "race": "Blood Elf",
                    "charclass": "Hunter",
                    "zoneId": "ZoneidId(Orgrimmar)",
                    "guild": "-1",
                    "level": "70"
                  },
                  {
                    "IdentifierId": "IdentifierId(44398)",
                    "log_timestamp": "2008-01-01 00:05:58",
                    "race": "Blood Elf",
                    "charclass": "Hunter",
                    "zoneId": "ZoneidId(Alterac Valley)",
                    "guild": "35",
                    "level": "70"
                  },
                  {
                    "IdentifierId": "IdentifierId(55667)",
                    "log_timestamp": "2008-01-01 00:05:58",
                    "race": "Blood Elf",
                    "charclass": "Hunter",
                    "zoneId": "ZoneidId(Undercity)",
                    "guild": "101",
                    "level": "70"
                  },
                  {
                    "IdentifierId": "IdentifierId(52549)",
                    "log_timestamp": "2008-01-01 00:05:58",
                    "race": "Blood Elf",
                    "charclass": "Hunter",
                    "zoneId": "ZoneidId(Shadowmoon Valley)",
                    "guild": "103",
                    "level": "70"
                  },
                  {
                    "IdentifierId": "IdentifierId(44354)",
                    "log_timestamp": "2008-01-01 00:05:58",
                    "race": "Blood Elf",
                    "charclass": "Hunter",
                    "zoneId": "ZoneidId(Shattrath City)",
                    "guild": "189",
                    "level": "70"
                  },
                  {
                    "IdentifierId": "IdentifierId(38081)",
                    "log_timestamp": "2008-01-01 00:05:58",
                    "race": "Blood Elf",
                    "charclass": "Hunter",
                    "zoneId": "ZoneidId(The Botanica)",
                    "guild": "189",
                    "level": "70"
                  },
                  {
                    "IdentifierId": "IdentifierId(63335)",
                    "log_timestamp": "2008-01-01 00:05:58",
                    "race": "Blood Elf",
                    "charclass": "Hunter",
                    "zoneId": "ZoneidId(Netherstorm)",
                    "guild": "103",
                    "level": "70"
                  },
                  {
                    "IdentifierId": "IdentifierId(53170)",
                    "log_timestamp": "2008-01-01 00:05:58",
                    "race": "Blood Elf",
                    "charclass": "Hunter",
                    "zoneId": "ZoneidId(Netherstorm)",
                    "guild": "103",
                    "level": "70"
                  },
                  {
                    "IdentifierId": "IdentifierId(52445)",
                    "log_timestamp": "2008-01-01 00:05:58",
                    "race": "Blood Elf",
                    "charclass": "Hunter",
                    "zoneId": "ZoneidId(The Barrens)",
                    "guild": "291",
                    "level": "70"
                  },
                  {
                    "IdentifierId": "IdentifierId(59467)",
                    "log_timestamp": "2008-01-01 00:06:03",
                    "race": "Blood Elf",
                    "charclass": "Rogue",
                    "zoneId": "ZoneidId(Hall of Legends)",
                    "guild": "165",
                    "level": "70"
                  },
                  {
                    "IdentifierId": "IdentifierId(49810)",
                    "log_timestamp": "2008-01-01 00:06:03",
                    "race": "Blood Elf",
                    "charclass": "Rogue",
                    "zoneId": "ZoneidId(Shattrath City)",
                    "guild": "103",
                    "level": "70"
                  },
                  {
                    "IdentifierId": "IdentifierId(46803)",
                    "log_timestamp": "2008-01-01 00:06:08",
                    "race": "Blood Elf",
                    "charclass": "Priest",
                    "zoneId": "ZoneidId(Hall of Legends)",
                    "guild": "101",
                    "level": "70"
                  },
                  {
                    "IdentifierId": "IdentifierId(52362)",
                    "log_timestamp": "2008-01-01 00:06:08",
                    "race": "Blood Elf",
                    "charclass": "Priest",
                    "zoneId": "ZoneidId(Hellfire Peninsula)",
                    "guild": "167",
                    "level": "70"
                  },
                  {
                    "IdentifierId": "IdentifierId(51738)",
                    "log_timestamp": "2008-01-01 00:06:08",
                    "race": "Blood Elf",
                    "charclass": "Priest",
                    "zoneId": "ZoneidId(Alterac Valley)",
                    "guild": "104",
                    "level": "70"
                  },
                  {
                    "IdentifierId": "IdentifierId(45918)",
                    "log_timestamp": "2008-01-01 00:06:08",
                    "race": "Blood Elf",
                    "charclass": "Priest",
                    "zoneId": "ZoneidId(Undercity)",
                    "guild": "167",
                    "level": "70"
                  },
                  {
                    "IdentifierId": "IdentifierId(55037)",
                    "log_timestamp": "2008-01-01 00:06:08",
                    "race": "Blood Elf",
                    "charclass": "Priest",
                    "zoneId": "ZoneidId(Shadowmoon Valley)",
                    "guild": "167",
                    "level": "70"
                  },
                  {
                    "IdentifierId": "IdentifierId(55791)",
                    "log_timestamp": "2008-01-01 00:06:08",
                    "race": "Blood Elf",
                    "charclass": "Priest",
                    "zoneId": "ZoneidId(Shattrath City)",
                    "guild": "104",
                    "level": "70"
                  },
                  {
                    "IdentifierId": "IdentifierId(39590)",
                    "log_timestamp": "2008-01-01 00:06:08",
                    "race": "Blood Elf",
                    "charclass": "Priest",
                    "zoneId": "ZoneidId(Shattrath City)",
                    "guild": "216",
                    "level": "70"
                  },
                  {
                    "IdentifierId": "IdentifierId(59334)",
                    "log_timestamp": "2008-01-01 00:06:08",
                    "race": "Blood Elf",
                    "charclass": "Priest",
                    "zoneId": "ZoneidId(Shattrath City)",
                    "guild": "167",
                    "level": "70"
                  },
                  {
                    "IdentifierId": "IdentifierId(43945)",
                    "log_timestamp": "2008-01-01 00:06:08",
                    "race": "Blood Elf",
                    "charclass": "Priest",
                    "zoneId": "ZoneidId(Shattrath City)",
                    "guild": "19",
                    "level": "70"
                  },
                  {
                    "IdentifierId": "IdentifierId(38082)",
                    "log_timestamp": "2008-01-01 00:06:08",
                    "race": "Blood Elf",
                    "charclass": "Priest",
                    "zoneId": "ZoneidId(The Botanica)",
                    "guild": "189",
                    "level": "70"
                  },
                  {
                    "IdentifierId": "IdentifierId(58074)",
                    "log_timestamp": "2008-01-01 00:06:08",
                    "race": "Blood Elf",
                    "charclass": "Priest",
                    "zoneId": "ZoneidId(Netherstorm)",
                    "guild": "-1",
                    "level": "70"
                  },
                  {
                    "IdentifierId": "IdentifierId(58710)",
                    "log_timestamp": "2008-01-01 00:06:08",
                    "race": "Blood Elf",
                    "charclass": "Priest",
                    "zoneId": "ZoneidId(Arathi Basin)",
                    "guild": "5",
                    "level": "70"
                  },
                  {
                    "IdentifierId": "IdentifierId(36139)",
                    "log_timestamp": "2008-01-01 00:06:13",
                    "race": "Blood Elf",
                    "charclass": "Warlock",
                    "zoneId": "ZoneidId(Orgrimmar)",
                    "guild": "53",
                    "level": "70"
                  },
                  {
                    "IdentifierId": "IdentifierId(52944)",
                    "log_timestamp": "2008-01-01 00:06:13",
                    "race": "Blood Elf",
                    "charclass": "Warlock",
                    "zoneId": "ZoneidId(Undercity)",
                    "guild": "101",
                    "level": "70"
                  },
                  {
                    "IdentifierId": "IdentifierId(53229)",
                    "log_timestamp": "2008-01-01 00:06:13",
                    "race": "Blood Elf",
                    "charclass": "Warlock",
                    "zoneId": "ZoneidId(Undercity)",
                    "guild": "281",
                    "level": "70"
                  },
                  {
                    "IdentifierId": "IdentifierId(34673)",
                    "log_timestamp": "2008-01-01 00:06:13",
                    "race": "Blood Elf",
                    "charclass": "Warlock",
                    "zoneId": "ZoneidId(Undercity)",
                    "guild": "53",
                    "level": "70"
                  },
                  {
                    "IdentifierId": "IdentifierId(58242)",
                    "log_timestamp": "2008-01-01 00:06:13",
                    "race": "Blood Elf",
                    "charclass": "Warlock",
                    "zoneId": "ZoneidId(Shadowmoon Valley)",
                    "guild": "167",
                    "level": "70"
                  },
                  {
                    "IdentifierId": "IdentifierId(9486)",
                    "log_timestamp": "2008-01-01 00:06:13",
                    "race": "Blood Elf",
                    "charclass": "Warlock",
                    "zoneId": "ZoneidId(Shattrath City)",
                    "guild": "101",
                    "level": "70"
                  },
                  {
                    "IdentifierId": "IdentifierId(40092)",
                    "log_timestamp": "2008-01-01 00:06:13",
                    "race": "Blood Elf",
                    "charclass": "Warlock",
                    "zoneId": "ZoneidId(Shattrath City)",
                    "guild": "167",
                    "level": "70"
                  },
                  {
                    "IdentifierId": "IdentifierId(60343)",
                    "log_timestamp": "2008-01-01 00:06:13",
                    "race": "Blood Elf",
                    "charclass": "Warlock",
                    "zoneId": "ZoneidId(Shattrath City)",
                    "guild": "104",
                    "level": "70"
                  },
                  {
                    "IdentifierId": "IdentifierId(36187)",
                    "log_timestamp": "2008-01-01 00:06:13",
                    "race": "Blood Elf",
                    "charclass": "Warlock",
                    "zoneId": "ZoneidId(Shattrath City)",
                    "guild": "103",
                    "level": "70"
                  },
                  {
                    "IdentifierId": "IdentifierId(60168)",
                    "log_timestamp": "2008-01-01 00:06:13",
                    "race": "Blood Elf",
                    "charclass": "Warlock",
                    "zoneId": "ZoneidId(Shattrath City)",
                    "guild": "5",
                    "level": "70"
                  },
                  {
                    "IdentifierId": "IdentifierId(45029)",
                    "log_timestamp": "2008-01-01 00:06:13",
                    "race": "Blood Elf",
                    "charclass": "Warlock",
                    "zoneId": "ZoneidId(The Botanica)",
                    "guild": "53",
                    "level": "70"
                  },
                  {
                    "IdentifierId": "IdentifierId(62426)",
                    "log_timestamp": "2008-01-01 00:06:13",
                    "race": "Blood Elf",
                    "charclass": "Warlock",
                    "zoneId": "ZoneidId(Western Plaguelands)",
                    "guild": "174",
                    "level": "70"
                  },
                  {
                    "IdentifierId": "IdentifierId(45491)",
                    "log_timestamp": "2008-01-01 00:06:18",
                    "race": "Blood Elf",
                    "charclass": "Mage",
                    "zoneId": "ZoneidId(Winterspring)",
                    "guild": "79",
                    "level": "70"
                  },
                  {
                    "IdentifierId": "IdentifierId(35622)",
                    "log_timestamp": "2008-01-01 00:06:18",
                    "race": "Blood Elf",
                    "charclass": "Mage",
                    "zoneId": "ZoneidId(Dustwallow Marsh)",
                    "guild": "189",
                    "level": "70"
                  },
                  {
                    "IdentifierId": "IdentifierId(53911)",
                    "log_timestamp": "2008-01-01 00:06:18",
                    "race": "Blood Elf",
                    "charclass": "Mage",
                    "zoneId": "ZoneidId(Alterac Valley)",
                    "guild": "161",
                    "level": "70"
                  },
                  {
                    "IdentifierId": "IdentifierId(55051)",
                    "log_timestamp": "2008-01-01 00:06:18",
                    "race": "Blood Elf",
                    "charclass": "Mage",
                    "zoneId": "ZoneidId(Alterac Valley)",
                    "guild": "103",
                    "level": "70"
                  },
                  {
                    "IdentifierId": "IdentifierId(53228)",
                    "log_timestamp": "2008-01-01 00:06:18",
                    "race": "Blood Elf",
                    "charclass": "Mage",
                    "zoneId": "ZoneidId(Undercity)",
                    "guild": "281",
                    "level": "70"
                  },
                  {
                    "IdentifierId": "IdentifierId(16156)",
                    "log_timestamp": "2008-01-01 00:06:18",
                    "race": "Blood Elf",
                    "charclass": "Mage",
                    "zoneId": "ZoneidId(Warsong Gulch)",
                    "guild": "103",
                    "level": "70"
                  },
                  {
                    "IdentifierId": "IdentifierId(35697)",
                    "log_timestamp": "2008-01-01 00:06:18",
                    "race": "Blood Elf",
                    "charclass": "Mage",
                    "zoneId": "ZoneidId(The Botanica)",
                    "guild": "189",
                    "level": "70"
                  },
                  {
                    "IdentifierId": "IdentifierId(60250)",
                    "log_timestamp": "2008-01-01 00:06:18",
                    "race": "Blood Elf",
                    "charclass": "Mage",
                    "zoneId": "ZoneidId(Netherstorm)",
                    "guild": "101",
                    "level": "70"
                  },
                  {
                    "IdentifierId": "IdentifierId(59425)",
                    "log_timestamp": "2008-01-01 00:11:52",
                    "race": "Orc",
                    "charclass": "Rogue",
                    "zoneId": "ZoneidId(Orgrimmar)",
                    "guild": "165",
                    "level": "1"
                  },
                  {
                    "IdentifierId": "IdentifierId(65415)",
                    "log_timestamp": "2008-01-01 00:11:52",
                    "race": "Orc",
                    "charclass": "Warrior",
                    "zoneId": "ZoneidId(Orgrimmar)",
                    "guild": "-1",
                    "level": "10"
                  },
                  {
                    "IdentifierId": "IdentifierId(65494)",
                    "log_timestamp": "2008-01-01 00:11:52",
                    "race": "Orc",
                    "charclass": "Hunter",
                    "zoneId": "ZoneidId(Durotar)",
                    "guild": "-1",
                    "level": "9"
                  },
                  {
                    "IdentifierId": "IdentifierId(65490)",
                    "log_timestamp": "2008-01-01 00:11:52",
                    "race": "Orc",
                    "charclass": "Hunter",
                    "zoneId": "ZoneidId(Ghostlands)",
                    "guild": "-1",
                    "level": "18"
                  },
                  {
                    "IdentifierId": "IdentifierId(61239)",
                    "log_timestamp": "2008-01-01 00:12:02",
                    "race": "Orc",
                    "charclass": "Hunter",
                    "zoneId": "ZoneidId(Blade's Edge Mountains)",
                    "guild": "243",
                    "level": "68"
                  },
                  {
                    "IdentifierId": "IdentifierId(59772)",
                    "log_timestamp": "2008-01-01 00:12:02",
                    "race": "Orc",
                    "charclass": "Warrior",
                    "zoneId": "ZoneidId(Shadowmoon Valley)",
                    "guild": "35",
                    "level": "69"
                  },
                  {
                    "IdentifierId": "IdentifierId(14525)",
                    "log_timestamp": "2008-01-01 00:12:02",
                    "race": "Orc",
                    "charclass": "Warlock",
                    "zoneId": "ZoneidId(Warsong Gulch)",
                    "guild": "23",
                    "level": "68"
                  },
                  {
                    "IdentifierId": "IdentifierId(22937)",
                    "log_timestamp": "2008-01-01 00:12:02",
                    "race": "Orc",
                    "charclass": "Rogue",
                    "zoneId": "ZoneidId(Warsong Gulch)",
                    "guild": "243",
                    "level": "69"
                  },
                  {
                    "IdentifierId": "IdentifierId(48432)",
                    "log_timestamp": "2008-01-01 00:12:07",
                    "race": "Orc",
                    "charclass": "Warrior",
                    "zoneId": "ZoneidId(Blade's Edge Mountains)",
                    "guild": "79",
                    "level": "70"
                  },
                  {
                    "IdentifierId": "IdentifierId(582)",
                    "log_timestamp": "2008-01-01 00:12:07",
                    "race": "Orc",
                    "charclass": "Warrior",
                    "zoneId": "ZoneidId(Sethekk Halls)",
                    "guild": "19",
                    "level": "70"
                  },
                  {
                    "IdentifierId": "IdentifierId(22307)",
                    "log_timestamp": "2008-01-01 00:12:07",
                    "race": "Orc",
                    "charclass": "Warrior",
                    "zoneId": "ZoneidId(Orgrimmar)",
                    "guild": "174",
                    "level": "70"
                  },
                  {
                    "IdentifierId": "IdentifierId(1003)",
                    "log_timestamp": "2008-01-01 00:12:07",
                    "race": "Orc",
                    "charclass": "Warrior",
                    "zoneId": "ZoneidId(Orgrimmar)",
                    "guild": "204",
                    "level": "70"
                  },
                  {
                    "IdentifierId": "IdentifierId(49944)",
                    "log_timestamp": "2008-01-01 00:12:07",
                    "race": "Orc",
                    "charclass": "Warrior",
                    "zoneId": "ZoneidId(Orgrimmar)",
                    "guild": "167",
                    "level": "70"
                  },
                  {
                    "IdentifierId": "IdentifierId(22466)",
                    "log_timestamp": "2008-01-01 00:12:07",
                    "race": "Orc",
                    "charclass": "Warrior",
                    "zoneId": "ZoneidId(Undercity)",
                    "guild": "101",
                    "level": "70"
                  },
                  {
                    "IdentifierId": "IdentifierId(33256)",
                    "log_timestamp": "2008-01-01 00:12:07",
                    "race": "Orc",
                    "charclass": "Warrior",
                    "zoneId": "ZoneidId(Warsong Gulch)",
                    "guild": "53",
                    "level": "70"
                  },
                  {
                    "IdentifierId": "IdentifierId(2663)",
                    "log_timestamp": "2008-01-01 00:12:07",
                    "race": "Orc",
                    "charclass": "Warrior",
                    "zoneId": "ZoneidId(Shattrath City)",
                    "guild": "53",
                    "level": "70"
                  },
                  {
                    "IdentifierId": "IdentifierId(62)",
                    "log_timestamp": "2008-01-01 00:12:07",
                    "race": "Orc",
                    "charclass": "Warrior",
                    "zoneId": "ZoneidId(Terokkar Forest)",
                    "guild": "5",
                    "level": "70"
                  },
                  {
                    "IdentifierId": "IdentifierId(10223)",
                    "log_timestamp": "2008-01-01 00:12:07",
                    "race": "Orc",
                    "charclass": "Warrior",
                    "zoneId": "ZoneidId(Netherstorm)",
                    "guild": "5",
                    "level": "70"
                  },
                  {
                    "IdentifierId": "IdentifierId(22594)",
                    "log_timestamp": "2008-01-01 00:12:12",
                    "race": "Orc",
                    "charclass": "Hunter",
                    "zoneId": "ZoneidId(Hellfire Peninsula)",
                    "guild": "35",
                    "level": "70"
                  },
                  {
                    "IdentifierId": "IdentifierId(2796)",
                    "log_timestamp": "2008-01-01 00:12:12",
                    "race": "Orc",
                    "charclass": "Hunter",
                    "zoneId": "ZoneidId(Tanaris)",
                    "guild": "19",
                    "level": "70"
                  },
                  {
                    "IdentifierId": "IdentifierId(62095)",
                    "log_timestamp": "2008-01-01 00:12:12",
                    "race": "Orc",
                    "charclass": "Hunter",
                    "zoneId": "ZoneidId(Auchenai Crypts)",
                    "guild": "35",
                    "level": "70"
                  },
                  {
                    "IdentifierId": "IdentifierId(19050)",
                    "log_timestamp": "2008-01-01 00:12:12",
                    "race": "Orc",
                    "charclass": "Hunter",
                    "zoneId": "ZoneidId(Orgrimmar)",
                    "guild": "-1",
                    "level": "70"
                  },
                  {
                    "IdentifierId": "IdentifierId(22557)",
                    "log_timestamp": "2008-01-01 00:12:12",
                    "race": "Orc",
                    "charclass": "Hunter",
                    "zoneId": "ZoneidId(Orgrimmar)",
                    "guild": "103",
                    "level": "70"
                  },
                  {
                    "IdentifierId": "IdentifierId(22555)",
                    "log_timestamp": "2008-01-01 00:12:12",
                    "race": "Orc",
                    "charclass": "Hunter",
                    "zoneId": "ZoneidId(Orgrimmar)",
                    "guild": "104",
                    "level": "70"
                  },
                  {
                    "IdentifierId": "IdentifierId(753)",
                    "log_timestamp": "2008-01-01 00:12:12",
                    "race": "Orc",
                    "charclass": "Hunter",
                    "zoneId": "ZoneidId(Orgrimmar)",
                    "guild": "53",
                    "level": "70"
                  },
                  {
                    "IdentifierId": "IdentifierId(980)",
                    "log_timestamp": "2008-01-01 00:12:12",
                    "race": "Orc",
                    "charclass": "Hunter",
                    "zoneId": "ZoneidId(Orgrimmar)",
                    "guild": "79",
                    "level": "70"
                  },
                  {
                    "IdentifierId": "IdentifierId(22271)",
                    "log_timestamp": "2008-01-01 00:12:12",
                    "race": "Orc",
                    "charclass": "Hunter",
                    "zoneId": "ZoneidId(Undercity)",
                    "guild": "101",
                    "level": "70"
                  },
                  {
                    "IdentifierId": "IdentifierId(1379)",
                    "log_timestamp": "2008-01-01 00:12:12",
                    "race": "Orc",
                    "charclass": "Hunter",
                    "zoneId": "ZoneidId(Shadowmoon Valley)",
                    "guild": "53",
                    "level": "70"
                  },
                  {
                    "IdentifierId": "IdentifierId(25501)",
                    "log_timestamp": "2008-01-01 00:12:12",
                    "race": "Orc",
                    "charclass": "Hunter",
                    "zoneId": "ZoneidId(Shadowmoon Valley)",
                    "guild": "-1",
                    "level": "70"
                  },
                  {
                    "IdentifierId": "IdentifierId(54676)",
                    "log_timestamp": "2008-01-01 00:12:12",
                    "race": "Orc",
                    "charclass": "Hunter",
                    "zoneId": "ZoneidId(Shattrath City)",
                    "guild": "282",
                    "level": "70"
                  },
                  {
                    "IdentifierId": "IdentifierId(44477)",
                    "log_timestamp": "2008-01-01 00:12:12",
                    "race": "Orc",
                    "charclass": "Hunter",
                    "zoneId": "ZoneidId(Shattrath City)",
                    "guild": "167",
                    "level": "70"
                  },
                  {
                    "IdentifierId": "IdentifierId(16817)",
                    "log_timestamp": "2008-01-01 00:12:12",
                    "race": "Orc",
                    "charclass": "Hunter",
                    "zoneId": "ZoneidId(Eye of the Storm)",
                    "guild": "9",
                    "level": "70"
                  },
                  {
                    "IdentifierId": "IdentifierId(64)",
                    "log_timestamp": "2008-01-01 00:12:12",
                    "race": "Orc",
                    "charclass": "Hunter",
                    "zoneId": "ZoneidId(Eye of the Storm)",
                    "guild": "5",
                    "level": "70"
                  },
                  {
                    "IdentifierId": "IdentifierId(7127)",
                    "log_timestamp": "2008-01-01 00:12:12",
                    "race": "Orc",
                    "charclass": "Hunter",
                    "zoneId": "ZoneidId(The Steamvault)",
                    "guild": "5",
                    "level": "70"
                  },
                  {
                    "IdentifierId": "IdentifierId(62580)",
                    "log_timestamp": "2008-01-01 00:12:12",
                    "race": "Orc",
                    "charclass": "Hunter",
                    "zoneId": "ZoneidId(The Mechanar)",
                    "guild": "216",
                    "level": "70"
                  },
                  {
                    "IdentifierId": "IdentifierId(4002)",
                    "log_timestamp": "2008-01-01 00:12:12",
                    "race": "Orc",
                    "charclass": "Hunter",
                    "zoneId": "ZoneidId(The Mechanar)",
                    "guild": "5",
                    "level": "70"
                  },
                  {
                    "IdentifierId": "IdentifierId(44)",
                    "log_timestamp": "2008-01-01 00:12:17",
                    "race": "Orc",
                    "charclass": "Rogue",
                    "zoneId": "ZoneidId(Orgrimmar)",
                    "guild": "5",
                    "level": "70"
                  },
                  {
                    "IdentifierId": "IdentifierId(61421)",
                    "log_timestamp": "2008-01-01 00:12:17",
                    "race": "Orc",
                    "charclass": "Rogue",
                    "zoneId": "ZoneidId(Alterac Valley)",
                    "guild": "103",
                    "level": "70"
                  },
                  {
                    "IdentifierId": "IdentifierId(57137)",
                    "log_timestamp": "2008-01-01 00:12:17",
                    "race": "Orc",
                    "charclass": "Rogue",
                    "zoneId": "ZoneidId(Alterac Valley)",
                    "guild": "103",
                    "level": "70"
                  },
                  {
                    "IdentifierId": "IdentifierId(22424)",
                    "log_timestamp": "2008-01-01 00:12:23",
                    "race": "Orc",
                    "charclass": "Shaman",
                    "zoneId": "ZoneidId(Orgrimmar)",
                    "guild": "5",
                    "level": "70"
                  },
                  {
                    "IdentifierId": "IdentifierId(36)",
                    "log_timestamp": "2008-01-01 00:12:23",
                    "race": "Orc",
                    "charclass": "Shaman",
                    "zoneId": "ZoneidId(Shattrath City)",
                    "guild": "101",
                    "level": "70"
                  },
                  {
                    "IdentifierId": "IdentifierId(9085)",
                    "log_timestamp": "2008-01-01 00:12:23",
                    "race": "Orc",
                    "charclass": "Shaman",
                    "zoneId": "ZoneidId(Durotar)",
                    "guild": "101",
                    "level": "70"
                  },
                  {
                    "IdentifierId": "IdentifierId(23807)",
                    "log_timestamp": "2008-01-01 00:12:23",
                    "race": "Orc",
                    "charclass": "Shaman",
                    "zoneId": "ZoneidId(Durotar)",
                    "guild": "174",
                    "level": "70"
                  },
                  {
                    "IdentifierId": "IdentifierId(5088)",
                    "log_timestamp": "2008-01-01 00:12:28",
                    "race": "Orc",
                    "charclass": "Warlock",
                    "zoneId": "ZoneidId(Blade's Edge Mountains)",
                    "guild": "9",
                    "level": "70"
                  },
                  {
                    "IdentifierId": "IdentifierId(24815)",
                    "log_timestamp": "2008-01-01 00:12:28",
                    "race": "Orc",
                    "charclass": "Warlock",
                    "zoneId": "ZoneidId(Shattrath City)",
                    "guild": "104",
                    "level": "70"
                  },
                  {
                    "IdentifierId": "IdentifierId(49719)",
                    "log_timestamp": "2008-01-01 00:12:28",
                    "race": "Orc",
                    "charclass": "Warlock",
                    "zoneId": "ZoneidId(Netherstorm)",
                    "guild": "79",
                    "level": "70"
                  },
                  {
                    "IdentifierId": "IdentifierId(27427)",
                    "log_timestamp": "2008-01-01 00:12:33",
                    "race": "Tauren",
                    "charclass": "Shaman",
                    "zoneId": "ZoneidId(Undercity)",
                    "guild": "160",
                    "level": "23"
                  },
                  {
                    "IdentifierId": "IdentifierId(60859)",
                    "log_timestamp": "2008-01-01 00:12:33",
                    "race": "Tauren",
                    "charclass": "Shaman",
                    "zoneId": "ZoneidId(Warsong Gulch)",
                    "guild": "228",
                    "level": "44"
                  },
                  {
                    "IdentifierId": "IdentifierId(62023)",
                    "log_timestamp": "2008-01-01 00:12:33",
                    "race": "Tauren",
                    "charclass": "Shaman",
                    "zoneId": "ZoneidId(Warsong Gulch)",
                    "guild": "-1",
                    "level": "49"
                  },
                  {
                    "IdentifierId": "IdentifierId(65180)",
                    "log_timestamp": "2008-01-01 00:12:33",
                    "race": "Tauren",
                    "charclass": "Warrior",
                    "zoneId": "ZoneidId(Ashenvale)",
                    "guild": "35",
                    "level": "26"
                  },
                  {
                    "IdentifierId": "IdentifierId(65181)",
                    "log_timestamp": "2008-01-01 00:12:33",
                    "race": "Tauren",
                    "charclass": "Shaman",
                    "zoneId": "ZoneidId(Ashenvale)",
                    "guild": "35",
                    "level": "26"
                  },
                  {
                    "IdentifierId": "IdentifierId(64136)",
                    "log_timestamp": "2008-01-01 00:12:33",
                    "race": "Tauren",
                    "charclass": "Druid",
                    "zoneId": "ZoneidId(Stranglethorn Vale)",
                    "guild": "220",
                    "level": "34"
                  },
                  {
                    "IdentifierId": "IdentifierId(64655)",
                    "log_timestamp": "2008-01-01 00:12:33",
                    "race": "Tauren",
                    "charclass": "Druid",
                    "zoneId": "ZoneidId(Stranglethorn Vale)",
                    "guild": "282",
                    "level": "35"
                  },
                  {
                    "IdentifierId": "IdentifierId(65549)",
                    "log_timestamp": "2008-01-01 00:12:33",
                    "race": "Tauren",
                    "charclass": "Druid",
                    "zoneId": "ZoneidId(Mulgore)",
                    "guild": "-1",
                    "level": "5"
                  },
                  {
                    "IdentifierId": "IdentifierId(65531)",
                    "log_timestamp": "2008-01-01 00:12:33",
                    "race": "Tauren",
                    "charclass": "Druid",
                    "zoneId": "ZoneidId(The Barrens)",
                    "guild": "282",
                    "level": "13"
                  },
                  {
                    "IdentifierId": "IdentifierId(65444)",
                    "log_timestamp": "2008-01-01 00:12:33",
                    "race": "Tauren",
                    "charclass": "Druid",
                    "zoneId": "ZoneidId(The Barrens)",
                    "guild": "291",
                    "level": "17"
                  },
                  {
                    "IdentifierId": "IdentifierId(55787)",
                    "log_timestamp": "2008-01-01 00:12:33",
                    "race": "Tauren",
                    "charclass": "Druid",
                    "zoneId": "ZoneidId(The Barrens)",
                    "guild": "-1",
                    "level": "19"
                  },
                  {
                    "IdentifierId": "IdentifierId(64297)",
                    "log_timestamp": "2008-01-01 00:12:33",
                    "race": "Tauren",
                    "charclass": "Warrior",
                    "zoneId": "ZoneidId(The Barrens)",
                    "guild": "-1",
                    "level": "48"
                  },
                  {
                    "IdentifierId": "IdentifierId(63541)",
                    "log_timestamp": "2008-01-01 00:12:33",
                    "race": "Tauren",
                    "charclass": "Druid",
                    "zoneId": "ZoneidId(Thunder Bluff)",
                    "guild": "282",
                    "level": "28"
                  },
                  {
                    "IdentifierId": "IdentifierId(63599)",
                    "log_timestamp": "2008-01-01 00:12:38",
                    "race": "Tauren",
                    "charclass": "Shaman",
                    "zoneId": "ZoneidId(Hellfire Peninsula)",
                    "guild": "79",
                    "level": "60"
                  },
                  {
                    "IdentifierId": "IdentifierId(48670)",
                    "log_timestamp": "2008-01-01 00:12:38",
                    "race": "Tauren",
                    "charclass": "Druid",
                    "zoneId": "ZoneidId(Orgrimmar)",
                    "guild": "282",
                    "level": "54"
                  },
                  {
                    "IdentifierId": "IdentifierId(9583)",
                    "log_timestamp": "2008-01-01 00:12:38",
                    "race": "Tauren",
                    "charclass": "Warrior",
                    "zoneId": "ZoneidId(Orgrimmar)",
                    "guild": "205",
                    "level": "56"
                  },
                  {
                    "IdentifierId": "IdentifierId(60782)",
                    "log_timestamp": "2008-01-01 00:12:38",
                    "race": "Tauren",
                    "charclass": "Druid",
                    "zoneId": "ZoneidId(Silithus)",
                    "guild": "165",
                    "level": "59"
                  },
                  {
                    "IdentifierId": "IdentifierId(63604)",
                    "log_timestamp": "2008-01-01 00:12:38",
                    "race": "Tauren",
                    "charclass": "Druid",
                    "zoneId": "ZoneidId(Durotar)",
                    "guild": "293",
                    "level": "57"
                  },
                  {
                    "IdentifierId": "IdentifierId(55922)",
                    "log_timestamp": "2008-01-01 00:12:38",
                    "race": "Tauren",
                    "charclass": "Shaman",
                    "zoneId": "ZoneidId(Terokkar Forest)",
                    "guild": "167",
                    "level": "64"
                  },
                  {
                    "IdentifierId": "IdentifierId(3565)",
                    "log_timestamp": "2008-01-01 00:12:38",
                    "race": "Tauren",
                    "charclass": "Warrior",
                    "zoneId": "ZoneidId(Badlands)",
                    "guild": "273",
                    "level": "56"
                  },
                  {
                    "IdentifierId": "IdentifierId(31524)",
                    "log_timestamp": "2008-01-01 00:12:38",
                    "race": "Tauren",
                    "charclass": "Warrior",
                    "zoneId": "ZoneidId(Feralas)",
                    "guild": "-1",
                    "level": "53"
                  },
                  {
                    "IdentifierId": "IdentifierId(37039)",
                    "log_timestamp": "2008-01-01 00:12:38",
                    "race": "Tauren",
                    "charclass": "Druid",
                    "zoneId": "ZoneidId(Zangarmarsh)",
                    "guild": "53",
                    "level": "64"
                  },
                  {
                    "IdentifierId": "IdentifierId(112)",
                    "log_timestamp": "2008-01-01 00:12:38",
                    "race": "Tauren",
                    "charclass": "Druid",
                    "zoneId": "ZoneidId(Zangarmarsh)",
                    "guild": "243",
                    "level": "64"
                  },
                  {
                    "IdentifierId": "IdentifierId(41715)",
                    "log_timestamp": "2008-01-01 00:12:38",
                    "race": "Tauren",
                    "charclass": "Warrior",
                    "zoneId": "ZoneidId(Zangarmarsh)",
                    "guild": "-1",
                    "level": "64"
                  },
                  {
                    "IdentifierId": "IdentifierId(61510)",
                    "log_timestamp": "2008-01-01 00:12:38",
                    "race": "Tauren",
                    "charclass": "Hunter",
                    "zoneId": "ZoneidId(Thunder Bluff)",
                    "guild": "251",
                    "level": "63"
                  },
                  {
                    "IdentifierId": "IdentifierId(61736)",
                    "log_timestamp": "2008-01-01 00:12:43",
                    "race": "Tauren",
                    "charclass": "Warrior",
                    "zoneId": "ZoneidId(Blade's Edge Mountains)",
                    "guild": "243",
                    "level": "67"
                  },
                  {
                    "IdentifierId": "IdentifierId(12295)",
                    "log_timestamp": "2008-01-01 00:12:43",
                    "race": "Tauren",
                    "charclass": "Druid",
                    "zoneId": "ZoneidId(Blade's Edge Mountains)",
                    "guild": "104",
                    "level": "69"
                  },
                  {
                    "IdentifierId": "IdentifierId(24767)",
                    "log_timestamp": "2008-01-01 00:12:43",
                    "race": "Tauren",
                    "charclass": "Shaman",
                    "zoneId": "ZoneidId(Hellfire Peninsula)",
                    "guild": "35",
                    "level": "67"
                  },
                  {
                    "IdentifierId": "IdentifierId(1617)",
                    "log_timestamp": "2008-01-01 00:12:48",
                    "race": "Tauren",
                    "charclass": "Warrior",
                    "zoneId": "ZoneidId(Blade's Edge Mountains)",
                    "guild": "243",
                    "level": "70"
                  },
                  {
                    "IdentifierId": "IdentifierId(23577)",
                    "log_timestamp": "2008-01-01 00:12:48",
                    "race": "Tauren",
                    "charclass": "Warrior",
                    "zoneId": "ZoneidId(Hellfire Peninsula)",
                    "guild": "103",
                    "level": "70"
                  },
                  {
                    "IdentifierId": "IdentifierId(1316)",
                    "log_timestamp": "2008-01-01 00:12:48",
                    "race": "Tauren",
                    "charclass": "Warrior",
                    "zoneId": "ZoneidId(Auchenai Crypts)",
                    "guild": "103",
                    "level": "70"
                  },
                  {
                    "IdentifierId": "IdentifierId(37029)",
                    "log_timestamp": "2008-01-01 00:12:48",
                    "race": "Tauren",
                    "charclass": "Warrior",
                    "zoneId": "ZoneidId(Orgrimmar)",
                    "guild": "-1",
                    "level": "70"
                  },
                  {
                    "IdentifierId": "IdentifierId(24209)",
                    "log_timestamp": "2008-01-01 00:12:48",
                    "race": "Tauren",
                    "charclass": "Warrior",
                    "zoneId": "ZoneidId(Orgrimmar)",
                    "guild": "204",
                    "level": "70"
                  },
                  {
                    "IdentifierId": "IdentifierId(140)",
                    "log_timestamp": "2008-01-01 00:12:48",
                    "race": "Tauren",
                    "charclass": "Warrior",
                    "zoneId": "ZoneidId(Shadowmoon Valley)",
                    "guild": "5",
                    "level": "70"
                  },
                  {
                    "IdentifierId": "IdentifierId(26111)",
                    "log_timestamp": "2008-01-01 00:12:48",
                    "race": "Tauren",
                    "charclass": "Warrior",
                    "zoneId": "ZoneidId(Warsong Gulch)",
                    "guild": "104",
                    "level": "70"
                  },
                  {
                    "IdentifierId": "IdentifierId(22071)",
                    "log_timestamp": "2008-01-01 00:12:48",
                    "race": "Tauren",
                    "charclass": "Warrior",
                    "zoneId": "ZoneidId(Warsong Gulch)",
                    "guild": "103",
                    "level": "70"
                  },
                  {
                    "IdentifierId": "IdentifierId(21861)",
                    "log_timestamp": "2008-01-01 00:12:48",
                    "race": "Tauren",
                    "charclass": "Warrior",
                    "zoneId": "ZoneidId(Eye of the Storm)",
                    "guild": "101",
                    "level": "70"
                  },
                  {
                    "IdentifierId": "IdentifierId(1274)",
                    "log_timestamp": "2008-01-01 00:12:48",
                    "race": "Tauren",
                    "charclass": "Warrior",
                    "zoneId": "ZoneidId(Netherstorm)",
                    "guild": "104",
                    "level": "70"
                  },
                  {
                    "IdentifierId": "IdentifierId(26843)",
                    "log_timestamp": "2008-01-01 00:12:48",
                    "race": "Tauren",
                    "charclass": "Warrior",
                    "zoneId": "ZoneidId(Deadwind Pass)",
                    "guild": "189",
                    "level": "70"
                  },
                  {
                    "IdentifierId": "IdentifierId(22541)",
                    "log_timestamp": "2008-01-01 00:12:48",
                    "race": "Tauren",
                    "charclass": "Warrior",
                    "zoneId": "ZoneidId(Arathi Basin)",
                    "guild": "-1",
                    "level": "70"
                  },
                  {
                    "IdentifierId": "IdentifierId(4399)",
                    "log_timestamp": "2008-01-01 00:12:48",
                    "race": "Tauren",
                    "charclass": "Warrior",
                    "zoneId": "ZoneidId(The Mechanar)",
                    "guild": "266",
                    "level": "70"
                  },
                  {
                    "IdentifierId": "IdentifierId(16968)",
                    "log_timestamp": "2008-01-01 00:12:48",
                    "race": "Tauren",
                    "charclass": "Warrior",
                    "zoneId": "ZoneidId(The Mechanar)",
                    "guild": "220",
                    "level": "70"
                  },
                  {
                    "IdentifierId": "IdentifierId(11609)",
                    "log_timestamp": "2008-01-01 00:12:53",
                    "race": "Tauren",
                    "charclass": "Hunter",
                    "zoneId": "ZoneidId(Orgrimmar)",
                    "guild": "216",
                    "level": "70"
                  },
                  {
                    "IdentifierId": "IdentifierId(22793)",
                    "log_timestamp": "2008-01-01 00:12:53",
                    "race": "Tauren",
                    "charclass": "Hunter",
                    "zoneId": "ZoneidId(Orgrimmar)",
                    "guild": "-1",
                    "level": "70"
                  },
                  {
                    "IdentifierId": "IdentifierId(21880)",
                    "log_timestamp": "2008-01-01 00:12:53",
                    "race": "Tauren",
                    "charclass": "Hunter",
                    "zoneId": "ZoneidId(Alterac Valley)",
                    "guild": "204",
                    "level": "70"
                  },
                  {
                    "IdentifierId": "IdentifierId(133)",
                    "log_timestamp": "2008-01-01 00:12:53",
                    "race": "Tauren",
                    "charclass": "Hunter",
                    "zoneId": "ZoneidId(Shattrath City)",
                    "guild": "-1",
                    "level": "70"
                  },
                  {
                    "IdentifierId": "IdentifierId(24388)",
                    "log_timestamp": "2008-01-01 00:12:53",
                    "race": "Tauren",
                    "charclass": "Hunter",
                    "zoneId": "ZoneidId(Eye of the Storm)",
                    "guild": "-1",
                    "level": "70"
                  },
                  {
                    "IdentifierId": "IdentifierId(23487)",
                    "log_timestamp": "2008-01-01 00:12:53",
                    "race": "Tauren",
                    "charclass": "Hunter",
                    "zoneId": "ZoneidId(Terokkar Forest)",
                    "guild": "101",
                    "level": "70"
                  },
                  {
                    "IdentifierId": "IdentifierId(2158)",
                    "log_timestamp": "2008-01-01 00:12:53",
                    "race": "Tauren",
                    "charclass": "Hunter",
                    "zoneId": "ZoneidId(Arathi Basin)",
                    "guild": "5",
                    "level": "70"
                  },
                  {
                    "IdentifierId": "IdentifierId(3249)",
                    "log_timestamp": "2008-01-01 00:12:53",
                    "race": "Tauren",
                    "charclass": "Hunter",
                    "zoneId": "ZoneidId(Arathi Basin)",
                    "guild": "19",
                    "level": "70"
                  },
                  {
                    "IdentifierId": "IdentifierId(3275)",
                    "log_timestamp": "2008-01-01 00:12:58",
                    "race": "Tauren",
                    "charclass": "Shaman",
                    "zoneId": "ZoneidId(Sethekk Halls)",
                    "guild": "19",
                    "level": "70"
                  },
                  {
                    "IdentifierId": "IdentifierId(1195)",
                    "log_timestamp": "2008-01-01 00:12:58",
                    "race": "Tauren",
                    "charclass": "Shaman",
                    "zoneId": "ZoneidId(Sethekk Halls)",
                    "guild": "19",
                    "level": "70"
                  },
                  {
                    "IdentifierId": "IdentifierId(26235)",
                    "log_timestamp": "2008-01-01 00:12:58",
                    "race": "Tauren",
                    "charclass": "Shaman",
                    "zoneId": "ZoneidId(Orgrimmar)",
                    "guild": "53",
                    "level": "70"
                  },
                  {
                    "IdentifierId": "IdentifierId(32438)",
                    "log_timestamp": "2008-01-01 00:12:58",
                    "race": "Tauren",
                    "charclass": "Shaman",
                    "zoneId": "ZoneidId(Shadowmoon Valley)",
                    "guild": "35",
                    "level": "70"
                  },
                  {
                    "IdentifierId": "IdentifierId(21828)",
                    "log_timestamp": "2008-01-01 00:12:58",
                    "race": "Tauren",
                    "charclass": "Shaman",
                    "zoneId": "ZoneidId(Warsong Gulch)",
                    "guild": "204",
                    "level": "70"
                  },
                  {
                    "IdentifierId": "IdentifierId(60179)",
                    "log_timestamp": "2008-01-01 00:12:58",
                    "race": "Tauren",
                    "charclass": "Shaman",
                    "zoneId": "ZoneidId(Shattrath City)",
                    "guild": "53",
                    "level": "70"
                  },
                  {
                    "IdentifierId": "IdentifierId(30078)",
                    "log_timestamp": "2008-01-01 00:12:58",
                    "race": "Tauren",
                    "charclass": "Shaman",
                    "zoneId": "ZoneidId(The Steamvault)",
                    "guild": "5",
                    "level": "70"
                  },
                  {
                    "IdentifierId": "IdentifierId(39365)",
                    "log_timestamp": "2008-01-01 00:12:58",
                    "race": "Tauren",
                    "charclass": "Shaman",
                    "zoneId": "ZoneidId(Netherstorm)",
                    "guild": "35",
                    "level": "70"
                  },
                  {
                    "IdentifierId": "IdentifierId(46794)",
                    "log_timestamp": "2008-01-01 00:12:58",
                    "race": "Tauren",
                    "charclass": "Shaman",
                    "zoneId": "ZoneidId(Arathi Basin)",
                    "guild": "204",
                    "level": "70"
                  },
                  {
                    "IdentifierId": "IdentifierId(4989)",
                    "log_timestamp": "2008-01-01 00:12:58",
                    "race": "Tauren",
                    "charclass": "Shaman",
                    "zoneId": "ZoneidId(The Mechanar)",
                    "guild": "5",
                    "level": "70"
                  },
                  {
                    "IdentifierId": "IdentifierId(16884)",
                    "log_timestamp": "2008-01-01 00:12:58",
                    "race": "Tauren",
                    "charclass": "Shaman",
                    "zoneId": "ZoneidId(The Mechanar)",
                    "guild": "103",
                    "level": "70"
                  },
                  {
                    "IdentifierId": "IdentifierId(22379)",
                    "log_timestamp": "2008-01-01 00:12:58",
                    "race": "Tauren",
                    "charclass": "Shaman",
                    "zoneId": "ZoneidId(The Mechanar)",
                    "guild": "103",
                    "level": "70"
                  },
                  {
                    "IdentifierId": "IdentifierId(19085)",
                    "log_timestamp": "2008-01-01 00:13:03",
                    "race": "Tauren",
                    "charclass": "Druid",
                    "zoneId": "ZoneidId(The Arcatraz)",
                    "guild": "103",
                    "level": "70"
                  },
                  {
                    "IdentifierId": "IdentifierId(64923)",
                    "log_timestamp": "2008-01-01 00:13:03",
                    "race": "Tauren",
                    "charclass": "Druid",
                    "zoneId": "ZoneidId(Tanaris)",
                    "guild": "103",
                    "level": "70"
                  },
                  {
                    "IdentifierId": "IdentifierId(91)",
                    "log_timestamp": "2008-01-01 00:13:03",
                    "race": "Tauren",
                    "charclass": "Druid",
                    "zoneId": "ZoneidId(Tanaris)",
                    "guild": "103",
                    "level": "70"
                  },
                  {
                    "IdentifierId": "IdentifierId(178)",
                    "log_timestamp": "2008-01-01 00:13:03",
                    "race": "Tauren",
                    "charclass": "Druid",
                    "zoneId": "ZoneidId(Undercity)",
                    "guild": "9",
                    "level": "70"
                  },
                  {
                    "IdentifierId": "IdentifierId(20521)",
                    "log_timestamp": "2008-01-01 00:13:03",
                    "race": "Tauren",
                    "charclass": "Druid",
                    "zoneId": "ZoneidId(Undercity)",
                    "guild": "9",
                    "level": "70"
                  },
                  {
                    "IdentifierId": "IdentifierId(22350)",
                    "log_timestamp": "2008-01-01 00:13:03",
                    "race": "Tauren",
                    "charclass": "Druid",
                    "zoneId": "ZoneidId(Warsong Gulch)",
                    "guild": "104",
                    "level": "70"
                  },
                  {
                    "IdentifierId": "IdentifierId(21885)",
                    "log_timestamp": "2008-01-01 00:13:03",
                    "race": "Tauren",
                    "charclass": "Druid",
                    "zoneId": "ZoneidId(Shattrath City)",
                    "guild": "101",
                    "level": "70"
                  },
                  {
                    "IdentifierId": "IdentifierId(42267)",
                    "log_timestamp": "2008-01-01 00:13:03",
                    "race": "Tauren",
                    "charclass": "Druid",
                    "zoneId": "ZoneidId(Shattrath City)",
                    "guild": "79",
                    "level": "70"
                  },
                  {
                    "IdentifierId": "IdentifierId(22653)",
                    "log_timestamp": "2008-01-01 00:13:03",
                    "race": "Tauren",
                    "charclass": "Druid",
                    "zoneId": "ZoneidId(The Botanica)",
                    "guild": "204",
                    "level": "70"
                  },
                  {
                    "IdentifierId": "IdentifierId(59029)",
                    "log_timestamp": "2008-01-01 00:13:03",
                    "race": "Tauren",
                    "charclass": "Druid",
                    "zoneId": "ZoneidId(The Steamvault)",
                    "guild": "103",
                    "level": "70"
                  },
                  {
                    "IdentifierId": "IdentifierId(27554)",
                    "log_timestamp": "2008-01-01 00:13:03",
                    "race": "Tauren",
                    "charclass": "Druid",
                    "zoneId": "ZoneidId(Arathi Basin)",
                    "guild": "235",
                    "level": "70"
                  },
                  {
                    "IdentifierId": "IdentifierId(12213)",
                    "log_timestamp": "2008-01-01 00:13:08",
                    "race": "Troll",
                    "charclass": "Shaman",
                    "zoneId": "ZoneidId(Orgrimmar)",
                    "guild": "277",
                    "level": "1"
                  },
                  {
                    "IdentifierId": "IdentifierId(65436)",
                    "log_timestamp": "2008-01-01 00:13:08",
                    "race": "Troll",
                    "charclass": "Hunter",
                    "zoneId": "ZoneidId(Orgrimmar)",
                    "guild": "259",
                    "level": "15"
                  },
                  {
                    "IdentifierId": "IdentifierId(29896)",
                    "log_timestamp": "2008-01-01 00:13:08",
                    "race": "Troll",
                    "charclass": "Hunter",
                    "zoneId": "ZoneidId(Orgrimmar)",
                    "guild": "167",
                    "level": "17"
                  },
                  {
                    "IdentifierId": "IdentifierId(182)",
                    "log_timestamp": "2008-01-01 00:13:08",
                    "race": "Troll",
                    "charclass": "Hunter",
                    "zoneId": "ZoneidId(Durotar)",
                    "guild": "-1",
                    "level": "1"
                  },
                  {
                    "IdentifierId": "IdentifierId(64875)",
                    "log_timestamp": "2008-01-01 00:13:08",
                    "race": "Troll",
                    "charclass": "Hunter",
                    "zoneId": "ZoneidId(Ashenvale)",
                    "guild": "-1",
                    "level": "28"
                  },
                  {
                    "IdentifierId": "IdentifierId(64650)",
                    "log_timestamp": "2008-01-01 00:13:08",
                    "race": "Troll",
                    "charclass": "Hunter",
                    "zoneId": "ZoneidId(Stonetalon Mountains)",
                    "guild": "251",
                    "level": "28"
                  },
                  {
                    "IdentifierId": "IdentifierId(65077)",
                    "log_timestamp": "2008-01-01 00:13:08",
                    "race": "Troll",
                    "charclass": "Hunter",
                    "zoneId": "ZoneidId(The Barrens)",
                    "guild": "-1",
                    "level": "24"
                  },
                  {
                    "IdentifierId": "IdentifierId(10263)",
                    "log_timestamp": "2008-01-01 00:13:13",
                    "race": "Troll",
                    "charclass": "Rogue",
                    "zoneId": "ZoneidId(Winterspring)",
                    "guild": "79",
                    "level": "57"
                  },
                  {
                    "IdentifierId": "IdentifierId(22488)",
                    "log_timestamp": "2008-01-01 00:13:13",
                    "race": "Troll",
                    "charclass": "Hunter",
                    "zoneId": "ZoneidId(Zangarmarsh)",
                    "guild": "156",
                    "level": "63"
                  },
                  {
                    "IdentifierId": "IdentifierId(64580)",
                    "log_timestamp": "2008-01-01 00:13:13",
                    "race": "Troll",
                    "charclass": "Hunter",
                    "zoneId": "ZoneidId(Thunder Bluff)",
                    "guild": "282",
                    "level": "54"
                  },
                  {
                    "IdentifierId": "IdentifierId(1484)",
                    "log_timestamp": "2008-01-01 00:13:18",
                    "race": "Troll",
                    "charclass": "Rogue",
                    "zoneId": "ZoneidId(Blade's Edge Mountains)",
                    "guild": "161",
                    "level": "69"
                  },
                  {
                    "IdentifierId": "IdentifierId(47531)",
                    "log_timestamp": "2008-01-01 00:13:18",
                    "race": "Troll",
                    "charclass": "Rogue",
                    "zoneId": "ZoneidId(Undercity)",
                    "guild": "103",
                    "level": "68"
                  },
                  {
                    "IdentifierId": "IdentifierId(417)",
                    "log_timestamp": "2008-01-01 00:13:24",
                    "race": "Troll",
                    "charclass": "Warrior",
                    "zoneId": "ZoneidId(Warsong Gulch)",
                    "guild": "101",
                    "level": "70"
                  },
                  {
                    "IdentifierId": "IdentifierId(22629)",
                    "log_timestamp": "2008-01-01 00:13:24",
                    "race": "Troll",
                    "charclass": "Warrior",
                    "zoneId": "ZoneidId(Shattrath City)",
                    "guild": "101",
                    "level": "70"
                  },
                  {
                    "IdentifierId": "IdentifierId(230)",
                    "log_timestamp": "2008-01-01 00:13:24",
                    "race": "Troll",
                    "charclass": "Warrior",
                    "zoneId": "ZoneidId(Netherstorm)",
                    "guild": "103",
                    "level": "70"
                  },
                  {
                    "IdentifierId": "IdentifierId(32661)",
                    "log_timestamp": "2008-01-01 00:13:29",
                    "race": "Troll",
                    "charclass": "Hunter",
                    "zoneId": "ZoneidId(Blade's Edge Mountains)",
                    "guild": "62",
                    "level": "70"
                  },
                  {
                    "IdentifierId": "IdentifierId(25687)",
                    "log_timestamp": "2008-01-01 00:13:29",
                    "race": "Troll",
                    "charclass": "Hunter",
                    "zoneId": "ZoneidId(Orgrimmar)",
                    "guild": "243",
                    "level": "70"
                  },
                  {
                    "IdentifierId": "IdentifierId(50401)",
                    "log_timestamp": "2008-01-01 00:13:29",
                    "race": "Troll",
                    "charclass": "Hunter",
                    "zoneId": "ZoneidId(Orgrimmar)",
                    "guild": "103",
                    "level": "70"
                  },
                  {
                    "IdentifierId": "IdentifierId(46502)",
                    "log_timestamp": "2008-01-01 00:13:29",
                    "race": "Troll",
                    "charclass": "Hunter",
                    "zoneId": "ZoneidId(Undercity)",
                    "guild": "161",
                    "level": "70"
                  },
                  {
                    "IdentifierId": "IdentifierId(46755)",
                    "log_timestamp": "2008-01-01 00:13:29",
                    "race": "Troll",
                    "charclass": "Hunter",
                    "zoneId": "ZoneidId(Warsong Gulch)",
                    "guild": "167",
                    "level": "70"
                  },
                  {
                    "IdentifierId": "IdentifierId(29710)",
                    "log_timestamp": "2008-01-01 00:13:29",
                    "race": "Troll",
                    "charclass": "Hunter",
                    "zoneId": "ZoneidId(Warsong Gulch)",
                    "guild": "79",
                    "level": "70"
                  },
                  {
                    "IdentifierId": "IdentifierId(26278)",
                    "log_timestamp": "2008-01-01 00:13:29",
                    "race": "Troll",
                    "charclass": "Hunter",
                    "zoneId": "ZoneidId(Tirisfal Glades)",
                    "guild": "-1",
                    "level": "70"
                  },
                  {
                    "IdentifierId": "IdentifierId(22167)",
                    "log_timestamp": "2008-01-01 00:13:29",
                    "race": "Troll",
                    "charclass": "Hunter",
                    "zoneId": "ZoneidId(Shattrath City)",
                    "guild": "103",
                    "level": "70"
                  },
                  {
                    "IdentifierId": "IdentifierId(22155)",
                    "log_timestamp": "2008-01-01 00:13:29",
                    "race": "Troll",
                    "charclass": "Hunter",
                    "zoneId": "ZoneidId(Shattrath City)",
                    "guild": "104",
                    "level": "70"
                  },
                  {
                    "IdentifierId": "IdentifierId(22474)",
                    "log_timestamp": "2008-01-01 00:13:29",
                    "race": "Troll",
                    "charclass": "Hunter",
                    "zoneId": "ZoneidId(Terokkar Forest)",
                    "guild": "53",
                    "level": "70"
                  },
                  {
                    "IdentifierId": "IdentifierId(22368)",
                    "log_timestamp": "2008-01-01 00:13:29",
                    "race": "Troll",
                    "charclass": "Hunter",
                    "zoneId": "ZoneidId(Terokkar Forest)",
                    "guild": "103",
                    "level": "70"
                  },
                  {
                    "IdentifierId": "IdentifierId(24854)",
                    "log_timestamp": "2008-01-01 00:13:29",
                    "race": "Troll",
                    "charclass": "Hunter",
                    "zoneId": "ZoneidId(Felwood)",
                    "guild": "-1",
                    "level": "70"
                  },
                  {
                    "IdentifierId": "IdentifierId(22246)",
                    "log_timestamp": "2008-01-01 00:13:29",
                    "race": "Troll",
                    "charclass": "Hunter",
                    "zoneId": "ZoneidId(Arathi Basin)",
                    "guild": "243",
                    "level": "70"
                  },
                  {
                    "IdentifierId": "IdentifierId(28651)",
                    "log_timestamp": "2008-01-01 00:13:34",
                    "race": "Troll",
                    "charclass": "Rogue",
                    "zoneId": "ZoneidId(Warsong Gulch)",
                    "guild": "53",
                    "level": "70"
                  },
                  {
                    "IdentifierId": "IdentifierId(195)",
                    "log_timestamp": "2008-01-01 00:13:34",
                    "race": "Troll",
                    "charclass": "Rogue",
                    "zoneId": "ZoneidId(Shattrath City)",
                    "guild": "53",
                    "level": "70"
                  },
                  {
                    "IdentifierId": "IdentifierId(30974)",
                    "log_timestamp": "2008-01-01 00:13:34",
                    "race": "Troll",
                    "charclass": "Rogue",
                    "zoneId": "ZoneidId(Zangarmarsh)",
                    "guild": "103",
                    "level": "70"
                  },
                  {
                    "IdentifierId": "IdentifierId(15224)",
                    "log_timestamp": "2008-01-01 00:13:34",
                    "race": "Troll",
                    "charclass": "Rogue",
                    "zoneId": "ZoneidId(Zangarmarsh)",
                    "guild": "103",
                    "level": "70"
                  },
                  {
                    "IdentifierId": "IdentifierId(21810)",
                    "log_timestamp": "2008-01-01 00:13:39",
                    "race": "Troll",
                    "charclass": "Shaman",
                    "zoneId": "ZoneidId(Orgrimmar)",
                    "guild": "-1",
                    "level": "70"
                  },
                  {
                    "IdentifierId": "IdentifierId(22666)",
                    "log_timestamp": "2008-01-01 00:13:39",
                    "race": "Troll",
                    "charclass": "Shaman",
                    "zoneId": "ZoneidId(Shadowmoon Valley)",
                    "guild": "5",
                    "level": "70"
                  },
                  {
                    "IdentifierId": "IdentifierId(18610)",
                    "log_timestamp": "2008-01-01 00:13:39",
                    "race": "Troll",
                    "charclass": "Shaman",
                    "zoneId": "ZoneidId(Shattrath City)",
                    "guild": "5",
                    "level": "70"
                  },
                  {
                    "IdentifierId": "IdentifierId(1386)",
                    "log_timestamp": "2008-01-01 00:13:39",
                    "race": "Troll",
                    "charclass": "Shaman",
                    "zoneId": "ZoneidId(Nagrand)",
                    "guild": "5",
                    "level": "70"
                  },
                  {
                    "IdentifierId": "IdentifierId(663)",
                    "log_timestamp": "2008-01-01 00:13:39",
                    "race": "Troll",
                    "charclass": "Shaman",
                    "zoneId": "ZoneidId(The Mechanar)",
                    "guild": "5",
                    "level": "70"
                  },
                  {
                    "IdentifierId": "IdentifierId(21957)",
                    "log_timestamp": "2008-01-01 00:13:44",
                    "race": "Troll",
                    "charclass": "Priest",
                    "zoneId": "ZoneidId(Blade's Edge Mountains)",
                    "guild": "103",
                    "level": "70"
                  },
                  {
                    "IdentifierId": "IdentifierId(246)",
                    "log_timestamp": "2008-01-01 00:13:44",
                    "race": "Troll",
                    "charclass": "Priest",
                    "zoneId": "ZoneidId(Warsong Gulch)",
                    "guild": "19",
                    "level": "70"
                  },
                  {
                    "IdentifierId": "IdentifierId(27659)",
                    "log_timestamp": "2008-01-01 00:13:44",
                    "race": "Troll",
                    "charclass": "Priest",
                    "zoneId": "ZoneidId(Eye of the Storm)",
                    "guild": "174",
                    "level": "70"
                  },
                  {
                    "IdentifierId": "IdentifierId(18473)",
                    "log_timestamp": "2008-01-01 00:13:44",
                    "race": "Troll",
                    "charclass": "Priest",
                    "zoneId": "ZoneidId(Terokkar Forest)",
                    "guild": "79",
                    "level": "70"
                  },
                  {
                    "IdentifierId": "IdentifierId(22021)",
                    "log_timestamp": "2008-01-01 00:13:44",
                    "race": "Troll",
                    "charclass": "Priest",
                    "zoneId": "ZoneidId(Terokkar Forest)",
                    "guild": "103",
                    "level": "70"
                  },
                  {
                    "IdentifierId": "IdentifierId(22934)",
                    "log_timestamp": "2008-01-01 00:13:49",
                    "race": "Troll",
                    "charclass": "Mage",
                    "zoneId": "ZoneidId(Blade's Edge Mountains)",
                    "guild": "282",
                    "level": "70"
                  },
                  {
                    "IdentifierId": "IdentifierId(62348)",
                    "log_timestamp": "2008-01-01 00:13:49",
                    "race": "Troll",
                    "charclass": "Mage",
                    "zoneId": "ZoneidId(Hellfire Peninsula)",
                    "guild": "103",
                    "level": "70"
                  },
                  {
                    "IdentifierId": "IdentifierId(7087)",
                    "log_timestamp": "2008-01-01 00:13:49",
                    "race": "Troll",
                    "charclass": "Mage",
                    "zoneId": "ZoneidId(Orgrimmar)",
                    "guild": "204",
                    "level": "70"
                  },
                  {
                    "IdentifierId": "IdentifierId(25335)",
                    "log_timestamp": "2008-01-01 00:13:49",
                    "race": "Troll",
                    "charclass": "Mage",
                    "zoneId": "ZoneidId(Alterac Valley)",
                    "guild": "243",
                    "level": "70"
                  },
                  {
                    "IdentifierId": "IdentifierId(64784)",
                    "log_timestamp": "2008-01-01 00:13:49",
                    "race": "Troll",
                    "charclass": "Mage",
                    "zoneId": "ZoneidId(Shattrath City)",
                    "guild": "104",
                    "level": "70"
                  },
                  {
                    "IdentifierId": "IdentifierId(25748)",
                    "log_timestamp": "2008-01-01 00:13:49",
                    "race": "Troll",
                    "charclass": "Mage",
                    "zoneId": "ZoneidId(The Botanica)",
                    "guild": "259",
                    "level": "70"
                  },
                  {
                    "IdentifierId": "IdentifierId(19666)",
                    "log_timestamp": "2008-01-01 00:13:49",
                    "race": "Troll",
                    "charclass": "Mage",
                    "zoneId": "ZoneidId(The Botanica)",
                    "guild": "35",
                    "level": "70"
                  },
                  {
                    "IdentifierId": "IdentifierId(27081)",
                    "log_timestamp": "2008-01-01 00:13:49",
                    "race": "Troll",
                    "charclass": "Mage",
                    "zoneId": "ZoneidId(Terokkar Forest)",
                    "guild": "243",
                    "level": "70"
                  },
                  {
                    "IdentifierId": "IdentifierId(46188)",
                    "log_timestamp": "2008-01-01 00:13:49",
                    "race": "Troll",
                    "charclass": "Mage",
                    "zoneId": "ZoneidId(The Underbog)",
                    "guild": "35",
                    "level": "70"
                  },
                  {
                    "IdentifierId": "IdentifierId(12663)",
                    "log_timestamp": "2008-01-01 00:13:49",
                    "race": "Troll",
                    "charclass": "Mage",
                    "zoneId": "ZoneidId(Zangarmarsh)",
                    "guild": "103",
                    "level": "70"
                  },
                  {
                    "IdentifierId": "IdentifierId(65002)",
                    "log_timestamp": "2008-01-01 00:13:54",
                    "race": "Undead",
                    "charclass": "Warlock",
                    "zoneId": "ZoneidId(Orgrimmar)",
                    "guild": "282",
                    "level": "15"
                  },
                  {
                    "IdentifierId": "IdentifierId(64823)",
                    "log_timestamp": "2008-01-01 00:13:54",
                    "race": "Undead",
                    "charclass": "Rogue",
                    "zoneId": "ZoneidId(Hillsbrad Foothills)",
                    "guild": "-1",
                    "level": "32"
                  },
                  {
                    "IdentifierId": "IdentifierId(62410)",
                    "log_timestamp": "2008-01-01 00:13:54",
                    "race": "Undead",
                    "charclass": "Priest",
                    "zoneId": "ZoneidId(Undercity)",
                    "guild": "-1",
                    "level": "15"
                  },
                  {
                    "IdentifierId": "IdentifierId(64031)",
                    "log_timestamp": "2008-01-01 00:13:54",
                    "race": "Undead",
                    "charclass": "Warrior",
                    "zoneId": "ZoneidId(Swamp of Sorrows)",
                    "guild": "-1",
                    "level": "48"
                  },
                  {
                    "IdentifierId": "IdentifierId(64609)",
                    "log_timestamp": "2008-01-01 00:13:54",
                    "race": "Undead",
                    "charclass": "Warrior",
                    "zoneId": "ZoneidId(Stranglethorn Vale)",
                    "guild": "108",
                    "level": "43"
                  },
                  {
                    "IdentifierId": "IdentifierId(22311)",
                    "log_timestamp": "2008-01-01 00:13:54",
                    "race": "Undead",
                    "charclass": "Mage",
                    "zoneId": "ZoneidId(Badlands)",
                    "guild": "282",
                    "level": "46"
                  },
                  {
                    "IdentifierId": "IdentifierId(26983)",
                    "log_timestamp": "2008-01-01 00:13:54",
                    "race": "Undead",
                    "charclass": "Warrior",
                    "zoneId": "ZoneidId(Western Plaguelands)",
                    "guild": "253",
                    "level": "50"
                  },
                  {
                    "IdentifierId": "IdentifierId(64904)",
                    "log_timestamp": "2008-01-01 00:13:54",
                    "race": "Undead",
                    "charclass": "Warlock",
                    "zoneId": "ZoneidId(The Barrens)",
                    "guild": "282",
                    "level": "23"
                  },
                  {
                    "IdentifierId": "IdentifierId(60628)",
                    "log_timestamp": "2008-01-01 00:13:54",
                    "race": "Undead",
                    "charclass": "Warlock",
                    "zoneId": "ZoneidId(The Hinterlands)",
                    "guild": "167",
                    "level": "48"
                  },
                  {
                    "IdentifierId": "IdentifierId(64604)",
                    "log_timestamp": "2008-01-01 00:13:54",
                    "race": "Undead",
                    "charclass": "Warlock",
                    "zoneId": "ZoneidId(Silverpine Forest)",
                    "guild": "273",
                    "level": "18"
                  },
                  {
                    "IdentifierId": "IdentifierId(22576)",
                    "log_timestamp": "2008-01-01 00:13:59",
                    "race": "Undead",
                    "charclass": "Warrior",
                    "zoneId": "ZoneidId(Hellfire Peninsula)",
                    "guild": "35",
                    "level": "61"
                  },
                  {
                    "IdentifierId": "IdentifierId(13980)",
                    "log_timestamp": "2008-01-01 00:13:59",
                    "race": "Undead",
                    "charclass": "Warrior",
                    "zoneId": "ZoneidId(Hellfire Peninsula)",
                    "guild": "35",
                    "level": "61"
                  },
                  {
                    "IdentifierId": "IdentifierId(61409)",
                    "log_timestamp": "2008-01-01 00:13:59",
                    "race": "Undead",
                    "charclass": "Warlock",
                    "zoneId": "ZoneidId(Hellfire Peninsula)",
                    "guild": "35",
                    "level": "61"
                  },
                  {
                    "IdentifierId": "IdentifierId(62987)",
                    "log_timestamp": "2008-01-01 00:13:59",
                    "race": "Undead",
                    "charclass": "Warrior",
                    "zoneId": "ZoneidId(Hellfire Peninsula)",
                    "guild": "282",
                    "level": "63"
                  },
                  {
                    "IdentifierId": "IdentifierId(60870)",
                    "log_timestamp": "2008-01-01 00:13:59",
                    "race": "Undead",
                    "charclass": "Rogue",
                    "zoneId": "ZoneidId(Un'Goro Crater)",
                    "guild": "9",
                    "level": "52"
                  },
                  {
                    "IdentifierId": "IdentifierId(34666)",
                    "log_timestamp": "2008-01-01 00:13:59",
                    "race": "Undead",
                    "charclass": "Warlock",
                    "zoneId": "ZoneidId(Undercity)",
                    "guild": "243",
                    "level": "62"
                  },
                  {
                    "IdentifierId": "IdentifierId(58800)",
                    "log_timestamp": "2008-01-01 00:13:59",
                    "race": "Undead",
                    "charclass": "Warrior",
                    "zoneId": "ZoneidId(Swamp of Sorrows)",
                    "guild": "167",
                    "level": "58"
                  },
                  {
                    "IdentifierId": "IdentifierId(32818)",
                    "log_timestamp": "2008-01-01 00:13:59",
                    "race": "Undead",
                    "charclass": "Mage",
                    "zoneId": "ZoneidId(Western Plaguelands)",
                    "guild": "167",
                    "level": "60"
                  },
                  {
                    "IdentifierId": "IdentifierId(60525)",
                    "log_timestamp": "2008-01-01 00:13:59",
                    "race": "Undead",
                    "charclass": "Rogue",
                    "zoneId": "ZoneidId(The Barrens)",
                    "guild": "53",
                    "level": "53"
                  },
                  {
                    "IdentifierId": "IdentifierId(33170)",
                    "log_timestamp": "2008-01-01 00:13:59",
                    "race": "Undead",
                    "charclass": "Priest",
                    "zoneId": "ZoneidId(Felwood)",
                    "guild": "282",
                    "level": "52"
                  },
                  {
                    "IdentifierId": "IdentifierId(30072)",
                    "log_timestamp": "2008-01-01 00:13:59",
                    "race": "Undead",
                    "charclass": "Mage",
                    "zoneId": "ZoneidId(Zangarmarsh)",
                    "guild": "167",
                    "level": "62"
                  },
                  {
                    "IdentifierId": "IdentifierId(21046)",
                    "log_timestamp": "2008-01-01 00:14:04",
                    "race": "Undead",
                    "charclass": "Warlock",
                    "zoneId": "ZoneidId(Terokkar Forest)",
                    "guild": "-1",
                    "level": "65"
                  },
                  {
                    "IdentifierId": "IdentifierId(45422)",
                    "log_timestamp": "2008-01-01 00:14:04",
                    "race": "Undead",
                    "charclass": "Rogue",
                    "zoneId": "ZoneidId(Nagrand)",
                    "guild": "216",
                    "level": "66"
                  },
                  {
                    "IdentifierId": "IdentifierId(63804)",
                    "log_timestamp": "2008-01-01 00:14:04",
                    "race": "Undead",
                    "charclass": "Mage",
                    "zoneId": "ZoneidId(Blackfathom Deeps)",
                    "guild": "273",
                    "level": "65"
                  },
                  {
                    "IdentifierId": "IdentifierId(2035)",
                    "log_timestamp": "2008-01-01 00:14:09",
                    "race": "Undead",
                    "charclass": "Priest",
                    "zoneId": "ZoneidId(Blade's Edge Mountains)",
                    "guild": "9",
                    "level": "67"
                  },
                  {
                    "IdentifierId": "IdentifierId(62591)",
                    "log_timestamp": "2008-01-01 00:14:09",
                    "race": "Undead",
                    "charclass": "Mage",
                    "zoneId": "ZoneidId(Shadowmoon Valley)",
                    "guild": "174",
                    "level": "68"
                  },
                  {
                    "IdentifierId": "IdentifierId(61883)",
                    "log_timestamp": "2008-01-01 00:14:09",
                    "race": "Undead",
                    "charclass": "Rogue",
                    "zoneId": "ZoneidId(Warsong Gulch)",
                    "guild": "291",
                    "level": "69"
                  },
                  {
                    "IdentifierId": "IdentifierId(11087)",
                    "log_timestamp": "2008-01-01 00:14:09",
                    "race": "Undead",
                    "charclass": "Warlock",
                    "zoneId": "ZoneidId(Terokkar Forest)",
                    "guild": "-1",
                    "level": "68"
                  },
                  {
                    "IdentifierId": "IdentifierId(21752)",
                    "log_timestamp": "2008-01-01 00:14:09",
                    "race": "Undead",
                    "charclass": "Mage",
                    "zoneId": "ZoneidId(Nagrand)",
                    "guild": "205",
                    "level": "67"
                  },
                  {
                    "IdentifierId": "IdentifierId(21976)",
                    "log_timestamp": "2008-01-01 00:14:09",
                    "race": "Undead",
                    "charclass": "Warlock",
                    "zoneId": "ZoneidId(Zangarmarsh)",
                    "guild": "103",
                    "level": "68"
                  },
                  {
                    "IdentifierId": "IdentifierId(22453)",
                    "log_timestamp": "2008-01-01 00:14:15",
                    "race": "Undead",
                    "charclass": "Mage",
                    "zoneId": "ZoneidId(The Arcatraz)",
                    "guild": "103",
                    "level": "70"
                  },
                  {
                    "IdentifierId": "IdentifierId(460)",
                    "log_timestamp": "2008-01-01 00:14:15",
                    "race": "Undead",
                    "charclass": "Mage",
                    "zoneId": "ZoneidId(Blade's Edge Mountains)",
                    "guild": "-1",
                    "level": "70"
                  },
                  {
                    "IdentifierId": "IdentifierId(354)",
                    "log_timestamp": "2008-01-01 00:14:15",
                    "race": "Undead",
                    "charclass": "Mage",
                    "zoneId": "ZoneidId(Orgrimmar)",
                    "guild": "5",
                    "level": "70"
                  },
                  {
                    "IdentifierId": "IdentifierId(24707)",
                    "log_timestamp": "2008-01-01 00:14:15",
                    "race": "Undead",
                    "charclass": "Mage",
                    "zoneId": "ZoneidId(Orgrimmar)",
                    "guild": "174",
                    "level": "70"
                  },
                  {
                    "IdentifierId": "IdentifierId(55614)",
                    "log_timestamp": "2008-01-01 00:14:15",
                    "race": "Undead",
                    "charclass": "Mage",
                    "zoneId": "ZoneidId(Undercity)",
                    "guild": "101",
                    "level": "70"
                  },
                  {
                    "IdentifierId": "IdentifierId(22039)",
                    "log_timestamp": "2008-01-01 00:14:15",
                    "race": "Undead",
                    "charclass": "Mage",
                    "zoneId": "ZoneidId(Shadowmoon Valley)",
                    "guild": "103",
                    "level": "70"
                  },
                  {
                    "IdentifierId": "IdentifierId(18411)",
                    "log_timestamp": "2008-01-01 00:14:15",
                    "race": "Undead",
                    "charclass": "Mage",
                    "zoneId": "ZoneidId(Shadowmoon Valley)",
                    "guild": "53",
                    "level": "70"
                  },
                  {
                    "IdentifierId": "IdentifierId(18863)",
                    "log_timestamp": "2008-01-01 00:14:15",
                    "race": "Undead",
                    "charclass": "Mage",
                    "zoneId": "ZoneidId(Shadowmoon Valley)",
                    "guild": "53",
                    "level": "70"
                  },
                  {
                    "IdentifierId": "IdentifierId(22171)",
                    "log_timestamp": "2008-01-01 00:14:15",
                    "race": "Undead",
                    "charclass": "Mage",
                    "zoneId": "ZoneidId(Warsong Gulch)",
                    "guild": "243",
                    "level": "70"
                  },
                  {
                    "IdentifierId": "IdentifierId(22737)",
                    "log_timestamp": "2008-01-01 00:14:15",
                    "race": "Undead",
                    "charclass": "Mage",
                    "zoneId": "ZoneidId(Tirisfal Glades)",
                    "guild": "103",
                    "level": "70"
                  },
                  {
                    "IdentifierId": "IdentifierId(10266)",
                    "log_timestamp": "2008-01-01 00:14:15",
                    "race": "Undead",
                    "charclass": "Mage",
                    "zoneId": "ZoneidId(Shattrath City)",
                    "guild": "19",
                    "level": "70"
                  },
                  {
                    "IdentifierId": "IdentifierId(345)",
                    "log_timestamp": "2008-01-01 00:14:15",
                    "race": "Undead",
                    "charclass": "Mage",
                    "zoneId": "ZoneidId(Shattrath City)",
                    "guild": "9",
                    "level": "70"
                  },
                  {
                    "IdentifierId": "IdentifierId(17738)",
                    "log_timestamp": "2008-01-01 00:14:15",
                    "race": "Undead",
                    "charclass": "Mage",
                    "zoneId": "ZoneidId(Shattrath City)",
                    "guild": "79",
                    "level": "70"
                  },
                  {
                    "IdentifierId": "IdentifierId(54869)",
                    "log_timestamp": "2008-01-01 00:14:15",
                    "race": "Undead",
                    "charclass": "Mage",
                    "zoneId": "ZoneidId(The Underbog)",
                    "guild": "35",
                    "level": "70"
                  },
                  {
                    "IdentifierId": "IdentifierId(19449)",
                    "log_timestamp": "2008-01-01 00:14:15",
                    "race": "Undead",
                    "charclass": "Mage",
                    "zoneId": "ZoneidId(The Shattered Halls)",
                    "guild": "167",
                    "level": "70"
                  },
                  {
                    "IdentifierId": "IdentifierId(22249)",
                    "log_timestamp": "2008-01-01 00:14:15",
                    "race": "Undead",
                    "charclass": "Mage",
                    "zoneId": "ZoneidId(Ruins of Lordaeron)",
                    "guild": "204",
                    "level": "70"
                  },
                  {
                    "IdentifierId": "IdentifierId(22321)",
                    "log_timestamp": "2008-01-01 00:14:15",
                    "race": "Undead",
                    "charclass": "Mage",
                    "zoneId": "ZoneidId(The Steamvault)",
                    "guild": "282",
                    "level": "70"
                  },
                  {
                    "IdentifierId": "IdentifierId(10543)",
                    "log_timestamp": "2008-01-01 00:14:15",
                    "race": "Undead",
                    "charclass": "Mage",
                    "zoneId": "ZoneidId(Netherstorm)",
                    "guild": "9",
                    "level": "70"
                  },
                  {
                    "IdentifierId": "IdentifierId(4141)",
                    "log_timestamp": "2008-01-01 00:14:15",
                    "race": "Undead",
                    "charclass": "Mage",
                    "zoneId": "ZoneidId(Netherstorm)",
                    "guild": "35",
                    "level": "70"
                  },
                  {
                    "IdentifierId": "IdentifierId(30452)",
                    "log_timestamp": "2008-01-01 00:14:15",
                    "race": "Undead",
                    "charclass": "Mage",
                    "zoneId": "ZoneidId(Silverpine Forest)",
                    "guild": "167",
                    "level": "70"
                  },
                  {
                    "IdentifierId": "IdentifierId(22454)",
                    "log_timestamp": "2008-01-01 00:14:15",
                    "race": "Undead",
                    "charclass": "Mage",
                    "zoneId": "ZoneidId(The Mechanar)",
                    "guild": "204",
                    "level": "70"
                  },
                  {
                    "IdentifierId": "IdentifierId(9695)",
                    "log_timestamp": "2008-01-01 00:14:20",
                    "race": "Undead",
                    "charclass": "Priest",
                    "zoneId": "ZoneidId(Blade's Edge Mountains)",
                    "guild": "204",
                    "level": "70"
                  },
                  {
                    "IdentifierId": "IdentifierId(57316)",
                    "log_timestamp": "2008-01-01 00:14:20",
                    "race": "Undead",
                    "charclass": "Priest",
                    "zoneId": "ZoneidId(Hellfire Peninsula)",
                    "guild": "35",
                    "level": "70"
                  },
                  {
                    "IdentifierId": "IdentifierId(941)",
                    "log_timestamp": "2008-01-01 00:14:20",
                    "race": "Undead",
                    "charclass": "Priest",
                    "zoneId": "ZoneidId(Sethekk Halls)",
                    "guild": "19",
                    "level": "70"
                  },
                  {
                    "IdentifierId": "IdentifierId(24390)",
                    "log_timestamp": "2008-01-01 00:14:20",
                    "race": "Undead",
                    "charclass": "Priest",
                    "zoneId": "ZoneidId(Auchenai Crypts)",
                    "guild": "174",
                    "level": "70"
                  },
                  {
                    "IdentifierId": "IdentifierId(29058)",
                    "log_timestamp": "2008-01-01 00:14:20",
                    "race": "Undead",
                    "charclass": "Priest",
                    "zoneId": "ZoneidId(Orgrimmar)",
                    "guild": "53",
                    "level": "70"
                  },
                  {
                    "IdentifierId": "IdentifierId(12930)",
                    "log_timestamp": "2008-01-01 00:14:20",
                    "race": "Undead",
                    "charclass": "Priest",
                    "zoneId": "ZoneidId(Orgrimmar)",
                    "guild": "-1",
                    "level": "70"
                  },
                  {
                    "IdentifierId": "IdentifierId(22176)",
                    "log_timestamp": "2008-01-01 00:14:20",
                    "race": "Undead",
                    "charclass": "Priest",
                    "zoneId": "ZoneidId(Orgrimmar)",
                    "guild": "101",
                    "level": "70"
                  },
                  {
                    "IdentifierId": "IdentifierId(25213)",
                    "log_timestamp": "2008-01-01 00:14:20",
                    "race": "Undead",
                    "charclass": "Priest",
                    "zoneId": "ZoneidId(Shadowmoon Valley)",
                    "guild": "62",
                    "level": "70"
                  },
                  {
                    "IdentifierId": "IdentifierId(13816)",
                    "log_timestamp": "2008-01-01 00:14:20",
                    "race": "Undead",
                    "charclass": "Priest",
                    "zoneId": "ZoneidId(Warsong Gulch)",
                    "guild": "99",
                    "level": "70"
                  },
                  {
                    "IdentifierId": "IdentifierId(13619)",
                    "log_timestamp": "2008-01-01 00:14:20",
                    "race": "Undead",
                    "charclass": "Priest",
                    "zoneId": "ZoneidId(Tirisfal Glades)",
                    "guild": "281",
                    "level": "70"
                  },
                  {
                    "IdentifierId": "IdentifierId(19566)",
                    "log_timestamp": "2008-01-01 00:14:20",
                    "race": "Undead",
                    "charclass": "Priest",
                    "zoneId": "ZoneidId(Shattrath City)",
                    "guild": "5",
                    "level": "70"
                  },
                  {
                    "IdentifierId": "IdentifierId(12386)",
                    "log_timestamp": "2008-01-01 00:14:20",
                    "race": "Undead",
                    "charclass": "Priest",
                    "zoneId": "ZoneidId(Shattrath City)",
                    "guild": "167",
                    "level": "70"
                  },
                  {
                    "IdentifierId": "IdentifierId(303)",
                    "log_timestamp": "2008-01-01 00:14:20",
                    "race": "Undead",
                    "charclass": "Priest",
                    "zoneId": "ZoneidId(Shattrath City)",
                    "guild": "103",
                    "level": "70"
                  },
                  {
                    "IdentifierId": "IdentifierId(27711)",
                    "log_timestamp": "2008-01-01 00:14:20",
                    "race": "Undead",
                    "charclass": "Priest",
                    "zoneId": "ZoneidId(Shattrath City)",
                    "guild": "103",
                    "level": "70"
                  },
                  {
                    "IdentifierId": "IdentifierId(23145)",
                    "log_timestamp": "2008-01-01 00:14:20",
                    "race": "Undead",
                    "charclass": "Priest",
                    "zoneId": "ZoneidId(Durotar)",
                    "guild": "174",
                    "level": "70"
                  },
                  {
                    "IdentifierId": "IdentifierId(25140)",
                    "log_timestamp": "2008-01-01 00:14:20",
                    "race": "Undead",
                    "charclass": "Priest",
                    "zoneId": "ZoneidId(The Shattered Halls)",
                    "guild": "103",
                    "level": "70"
                  },
                  {
                    "IdentifierId": "IdentifierId(48589)",
                    "log_timestamp": "2008-01-01 00:14:20",
                    "race": "Undead",
                    "charclass": "Priest",
                    "zoneId": "ZoneidId(Elwynn Forest)",
                    "guild": "103",
                    "level": "70"
                  },
                  {
                    "IdentifierId": "IdentifierId(45457)",
                    "log_timestamp": "2008-01-01 00:14:20",
                    "race": "Undead",
                    "charclass": "Priest",
                    "zoneId": "ZoneidId(Arathi Basin)",
                    "guild": "103",
                    "level": "70"
                  },
                  {
                    "IdentifierId": "IdentifierId(26610)",
                    "log_timestamp": "2008-01-01 00:14:20",
                    "race": "Undead",
                    "charclass": "Priest",
                    "zoneId": "ZoneidId(Arathi Basin)",
                    "guild": "204",
                    "level": "70"
                  },
                  {
                    "IdentifierId": "IdentifierId(2166)",
                    "log_timestamp": "2008-01-01 00:14:20",
                    "race": "Undead",
                    "charclass": "Priest",
                    "zoneId": "ZoneidId(Arathi Basin)",
                    "guild": "62",
                    "level": "70"
                  },
                  {
                    "IdentifierId": "IdentifierId(58987)",
                    "log_timestamp": "2008-01-01 00:14:25",
                    "race": "Undead",
                    "charclass": "Rogue",
                    "zoneId": "ZoneidId(Blade's Edge Mountains)",
                    "guild": "161",
                    "level": "70"
                  },
                  {
                    "IdentifierId": "IdentifierId(11705)",
                    "log_timestamp": "2008-01-01 00:14:25",
                    "race": "Undead",
                    "charclass": "Rogue",
                    "zoneId": "ZoneidId(Sethekk Halls)",
                    "guild": "19",
                    "level": "70"
                  },
                  {
                    "IdentifierId": "IdentifierId(52427)",
                    "log_timestamp": "2008-01-01 00:14:25",
                    "race": "Undead",
                    "charclass": "Rogue",
                    "zoneId": "ZoneidId(Orgrimmar)",
                    "guild": "104",
                    "level": "70"
                  },
                  {
                    "IdentifierId": "IdentifierId(1774)",
                    "log_timestamp": "2008-01-01 00:14:25",
                    "race": "Undead",
                    "charclass": "Rogue",
                    "zoneId": "ZoneidId(Alterac Valley)",
                    "guild": "5",
                    "level": "70"
                  },
                  {
                    "IdentifierId": "IdentifierId(22609)",
                    "log_timestamp": "2008-01-01 00:14:25",
                    "race": "Undead",
                    "charclass": "Rogue",
                    "zoneId": "ZoneidId(Undercity)",
                    "guild": "216",
                    "level": "70"
                  },
                  {
                    "IdentifierId": "IdentifierId(21950)",
                    "log_timestamp": "2008-01-01 00:14:25",
                    "race": "Undead",
                    "charclass": "Rogue",
                    "zoneId": "ZoneidId(Undercity)",
                    "guild": "174",
                    "level": "70"
                  },
                  {
                    "IdentifierId": "IdentifierId(10043)",
                    "log_timestamp": "2008-01-01 00:14:25",
                    "race": "Undead",
                    "charclass": "Rogue",
                    "zoneId": "ZoneidId(Undercity)",
                    "guild": "79",
                    "level": "70"
                  },
                  {
                    "IdentifierId": "IdentifierId(22519)",
                    "log_timestamp": "2008-01-01 00:14:25",
                    "race": "Undead",
                    "charclass": "Rogue",
                    "zoneId": "ZoneidId(Twisting Nether)",
                    "guild": "101",
                    "level": "70"
                  },
                  {
                    "IdentifierId": "IdentifierId(323)",
                    "log_timestamp": "2008-01-01 00:14:25",
                    "race": "Undead",
                    "charclass": "Rogue",
                    "zoneId": "ZoneidId(Shattrath City)",
                    "guild": "9",
                    "level": "70"
                  },
                  {
                    "IdentifierId": "IdentifierId(1094)",
                    "log_timestamp": "2008-01-01 00:14:25",
                    "race": "Undead",
                    "charclass": "Rogue",
                    "zoneId": "ZoneidId(Shattrath City)",
                    "guild": "103",
                    "level": "70"
                  },
                  {
                    "IdentifierId": "IdentifierId(63302)",
                    "log_timestamp": "2008-01-01 00:14:25",
                    "race": "Undead",
                    "charclass": "Rogue",
                    "zoneId": "ZoneidId(Mana-Tombs)",
                    "guild": "161",
                    "level": "70"
                  },
                  {
                    "IdentifierId": "IdentifierId(23291)",
                    "log_timestamp": "2008-01-01 00:14:25",
                    "race": "Undead",
                    "charclass": "Rogue",
                    "zoneId": "ZoneidId(Ruins of Lordaeron)",
                    "guild": "103",
                    "level": "70"
                  },
                  {
                    "IdentifierId": "IdentifierId(61755)",
                    "log_timestamp": "2008-01-01 00:14:25",
                    "race": "Undead",
                    "charclass": "Rogue",
                    "zoneId": "ZoneidId(The Barrens)",
                    "guild": "282",
                    "level": "70"
                  },
                  {
                    "IdentifierId": "IdentifierId(22456)",
                    "log_timestamp": "2008-01-01 00:14:30",
                    "race": "Undead",
                    "charclass": "Warlock",
                    "zoneId": "ZoneidId(The Arcatraz)",
                    "guild": "103",
                    "level": "70"
                  },
                  {
                    "IdentifierId": "IdentifierId(21905)",
                    "log_timestamp": "2008-01-01 00:14:30",
                    "race": "Undead",
                    "charclass": "Warlock",
                    "zoneId": "ZoneidId(Hellfire Peninsula)",
                    "guild": "167",
                    "level": "70"
                  },
                  {
                    "IdentifierId": "IdentifierId(47077)",
                    "log_timestamp": "2008-01-01 00:14:30",
                    "race": "Undead",
                    "charclass": "Warlock",
                    "zoneId": "ZoneidId(Orgrimmar)",
                    "guild": "204",
                    "level": "70"
                  },
                  {
                    "IdentifierId": "IdentifierId(9084)",
                    "log_timestamp": "2008-01-01 00:14:30",
                    "race": "Undead",
                    "charclass": "Warlock",
                    "zoneId": "ZoneidId(Alterac Valley)",
                    "guild": "205",
                    "level": "70"
                  },
                  {
                    "IdentifierId": "IdentifierId(722)",
                    "log_timestamp": "2008-01-01 00:14:30",
                    "race": "Undead",
                    "charclass": "Warlock",
                    "zoneId": "ZoneidId(Undercity)",
                    "guild": "62",
                    "level": "70"
                  },
                  {
                    "IdentifierId": "IdentifierId(782)",
                    "log_timestamp": "2008-01-01 00:14:30",
                    "race": "Undead",
                    "charclass": "Warlock",
                    "zoneId": "ZoneidId(Undercity)",
                    "guild": "9",
                    "level": "70"
                  },
                  {
                    "IdentifierId": "IdentifierId(1055)",
                    "log_timestamp": "2008-01-01 00:14:30",
                    "race": "Undead",
                    "charclass": "Warlock",
                    "zoneId": "ZoneidId(Tirisfal Glades)",
                    "guild": "5",
                    "level": "70"
                  },
                  {
                    "IdentifierId": "IdentifierId(18827)",
                    "log_timestamp": "2008-01-01 00:14:30",
                    "race": "Undead",
                    "charclass": "Warlock",
                    "zoneId": "ZoneidId(Shattrath City)",
                    "guild": "189",
                    "level": "70"
                  },
                  {
                    "IdentifierId": "IdentifierId(22410)",
                    "log_timestamp": "2008-01-01 00:14:30",
                    "race": "Undead",
                    "charclass": "Warlock",
                    "zoneId": "ZoneidId(Shattrath City)",
                    "guild": "101",
                    "level": "70"
                  },
                  {
                    "IdentifierId": "IdentifierId(18065)",
                    "log_timestamp": "2008-01-01 00:14:30",
                    "race": "Undead",
                    "charclass": "Warlock",
                    "zoneId": "ZoneidId(Shattrath City)",
                    "guild": "103",
                    "level": "70"
                  },
                  {
                    "IdentifierId": "IdentifierId(22703)",
                    "log_timestamp": "2008-01-01 00:14:30",
                    "race": "Undead",
                    "charclass": "Warlock",
                    "zoneId": "ZoneidId(Terokkar Forest)",
                    "guild": "103",
                    "level": "70"
                  },
                  {
                    "IdentifierId": "IdentifierId(16597)",
                    "log_timestamp": "2008-01-01 00:14:30",
                    "race": "Undead",
                    "charclass": "Warlock",
                    "zoneId": "ZoneidId(The Underbog)",
                    "guild": "103",
                    "level": "70"
                  },
                  {
                    "IdentifierId": "IdentifierId(11706)",
                    "log_timestamp": "2008-01-01 00:14:30",
                    "race": "Undead",
                    "charclass": "Warlock",
                    "zoneId": "ZoneidId(Netherstorm)",
                    "guild": "101",
                    "level": "70"
                  },
                  {
                    "IdentifierId": "IdentifierId(51246)",
                    "log_timestamp": "2008-01-01 00:14:30",
                    "race": "Undead",
                    "charclass": "Warlock",
                    "zoneId": "ZoneidId(Zangarmarsh)",
                    "guild": "5",
                    "level": "70"
                  },
                  {
                    "IdentifierId": "IdentifierId(17528)",
                    "log_timestamp": "2008-01-01 00:14:30",
                    "race": "Undead",
                    "charclass": "Warlock",
                    "zoneId": "ZoneidId(Arathi Basin)",
                    "guild": "-1",
                    "level": "70"
                  },
                  {
                    "IdentifierId": "IdentifierId(27288)",
                    "log_timestamp": "2008-01-01 00:14:30",
                    "race": "Undead",
                    "charclass": "Warlock",
                    "zoneId": "ZoneidId(Arathi Basin)",
                    "guild": "228",
                    "level": "70"
                  },
                  {
                    "IdentifierId": "IdentifierId(394)",
                    "log_timestamp": "2008-01-01 00:14:30",
                    "race": "Undead",
                    "charclass": "Warlock",
                    "zoneId": "ZoneidId(Arathi Basin)",
                    "guild": "35",
                    "level": "70"
                  },
                  {
                    "IdentifierId": "IdentifierId(23060)",
                    "log_timestamp": "2008-01-01 00:14:30",
                    "race": "Undead",
                    "charclass": "Warlock",
                    "zoneId": "ZoneidId(The Mechanar)",
                    "guild": "216",
                    "level": "70"
                  },
                  {
                    "IdentifierId": "IdentifierId(33016)",
                    "log_timestamp": "2008-01-01 00:14:30",
                    "race": "Undead",
                    "charclass": "Warlock",
                    "zoneId": "ZoneidId(The Mechanar)",
                    "guild": "204",
                    "level": "70"
                  },
                  {
                    "IdentifierId": "IdentifierId(9194)",
                    "log_timestamp": "2008-01-01 00:14:30",
                    "race": "Undead",
                    "charclass": "Warlock",
                    "zoneId": "ZoneidId(The Mechanar)",
                    "guild": "103",
                    "level": "70"
                  },
                  {
                    "IdentifierId": "IdentifierId(12166)",
                    "log_timestamp": "2008-01-01 00:14:35",
                    "race": "Undead",
                    "charclass": "Warrior",
                    "zoneId": "ZoneidId(Blade's Edge Mountains)",
                    "guild": "-1",
                    "level": "70"
                  },
                  {
                    "IdentifierId": "IdentifierId(23248)",
                    "log_timestamp": "2008-01-01 00:14:35",
                    "race": "Undead",
                    "charclass": "Warrior",
                    "zoneId": "ZoneidId(Warsong Gulch)",
                    "guild": "243",
                    "level": "70"
                  },
                  {
                    "IdentifierId": "IdentifierId(41829)",
                    "log_timestamp": "2008-01-01 00:14:35",
                    "race": "Undead",
                    "charclass": "Warrior",
                    "zoneId": "ZoneidId(The Botanica)",
                    "guild": "104",
                    "level": "70"
                  },
                  {
                    "IdentifierId": "IdentifierId(24158)",
                    "log_timestamp": "2008-01-01 00:14:35",
                    "race": "Undead",
                    "charclass": "Warrior",
                    "zoneId": "ZoneidId(The Shattered Halls)",
                    "guild": "103",
                    "level": "70"
                  },
                  {
                    "IdentifierId": "IdentifierId(24723)",
                    "log_timestamp": "2008-01-01 00:14:35",
                    "race": "Undead",
                    "charclass": "Warrior",
                    "zoneId": "ZoneidId(Badlands)",
                    "guild": "103",
                    "level": "70"
                  },
                  {
                    "IdentifierId": "IdentifierId(16797)",
                    "log_timestamp": "2008-01-01 00:14:35",
                    "race": "Undead",
                    "charclass": "Warrior",
                    "zoneId": "ZoneidId(Mulgore)",
                    "guild": "204",
                    "level": "70"
                  },
                  {
                    "IdentifierId": "IdentifierId(973)",
                    "log_timestamp": "2008-01-01 00:14:35",
                    "race": "Undead",
                    "charclass": "Warrior",
                    "zoneId": "ZoneidId(Arathi Basin)",
                    "guild": "167",
                    "level": "70"
                  },
                  {
                    "IdentifierId": "IdentifierId(65550)",
                    "log_timestamp": "2008-01-01 00:14:40",
                    "race": "Blood Elf",
                    "charclass": "Rogue",
                    "zoneId": "ZoneidId(Eversong Woods)",
                    "guild": "-1",
                    "level": "4"
                  },
                  {
                    "IdentifierId": "IdentifierId(65409)",
                    "log_timestamp": "2008-01-01 00:14:45",
                    "race": "Blood Elf",
                    "charclass": "Paladin",
                    "zoneId": "ZoneidId(Eversong Woods)",
                    "guild": "-1",
                    "level": "11"
                  },
                  {
                    "IdentifierId": "IdentifierId(65403)",
                    "log_timestamp": "2008-01-01 00:14:45",
                    "race": "Blood Elf",
                    "charclass": "Paladin",
                    "zoneId": "ZoneidId(Eversong Woods)",
                    "guild": "-1",
                    "level": "11"
                  },
                  {
                    "IdentifierId": "IdentifierId(65013)",
                    "log_timestamp": "2008-01-01 00:14:45",
                    "race": "Blood Elf",
                    "charclass": "Warlock",
                    "zoneId": "ZoneidId(The Barrens)",
                    "guild": "-1",
                    "level": "17"
                  },
                  {
                    "IdentifierId": "IdentifierId(65477)",
                    "log_timestamp": "2008-01-01 00:14:45",
                    "race": "Blood Elf",
                    "charclass": "Paladin",
                    "zoneId": "ZoneidId(Silvermoon City)",
                    "guild": "-1",
                    "level": "16"
                  },
                  {
                    "IdentifierId": "IdentifierId(41252)",
                    "log_timestamp": "2008-01-01 00:14:45",
                    "race": "Blood Elf",
                    "charclass": "Paladin",
                    "zoneId": "ZoneidId(Ghostlands)",
                    "guild": "103",
                    "level": "12"
                  },
                  {
                    "IdentifierId": "IdentifierId(41436)",
                    "log_timestamp": "2008-01-01 00:14:45",
                    "race": "Blood Elf",
                    "charclass": "Paladin",
                    "zoneId": "ZoneidId(Ghostlands)",
                    "guild": "282",
                    "level": "17"
                  },
                  {
                    "IdentifierId": "IdentifierId(48234)",
                    "log_timestamp": "2008-01-01 00:14:45",
                    "race": "Blood Elf",
                    "charclass": "Warlock",
                    "zoneId": "ZoneidId(Ghostlands)",
                    "guild": "-1",
                    "level": "20"
                  },
                  {
                    "IdentifierId": "IdentifierId(64632)",
                    "log_timestamp": "2008-01-01 00:14:50",
                    "race": "Blood Elf",
                    "charclass": "Paladin",
                    "zoneId": "ZoneidId(Orgrimmar)",
                    "guild": "282",
                    "level": "28"
                  },
                  {
                    "IdentifierId": "IdentifierId(45704)",
                    "log_timestamp": "2008-01-01 00:14:50",
                    "race": "Blood Elf",
                    "charclass": "Hunter",
                    "zoneId": "ZoneidId(Warsong Gulch)",
                    "guild": "-1",
                    "level": "28"
                  },
                  {
                    "IdentifierId": "IdentifierId(63273)",
                    "log_timestamp": "2008-01-01 00:14:50",
                    "race": "Blood Elf",
                    "charclass": "Priest",
                    "zoneId": "ZoneidId(Ashenvale)",
                    "guild": "282",
                    "level": "30"
                  },
                  {
                    "IdentifierId": "IdentifierId(65420)",
                    "log_timestamp": "2008-01-01 00:14:50",
                    "race": "Blood Elf",
                    "charclass": "Paladin",
                    "zoneId": "ZoneidId(Eversong Woods)",
                    "guild": "-1",
                    "level": "21"
                  },
                  {
                    "IdentifierId": "IdentifierId(64975)",
                    "log_timestamp": "2008-01-01 00:14:50",
                    "race": "Blood Elf",
                    "charclass": "Mage",
                    "zoneId": "ZoneidId(Stonetalon Mountains)",
                    "guild": "-1",
                    "level": "26"
                  },
                  {
                    "IdentifierId": "IdentifierId(64950)",
                    "log_timestamp": "2008-01-01 00:14:50",
                    "race": "Blood Elf",
                    "charclass": "Priest",
                    "zoneId": "ZoneidId(Stonetalon Mountains)",
                    "guild": "-1",
                    "level": "26"
                  },
                  {
                    "IdentifierId": "IdentifierId(65217)",
                    "log_timestamp": "2008-01-01 00:14:50",
                    "race": "Blood Elf",
                    "charclass": "Hunter",
                    "zoneId": "ZoneidId(The Barrens)",
                    "guild": "282",
                    "level": "21"
                  },
                  {
                    "IdentifierId": "IdentifierId(65322)",
                    "log_timestamp": "2008-01-01 00:14:50",
                    "race": "Blood Elf",
                    "charclass": "Rogue",
                    "zoneId": "ZoneidId(The Barrens)",
                    "guild": "-1",
                    "level": "22"
                  },
                  {
                    "IdentifierId": "IdentifierId(65230)",
                    "log_timestamp": "2008-01-01 00:14:50",
                    "race": "Blood Elf",
                    "charclass": "Hunter",
                    "zoneId": "ZoneidId(The Barrens)",
                    "guild": "-1",
                    "level": "23"
                  },
                  {
                    "IdentifierId": "IdentifierId(39253)",
                    "log_timestamp": "2008-01-01 00:14:50",
                    "race": "Blood Elf",
                    "charclass": "Rogue",
                    "zoneId": "ZoneidId(The Barrens)",
                    "guild": "-1",
                    "level": "25"
                  },
                  {
                    "IdentifierId": "IdentifierId(63662)",
                    "log_timestamp": "2008-01-01 00:14:50",
                    "race": "Blood Elf",
                    "charclass": "Paladin",
                    "zoneId": "ZoneidId(The Barrens)",
                    "guild": "282",
                    "level": "28"
                  },
                  {
                    "IdentifierId": "IdentifierId(63081)",
                    "log_timestamp": "2008-01-01 00:14:50",
                    "race": "Blood Elf",
                    "charclass": "Rogue",
                    "zoneId": "ZoneidId(Silvermoon City)",
                    "guild": "282",
                    "level": "22"
                  },
                  {
                    "IdentifierId": "IdentifierId(52499)",
                    "log_timestamp": "2008-01-01 00:14:50",
                    "race": "Blood Elf",
                    "charclass": "Paladin",
                    "zoneId": "ZoneidId(Silverpine Forest)",
                    "guild": "167",
                    "level": "22"
                  },
                  {
                    "IdentifierId": "IdentifierId(62585)",
                    "log_timestamp": "2008-01-01 00:14:50",
                    "race": "Blood Elf",
                    "charclass": "Paladin",
                    "zoneId": "ZoneidId(Silverpine Forest)",
                    "guild": "282",
                    "level": "23"
                  },
                  {
                    "IdentifierId": "IdentifierId(63133)",
                    "log_timestamp": "2008-01-01 00:14:50",
                    "race": "Blood Elf",
                    "charclass": "Hunter",
                    "zoneId": "ZoneidId(Silverpine Forest)",
                    "guild": "-1",
                    "level": "24"
                  },
                  {
                    "IdentifierId": "IdentifierId(64497)",
                    "log_timestamp": "2008-01-01 00:14:50",
                    "race": "Blood Elf",
                    "charclass": "Hunter",
                    "zoneId": "ZoneidId(Silverpine Forest)",
                    "guild": "167",
                    "level": "26"
                  },
                  {
                    "IdentifierId": "IdentifierId(36245)",
                    "log_timestamp": "2008-01-01 00:14:50",
                    "race": "Blood Elf",
                    "charclass": "Warlock",
                    "zoneId": "ZoneidId(Silverpine Forest)",
                    "guild": "167",
                    "level": "29"
                  },
                  {
                    "IdentifierId": "IdentifierId(47637)",
                    "log_timestamp": "2008-01-01 00:14:50",
                    "race": "Blood Elf",
                    "charclass": "Mage",
                    "zoneId": "ZoneidId(Ghostlands)",
                    "guild": "-1",
                    "level": "21"
                  },
                  {
                    "IdentifierId": "IdentifierId(36553)",
                    "log_timestamp": "2008-01-01 00:14:50",
                    "race": "Blood Elf",
                    "charclass": "Mage",
                    "zoneId": "ZoneidId(Ghostlands)",
                    "guild": "282",
                    "level": "23"
                  },
                  {
                    "IdentifierId": "IdentifierId(64475)",
                    "log_timestamp": "2008-01-01 00:14:50",
                    "race": "Blood Elf",
                    "charclass": "Paladin",
                    "zoneId": "ZoneidId(Blackfathom Deeps)",
                    "guild": "273",
                    "level": "27"
                  },
                  {
                    "IdentifierId": "IdentifierId(64656)",
                    "log_timestamp": "2008-01-01 00:14:55",
                    "race": "Blood Elf",
                    "charclass": "Paladin",
                    "zoneId": "ZoneidId(Stranglethorn Vale)",
                    "guild": "282",
                    "level": "34"
                  },
                  {
                    "IdentifierId": "IdentifierId(44387)",
                    "log_timestamp": "2008-01-01 00:14:55",
                    "race": "Blood Elf",
                    "charclass": "Paladin",
                    "zoneId": "ZoneidId(Stranglethorn Vale)",
                    "guild": "289",
                    "level": "35"
                  },
                  {
                    "IdentifierId": "IdentifierId(63533)",
                    "log_timestamp": "2008-01-01 00:14:55",
                    "race": "Blood Elf",
                    "charclass": "Mage",
                    "zoneId": "ZoneidId(Stranglethorn Vale)",
                    "guild": "220",
                    "level": "38"
                  },
                  {
                    "IdentifierId": "IdentifierId(62995)",
                    "log_timestamp": "2008-01-01 00:14:55",
                    "race": "Blood Elf",
                    "charclass": "Hunter",
                    "zoneId": "ZoneidId(Stranglethorn Vale)",
                    "guild": "293",
                    "level": "39"
                  },
                  {
                    "IdentifierId": "IdentifierId(55762)",
                    "log_timestamp": "2008-01-01 00:14:55",
                    "race": "Blood Elf",
                    "charclass": "Paladin",
                    "zoneId": "ZoneidId(Stranglethorn Vale)",
                    "guild": "167",
                    "level": "40"
                  },
                  {
                    "IdentifierId": "IdentifierId(45368)",
                    "log_timestamp": "2008-01-01 00:14:55",
                    "race": "Blood Elf",
                    "charclass": "Paladin",
                    "zoneId": "ZoneidId(Mulgore)",
                    "guild": "184",
                    "level": "33"
                  },
                  {
                    "IdentifierId": "IdentifierId(36200)",
                    "log_timestamp": "2008-01-01 00:14:55",
                    "race": "Blood Elf",
                    "charclass": "Warlock",
                    "zoneId": "ZoneidId(Arathi Basin)",
                    "guild": "-1",
                    "level": "34"
                  },
                  {
                    "IdentifierId": "IdentifierId(37036)",
                    "log_timestamp": "2008-01-01 00:14:55",
                    "race": "Blood Elf",
                    "charclass": "Priest",
                    "zoneId": "ZoneidId(Arathi Highlands)",
                    "guild": "282",
                    "level": "36"
                  },
                  {
                    "IdentifierId": "IdentifierId(32985)",
                    "log_timestamp": "2008-01-01 00:15:00",
                    "race": "Blood Elf",
                    "charclass": "Paladin",
                    "zoneId": "ZoneidId(Stranglethorn Vale)",
                    "guild": "108",
                    "level": "41"
                  },
                  {
                    "IdentifierId": "IdentifierId(52818)",
                    "log_timestamp": "2008-01-01 00:15:00",
                    "race": "Blood Elf",
                    "charclass": "Mage",
                    "zoneId": "ZoneidId(Stranglethorn Vale)",
                    "guild": "-1",
                    "level": "44"
                  },
                  {
                    "IdentifierId": "IdentifierId(64397)",
                    "log_timestamp": "2008-01-01 00:15:00",
                    "race": "Blood Elf",
                    "charclass": "Hunter",
                    "zoneId": "ZoneidId(Feralas)",
                    "guild": "-1",
                    "level": "43"
                  },
                  {
                    "IdentifierId": "IdentifierId(61942)",
                    "log_timestamp": "2008-01-01 00:15:00",
                    "race": "Blood Elf",
                    "charclass": "Priest",
                    "zoneId": "ZoneidId(Feralas)",
                    "guild": "-1",
                    "level": "44"
                  },
                  {
                    "IdentifierId": "IdentifierId(64141)",
                    "log_timestamp": "2008-01-01 00:15:05",
                    "race": "Blood Elf",
                    "charclass": "Warlock",
                    "zoneId": "ZoneidId(Tanaris)",
                    "guild": "282",
                    "level": "48"
                  },
                  {
                    "IdentifierId": "IdentifierId(53785)",
                    "log_timestamp": "2008-01-01 00:15:05",
                    "race": "Blood Elf",
                    "charclass": "Priest",
                    "zoneId": "ZoneidId(Tanaris)",
                    "guild": "-1",
                    "level": "50"
                  },
                  {
                    "IdentifierId": "IdentifierId(48417)",
                    "log_timestamp": "2008-01-01 00:15:05",
                    "race": "Blood Elf",
                    "charclass": "Paladin",
                    "zoneId": "ZoneidId(Tanaris)",
                    "guild": "-1",
                    "level": "50"
                  },
                  {
                    "IdentifierId": "IdentifierId(63646)",
                    "log_timestamp": "2008-01-01 00:15:05",
                    "race": "Blood Elf",
                    "charclass": "Mage",
                    "zoneId": "ZoneidId(Stranglethorn Vale)",
                    "guild": "220",
                    "level": "49"
                  },
                  {
                    "IdentifierId": "IdentifierId(47108)",
                    "log_timestamp": "2008-01-01 00:15:05",
                    "race": "Blood Elf",
                    "charclass": "Paladin",
                    "zoneId": "ZoneidId(Feralas)",
                    "guild": "161",
                    "level": "49"
                  },
                  {
                    "IdentifierId": "IdentifierId(37084)",
                    "log_timestamp": "2008-01-01 00:15:10",
                    "race": "Blood Elf",
                    "charclass": "Paladin",
                    "zoneId": "ZoneidId(Tanaris)",
                    "guild": "282",
                    "level": "51"
                  },
                  {
                    "IdentifierId": "IdentifierId(61663)",
                    "log_timestamp": "2008-01-01 00:15:10",
                    "race": "Blood Elf",
                    "charclass": "Rogue",
                    "zoneId": "ZoneidId(Un'Goro Crater)",
                    "guild": "282",
                    "level": "51"
                  },
                  {
                    "IdentifierId": "IdentifierId(40453)",
                    "log_timestamp": "2008-01-01 00:15:10",
                    "race": "Blood Elf",
                    "charclass": "Paladin",
                    "zoneId": "ZoneidId(Feralas)",
                    "guild": "256",
                    "level": "54"
                  },
                  {
                    "IdentifierId": "IdentifierId(56579)",
                    "log_timestamp": "2008-01-01 00:15:10",
                    "race": "Blood Elf",
                    "charclass": "Paladin",
                    "zoneId": "ZoneidId(The Hinterlands)",
                    "guild": "243",
                    "level": "51"
                  },
                  {
                    "IdentifierId": "IdentifierId(50524)",
                    "log_timestamp": "2008-01-01 00:15:16",
                    "race": "Blood Elf",
                    "charclass": "Hunter",
                    "zoneId": "ZoneidId(Hellfire Peninsula)",
                    "guild": "282",
                    "level": "60"
                  },
                  {
                    "IdentifierId": "IdentifierId(59629)",
                    "log_timestamp": "2008-01-01 00:15:16",
                    "race": "Blood Elf",
                    "charclass": "Rogue",
                    "zoneId": "ZoneidId(Hellfire Peninsula)",
                    "guild": "-1",
                    "level": "60"
                  },
                  {
                    "IdentifierId": "IdentifierId(57744)",
                    "log_timestamp": "2008-01-01 00:15:16",
                    "race": "Blood Elf",
                    "charclass": "Hunter",
                    "zoneId": "ZoneidId(Un'Goro Crater)",
                    "guild": "-1",
                    "level": "56"
                  },
                  {
                    "IdentifierId": "IdentifierId(62999)",
                    "log_timestamp": "2008-01-01 00:15:16",
                    "race": "Blood Elf",
                    "charclass": "Rogue",
                    "zoneId": "ZoneidId(Un'Goro Crater)",
                    "guild": "101",
                    "level": "59"
                  },
                  {
                    "IdentifierId": "IdentifierId(60674)",
                    "log_timestamp": "2008-01-01 00:15:16",
                    "race": "Blood Elf",
                    "charclass": "Rogue",
                    "zoneId": "ZoneidId(Silithus)",
                    "guild": "-1",
                    "level": "59"
                  },
                  {
                    "IdentifierId": "IdentifierId(61773)",
                    "log_timestamp": "2008-01-01 00:15:16",
                    "race": "Blood Elf",
                    "charclass": "Warlock",
                    "zoneId": "ZoneidId(Undercity)",
                    "guild": "269",
                    "level": "56"
                  },
                  {
                    "IdentifierId": "IdentifierId(62829)",
                    "log_timestamp": "2008-01-01 00:15:16",
                    "race": "Blood Elf",
                    "charclass": "Mage",
                    "zoneId": "ZoneidId(Undercity)",
                    "guild": "282",
                    "level": "58"
                  },
                  {
                    "IdentifierId": "IdentifierId(55932)",
                    "log_timestamp": "2008-01-01 00:15:16",
                    "race": "Blood Elf",
                    "charclass": "Mage",
                    "zoneId": "ZoneidId(Undercity)",
                    "guild": "251",
                    "level": "58"
                  },
                  {
                    "IdentifierId": "IdentifierId(34870)",
                    "log_timestamp": "2008-01-01 00:15:16",
                    "race": "Blood Elf",
                    "charclass": "Paladin",
                    "zoneId": "ZoneidId(Eastern Plaguelands)",
                    "guild": "282",
                    "level": "58"
                  },
                  {
                    "IdentifierId": "IdentifierId(38500)",
                    "log_timestamp": "2008-01-01 00:15:16",
                    "race": "Blood Elf",
                    "charclass": "Paladin",
                    "zoneId": "ZoneidId(Eastern Plaguelands)",
                    "guild": "282",
                    "level": "59"
                  },
                  {
                    "IdentifierId": "IdentifierId(60100)",
                    "log_timestamp": "2008-01-01 00:15:16",
                    "race": "Blood Elf",
                    "charclass": "Paladin",
                    "zoneId": "ZoneidId(Azshara)",
                    "guild": "161",
                    "level": "57"
                  },
                  {
                    "IdentifierId": "IdentifierId(63729)",
                    "log_timestamp": "2008-01-01 00:15:16",
                    "race": "Blood Elf",
                    "charclass": "Mage",
                    "zoneId": "ZoneidId(Felwood)",
                    "guild": "79",
                    "level": "56"
                  },
                  {
                    "IdentifierId": "IdentifierId(64095)",
                    "log_timestamp": "2008-01-01 00:15:16",
                    "race": "Blood Elf",
                    "charclass": "Warlock",
                    "zoneId": "ZoneidId(Thunder Bluff)",
                    "guild": "288",
                    "level": "59"
                  },
                  {
                    "IdentifierId": "IdentifierId(63401)",
                    "log_timestamp": "2008-01-01 00:15:21",
                    "race": "Blood Elf",
                    "charclass": "Hunter",
                    "zoneId": "ZoneidId(Hellfire Peninsula)",
                    "guild": "220",
                    "level": "61"
                  },
                  {
                    "IdentifierId": "IdentifierId(41802)",
                    "log_timestamp": "2008-01-01 00:15:21",
                    "race": "Blood Elf",
                    "charclass": "Rogue",
                    "zoneId": "ZoneidId(Auchenai Crypts)",
                    "guild": "103",
                    "level": "64"
                  },
                  {
                    "IdentifierId": "IdentifierId(58974)",
                    "log_timestamp": "2008-01-01 00:15:21",
                    "race": "Blood Elf",
                    "charclass": "Paladin",
                    "zoneId": "ZoneidId(Shattrath City)",
                    "guild": "-1",
                    "level": "64"
                  },
                  {
                    "IdentifierId": "IdentifierId(41728)",
                    "log_timestamp": "2008-01-01 00:15:21",
                    "race": "Blood Elf",
                    "charclass": "Mage",
                    "zoneId": "ZoneidId(Shattrath City)",
                    "guild": "19",
                    "level": "65"
                  },
                  {
                    "IdentifierId": "IdentifierId(64813)",
                    "log_timestamp": "2008-01-01 00:15:21",
                    "race": "Blood Elf",
                    "charclass": "Priest",
                    "zoneId": "ZoneidId(Terokkar Forest)",
                    "guild": "-1",
                    "level": "63"
                  },
                  {
                    "IdentifierId": "IdentifierId(35263)",
                    "log_timestamp": "2008-01-01 00:15:21",
                    "race": "Blood Elf",
                    "charclass": "Mage",
                    "zoneId": "ZoneidId(Terokkar Forest)",
                    "guild": "53",
                    "level": "65"
                  },
                  {
                    "IdentifierId": "IdentifierId(63753)",
                    "log_timestamp": "2008-01-01 00:15:21",
                    "race": "Blood Elf",
                    "charclass": "Hunter",
                    "zoneId": "ZoneidId(Terokkar Forest)",
                    "guild": "282",
                    "level": "65"
                  },
                  {
                    "IdentifierId": "IdentifierId(34319)",
                    "log_timestamp": "2008-01-01 00:15:21",
                    "race": "Blood Elf",
                    "charclass": "Paladin",
                    "zoneId": "ZoneidId(Terokkar Forest)",
                    "guild": "165",
                    "level": "65"
                  },
                  {
                    "IdentifierId": "IdentifierId(35268)",
                    "log_timestamp": "2008-01-01 00:15:21",
                    "race": "Blood Elf",
                    "charclass": "Paladin",
                    "zoneId": "ZoneidId(Nagrand)",
                    "guild": "103",
                    "level": "64"
                  },
                  {
                    "IdentifierId": "IdentifierId(26137)",
                    "log_timestamp": "2008-01-01 00:15:21",
                    "race": "Blood Elf",
                    "charclass": "Rogue",
                    "zoneId": "ZoneidId(Zangarmarsh)",
                    "guild": "167",
                    "level": "63"
                  },
                  {
                    "IdentifierId": "IdentifierId(35580)",
                    "log_timestamp": "2008-01-01 00:15:21",
                    "race": "Blood Elf",
                    "charclass": "Warlock",
                    "zoneId": "ZoneidId(Zangarmarsh)",
                    "guild": "189",
                    "level": "63"
                  },
                  {
                    "IdentifierId": "IdentifierId(61105)",
                    "log_timestamp": "2008-01-01 00:15:21",
                    "race": "Blood Elf",
                    "charclass": "Priest",
                    "zoneId": "ZoneidId(Zangarmarsh)",
                    "guild": "165",
                    "level": "64"
                  },
                  {
                    "IdentifierId": "IdentifierId(61769)",
                    "log_timestamp": "2008-01-01 00:15:21",
                    "race": "Blood Elf",
                    "charclass": "Hunter",
                    "zoneId": "ZoneidId(Zangarmarsh)",
                    "guild": "167",
                    "level": "64"
                  },
                  {
                    "IdentifierId": "IdentifierId(57770)",
                    "log_timestamp": "2008-01-01 00:15:26",
                    "race": "Blood Elf",
                    "charclass": "Warlock",
                    "zoneId": "ZoneidId(Terokkar Forest)",
                    "guild": "165",
                    "level": "67"
                  },
                  {
                    "IdentifierId": "IdentifierId(47880)",
                    "log_timestamp": "2008-01-01 00:15:26",
                    "race": "Blood Elf",
                    "charclass": "Hunter",
                    "zoneId": "ZoneidId(Nagrand)",
                    "guild": "53",
                    "level": "66"
                  },
                  {
                    "IdentifierId": "IdentifierId(35336)",
                    "log_timestamp": "2008-01-01 00:15:26",
                    "race": "Blood Elf",
                    "charclass": "Paladin",
                    "zoneId": "ZoneidId(Nagrand)",
                    "guild": "19",
                    "level": "67"
                  },
                  {
                    "IdentifierId": "IdentifierId(41661)",
                    "log_timestamp": "2008-01-01 00:15:26",
                    "race": "Blood Elf",
                    "charclass": "Warlock",
                    "zoneId": "ZoneidId(Nagrand)",
                    "guild": "53",
                    "level": "67"
                  },
                  {
                    "IdentifierId": "IdentifierId(38495)",
                    "log_timestamp": "2008-01-01 00:15:26",
                    "race": "Blood Elf",
                    "charclass": "Paladin",
                    "zoneId": "ZoneidId(Netherstorm)",
                    "guild": "62",
                    "level": "67"
                  },
                  {
                    "IdentifierId": "IdentifierId(54534)",
                    "log_timestamp": "2008-01-01 00:15:31",
                    "race": "Blood Elf",
                    "charclass": "Priest",
                    "zoneId": "ZoneidId(Dustwallow Marsh)",
                    "guild": "-1",
                    "level": "68"
                  },
                  {
                    "IdentifierId": "IdentifierId(57770)",
                    "log_timestamp": "2008-01-01 00:15:31",
                    "race": "Blood Elf",
                    "charclass": "Warlock",
                    "zoneId": "ZoneidId(Terokkar Forest)",
                    "guild": "165",
                    "level": "67"
                  },
                  {
                    "IdentifierId": "IdentifierId(51768)",
                    "log_timestamp": "2008-01-01 00:15:31",
                    "race": "Blood Elf",
                    "charclass": "Mage",
                    "zoneId": "ZoneidId(Burning Steppes)",
                    "guild": "161",
                    "level": "68"
                  },
                  {
                    "IdentifierId": "IdentifierId(47880)",
                    "log_timestamp": "2008-01-01 00:15:31",
                    "race": "Blood Elf",
                    "charclass": "Hunter",
                    "zoneId": "ZoneidId(Nagrand)",
                    "guild": "53",
                    "level": "66"
                  },
                  {
                    "IdentifierId": "IdentifierId(35336)",
                    "log_timestamp": "2008-01-01 00:15:31",
                    "race": "Blood Elf",
                    "charclass": "Paladin",
                    "zoneId": "ZoneidId(Nagrand)",
                    "guild": "19",
                    "level": "67"
                  },
                  {
                    "IdentifierId": "IdentifierId(41661)",
                    "log_timestamp": "2008-01-01 00:15:31",
                    "race": "Blood Elf",
                    "charclass": "Warlock",
                    "zoneId": "ZoneidId(Nagrand)",
                    "guild": "53",
                    "level": "67"
                  },
                  {
                    "IdentifierId": "IdentifierId(38495)",
                    "log_timestamp": "2008-01-01 00:15:31",
                    "race": "Blood Elf",
                    "charclass": "Paladin",
                    "zoneId": "ZoneidId(Netherstorm)",
                    "guild": "62",
                    "level": "67"
                  },
                  {
                    "IdentifierId": "IdentifierId(58813)",
                    "log_timestamp": "2008-01-01 00:15:31",
                    "race": "Blood Elf",
                    "charclass": "Hunter",
                    "zoneId": "ZoneidId(Silvermoon City)",
                    "guild": "165",
                    "level": "68"
                  },
                  {
                    "IdentifierId": "IdentifierId(54534)",
                    "log_timestamp": "2008-01-01 00:15:36",
                    "race": "Blood Elf",
                    "charclass": "Priest",
                    "zoneId": "ZoneidId(Dustwallow Marsh)",
                    "guild": "-1",
                    "level": "68"
                  },
                  {
                    "IdentifierId": "IdentifierId(41519)",
                    "log_timestamp": "2008-01-01 00:15:36",
                    "race": "Blood Elf",
                    "charclass": "Mage",
                    "zoneId": "ZoneidId(Shadowmoon Valley)",
                    "guild": "282",
                    "level": "69"
                  },
                  {
                    "IdentifierId": "IdentifierId(57770)",
                    "log_timestamp": "2008-01-01 00:15:36",
                    "race": "Blood Elf",
                    "charclass": "Warlock",
                    "zoneId": "ZoneidId(Terokkar Forest)",
                    "guild": "165",
                    "level": "67"
                  },
                  {
                    "IdentifierId": "IdentifierId(51768)",
                    "log_timestamp": "2008-01-01 00:15:36",
                    "race": "Blood Elf",
                    "charclass": "Mage",
                    "zoneId": "ZoneidId(Burning Steppes)",
                    "guild": "161",
                    "level": "68"
                  },
                  {
                    "IdentifierId": "IdentifierId(47880)",
                    "log_timestamp": "2008-01-01 00:15:36",
                    "race": "Blood Elf",
                    "charclass": "Hunter",
                    "zoneId": "ZoneidId(Nagrand)",
                    "guild": "53",
                    "level": "66"
                  },
                  {
                    "IdentifierId": "IdentifierId(35336)",
                    "log_timestamp": "2008-01-01 00:15:36",
                    "race": "Blood Elf",
                    "charclass": "Paladin",
                    "zoneId": "ZoneidId(Nagrand)",
                    "guild": "19",
                    "level": "67"
                  },
                  {
                    "IdentifierId": "IdentifierId(41661)",
                    "log_timestamp": "2008-01-01 00:15:36",
                    "race": "Blood Elf",
                    "charclass": "Warlock",
                    "zoneId": "ZoneidId(Nagrand)",
                    "guild": "53",
                    "level": "67"
                  },
                  {
                    "IdentifierId": "IdentifierId(41029)",
                    "log_timestamp": "2008-01-01 00:15:36",
                    "race": "Blood Elf",
                    "charclass": "Paladin",
                    "zoneId": "ZoneidId(The Steamvault)",
                    "guild": "5",
                    "level": "69"
                  },
                  {
                    "IdentifierId": "IdentifierId(38495)",
                    "log_timestamp": "2008-01-01 00:15:36",
                    "race": "Blood Elf",
                    "charclass": "Paladin",
                    "zoneId": "ZoneidId(Netherstorm)",
                    "guild": "62",
                    "level": "67"
                  },
                  {
                    "IdentifierId": "IdentifierId(58813)",
                    "log_timestamp": "2008-01-01 00:15:36",
                    "race": "Blood Elf",
                    "charclass": "Hunter",
                    "zoneId": "ZoneidId(Silvermoon City)",
                    "guild": "165",
                    "level": "68"
                  },
                  {
                    "IdentifierId": "IdentifierId(61505)",
                    "log_timestamp": "2008-01-01 00:15:36",
                    "race": "Blood Elf",
                    "charclass": "Rogue",
                    "zoneId": "ZoneidId(Arathi Basin)",
                    "guild": "174",
                    "level": "69"
                  },
                  {
                    "IdentifierId": "IdentifierId(52793)",
                    "log_timestamp": "2008-01-01 00:15:41",
                    "race": "Blood Elf",
                    "charclass": "Paladin",
                    "zoneId": "ZoneidId(The Arcatraz)",
                    "guild": "103",
                    "level": "70"
                  },
                  {
                    "IdentifierId": "IdentifierId(40700)",
                    "log_timestamp": "2008-01-01 00:15:41",
                    "race": "Blood Elf",
                    "charclass": "Paladin",
                    "zoneId": "ZoneidId(Blade's Edge Mountains)",
                    "guild": "53",
                    "level": "70"
                  },
                  {
                    "IdentifierId": "IdentifierId(35729)",
                    "log_timestamp": "2008-01-01 00:15:41",
                    "race": "Blood Elf",
                    "charclass": "Paladin",
                    "zoneId": "ZoneidId(Dustwallow Marsh)",
                    "guild": "189",
                    "level": "70"
                  },
                  {
                    "IdentifierId": "IdentifierId(61560)",
                    "log_timestamp": "2008-01-01 00:15:41",
                    "race": "Blood Elf",
                    "charclass": "Paladin",
                    "zoneId": "ZoneidId(Shattrath City)",
                    "guild": "204",
                    "level": "70"
                  },
                  {
                    "IdentifierId": "IdentifierId(36442)",
                    "log_timestamp": "2008-01-01 00:15:41",
                    "race": "Blood Elf",
                    "charclass": "Paladin",
                    "zoneId": "ZoneidId(Shattrath City)",
                    "guild": "-1",
                    "level": "70"
                  },
                  {
                    "IdentifierId": "IdentifierId(35004)",
                    "log_timestamp": "2008-01-01 00:15:41",
                    "race": "Blood Elf",
                    "charclass": "Paladin",
                    "zoneId": "ZoneidId(Eye of the Storm)",
                    "guild": "167",
                    "level": "70"
                  },
                  {
                    "IdentifierId": "IdentifierId(51138)",
                    "log_timestamp": "2008-01-01 00:15:41",
                    "race": "Blood Elf",
                    "charclass": "Paladin",
                    "zoneId": "ZoneidId(The Botanica)",
                    "guild": "189",
                    "level": "70"
                  },
                  {
                    "IdentifierId": "IdentifierId(39107)",
                    "log_timestamp": "2008-01-01 00:15:41",
                    "race": "Blood Elf",
                    "charclass": "Paladin",
                    "zoneId": "ZoneidId(The Botanica)",
                    "guild": "103",
                    "level": "70"
                  },
                  {
                    "IdentifierId": "IdentifierId(35760)",
                    "log_timestamp": "2008-01-01 00:15:41",
                    "race": "Blood Elf",
                    "charclass": "Paladin",
                    "zoneId": "ZoneidId(Terokkar Forest)",
                    "guild": "53",
                    "level": "70"
                  },
                  {
                    "IdentifierId": "IdentifierId(62933)",
                    "log_timestamp": "2008-01-01 00:15:41",
                    "race": "Blood Elf",
                    "charclass": "Paladin",
                    "zoneId": "ZoneidId(The Underbog)",
                    "guild": "35",
                    "level": "70"
                  },
                  {
                    "IdentifierId": "IdentifierId(35204)",
                    "log_timestamp": "2008-01-01 00:15:41",
                    "race": "Blood Elf",
                    "charclass": "Paladin",
                    "zoneId": "ZoneidId(The Underbog)",
                    "guild": "35",
                    "level": "70"
                  },
                  {
                    "IdentifierId": "IdentifierId(42099)",
                    "log_timestamp": "2008-01-01 00:15:41",
                    "race": "Blood Elf",
                    "charclass": "Paladin",
                    "zoneId": "ZoneidId(Stranglethorn Vale)",
                    "guild": "9",
                    "level": "70"
                  },
                  {
                    "IdentifierId": "IdentifierId(51444)",
                    "log_timestamp": "2008-01-01 00:15:41",
                    "race": "Blood Elf",
                    "charclass": "Paladin",
                    "zoneId": "ZoneidId(Netherstorm)",
                    "guild": "103",
                    "level": "70"
                  },
                  {
                    "IdentifierId": "IdentifierId(57101)",
                    "log_timestamp": "2008-01-01 00:15:41",
                    "race": "Blood Elf",
                    "charclass": "Paladin",
                    "zoneId": "ZoneidId(Netherstorm)",
                    "guild": "165",
                    "level": "70"
                  },
                  {
                    "IdentifierId": "IdentifierId(50046)",
                    "log_timestamp": "2008-01-01 00:15:41",
                    "race": "Blood Elf",
                    "charclass": "Paladin",
                    "zoneId": "ZoneidId(Netherstorm)",
                    "guild": "-1",
                    "level": "70"
                  },
                  {
                    "IdentifierId": "IdentifierId(59548)",
                    "log_timestamp": "2008-01-01 00:15:41",
                    "race": "Blood Elf",
                    "charclass": "Paladin",
                    "zoneId": "ZoneidId(Arathi Basin)",
                    "guild": "282",
                    "level": "70"
                  },
                  {
                    "IdentifierId": "IdentifierId(40469)",
                    "log_timestamp": "2008-01-01 00:15:41",
                    "race": "Blood Elf",
                    "charclass": "Paladin",
                    "zoneId": "ZoneidId(Ghostlands)",
                    "guild": "174",
                    "level": "70"
                  },
                  {
                    "IdentifierId": "IdentifierId(65547)",
                    "log_timestamp": "2008-01-01 00:15:41",
                    "race": "Blood Elf",
                    "charclass": "Paladin",
                    "zoneId": "ZoneidId(The Mechanar)",
                    "guild": "204",
                    "level": "70"
                  },
                  {
                    "IdentifierId": "IdentifierId(49788)",
                    "log_timestamp": "2008-01-01 00:15:41",
                    "race": "Blood Elf",
                    "charclass": "Paladin",
                    "zoneId": "ZoneidId(The Mechanar)",
                    "guild": "104",
                    "level": "70"
                  },
                  {
                    "IdentifierId": "IdentifierId(53170)",
                    "log_timestamp": "2008-01-01 00:15:46",
                    "race": "Blood Elf",
                    "charclass": "Hunter",
                    "zoneId": "ZoneidId(The Arcatraz)",
                    "guild": "103",
                    "level": "70"
                  },
                  {
                    "IdentifierId": "IdentifierId(57830)",
                    "log_timestamp": "2008-01-01 00:15:46",
                    "race": "Blood Elf",
                    "charclass": "Hunter",
                    "zoneId": "ZoneidId(Hall of Legends)",
                    "guild": "165",
                    "level": "70"
                  },
                  {
                    "IdentifierId": "IdentifierId(36328)",
                    "log_timestamp": "2008-01-01 00:15:46",
                    "race": "Blood Elf",
                    "charclass": "Hunter",
                    "zoneId": "ZoneidId(Blade's Edge Mountains)",
                    "guild": "289",
                    "level": "70"
                  },
                  {
                    "IdentifierId": "IdentifierId(52103)",
                    "log_timestamp": "2008-01-01 00:15:46",
                    "race": "Blood Elf",
                    "charclass": "Hunter",
                    "zoneId": "ZoneidId(Auchenai Crypts)",
                    "guild": "53",
                    "level": "70"
                  },
                  {
                    "IdentifierId": "IdentifierId(44398)",
                    "log_timestamp": "2008-01-01 00:15:46",
                    "race": "Blood Elf",
                    "charclass": "Hunter",
                    "zoneId": "ZoneidId(Alterac Valley)",
                    "guild": "35",
                    "level": "70"
                  },
                  {
                    "IdentifierId": "IdentifierId(55667)",
                    "log_timestamp": "2008-01-01 00:15:46",
                    "race": "Blood Elf",
                    "charclass": "Hunter",
                    "zoneId": "ZoneidId(Undercity)",
                    "guild": "101",
                    "level": "70"
                  },
                  {
                    "IdentifierId": "IdentifierId(52549)",
                    "log_timestamp": "2008-01-01 00:15:46",
                    "race": "Blood Elf",
                    "charclass": "Hunter",
                    "zoneId": "ZoneidId(Shadowmoon Valley)",
                    "guild": "103",
                    "level": "70"
                  },
                  {
                    "IdentifierId": "IdentifierId(38081)",
                    "log_timestamp": "2008-01-01 00:15:46",
                    "race": "Blood Elf",
                    "charclass": "Hunter",
                    "zoneId": "ZoneidId(The Botanica)",
                    "guild": "189",
                    "level": "70"
                  },
                  {
                    "IdentifierId": "IdentifierId(63335)",
                    "log_timestamp": "2008-01-01 00:15:46",
                    "race": "Blood Elf",
                    "charclass": "Hunter",
                    "zoneId": "ZoneidId(Netherstorm)",
                    "guild": "103",
                    "level": "70"
                  },
                  {
                    "IdentifierId": "IdentifierId(52445)",
                    "log_timestamp": "2008-01-01 00:15:46",
                    "race": "Blood Elf",
                    "charclass": "Hunter",
                    "zoneId": "ZoneidId(The Barrens)",
                    "guild": "291",
                    "level": "70"
                  },
                  {
                    "IdentifierId": "IdentifierId(59467)",
                    "log_timestamp": "2008-01-01 00:15:51",
                    "race": "Blood Elf",
                    "charclass": "Rogue",
                    "zoneId": "ZoneidId(Hall of Legends)",
                    "guild": "165",
                    "level": "70"
                  },
                  {
                    "IdentifierId": "IdentifierId(48821)",
                    "log_timestamp": "2008-01-01 00:15:51",
                    "race": "Blood Elf",
                    "charclass": "Rogue",
                    "zoneId": "ZoneidId(Nagrand)",
                    "guild": "205",
                    "level": "70"
                  },
                  {
                    "IdentifierId": "IdentifierId(45364)",
                    "log_timestamp": "2008-01-01 00:15:57",
                    "race": "Blood Elf",
                    "charclass": "Priest",
                    "zoneId": "ZoneidId(Hall of Legends)",
                    "guild": "62",
                    "level": "70"
                  },
                  {
                    "IdentifierId": "IdentifierId(51738)",
                    "log_timestamp": "2008-01-01 00:15:57",
                    "race": "Blood Elf",
                    "charclass": "Priest",
                    "zoneId": "ZoneidId(Orgrimmar)",
                    "guild": "104",
                    "level": "70"
                  },
                  {
                    "IdentifierId": "IdentifierId(55037)",
                    "log_timestamp": "2008-01-01 00:15:57",
                    "race": "Blood Elf",
                    "charclass": "Priest",
                    "zoneId": "ZoneidId(Shadowmoon Valley)",
                    "guild": "167",
                    "level": "70"
                  },
                  {
                    "IdentifierId": "IdentifierId(55791)",
                    "log_timestamp": "2008-01-01 00:15:57",
                    "race": "Blood Elf",
                    "charclass": "Priest",
                    "zoneId": "ZoneidId(Shattrath City)",
                    "guild": "104",
                    "level": "70"
                  },
                  {
                    "IdentifierId": "IdentifierId(39590)",
                    "log_timestamp": "2008-01-01 00:15:57",
                    "race": "Blood Elf",
                    "charclass": "Priest",
                    "zoneId": "ZoneidId(Shattrath City)",
                    "guild": "216",
                    "level": "70"
                  },
                  {
                    "IdentifierId": "IdentifierId(59334)",
                    "log_timestamp": "2008-01-01 00:15:57",
                    "race": "Blood Elf",
                    "charclass": "Priest",
                    "zoneId": "ZoneidId(Shattrath City)",
                    "guild": "167",
                    "level": "70"
                  },
                  {
                    "IdentifierId": "IdentifierId(45918)",
                    "log_timestamp": "2008-01-01 00:15:57",
                    "race": "Blood Elf",
                    "charclass": "Priest",
                    "zoneId": "ZoneidId(Eye of the Storm)",
                    "guild": "167",
                    "level": "70"
                  },
                  {
                    "IdentifierId": "IdentifierId(58710)",
                    "log_timestamp": "2008-01-01 00:15:57",
                    "race": "Blood Elf",
                    "charclass": "Priest",
                    "zoneId": "ZoneidId(Eye of the Storm)",
                    "guild": "5",
                    "level": "70"
                  },
                  {
                    "IdentifierId": "IdentifierId(46803)",
                    "log_timestamp": "2008-01-01 00:15:57",
                    "race": "Blood Elf",
                    "charclass": "Priest",
                    "zoneId": "ZoneidId(Durotar)",
                    "guild": "101",
                    "level": "70"
                  },
                  {
                    "IdentifierId": "IdentifierId(38082)",
                    "log_timestamp": "2008-01-01 00:15:57",
                    "race": "Blood Elf",
                    "charclass": "Priest",
                    "zoneId": "ZoneidId(The Botanica)",
                    "guild": "189",
                    "level": "70"
                  },
                  {
                    "IdentifierId": "IdentifierId(52362)",
                    "log_timestamp": "2008-01-01 00:15:57",
                    "race": "Blood Elf",
                    "charclass": "Priest",
                    "zoneId": "ZoneidId(The Shattered Halls)",
                    "guild": "167",
                    "level": "70"
                  },
                  {
                    "IdentifierId": "IdentifierId(43945)",
                    "log_timestamp": "2008-01-01 00:15:57",
                    "race": "Blood Elf",
                    "charclass": "Priest",
                    "zoneId": "ZoneidId(The Mechanar)",
                    "guild": "19",
                    "level": "70"
                  },
                  {
                    "IdentifierId": "IdentifierId(58242)",
                    "log_timestamp": "2008-01-01 00:16:02",
                    "race": "Blood Elf",
                    "charclass": "Warlock",
                    "zoneId": "ZoneidId(Shadowmoon Valley)",
                    "guild": "167",
                    "level": "70"
                  },
                  {
                    "IdentifierId": "IdentifierId(36139)",
                    "log_timestamp": "2008-01-01 00:16:02",
                    "race": "Blood Elf",
                    "charclass": "Warlock",
                    "zoneId": "ZoneidId(Warsong Gulch)",
                    "guild": "53",
                    "level": "70"
                  },
                  {
                    "IdentifierId": "IdentifierId(53229)",
                    "log_timestamp": "2008-01-01 00:16:02",
                    "race": "Blood Elf",
                    "charclass": "Warlock",
                    "zoneId": "ZoneidId(Tirisfal Glades)",
                    "guild": "281",
                    "level": "70"
                  },
                  {
                    "IdentifierId": "IdentifierId(9486)",
                    "log_timestamp": "2008-01-01 00:16:02",
                    "race": "Blood Elf",
                    "charclass": "Warlock",
                    "zoneId": "ZoneidId(Shattrath City)",
                    "guild": "101",
                    "level": "70"
                  },
                  {
                    "IdentifierId": "IdentifierId(52944)",
                    "log_timestamp": "2008-01-01 00:16:02",
                    "race": "Blood Elf",
                    "charclass": "Warlock",
                    "zoneId": "ZoneidId(Shattrath City)",
                    "guild": "101",
                    "level": "70"
                  },
                  {
                    "IdentifierId": "IdentifierId(40092)",
                    "log_timestamp": "2008-01-01 00:16:02",
                    "race": "Blood Elf",
                    "charclass": "Warlock",
                    "zoneId": "ZoneidId(Shattrath City)",
                    "guild": "167",
                    "level": "70"
                  },
                  {
                    "IdentifierId": "IdentifierId(60343)",
                    "log_timestamp": "2008-01-01 00:16:02",
                    "race": "Blood Elf",
                    "charclass": "Warlock",
                    "zoneId": "ZoneidId(Shattrath City)",
                    "guild": "104",
                    "level": "70"
                  },
                  {
                    "IdentifierId": "IdentifierId(36187)",
                    "log_timestamp": "2008-01-01 00:16:02",
                    "race": "Blood Elf",
                    "charclass": "Warlock",
                    "zoneId": "ZoneidId(Shattrath City)",
                    "guild": "103",
                    "level": "70"
                  },
                  {
                    "IdentifierId": "IdentifierId(45029)",
                    "log_timestamp": "2008-01-01 00:16:02",
                    "race": "Blood Elf",
                    "charclass": "Warlock",
                    "zoneId": "ZoneidId(The Botanica)",
                    "guild": "53",
                    "level": "70"
                  },
                  {
                    "IdentifierId": "IdentifierId(60168)",
                    "log_timestamp": "2008-01-01 00:16:02",
                    "race": "Blood Elf",
                    "charclass": "Warlock",
                    "zoneId": "ZoneidId(Nagrand)",
                    "guild": "5",
                    "level": "70"
                  },
                  {
                    "IdentifierId": "IdentifierId(62426)",
                    "log_timestamp": "2008-01-01 00:16:02",
                    "race": "Blood Elf",
                    "charclass": "Warlock",
                    "zoneId": "ZoneidId(Western Plaguelands)",
                    "guild": "174",
                    "level": "70"
                  },
                  {
                    "IdentifierId": "IdentifierId(35622)",
                    "log_timestamp": "2008-01-01 00:16:07",
                    "race": "Blood Elf",
                    "charclass": "Mage",
                    "zoneId": "ZoneidId(Dustwallow Marsh)",
                    "guild": "189",
                    "level": "70"
                  },
                  {
                    "IdentifierId": "IdentifierId(53911)",
                    "log_timestamp": "2008-01-01 00:16:07",
                    "race": "Blood Elf",
                    "charclass": "Mage",
                    "zoneId": "ZoneidId(Alterac Valley)",
                    "guild": "161",
                    "level": "70"
                  },
                  {
                    "IdentifierId": "IdentifierId(55051)",
                    "log_timestamp": "2008-01-01 00:16:07",
                    "race": "Blood Elf",
                    "charclass": "Mage",
                    "zoneId": "ZoneidId(Alterac Valley)",
                    "guild": "103",
                    "level": "70"
                  },
                  {
                    "IdentifierId": "IdentifierId(53228)",
                    "log_timestamp": "2008-01-01 00:16:07",
                    "race": "Blood Elf",
                    "charclass": "Mage",
                    "zoneId": "ZoneidId(Undercity)",
                    "guild": "281",
                    "level": "70"
                  },
                  {
                    "IdentifierId": "IdentifierId(35697)",
                    "log_timestamp": "2008-01-01 00:16:07",
                    "race": "Blood Elf",
                    "charclass": "Mage",
                    "zoneId": "ZoneidId(The Botanica)",
                    "guild": "189",
                    "level": "70"
                  },
                  {
                    "IdentifierId": "IdentifierId(60250)",
                    "log_timestamp": "2008-01-01 00:16:07",
                    "race": "Blood Elf",
                    "charclass": "Mage",
                    "zoneId": "ZoneidId(Netherstorm)",
                    "guild": "101",
                    "level": "70"
                  },
                  {
                    "IdentifierId": "IdentifierId(65415)",
                    "log_timestamp": "2008-01-01 00:22:17",
                    "race": "Orc",
                    "charclass": "Warrior",
                    "zoneId": "ZoneidId(Orgrimmar)",
                    "guild": "-1",
                    "level": "10"
                  },
                  {
                    "IdentifierId": "IdentifierId(65494)",
                    "log_timestamp": "2008-01-01 00:22:17",
                    "race": "Orc",
                    "charclass": "Hunter",
                    "zoneId": "ZoneidId(Durotar)",
                    "guild": "-1",
                    "level": "10"
                  },
                  {
                    "IdentifierId": "IdentifierId(65490)",
                    "log_timestamp": "2008-01-01 00:22:17",
                    "race": "Orc",
                    "charclass": "Hunter",
                    "zoneId": "ZoneidId(Silvermoon City)",
                    "guild": "-1",
                    "level": "18"
                  },
                  {
                    "IdentifierId": "IdentifierId(61239)",
                    "log_timestamp": "2008-01-01 00:22:27",
                    "race": "Orc",
                    "charclass": "Hunter",
                    "zoneId": "ZoneidId(Blade's Edge Mountains)",
                    "guild": "243",
                    "level": "68"
                  },
                  {
                    "IdentifierId": "IdentifierId(59772)",
                    "log_timestamp": "2008-01-01 00:22:27",
                    "race": "Orc",
                    "charclass": "Warrior",
                    "zoneId": "ZoneidId(Shadowmoon Valley)",
                    "guild": "35",
                    "level": "69"
                  },
                  {
                    "IdentifierId": "IdentifierId(14525)",
                    "log_timestamp": "2008-01-01 00:22:27",
                    "race": "Orc",
                    "charclass": "Warlock",
                    "zoneId": "ZoneidId(Warsong Gulch)",
                    "guild": "23",
                    "level": "68"
                  },
                  {
                    "IdentifierId": "IdentifierId(22937)",
                    "log_timestamp": "2008-01-01 00:22:27",
                    "race": "Orc",
                    "charclass": "Rogue",
                    "zoneId": "ZoneidId(Eye of the Storm)",
                    "guild": "243",
                    "level": "69"
                  },
                  {
                    "IdentifierId": "IdentifierId(33256)",
                    "log_timestamp": "2008-01-01 00:22:32",
                    "race": "Orc",
                    "charclass": "Warrior",
                    "zoneId": "ZoneidId(Orgrimmar)",
                    "guild": "53",
                    "level": "70"
                  },
                  {
                    "IdentifierId": "IdentifierId(1003)",
                    "log_timestamp": "2008-01-01 00:22:32",
                    "race": "Orc",
                    "charclass": "Warrior",
                    "zoneId": "ZoneidId(Orgrimmar)",
                    "guild": "204",
                    "level": "70"
                  },
                  {
                    "IdentifierId": "IdentifierId(49944)",
                    "log_timestamp": "2008-01-01 00:22:32",
                    "race": "Orc",
                    "charclass": "Warrior",
                    "zoneId": "ZoneidId(Orgrimmar)",
                    "guild": "167",
                    "level": "70"
                  },
                  {
                    "IdentifierId": "IdentifierId(48432)",
                    "log_timestamp": "2008-01-01 00:22:32",
                    "race": "Orc",
                    "charclass": "Warrior",
                    "zoneId": "ZoneidId(Shattrath City)",
                    "guild": "79",
                    "level": "70"
                  },
                  {
                    "IdentifierId": "IdentifierId(2663)",
                    "log_timestamp": "2008-01-01 00:22:32",
                    "race": "Orc",
                    "charclass": "Warrior",
                    "zoneId": "ZoneidId(Shattrath City)",
                    "guild": "53",
                    "level": "70"
                  },
                  {
                    "IdentifierId": "IdentifierId(22466)",
                    "log_timestamp": "2008-01-01 00:22:32",
                    "race": "Orc",
                    "charclass": "Warrior",
                    "zoneId": "ZoneidId(Shattrath City)",
                    "guild": "101",
                    "level": "70"
                  },
                  {
                    "IdentifierId": "IdentifierId(62)",
                    "log_timestamp": "2008-01-01 00:22:32",
                    "race": "Orc",
                    "charclass": "Warrior",
                    "zoneId": "ZoneidId(Terokkar Forest)",
                    "guild": "5",
                    "level": "70"
                  },
                  {
                    "IdentifierId": "IdentifierId(10223)",
                    "log_timestamp": "2008-01-01 00:22:32",
                    "race": "Orc",
                    "charclass": "Warrior",
                    "zoneId": "ZoneidId(Netherstorm)",
                    "guild": "5",
                    "level": "70"
                  },
                  {
                    "IdentifierId": "IdentifierId(2796)",
                    "log_timestamp": "2008-01-01 00:22:37",
                    "race": "Orc",
                    "charclass": "Hunter",
                    "zoneId": "ZoneidId(Tanaris)",
                    "guild": "19",
                    "level": "70"
                  },
                  {
                    "IdentifierId": "IdentifierId(19050)",
                    "log_timestamp": "2008-01-01 00:22:37",
                    "race": "Orc",
                    "charclass": "Hunter",
                    "zoneId": "ZoneidId(Orgrimmar)",
                    "guild": "-1",
                    "level": "70"
                  },
                  {
                    "IdentifierId": "IdentifierId(22555)",
                    "log_timestamp": "2008-01-01 00:22:37",
                    "race": "Orc",
                    "charclass": "Hunter",
                    "zoneId": "ZoneidId(Orgrimmar)",
                    "guild": "104",
                    "level": "70"
                  },
                  {
                    "IdentifierId": "IdentifierId(16817)",
                    "log_timestamp": "2008-01-01 00:22:37",
                    "race": "Orc",
                    "charclass": "Hunter",
                    "zoneId": "ZoneidId(Alterac Valley)",
                    "guild": "9",
                    "level": "70"
                  },
                  {
                    "IdentifierId": "IdentifierId(22557)",
                    "log_timestamp": "2008-01-01 00:22:37",
                    "race": "Orc",
                    "charclass": "Hunter",
                    "zoneId": "ZoneidId(Alterac Valley)",
                    "guild": "103",
                    "level": "70"
                  },
                  {
                    "IdentifierId": "IdentifierId(54676)",
                    "log_timestamp": "2008-01-01 00:22:37",
                    "race": "Orc",
                    "charclass": "Hunter",
                    "zoneId": "ZoneidId(Undercity)",
                    "guild": "282",
                    "level": "70"
                  },
                  {
                    "IdentifierId": "IdentifierId(1379)",
                    "log_timestamp": "2008-01-01 00:22:37",
                    "race": "Orc",
                    "charclass": "Hunter",
                    "zoneId": "ZoneidId(Shadowmoon Valley)",
                    "guild": "53",
                    "level": "70"
                  },
                  {
                    "IdentifierId": "IdentifierId(25501)",
                    "log_timestamp": "2008-01-01 00:22:37",
                    "race": "Orc",
                    "charclass": "Hunter",
                    "zoneId": "ZoneidId(Shadowmoon Valley)",
                    "guild": "-1",
                    "level": "70"
                  },
                  {
                    "IdentifierId": "IdentifierId(753)",
                    "log_timestamp": "2008-01-01 00:22:37",
                    "race": "Orc",
                    "charclass": "Hunter",
                    "zoneId": "ZoneidId(Shattrath City)",
                    "guild": "53",
                    "level": "70"
                  },
                  {
                    "IdentifierId": "IdentifierId(44477)",
                    "log_timestamp": "2008-01-01 00:22:37",
                    "race": "Orc",
                    "charclass": "Hunter",
                    "zoneId": "ZoneidId(Shattrath City)",
                    "guild": "167",
                    "level": "70"
                  },
                  {
                    "IdentifierId": "IdentifierId(64)",
                    "log_timestamp": "2008-01-01 00:22:37",
                    "race": "Orc",
                    "charclass": "Hunter",
                    "zoneId": "ZoneidId(Eye of the Storm)",
                    "guild": "5",
                    "level": "70"
                  },
                  {
                    "IdentifierId": "IdentifierId(62095)",
                    "log_timestamp": "2008-01-01 00:22:37",
                    "race": "Orc",
                    "charclass": "Hunter",
                    "zoneId": "ZoneidId(Terokkar Forest)",
                    "guild": "35",
                    "level": "70"
                  },
                  {
                    "IdentifierId": "IdentifierId(7127)",
                    "log_timestamp": "2008-01-01 00:22:37",
                    "race": "Orc",
                    "charclass": "Hunter",
                    "zoneId": "ZoneidId(The Steamvault)",
                    "guild": "5",
                    "level": "70"
                  },
                  {
                    "IdentifierId": "IdentifierId(22594)",
                    "log_timestamp": "2008-01-01 00:22:37",
                    "race": "Orc",
                    "charclass": "Hunter",
                    "zoneId": "ZoneidId(The Blood Furnace)",
                    "guild": "35",
                    "level": "70"
                  },
                  {
                    "IdentifierId": "IdentifierId(22271)",
                    "log_timestamp": "2008-01-01 00:22:37",
                    "race": "Orc",
                    "charclass": "Hunter",
                    "zoneId": "ZoneidId(Western Plaguelands)",
                    "guild": "101",
                    "level": "70"
                  },
                  {
                    "IdentifierId": "IdentifierId(4932)",
                    "log_timestamp": "2008-01-01 00:22:37",
                    "race": "Orc",
                    "charclass": "Hunter",
                    "zoneId": "ZoneidId(Zangarmarsh)",
                    "guild": "62",
                    "level": "70"
                  },
                  {
                    "IdentifierId": "IdentifierId(980)",
                    "log_timestamp": "2008-01-01 00:22:37",
                    "race": "Orc",
                    "charclass": "Hunter",
                    "zoneId": "ZoneidId(Arathi Basin)",
                    "guild": "79",
                    "level": "70"
                  },
                  {
                    "IdentifierId": "IdentifierId(62580)",
                    "log_timestamp": "2008-01-01 00:22:37",
                    "race": "Orc",
                    "charclass": "Hunter",
                    "zoneId": "ZoneidId(The Mechanar)",
                    "guild": "216",
                    "level": "70"
                  },
                  {
                    "IdentifierId": "IdentifierId(4002)",
                    "log_timestamp": "2008-01-01 00:22:37",
                    "race": "Orc",
                    "charclass": "Hunter",
                    "zoneId": "ZoneidId(The Mechanar)",
                    "guild": "5",
                    "level": "70"
                  },
                  {
                    "IdentifierId": "IdentifierId(61421)",
                    "log_timestamp": "2008-01-01 00:22:42",
                    "race": "Orc",
                    "charclass": "Rogue",
                    "zoneId": "ZoneidId(Alterac Valley)",
                    "guild": "103",
                    "level": "70"
                  },
                  {
                    "IdentifierId": "IdentifierId(57137)",
                    "log_timestamp": "2008-01-01 00:22:42",
                    "race": "Orc",
                    "charclass": "Rogue",
                    "zoneId": "ZoneidId(Shattrath City)",
                    "guild": "103",
                    "level": "70"
                  },
                  {
                    "IdentifierId": "IdentifierId(23807)",
                    "log_timestamp": "2008-01-01 00:22:47",
                    "race": "Orc",
                    "charclass": "Shaman",
                    "zoneId": "ZoneidId(Orgrimmar)",
                    "guild": "174",
                    "level": "70"
                  },
                  {
                    "IdentifierId": "IdentifierId(36)",
                    "log_timestamp": "2008-01-01 00:22:47",
                    "race": "Orc",
                    "charclass": "Shaman",
                    "zoneId": "ZoneidId(Shadowmoon Valley)",
                    "guild": "101",
                    "level": "70"
                  },
                  {
                    "IdentifierId": "IdentifierId(9085)",
                    "log_timestamp": "2008-01-01 00:22:47",
                    "race": "Orc",
                    "charclass": "Shaman",
                    "zoneId": "ZoneidId(Durotar)",
                    "guild": "101",
                    "level": "70"
                  },
                  {
                    "IdentifierId": "IdentifierId(5088)",
                    "log_timestamp": "2008-01-01 00:22:52",
                    "race": "Orc",
                    "charclass": "Warlock",
                    "zoneId": "ZoneidId(Blade's Edge Mountains)",
                    "guild": "9",
                    "level": "70"
                  },
                  {
                    "IdentifierId": "IdentifierId(24815)",
                    "log_timestamp": "2008-01-01 00:22:52",
                    "race": "Orc",
                    "charclass": "Warlock",
                    "zoneId": "ZoneidId(Shattrath City)",
                    "guild": "104",
                    "level": "70"
                  },
                  {
                    "IdentifierId": "IdentifierId(18442)",
                    "log_timestamp": "2008-01-01 00:22:52",
                    "race": "Orc",
                    "charclass": "Warlock",
                    "zoneId": "ZoneidId(Shattrath City)",
                    "guild": "62",
                    "level": "70"
                  },
                  {
                    "IdentifierId": "IdentifierId(49719)",
                    "log_timestamp": "2008-01-01 00:22:52",
                    "race": "Orc",
                    "charclass": "Warlock",
                    "zoneId": "ZoneidId(Zangarmarsh)",
                    "guild": "79",
                    "level": "70"
                  },
                  {
                    "IdentifierId": "IdentifierId(27427)",
                    "log_timestamp": "2008-01-01 00:22:57",
                    "race": "Tauren",
                    "charclass": "Shaman",
                    "zoneId": "ZoneidId(Undercity)",
                    "guild": "160",
                    "level": "23"
                  },
                  {
                    "IdentifierId": "IdentifierId(65180)",
                    "log_timestamp": "2008-01-01 00:22:57",
                    "race": "Tauren",
                    "charclass": "Warrior",
                    "zoneId": "ZoneidId(Ashenvale)",
                    "guild": "35",
                    "level": "26"
                  },
                  {
                    "IdentifierId": "IdentifierId(65181)",
                    "log_timestamp": "2008-01-01 00:22:57",
                    "race": "Tauren",
                    "charclass": "Shaman",
                    "zoneId": "ZoneidId(Ashenvale)",
                    "guild": "35",
                    "level": "26"
                  },
                  {
                    "IdentifierId": "IdentifierId(64136)",
                    "log_timestamp": "2008-01-01 00:22:57",
                    "race": "Tauren",
                    "charclass": "Druid",
                    "zoneId": "ZoneidId(Stranglethorn Vale)",
                    "guild": "220",
                    "level": "34"
                  },
                  {
                    "IdentifierId": "IdentifierId(64655)",
                    "log_timestamp": "2008-01-01 00:22:57",
                    "race": "Tauren",
                    "charclass": "Druid",
                    "zoneId": "ZoneidId(Stranglethorn Vale)",
                    "guild": "282",
                    "level": "35"
                  },
                  {
                    "IdentifierId": "IdentifierId(64297)",
                    "log_timestamp": "2008-01-01 00:22:57",
                    "race": "Tauren",
                    "charclass": "Warrior",
                    "zoneId": "ZoneidId(Badlands)",
                    "guild": "-1",
                    "level": "48"
                  },
                  {
                    "IdentifierId": "IdentifierId(65549)",
                    "log_timestamp": "2008-01-01 00:22:57",
                    "race": "Tauren",
                    "charclass": "Druid",
                    "zoneId": "ZoneidId(Mulgore)",
                    "guild": "-1",
                    "level": "5"
                  },
                  {
                    "IdentifierId": "IdentifierId(65531)",
                    "log_timestamp": "2008-01-01 00:22:57",
                    "race": "Tauren",
                    "charclass": "Druid",
                    "zoneId": "ZoneidId(The Barrens)",
                    "guild": "282",
                    "level": "13"
                  },
                  {
                    "IdentifierId": "IdentifierId(65444)",
                    "log_timestamp": "2008-01-01 00:22:57",
                    "race": "Tauren",
                    "charclass": "Druid",
                    "zoneId": "ZoneidId(The Barrens)",
                    "guild": "291",
                    "level": "17"
                  },
                  {
                    "IdentifierId": "IdentifierId(60859)",
                    "log_timestamp": "2008-01-01 00:22:57",
                    "race": "Tauren",
                    "charclass": "Shaman",
                    "zoneId": "ZoneidId(Arathi Basin)",
                    "guild": "228",
                    "level": "44"
                  },
                  {
                    "IdentifierId": "IdentifierId(27725)",
                    "log_timestamp": "2008-01-01 00:22:57",
                    "race": "Tauren",
                    "charclass": "Shaman",
                    "zoneId": "ZoneidId(Thunder Bluff)",
                    "guild": "-1",
                    "level": "6"
                  },
                  {
                    "IdentifierId": "IdentifierId(63541)",
                    "log_timestamp": "2008-01-01 00:22:57",
                    "race": "Tauren",
                    "charclass": "Druid",
                    "zoneId": "ZoneidId(Thunder Bluff)",
                    "guild": "282",
                    "level": "28"
                  },
                  {
                    "IdentifierId": "IdentifierId(63599)",
                    "log_timestamp": "2008-01-01 00:23:03",
                    "race": "Tauren",
                    "charclass": "Shaman",
                    "zoneId": "ZoneidId(Hellfire Peninsula)",
                    "guild": "79",
                    "level": "60"
                  },
                  {
                    "IdentifierId": "IdentifierId(61510)",
                    "log_timestamp": "2008-01-01 00:23:03",
                    "race": "Tauren",
                    "charclass": "Hunter",
                    "zoneId": "ZoneidId(Tanaris)",
                    "guild": "251",
                    "level": "63"
                  },
                  {
                    "IdentifierId": "IdentifierId(9583)",
                    "log_timestamp": "2008-01-01 00:23:03",
                    "race": "Tauren",
                    "charclass": "Warrior",
                    "zoneId": "ZoneidId(Orgrimmar)",
                    "guild": "205",
                    "level": "56"
                  },
                  {
                    "IdentifierId": "IdentifierId(60782)",
                    "log_timestamp": "2008-01-01 00:23:03",
                    "race": "Tauren",
                    "charclass": "Druid",
                    "zoneId": "ZoneidId(Silithus)",
                    "guild": "165",
                    "level": "59"
                  },
                  {
                    "IdentifierId": "IdentifierId(48670)",
                    "log_timestamp": "2008-01-01 00:23:03",
                    "race": "Tauren",
                    "charclass": "Druid",
                    "zoneId": "ZoneidId(Durotar)",
                    "guild": "282",
                    "level": "54"
                  },
                  {
                    "IdentifierId": "IdentifierId(56692)",
                    "log_timestamp": "2008-01-01 00:23:03",
                    "race": "Tauren",
                    "charclass": "Druid",
                    "zoneId": "ZoneidId(Durotar)",
                    "guild": "282",
                    "level": "64"
                  },
                  {
                    "IdentifierId": "IdentifierId(55922)",
                    "log_timestamp": "2008-01-01 00:23:03",
                    "race": "Tauren",
                    "charclass": "Shaman",
                    "zoneId": "ZoneidId(Terokkar Forest)",
                    "guild": "167",
                    "level": "64"
                  },
                  {
                    "IdentifierId": "IdentifierId(3565)",
                    "log_timestamp": "2008-01-01 00:23:03",
                    "race": "Tauren",
                    "charclass": "Warrior",
                    "zoneId": "ZoneidId(Badlands)",
                    "guild": "273",
                    "level": "56"
                  },
                  {
                    "IdentifierId": "IdentifierId(31524)",
                    "log_timestamp": "2008-01-01 00:23:03",
                    "race": "Tauren",
                    "charclass": "Warrior",
                    "zoneId": "ZoneidId(Feralas)",
                    "guild": "-1",
                    "level": "53"
                  },
                  {
                    "IdentifierId": "IdentifierId(63604)",
                    "log_timestamp": "2008-01-01 00:23:03",
                    "race": "Tauren",
                    "charclass": "Druid",
                    "zoneId": "ZoneidId(Western Plaguelands)",
                    "guild": "293",
                    "level": "57"
                  },
                  {
                    "IdentifierId": "IdentifierId(37039)",
                    "log_timestamp": "2008-01-01 00:23:03",
                    "race": "Tauren",
                    "charclass": "Druid",
                    "zoneId": "ZoneidId(Zangarmarsh)",
                    "guild": "53",
                    "level": "64"
                  },
                  {
                    "IdentifierId": "IdentifierId(41715)",
                    "log_timestamp": "2008-01-01 00:23:03",
                    "race": "Tauren",
                    "charclass": "Warrior",
                    "zoneId": "ZoneidId(Zangarmarsh)",
                    "guild": "-1",
                    "level": "64"
                  },
                  {
                    "IdentifierId": "IdentifierId(61736)",
                    "log_timestamp": "2008-01-01 00:23:08",
                    "race": "Tauren",
                    "charclass": "Warrior",
                    "zoneId": "ZoneidId(Blade's Edge Mountains)",
                    "guild": "243",
                    "level": "67"
                  },
                  {
                    "IdentifierId": "IdentifierId(12295)",
                    "log_timestamp": "2008-01-01 00:23:08",
                    "race": "Tauren",
                    "charclass": "Druid",
                    "zoneId": "ZoneidId(Blade's Edge Mountains)",
                    "guild": "104",
                    "level": "69"
                  },
                  {
                    "IdentifierId": "IdentifierId(61856)",
                    "log_timestamp": "2008-01-01 00:23:08",
                    "race": "Tauren",
                    "charclass": "Druid",
                    "zoneId": "ZoneidId(Terokkar Forest)",
                    "guild": "-1",
                    "level": "66"
                  },
                  {
                    "IdentifierId": "IdentifierId(24767)",
                    "log_timestamp": "2008-01-01 00:23:08",
                    "race": "Tauren",
                    "charclass": "Shaman",
                    "zoneId": "ZoneidId(The Blood Furnace)",
                    "guild": "35",
                    "level": "67"
                  },
                  {
                    "IdentifierId": "IdentifierId(1617)",
                    "log_timestamp": "2008-01-01 00:23:13",
                    "race": "Tauren",
                    "charclass": "Warrior",
                    "zoneId": "ZoneidId(Blade's Edge Mountains)",
                    "guild": "243",
                    "level": "70"
                  },
                  {
                    "IdentifierId": "IdentifierId(23577)",
                    "log_timestamp": "2008-01-01 00:23:13",
                    "race": "Tauren",
                    "charclass": "Warrior",
                    "zoneId": "ZoneidId(Hellfire Peninsula)",
                    "guild": "103",
                    "level": "70"
                  },
                  {
                    "IdentifierId": "IdentifierId(1316)",
                    "log_timestamp": "2008-01-01 00:23:13",
                    "race": "Tauren",
                    "charclass": "Warrior",
                    "zoneId": "ZoneidId(Auchenai Crypts)",
                    "guild": "103",
                    "level": "70"
                  },
                  {
                    "IdentifierId": "IdentifierId(1491)",
                    "log_timestamp": "2008-01-01 00:23:13",
                    "race": "Tauren",
                    "charclass": "Warrior",
                    "zoneId": "ZoneidId(Orgrimmar)",
                    "guild": "216",
                    "level": "70"
                  },
                  {
                    "IdentifierId": "IdentifierId(140)",
                    "log_timestamp": "2008-01-01 00:23:13",
                    "race": "Tauren",
                    "charclass": "Warrior",
                    "zoneId": "ZoneidId(Shadowmoon Valley)",
                    "guild": "5",
                    "level": "70"
                  },
                  {
                    "IdentifierId": "IdentifierId(32794)",
                    "log_timestamp": "2008-01-01 00:23:13",
                    "race": "Tauren",
                    "charclass": "Warrior",
                    "zoneId": "ZoneidId(Shattrath City)",
                    "guild": "53",
                    "level": "70"
                  },
                  {
                    "IdentifierId": "IdentifierId(21861)",
                    "log_timestamp": "2008-01-01 00:23:13",
                    "race": "Tauren",
                    "charclass": "Warrior",
                    "zoneId": "ZoneidId(Eye of the Storm)",
                    "guild": "101",
                    "level": "70"
                  },
                  {
                    "IdentifierId": "IdentifierId(26111)",
                    "log_timestamp": "2008-01-01 00:23:13",
                    "race": "Tauren",
                    "charclass": "Warrior",
                    "zoneId": "ZoneidId(Durotar)",
                    "guild": "104",
                    "level": "70"
                  },
                  {
                    "IdentifierId": "IdentifierId(24209)",
                    "log_timestamp": "2008-01-01 00:23:13",
                    "race": "Tauren",
                    "charclass": "Warrior",
                    "zoneId": "ZoneidId(Durotar)",
                    "guild": "204",
                    "level": "70"
                  },
                  {
                    "IdentifierId": "IdentifierId(26843)",
                    "log_timestamp": "2008-01-01 00:23:13",
                    "race": "Tauren",
                    "charclass": "Warrior",
                    "zoneId": "ZoneidId(Stranglethorn Vale)",
                    "guild": "189",
                    "level": "70"
                  },
                  {
                    "IdentifierId": "IdentifierId(1274)",
                    "log_timestamp": "2008-01-01 00:23:13",
                    "race": "Tauren",
                    "charclass": "Warrior",
                    "zoneId": "ZoneidId(Netherstorm)",
                    "guild": "104",
                    "level": "70"
                  },
                  {
                    "IdentifierId": "IdentifierId(22541)",
                    "log_timestamp": "2008-01-01 00:23:13",
                    "race": "Tauren",
                    "charclass": "Warrior",
                    "zoneId": "ZoneidId(Arathi Basin)",
                    "guild": "-1",
                    "level": "70"
                  },
                  {
                    "IdentifierId": "IdentifierId(4399)",
                    "log_timestamp": "2008-01-01 00:23:13",
                    "race": "Tauren",
                    "charclass": "Warrior",
                    "zoneId": "ZoneidId(The Mechanar)",
                    "guild": "266",
                    "level": "70"
                  },
                  {
                    "IdentifierId": "IdentifierId(16968)",
                    "log_timestamp": "2008-01-01 00:23:13",
                    "race": "Tauren",
                    "charclass": "Warrior",
                    "zoneId": "ZoneidId(The Mechanar)",
                    "guild": "220",
                    "level": "70"
                  },
                  {
                    "IdentifierId": "IdentifierId(21880)",
                    "log_timestamp": "2008-01-01 00:23:18",
                    "race": "Tauren",
                    "charclass": "Hunter",
                    "zoneId": "ZoneidId(Orgrimmar)",
                    "guild": "204",
                    "level": "70"
                  },
                  {
                    "IdentifierId": "IdentifierId(22793)",
                    "log_timestamp": "2008-01-01 00:23:18",
                    "race": "Tauren",
                    "charclass": "Hunter",
                    "zoneId": "ZoneidId(Warsong Gulch)",
                    "guild": "-1",
                    "level": "70"
                  },
                  {
                    "IdentifierId": "IdentifierId(24388)",
                    "log_timestamp": "2008-01-01 00:23:18",
                    "race": "Tauren",
                    "charclass": "Hunter",
                    "zoneId": "ZoneidId(Durotar)",
                    "guild": "-1",
                    "level": "70"
                  },
                  {
                    "IdentifierId": "IdentifierId(23487)",
                    "log_timestamp": "2008-01-01 00:23:18",
                    "race": "Tauren",
                    "charclass": "Hunter",
                    "zoneId": "ZoneidId(Terokkar Forest)",
                    "guild": "101",
                    "level": "70"
                  },
                  {
                    "IdentifierId": "IdentifierId(19818)",
                    "log_timestamp": "2008-01-01 00:23:18",
                    "race": "Tauren",
                    "charclass": "Hunter",
                    "zoneId": "ZoneidId(Nagrand)",
                    "guild": "252",
                    "level": "70"
                  },
                  {
                    "IdentifierId": "IdentifierId(23737)",
                    "log_timestamp": "2008-01-01 00:23:18",
                    "race": "Tauren",
                    "charclass": "Hunter",
                    "zoneId": "ZoneidId(Deadwind Pass)",
                    "guild": "189",
                    "level": "70"
                  },
                  {
                    "IdentifierId": "IdentifierId(2158)",
                    "log_timestamp": "2008-01-01 00:23:18",
                    "race": "Tauren",
                    "charclass": "Hunter",
                    "zoneId": "ZoneidId(Arathi Basin)",
                    "guild": "5",
                    "level": "70"
                  },
                  {
                    "IdentifierId": "IdentifierId(22007)",
                    "log_timestamp": "2008-01-01 00:23:18",
                    "race": "Tauren",
                    "charclass": "Hunter",
                    "zoneId": "ZoneidId(Arathi Basin)",
                    "guild": "104",
                    "level": "70"
                  },
                  {
                    "IdentifierId": "IdentifierId(3249)",
                    "log_timestamp": "2008-01-01 00:23:18",
                    "race": "Tauren",
                    "charclass": "Hunter",
                    "zoneId": "ZoneidId(Arathi Basin)",
                    "guild": "19",
                    "level": "70"
                  },
                  {
                    "IdentifierId": "IdentifierId(21828)",
                    "log_timestamp": "2008-01-01 00:23:23",
                    "race": "Tauren",
                    "charclass": "Shaman",
                    "zoneId": "ZoneidId(Orgrimmar)",
                    "guild": "204",
                    "level": "70"
                  },
                  {
                    "IdentifierId": "IdentifierId(26235)",
                    "log_timestamp": "2008-01-01 00:23:23",
                    "race": "Tauren",
                    "charclass": "Shaman",
                    "zoneId": "ZoneidId(Alterac Valley)",
                    "guild": "53",
                    "level": "70"
                  },
                  {
                    "IdentifierId": "IdentifierId(32438)",
                    "log_timestamp": "2008-01-01 00:23:23",
                    "race": "Tauren",
                    "charclass": "Shaman",
                    "zoneId": "ZoneidId(Shadowmoon Valley)",
                    "guild": "35",
                    "level": "70"
                  },
                  {
                    "IdentifierId": "IdentifierId(46794)",
                    "log_timestamp": "2008-01-01 00:23:23",
                    "race": "Tauren",
                    "charclass": "Shaman",
                    "zoneId": "ZoneidId(Warsong Gulch)",
                    "guild": "204",
                    "level": "70"
                  },
                  {
                    "IdentifierId": "IdentifierId(1195)",
                    "log_timestamp": "2008-01-01 00:23:23",
                    "race": "Tauren",
                    "charclass": "Shaman",
                    "zoneId": "ZoneidId(Shattrath City)",
                    "guild": "19",
                    "level": "70"
                  },
                  {
                    "IdentifierId": "IdentifierId(87)",
                    "log_timestamp": "2008-01-01 00:23:23",
                    "race": "Tauren",
                    "charclass": "Shaman",
                    "zoneId": "ZoneidId(Nagrand)",
                    "guild": "19",
                    "level": "70"
                  },
                  {
                    "IdentifierId": "IdentifierId(30078)",
                    "log_timestamp": "2008-01-01 00:23:23",
                    "race": "Tauren",
                    "charclass": "Shaman",
                    "zoneId": "ZoneidId(The Steamvault)",
                    "guild": "5",
                    "level": "70"
                  },
                  {
                    "IdentifierId": "IdentifierId(39365)",
                    "log_timestamp": "2008-01-01 00:23:23",
                    "race": "Tauren",
                    "charclass": "Shaman",
                    "zoneId": "ZoneidId(Netherstorm)",
                    "guild": "35",
                    "level": "70"
                  },
                  {
                    "IdentifierId": "IdentifierId(60179)",
                    "log_timestamp": "2008-01-01 00:23:23",
                    "race": "Tauren",
                    "charclass": "Shaman",
                    "zoneId": "ZoneidId(Arathi Basin)",
                    "guild": "53",
                    "level": "70"
                  },
                  {
                    "IdentifierId": "IdentifierId(4989)",
                    "log_timestamp": "2008-01-01 00:23:23",
                    "race": "Tauren",
                    "charclass": "Shaman",
                    "zoneId": "ZoneidId(The Mechanar)",
                    "guild": "5",
                    "level": "70"
                  },
                  {
                    "IdentifierId": "IdentifierId(16884)",
                    "log_timestamp": "2008-01-01 00:23:23",
                    "race": "Tauren",
                    "charclass": "Shaman",
                    "zoneId": "ZoneidId(The Mechanar)",
                    "guild": "103",
                    "level": "70"
                  },
                  {
                    "IdentifierId": "IdentifierId(22379)",
                    "log_timestamp": "2008-01-01 00:23:23",
                    "race": "Tauren",
                    "charclass": "Shaman",
                    "zoneId": "ZoneidId(The Mechanar)",
                    "guild": "103",
                    "level": "70"
                  },
                  {
                    "IdentifierId": "IdentifierId(19085)",
                    "log_timestamp": "2008-01-01 00:23:28",
                    "race": "Tauren",
                    "charclass": "Druid",
                    "zoneId": "ZoneidId(The Arcatraz)",
                    "guild": "103",
                    "level": "70"
                  },
                  {
                    "IdentifierId": "IdentifierId(6759)",
                    "log_timestamp": "2008-01-01 00:23:28",
                    "race": "Tauren",
                    "charclass": "Druid",
                    "zoneId": "ZoneidId(Blade's Edge Mountains)",
                    "guild": "101",
                    "level": "70"
                  },
                  {
                    "IdentifierId": "IdentifierId(64923)",
                    "log_timestamp": "2008-01-01 00:23:28",
                    "race": "Tauren",
                    "charclass": "Druid",
                    "zoneId": "ZoneidId(Tanaris)",
                    "guild": "103",
                    "level": "70"
                  }
                ],
                "schema": {
                  "IdentifierId": "string",
                  "level": "string",
                  "race": "string",
                  "charclass": "string",
                  "zoneId": "string",
                  "guild": "string",
                  "log_timestamp": "int"
                }
              },
              "isSummary": false,
              "language": "scala"
            }
          },
          "execution_count": 4,
          "metadata": {}
        }
      ],
      "metadata": {
        "diagram": {
          "activateDiagramType": 1,
          "chartConfig": {
            "category": "bar",
            "keys": [
              "IdentifierId"
            ],
            "values": [
              "log_timestamp"
            ],
            "yLabel": "log_timestamp",
            "xLabel": "IdentifierId",
            "aggregation": "SUM",
            "aggByBackend": false
          },
          "aggData": "{\"log_timestamp\":{\"IdentifierId(1003)\":0,\"IdentifierId(10043)\":0,\"IdentifierId(10223)\":0,\"IdentifierId(10263)\":0,\"IdentifierId(10266)\":0,\"IdentifierId(10543)\":0,\"IdentifierId(1055)\":0,\"IdentifierId(1094)\":0,\"IdentifierId(11087)\":0,\"IdentifierId(112)\":0,\"IdentifierId(11609)\":0,\"IdentifierId(11705)\":0,\"IdentifierId(11706)\":0,\"IdentifierId(1195)\":0,\"IdentifierId(12166)\":0,\"IdentifierId(12213)\":0,\"IdentifierId(12295)\":0,\"IdentifierId(12386)\":0,\"IdentifierId(12663)\":0,\"IdentifierId(1274)\":0,\"IdentifierId(12930)\":0,\"IdentifierId(1316)\":0,\"IdentifierId(133)\":0,\"IdentifierId(13619)\":0,\"IdentifierId(1379)\":0,\"IdentifierId(13816)\":0,\"IdentifierId(1386)\":0,\"IdentifierId(13980)\":0,\"IdentifierId(140)\":0,\"IdentifierId(141)\":0,\"IdentifierId(14525)\":0,\"IdentifierId(1484)\":0,\"IdentifierId(1491)\":0,\"IdentifierId(15224)\":0,\"IdentifierId(15605)\":0,\"IdentifierId(16156)\":0,\"IdentifierId(1617)\":0,\"IdentifierId(16384)\":0,\"IdentifierId(16597)\":0,\"IdentifierId(16797)\":0,\"IdentifierId(16817)\":0,\"IdentifierId(16884)\":0,\"IdentifierId(16968)\":0,\"IdentifierId(17230)\":0,\"IdentifierId(17528)\":0,\"IdentifierId(17738)\":0,\"IdentifierId(1774)\":0,\"IdentifierId(178)\":0,\"IdentifierId(18065)\":0,\"IdentifierId(182)\":0,\"IdentifierId(18411)\":0,\"IdentifierId(18442)\":0,\"IdentifierId(18473)\":0,\"IdentifierId(18610)\":0,\"IdentifierId(18827)\":0,\"IdentifierId(18863)\":0,\"IdentifierId(18898)\":0,\"IdentifierId(19050)\":0,\"IdentifierId(19085)\":0,\"IdentifierId(19449)\":0,\"IdentifierId(195)\":0,\"IdentifierId(19566)\":0,\"IdentifierId(19666)\":0,\"IdentifierId(19818)\":0,\"IdentifierId(2035)\":0,\"IdentifierId(20521)\":0,\"IdentifierId(21046)\":0,\"IdentifierId(2158)\":0,\"IdentifierId(2166)\":0,\"IdentifierId(21752)\":0,\"IdentifierId(21810)\":0,\"IdentifierId(21828)\":0,\"IdentifierId(21861)\":0,\"IdentifierId(21880)\":0,\"IdentifierId(21885)\":0,\"IdentifierId(21905)\":0,\"IdentifierId(21950)\":0,\"IdentifierId(21957)\":0,\"IdentifierId(21976)\":0,\"IdentifierId(22007)\":0,\"IdentifierId(22021)\":0,\"IdentifierId(22039)\":0,\"IdentifierId(22069)\":0,\"IdentifierId(22071)\":0,\"IdentifierId(22155)\":0,\"IdentifierId(22167)\":0,\"IdentifierId(22171)\":0,\"IdentifierId(22176)\":0,\"IdentifierId(22246)\":0,\"IdentifierId(22249)\":0,\"IdentifierId(22271)\":0,\"IdentifierId(22307)\":0,\"IdentifierId(22311)\":0,\"IdentifierId(22321)\":0,\"IdentifierId(22350)\":0,\"IdentifierId(22368)\":0,\"IdentifierId(22379)\":0,\"IdentifierId(2240)\":0,\"IdentifierId(22410)\":0,\"IdentifierId(22424)\":0,\"IdentifierId(22444)\":0,\"IdentifierId(22453)\":0,\"IdentifierId(22454)\":0,\"IdentifierId(22456)\":0,\"IdentifierId(22466)\":0,\"IdentifierId(22474)\":0,\"IdentifierId(22488)\":0,\"IdentifierId(22519)\":0,\"IdentifierId(22541)\":0,\"IdentifierId(22555)\":0,\"IdentifierId(22557)\":0,\"IdentifierId(22576)\":0,\"IdentifierId(22594)\":0,\"IdentifierId(22609)\":0,\"IdentifierId(22629)\":0,\"IdentifierId(22653)\":0,\"IdentifierId(22662)\":0,\"IdentifierId(22666)\":0,\"IdentifierId(22703)\":0,\"IdentifierId(22737)\":0,\"IdentifierId(22793)\":0,\"IdentifierId(2288)\":0,\"IdentifierId(2289)\":0,\"IdentifierId(22934)\":0,\"IdentifierId(22937)\":0,\"IdentifierId(230)\":0,\"IdentifierId(23060)\":0,\"IdentifierId(23062)\":0,\"IdentifierId(23145)\":0,\"IdentifierId(23186)\":0,\"IdentifierId(23248)\":0,\"IdentifierId(23291)\":0,\"IdentifierId(23482)\":0,\"IdentifierId(23487)\":0,\"IdentifierId(23577)\":0,\"IdentifierId(23737)\":0,\"IdentifierId(23807)\":0,\"IdentifierId(24158)\":0,\"IdentifierId(24209)\":0,\"IdentifierId(24388)\":0,\"IdentifierId(24390)\":0,\"IdentifierId(246)\":0,\"IdentifierId(24674)\":0,\"IdentifierId(24707)\":0,\"IdentifierId(24723)\":0,\"IdentifierId(24767)\":0,\"IdentifierId(24815)\":0,\"IdentifierId(24854)\":0,\"IdentifierId(25140)\":0,\"IdentifierId(25213)\":0,\"IdentifierId(25335)\":0,\"IdentifierId(25501)\":0,\"IdentifierId(25687)\":0,\"IdentifierId(25748)\":0,\"IdentifierId(26111)\":0,\"IdentifierId(26137)\":0,\"IdentifierId(26235)\":0,\"IdentifierId(26278)\":0,\"IdentifierId(26610)\":0,\"IdentifierId(2663)\":0,\"IdentifierId(26843)\":0,\"IdentifierId(26983)\":0,\"IdentifierId(27081)\":0,\"IdentifierId(27288)\":0,\"IdentifierId(27427)\":0,\"IdentifierId(27554)\":0,\"IdentifierId(27659)\":0,\"IdentifierId(27711)\":0,\"IdentifierId(27725)\":0,\"IdentifierId(2780)\":0,\"IdentifierId(2796)\":0,\"IdentifierId(28651)\":0,\"IdentifierId(28695)\":0,\"IdentifierId(29058)\":0,\"IdentifierId(29710)\":0,\"IdentifierId(29896)\":0,\"IdentifierId(29999)\":0,\"IdentifierId(30072)\":0,\"IdentifierId(30078)\":0,\"IdentifierId(303)\":0,\"IdentifierId(30452)\":0,\"IdentifierId(30974)\":0,\"IdentifierId(31524)\":0,\"IdentifierId(31647)\":0,\"IdentifierId(323)\":0,\"IdentifierId(32357)\":0,\"IdentifierId(32438)\":0,\"IdentifierId(3249)\":0,\"IdentifierId(32661)\":0,\"IdentifierId(3275)\":0,\"IdentifierId(32794)\":0,\"IdentifierId(32818)\":0,\"IdentifierId(32985)\":0,\"IdentifierId(33016)\":0,\"IdentifierId(33170)\":0,\"IdentifierId(33256)\":0,\"IdentifierId(34319)\":0,\"IdentifierId(34454)\":0,\"IdentifierId(345)\":0,\"IdentifierId(34666)\":0,\"IdentifierId(34673)\":0,\"IdentifierId(34870)\":0,\"IdentifierId(35004)\":0,\"IdentifierId(35143)\":0,\"IdentifierId(35204)\":0,\"IdentifierId(35263)\":0,\"IdentifierId(35268)\":0,\"IdentifierId(35336)\":0,\"IdentifierId(354)\":0,\"IdentifierId(35580)\":0,\"IdentifierId(35622)\":0,\"IdentifierId(3565)\":0,\"IdentifierId(35697)\":0,\"IdentifierId(35729)\":0,\"IdentifierId(35760)\":0,\"IdentifierId(36)\":0,\"IdentifierId(36139)\":0,\"IdentifierId(36187)\":0,\"IdentifierId(36200)\":0,\"IdentifierId(36245)\":0,\"IdentifierId(36328)\":0,\"IdentifierId(36407)\":0,\"IdentifierId(36442)\":0,\"IdentifierId(36553)\":0,\"IdentifierId(37029)\":0,\"IdentifierId(37036)\":0,\"IdentifierId(37039)\":0,\"IdentifierId(37084)\":0,\"IdentifierId(38081)\":0,\"IdentifierId(38082)\":0,\"IdentifierId(38324)\":0,\"IdentifierId(38495)\":0,\"IdentifierId(38500)\":0,\"IdentifierId(39107)\":0,\"IdentifierId(39253)\":0,\"IdentifierId(39365)\":0,\"IdentifierId(394)\":0,\"IdentifierId(39590)\":0,\"IdentifierId(4002)\":0,\"IdentifierId(40092)\":0,\"IdentifierId(40453)\":0,\"IdentifierId(40469)\":0,\"IdentifierId(40700)\":0,\"IdentifierId(41029)\":0,\"IdentifierId(41252)\":0,\"IdentifierId(4141)\":0,\"IdentifierId(41436)\":0,\"IdentifierId(41519)\":0,\"IdentifierId(41661)\":0,\"IdentifierId(417)\":0,\"IdentifierId(41715)\":0,\"IdentifierId(41728)\":0,\"IdentifierId(41802)\":0,\"IdentifierId(41829)\":0,\"IdentifierId(42099)\":0,\"IdentifierId(42267)\":0,\"IdentifierId(43945)\":0,\"IdentifierId(4399)\":0,\"IdentifierId(44)\":0,\"IdentifierId(44354)\":0,\"IdentifierId(44387)\":0,\"IdentifierId(44398)\":0,\"IdentifierId(44477)\":0,\"IdentifierId(45029)\":0,\"IdentifierId(45364)\":0,\"IdentifierId(45368)\":0,\"IdentifierId(45422)\":0,\"IdentifierId(45457)\":0,\"IdentifierId(45491)\":0,\"IdentifierId(45552)\":0,\"IdentifierId(45704)\":0,\"IdentifierId(45918)\":0,\"IdentifierId(460)\":0,\"IdentifierId(46138)\":0,\"IdentifierId(46188)\":0,\"IdentifierId(46502)\":0,\"IdentifierId(46755)\":0,\"IdentifierId(46794)\":0,\"IdentifierId(46803)\":0,\"IdentifierId(47077)\":0,\"IdentifierId(47108)\":0,\"IdentifierId(47116)\":0,\"IdentifierId(47531)\":0,\"IdentifierId(47637)\":0,\"IdentifierId(47880)\":0,\"IdentifierId(48234)\":0,\"IdentifierId(48417)\":0,\"IdentifierId(48432)\":0,\"IdentifierId(48589)\":0,\"IdentifierId(48660)\":0,\"IdentifierId(48670)\":0,\"IdentifierId(48821)\":0,\"IdentifierId(4932)\":0,\"IdentifierId(49719)\":0,\"IdentifierId(49788)\":0,\"IdentifierId(49810)\":0,\"IdentifierId(4989)\":0,\"IdentifierId(49944)\":0,\"IdentifierId(50046)\":0,\"IdentifierId(50401)\":0,\"IdentifierId(50524)\":0,\"IdentifierId(5088)\":0,\"IdentifierId(51138)\":0,\"IdentifierId(51246)\":0,\"IdentifierId(51444)\":0,\"IdentifierId(51738)\":0,\"IdentifierId(51768)\":0,\"IdentifierId(52103)\":0,\"IdentifierId(52362)\":0,\"IdentifierId(52427)\":0,\"IdentifierId(52445)\":0,\"IdentifierId(52497)\":0,\"IdentifierId(52499)\":0,\"IdentifierId(52549)\":0,\"IdentifierId(52793)\":0,\"IdentifierId(52818)\":0,\"IdentifierId(52944)\":0,\"IdentifierId(53)\":0,\"IdentifierId(53170)\":0,\"IdentifierId(53228)\":0,\"IdentifierId(53229)\":0,\"IdentifierId(53785)\":0,\"IdentifierId(53911)\":0,\"IdentifierId(54534)\":0,\"IdentifierId(54676)\":0,\"IdentifierId(54869)\":0,\"IdentifierId(54918)\":0,\"IdentifierId(55037)\":0,\"IdentifierId(55051)\":0,\"IdentifierId(55614)\":0,\"IdentifierId(55667)\":0,\"IdentifierId(55762)\":0,\"IdentifierId(55787)\":0,\"IdentifierId(55791)\":0,\"IdentifierId(55922)\":0,\"IdentifierId(55932)\":0,\"IdentifierId(56579)\":0,\"IdentifierId(56692)\":0,\"IdentifierId(57101)\":0,\"IdentifierId(57137)\":0,\"IdentifierId(57316)\":0,\"IdentifierId(57744)\":0,\"IdentifierId(57770)\":0,\"IdentifierId(57830)\":0,\"IdentifierId(58074)\":0,\"IdentifierId(582)\":0,\"IdentifierId(58242)\":0,\"IdentifierId(58710)\":0,\"IdentifierId(58800)\":0,\"IdentifierId(58813)\":0,\"IdentifierId(58974)\":0,\"IdentifierId(58987)\":0,\"IdentifierId(59029)\":0,\"IdentifierId(59334)\":0,\"IdentifierId(59425)\":0,\"IdentifierId(59467)\":0,\"IdentifierId(59548)\":0,\"IdentifierId(59629)\":0,\"IdentifierId(59772)\":0,\"IdentifierId(60100)\":0,\"IdentifierId(60168)\":0,\"IdentifierId(60179)\":0,\"IdentifierId(60250)\":0,\"IdentifierId(60343)\":0,\"IdentifierId(60525)\":0,\"IdentifierId(60628)\":0,\"IdentifierId(60674)\":0,\"IdentifierId(60782)\":0,\"IdentifierId(60859)\":0,\"IdentifierId(60870)\":0,\"IdentifierId(61105)\":0,\"IdentifierId(61239)\":0,\"IdentifierId(61409)\":0,\"IdentifierId(61421)\":0,\"IdentifierId(61505)\":0,\"IdentifierId(61510)\":0,\"IdentifierId(61560)\":0,\"IdentifierId(61663)\":0,\"IdentifierId(61736)\":0,\"IdentifierId(61755)\":0,\"IdentifierId(61769)\":0,\"IdentifierId(61773)\":0,\"IdentifierId(61856)\":0,\"IdentifierId(61883)\":0,\"IdentifierId(61942)\":0,\"IdentifierId(62)\":0,\"IdentifierId(62023)\":0,\"IdentifierId(62095)\":0,\"IdentifierId(62348)\":0,\"IdentifierId(62410)\":0,\"IdentifierId(62426)\":0,\"IdentifierId(62580)\":0,\"IdentifierId(62585)\":0,\"IdentifierId(62591)\":0,\"IdentifierId(62829)\":0,\"IdentifierId(62933)\":0,\"IdentifierId(62987)\":0,\"IdentifierId(62995)\":0,\"IdentifierId(62999)\":0,\"IdentifierId(63081)\":0,\"IdentifierId(63133)\":0,\"IdentifierId(63273)\":0,\"IdentifierId(63302)\":0,\"IdentifierId(63311)\":0,\"IdentifierId(63335)\":0,\"IdentifierId(63401)\":0,\"IdentifierId(63533)\":0,\"IdentifierId(63541)\":0,\"IdentifierId(63599)\":0,\"IdentifierId(63604)\":0,\"IdentifierId(63646)\":0,\"IdentifierId(63662)\":0,\"IdentifierId(63729)\":0,\"IdentifierId(63753)\":0,\"IdentifierId(63804)\":0,\"IdentifierId(64)\":0,\"IdentifierId(64031)\":0,\"IdentifierId(64095)\":0,\"IdentifierId(64136)\":0,\"IdentifierId(64141)\":0,\"IdentifierId(64297)\":0,\"IdentifierId(64310)\":0,\"IdentifierId(64380)\":0,\"IdentifierId(64397)\":0,\"IdentifierId(64475)\":0,\"IdentifierId(64497)\":0,\"IdentifierId(64510)\":0,\"IdentifierId(64580)\":0,\"IdentifierId(64604)\":0,\"IdentifierId(64609)\":0,\"IdentifierId(64632)\":0,\"IdentifierId(64650)\":0,\"IdentifierId(64655)\":0,\"IdentifierId(64656)\":0,\"IdentifierId(64784)\":0,\"IdentifierId(64813)\":0,\"IdentifierId(64823)\":0,\"IdentifierId(64875)\":0,\"IdentifierId(64904)\":0,\"IdentifierId(64923)\":0,\"IdentifierId(64950)\":0,\"IdentifierId(64975)\":0,\"IdentifierId(650)\":0,\"IdentifierId(65002)\":0,\"IdentifierId(65013)\":0,\"IdentifierId(65077)\":0,\"IdentifierId(65180)\":0,\"IdentifierId(65181)\":0,\"IdentifierId(65217)\":0,\"IdentifierId(65230)\":0,\"IdentifierId(65322)\":0,\"IdentifierId(65403)\":0,\"IdentifierId(65409)\":0,\"IdentifierId(65415)\":0,\"IdentifierId(65420)\":0,\"IdentifierId(65436)\":0,\"IdentifierId(65444)\":0,\"IdentifierId(65469)\":0,\"IdentifierId(65477)\":0,\"IdentifierId(65490)\":0,\"IdentifierId(65494)\":0,\"IdentifierId(65531)\":0,\"IdentifierId(65547)\":0,\"IdentifierId(65548)\":0,\"IdentifierId(65549)\":0,\"IdentifierId(65550)\":0,\"IdentifierId(663)\":0,\"IdentifierId(6759)\":0,\"IdentifierId(68)\":0,\"IdentifierId(7087)\":0,\"IdentifierId(7127)\":0,\"IdentifierId(722)\":0,\"IdentifierId(753)\":0,\"IdentifierId(782)\":0,\"IdentifierId(7842)\":0,\"IdentifierId(87)\":0,\"IdentifierId(9084)\":0,\"IdentifierId(9085)\":0,\"IdentifierId(91)\":0,\"IdentifierId(9194)\":0,\"IdentifierId(941)\":0,\"IdentifierId(9486)\":0,\"IdentifierId(9583)\":0,\"IdentifierId(9695)\":0,\"IdentifierId(973)\":0,\"IdentifierId(980)\":0}}",
          "isSummary": false,
          "previewData": {
            "filter": null
          },
          "isSql": false
        }
      },
      "source": [
        "wow_log_df = wow_log_df.withColumn('log_timestamp',unix_timestamp(col('log_timestamp'),'E MMM dd HH:mm:ss z yyyy'))\n",
        "wow_log_df = wow_log_df.withColumn(\"log_timestamp\",to_timestamp(col('log_timestamp')))\n",
        "display(wow_log_df)\n",
        "\n",
        "churners_df = churners_df.withColumn('churn_timestamp',unix_timestamp(col('churn_timestamp'),'E MMM dd HH:mm:ss z yyyy'))\n",
        "churners_df = churners_df.withColumn('churn_timestamp',to_timestamp(col('churn_timestamp')))"
      ],
      "attachments": {}
    },
    {
      "cell_type": "code",
      "execution_count": 6,
      "outputs": [
        {
          "output_type": "execute_result",
          "data": {
            "application/json": {
              "table": {
                "rows": [
                  {
                    "churn_timestamp": "2008-09-27 23:59:58",
                    "churn": "FALSE",
                    "IdentifierId": "IdentifierId(26088)"
                  },
                  {
                    "churn_timestamp": "2008-09-27 23:59:58",
                    "churn": "FALSE",
                    "IdentifierId": "IdentifierId(22250)"
                  },
                  {
                    "churn_timestamp": "2008-09-27 23:59:58",
                    "churn": "FALSE",
                    "IdentifierId": "IdentifierId(63048)"
                  },
                  {
                    "churn_timestamp": "2008-09-27 23:59:53",
                    "churn": "FALSE",
                    "IdentifierId": "IdentifierId(30491)"
                  },
                  {
                    "churn_timestamp": "2008-09-27 23:59:53",
                    "churn": "FALSE",
                    "IdentifierId": "IdentifierId(70838)"
                  },
                  {
                    "churn_timestamp": "2008-09-27 23:59:48",
                    "churn": "FALSE",
                    "IdentifierId": "IdentifierId(74227)"
                  },
                  {
                    "churn_timestamp": "2008-09-27 23:59:48",
                    "churn": "FALSE",
                    "IdentifierId": "IdentifierId(77763)"
                  },
                  {
                    "churn_timestamp": "2008-09-27 23:59:48",
                    "churn": "TRUE",
                    "IdentifierId": "IdentifierId(29904)"
                  },
                  {
                    "churn_timestamp": "2008-09-27 23:59:48",
                    "churn": "FALSE",
                    "IdentifierId": "IdentifierId(24558)"
                  },
                  {
                    "churn_timestamp": "2008-09-27 23:59:48",
                    "churn": "FALSE",
                    "IdentifierId": "IdentifierId(73761)"
                  },
                  {
                    "churn_timestamp": "2008-09-27 23:59:48",
                    "churn": "FALSE",
                    "IdentifierId": "IdentifierId(22786)"
                  },
                  {
                    "churn_timestamp": "2008-09-27 23:59:48",
                    "churn": "FALSE",
                    "IdentifierId": "IdentifierId(7355)"
                  },
                  {
                    "churn_timestamp": "2008-09-27 23:59:48",
                    "churn": "FALSE",
                    "IdentifierId": "IdentifierId(75141)"
                  },
                  {
                    "churn_timestamp": "2008-09-27 23:59:48",
                    "churn": "FALSE",
                    "IdentifierId": "IdentifierId(9661)"
                  },
                  {
                    "churn_timestamp": "2008-09-27 23:59:48",
                    "churn": "FALSE",
                    "IdentifierId": "IdentifierId(75895)"
                  },
                  {
                    "churn_timestamp": "2008-09-27 23:59:48",
                    "churn": "FALSE",
                    "IdentifierId": "IdentifierId(25200)"
                  },
                  {
                    "churn_timestamp": "2008-09-27 23:59:43",
                    "churn": "TRUE",
                    "IdentifierId": "IdentifierId(78536)"
                  },
                  {
                    "churn_timestamp": "2008-09-27 23:59:43",
                    "churn": "FALSE",
                    "IdentifierId": "IdentifierId(77670)"
                  },
                  {
                    "churn_timestamp": "2008-09-27 23:59:43",
                    "churn": "FALSE",
                    "IdentifierId": "IdentifierId(33593)"
                  },
                  {
                    "churn_timestamp": "2008-09-27 23:59:43",
                    "churn": "FALSE",
                    "IdentifierId": "IdentifierId(31558)"
                  },
                  {
                    "churn_timestamp": "2008-09-27 23:59:43",
                    "churn": "TRUE",
                    "IdentifierId": "IdentifierId(78567)"
                  },
                  {
                    "churn_timestamp": "2008-09-27 23:59:43",
                    "churn": "FALSE",
                    "IdentifierId": "IdentifierId(78550)"
                  },
                  {
                    "churn_timestamp": "2008-09-27 23:59:43",
                    "churn": "TRUE",
                    "IdentifierId": "IdentifierId(78561)"
                  },
                  {
                    "churn_timestamp": "2008-09-27 23:59:43",
                    "churn": "TRUE",
                    "IdentifierId": "IdentifierId(63529)"
                  },
                  {
                    "churn_timestamp": "2008-09-27 23:59:43",
                    "churn": "TRUE",
                    "IdentifierId": "IdentifierId(78429)"
                  },
                  {
                    "churn_timestamp": "2008-09-27 23:59:43",
                    "churn": "FALSE",
                    "IdentifierId": "IdentifierId(77624)"
                  },
                  {
                    "churn_timestamp": "2008-09-27 23:59:43",
                    "churn": "FALSE",
                    "IdentifierId": "IdentifierId(78405)"
                  },
                  {
                    "churn_timestamp": "2008-09-27 23:59:43",
                    "churn": "TRUE",
                    "IdentifierId": "IdentifierId(76996)"
                  },
                  {
                    "churn_timestamp": "2008-09-27 23:59:43",
                    "churn": "FALSE",
                    "IdentifierId": "IdentifierId(71893)"
                  },
                  {
                    "churn_timestamp": "2008-09-27 23:59:43",
                    "churn": "FALSE",
                    "IdentifierId": "IdentifierId(28622)"
                  },
                  {
                    "churn_timestamp": "2008-09-27 23:59:43",
                    "churn": "TRUE",
                    "IdentifierId": "IdentifierId(77756)"
                  },
                  {
                    "churn_timestamp": "2008-09-27 23:59:43",
                    "churn": "FALSE",
                    "IdentifierId": "IdentifierId(74107)"
                  },
                  {
                    "churn_timestamp": "2008-09-27 23:59:43",
                    "churn": "TRUE",
                    "IdentifierId": "IdentifierId(28758)"
                  },
                  {
                    "churn_timestamp": "2008-09-27 23:59:43",
                    "churn": "TRUE",
                    "IdentifierId": "IdentifierId(72846)"
                  },
                  {
                    "churn_timestamp": "2008-09-27 23:59:38",
                    "churn": "FALSE",
                    "IdentifierId": "IdentifierId(18732)"
                  },
                  {
                    "churn_timestamp": "2008-09-27 23:59:38",
                    "churn": "FALSE",
                    "IdentifierId": "IdentifierId(24288)"
                  },
                  {
                    "churn_timestamp": "2008-09-27 23:59:38",
                    "churn": "FALSE",
                    "IdentifierId": "IdentifierId(17775)"
                  },
                  {
                    "churn_timestamp": "2008-09-27 23:59:38",
                    "churn": "FALSE",
                    "IdentifierId": "IdentifierId(1020)"
                  },
                  {
                    "churn_timestamp": "2008-09-27 23:59:38",
                    "churn": "FALSE",
                    "IdentifierId": "IdentifierId(22382)"
                  },
                  {
                    "churn_timestamp": "2008-09-27 23:59:38",
                    "churn": "FALSE",
                    "IdentifierId": "IdentifierId(17111)"
                  },
                  {
                    "churn_timestamp": "2008-09-27 23:59:33",
                    "churn": "FALSE",
                    "IdentifierId": "IdentifierId(62646)"
                  },
                  {
                    "churn_timestamp": "2008-09-27 23:59:33",
                    "churn": "FALSE",
                    "IdentifierId": "IdentifierId(7084)"
                  },
                  {
                    "churn_timestamp": "2008-09-27 23:59:28",
                    "churn": "FALSE",
                    "IdentifierId": "IdentifierId(68112)"
                  },
                  {
                    "churn_timestamp": "2008-09-27 23:59:28",
                    "churn": "FALSE",
                    "IdentifierId": "IdentifierId(71853)"
                  },
                  {
                    "churn_timestamp": "2008-09-27 23:59:22",
                    "churn": "FALSE",
                    "IdentifierId": "IdentifierId(881)"
                  },
                  {
                    "churn_timestamp": "2008-09-27 23:59:22",
                    "churn": "FALSE",
                    "IdentifierId": "IdentifierId(32590)"
                  },
                  {
                    "churn_timestamp": "2008-09-27 23:59:22",
                    "churn": "FALSE",
                    "IdentifierId": "IdentifierId(1148)"
                  },
                  {
                    "churn_timestamp": "2008-09-27 23:59:22",
                    "churn": "FALSE",
                    "IdentifierId": "IdentifierId(685)"
                  },
                  {
                    "churn_timestamp": "2008-09-27 23:59:17",
                    "churn": "FALSE",
                    "IdentifierId": "IdentifierId(71901)"
                  },
                  {
                    "churn_timestamp": "2008-09-27 23:59:17",
                    "churn": "FALSE",
                    "IdentifierId": "IdentifierId(69528)"
                  },
                  {
                    "churn_timestamp": "2008-09-27 23:59:17",
                    "churn": "FALSE",
                    "IdentifierId": "IdentifierId(46502)"
                  },
                  {
                    "churn_timestamp": "2008-09-27 23:59:17",
                    "churn": "FALSE",
                    "IdentifierId": "IdentifierId(22246)"
                  },
                  {
                    "churn_timestamp": "2008-09-27 23:59:17",
                    "churn": "FALSE",
                    "IdentifierId": "IdentifierId(2309)"
                  },
                  {
                    "churn_timestamp": "2008-09-27 23:59:17",
                    "churn": "FALSE",
                    "IdentifierId": "IdentifierId(22137)"
                  },
                  {
                    "churn_timestamp": "2008-09-27 23:59:17",
                    "churn": "TRUE",
                    "IdentifierId": "IdentifierId(75255)"
                  },
                  {
                    "churn_timestamp": "2008-09-27 23:59:17",
                    "churn": "FALSE",
                    "IdentifierId": "IdentifierId(50490)"
                  },
                  {
                    "churn_timestamp": "2008-09-27 23:59:12",
                    "churn": "FALSE",
                    "IdentifierId": "IdentifierId(21891)"
                  },
                  {
                    "churn_timestamp": "2008-09-27 23:59:12",
                    "churn": "TRUE",
                    "IdentifierId": "IdentifierId(417)"
                  },
                  {
                    "churn_timestamp": "2008-09-27 23:59:07",
                    "churn": "FALSE",
                    "IdentifierId": "IdentifierId(75769)"
                  },
                  {
                    "churn_timestamp": "2008-09-27 23:59:07",
                    "churn": "TRUE",
                    "IdentifierId": "IdentifierId(1821)"
                  },
                  {
                    "churn_timestamp": "2008-09-27 23:59:07",
                    "churn": "TRUE",
                    "IdentifierId": "IdentifierId(27548)"
                  },
                  {
                    "churn_timestamp": "2008-09-27 23:59:02",
                    "churn": "FALSE",
                    "IdentifierId": "IdentifierId(23650)"
                  },
                  {
                    "churn_timestamp": "2008-09-27 23:58:57",
                    "churn": "TRUE",
                    "IdentifierId": "IdentifierId(30052)"
                  },
                  {
                    "churn_timestamp": "2008-09-27 23:58:57",
                    "churn": "FALSE",
                    "IdentifierId": "IdentifierId(77881)"
                  },
                  {
                    "churn_timestamp": "2008-09-27 23:58:57",
                    "churn": "FALSE",
                    "IdentifierId": "IdentifierId(61814)"
                  },
                  {
                    "churn_timestamp": "2008-09-27 23:58:57",
                    "churn": "FALSE",
                    "IdentifierId": "IdentifierId(182)"
                  },
                  {
                    "churn_timestamp": "2008-09-27 23:58:57",
                    "churn": "FALSE",
                    "IdentifierId": "IdentifierId(76771)"
                  },
                  {
                    "churn_timestamp": "2008-09-27 23:58:51",
                    "churn": "FALSE",
                    "IdentifierId": "IdentifierId(990)"
                  },
                  {
                    "churn_timestamp": "2008-09-27 23:58:51",
                    "churn": "FALSE",
                    "IdentifierId": "IdentifierId(13705)"
                  },
                  {
                    "churn_timestamp": "2008-09-27 23:58:51",
                    "churn": "FALSE",
                    "IdentifierId": "IdentifierId(11675)"
                  },
                  {
                    "churn_timestamp": "2008-09-27 23:58:51",
                    "churn": "FALSE",
                    "IdentifierId": "IdentifierId(19581)"
                  },
                  {
                    "churn_timestamp": "2008-09-27 23:58:51",
                    "churn": "FALSE",
                    "IdentifierId": "IdentifierId(27900)"
                  },
                  {
                    "churn_timestamp": "2008-09-27 23:58:51",
                    "churn": "FALSE",
                    "IdentifierId": "IdentifierId(3472)"
                  },
                  {
                    "churn_timestamp": "2008-09-27 23:58:51",
                    "churn": "FALSE",
                    "IdentifierId": "IdentifierId(6142)"
                  },
                  {
                    "churn_timestamp": "2008-09-27 23:58:51",
                    "churn": "FALSE",
                    "IdentifierId": "IdentifierId(73850)"
                  },
                  {
                    "churn_timestamp": "2008-09-27 23:58:51",
                    "churn": "FALSE",
                    "IdentifierId": "IdentifierId(74127)"
                  },
                  {
                    "churn_timestamp": "2008-09-27 23:58:51",
                    "churn": "FALSE",
                    "IdentifierId": "IdentifierId(75706)"
                  },
                  {
                    "churn_timestamp": "2008-09-27 23:58:51",
                    "churn": "FALSE",
                    "IdentifierId": "IdentifierId(71918)"
                  },
                  {
                    "churn_timestamp": "2008-09-27 23:58:51",
                    "churn": "FALSE",
                    "IdentifierId": "IdentifierId(1170)"
                  },
                  {
                    "churn_timestamp": "2008-09-27 23:58:51",
                    "churn": "FALSE",
                    "IdentifierId": "IdentifierId(71977)"
                  },
                  {
                    "churn_timestamp": "2008-09-27 23:58:51",
                    "churn": "TRUE",
                    "IdentifierId": "IdentifierId(27212)"
                  },
                  {
                    "churn_timestamp": "2008-09-27 23:58:51",
                    "churn": "FALSE",
                    "IdentifierId": "IdentifierId(62469)"
                  },
                  {
                    "churn_timestamp": "2008-09-27 23:58:51",
                    "churn": "FALSE",
                    "IdentifierId": "IdentifierId(56776)"
                  },
                  {
                    "churn_timestamp": "2008-09-27 23:58:51",
                    "churn": "TRUE",
                    "IdentifierId": "IdentifierId(72858)"
                  },
                  {
                    "churn_timestamp": "2008-09-27 23:58:51",
                    "churn": "FALSE",
                    "IdentifierId": "IdentifierId(69075)"
                  },
                  {
                    "churn_timestamp": "2008-09-27 23:58:51",
                    "churn": "FALSE",
                    "IdentifierId": "IdentifierId(28486)"
                  },
                  {
                    "churn_timestamp": "2008-09-27 23:58:51",
                    "churn": "FALSE",
                    "IdentifierId": "IdentifierId(23742)"
                  },
                  {
                    "churn_timestamp": "2008-09-27 23:58:51",
                    "churn": "FALSE",
                    "IdentifierId": "IdentifierId(32765)"
                  },
                  {
                    "churn_timestamp": "2008-09-27 23:58:51",
                    "churn": "FALSE",
                    "IdentifierId": "IdentifierId(51930)"
                  },
                  {
                    "churn_timestamp": "2008-09-27 23:58:51",
                    "churn": "FALSE",
                    "IdentifierId": "IdentifierId(68221)"
                  },
                  {
                    "churn_timestamp": "2008-09-27 23:58:51",
                    "churn": "FALSE",
                    "IdentifierId": "IdentifierId(46110)"
                  },
                  {
                    "churn_timestamp": "2008-09-27 23:58:51",
                    "churn": "FALSE",
                    "IdentifierId": "IdentifierId(10868)"
                  },
                  {
                    "churn_timestamp": "2008-09-27 23:58:46",
                    "churn": "FALSE",
                    "IdentifierId": "IdentifierId(58866)"
                  },
                  {
                    "churn_timestamp": "2008-09-27 23:58:46",
                    "churn": "FALSE",
                    "IdentifierId": "IdentifierId(73308)"
                  },
                  {
                    "churn_timestamp": "2008-09-27 23:58:46",
                    "churn": "FALSE",
                    "IdentifierId": "IdentifierId(23187)"
                  },
                  {
                    "churn_timestamp": "2008-09-27 23:58:46",
                    "churn": "FALSE",
                    "IdentifierId": "IdentifierId(43759)"
                  },
                  {
                    "churn_timestamp": "2008-09-27 23:58:46",
                    "churn": "FALSE",
                    "IdentifierId": "IdentifierId(565)"
                  },
                  {
                    "churn_timestamp": "2008-09-27 23:58:46",
                    "churn": "FALSE",
                    "IdentifierId": "IdentifierId(70731)"
                  },
                  {
                    "churn_timestamp": "2008-09-27 23:58:46",
                    "churn": "FALSE",
                    "IdentifierId": "IdentifierId(1415)"
                  },
                  {
                    "churn_timestamp": "2008-09-27 23:58:46",
                    "churn": "FALSE",
                    "IdentifierId": "IdentifierId(31563)"
                  },
                  {
                    "churn_timestamp": "2008-09-27 23:58:46",
                    "churn": "FALSE",
                    "IdentifierId": "IdentifierId(49558)"
                  },
                  {
                    "churn_timestamp": "2008-09-27 23:58:46",
                    "churn": "FALSE",
                    "IdentifierId": "IdentifierId(20879)"
                  },
                  {
                    "churn_timestamp": "2008-09-27 23:58:46",
                    "churn": "FALSE",
                    "IdentifierId": "IdentifierId(67739)"
                  },
                  {
                    "churn_timestamp": "2008-09-27 23:58:46",
                    "churn": "FALSE",
                    "IdentifierId": "IdentifierId(65177)"
                  },
                  {
                    "churn_timestamp": "2008-09-27 23:58:46",
                    "churn": "FALSE",
                    "IdentifierId": "IdentifierId(22561)"
                  },
                  {
                    "churn_timestamp": "2008-09-27 23:58:46",
                    "churn": "FALSE",
                    "IdentifierId": "IdentifierId(21161)"
                  },
                  {
                    "churn_timestamp": "2008-09-27 23:58:46",
                    "churn": "FALSE",
                    "IdentifierId": "IdentifierId(51861)"
                  },
                  {
                    "churn_timestamp": "2008-09-27 23:58:46",
                    "churn": "FALSE",
                    "IdentifierId": "IdentifierId(53308)"
                  },
                  {
                    "churn_timestamp": "2008-09-27 23:58:46",
                    "churn": "TRUE",
                    "IdentifierId": "IdentifierId(60179)"
                  },
                  {
                    "churn_timestamp": "2008-09-27 23:58:46",
                    "churn": "FALSE",
                    "IdentifierId": "IdentifierId(69149)"
                  },
                  {
                    "churn_timestamp": "2008-09-27 23:58:41",
                    "churn": "FALSE",
                    "IdentifierId": "IdentifierId(11609)"
                  },
                  {
                    "churn_timestamp": "2008-09-27 23:58:41",
                    "churn": "FALSE",
                    "IdentifierId": "IdentifierId(61510)"
                  },
                  {
                    "churn_timestamp": "2008-09-27 23:58:41",
                    "churn": "FALSE",
                    "IdentifierId": "IdentifierId(33598)"
                  },
                  {
                    "churn_timestamp": "2008-09-27 23:58:41",
                    "churn": "FALSE",
                    "IdentifierId": "IdentifierId(665)"
                  },
                  {
                    "churn_timestamp": "2008-09-27 23:58:41",
                    "churn": "TRUE",
                    "IdentifierId": "IdentifierId(13184)"
                  },
                  {
                    "churn_timestamp": "2008-09-27 23:58:41",
                    "churn": "TRUE",
                    "IdentifierId": "IdentifierId(22007)"
                  },
                  {
                    "churn_timestamp": "2008-09-27 23:58:41",
                    "churn": "FALSE",
                    "IdentifierId": "IdentifierId(20770)"
                  },
                  {
                    "churn_timestamp": "2008-09-27 23:58:41",
                    "churn": "FALSE",
                    "IdentifierId": "IdentifierId(5783)"
                  },
                  {
                    "churn_timestamp": "2008-09-27 23:58:41",
                    "churn": "FALSE",
                    "IdentifierId": "IdentifierId(24448)"
                  },
                  {
                    "churn_timestamp": "2008-09-27 23:58:36",
                    "churn": "FALSE",
                    "IdentifierId": "IdentifierId(14788)"
                  },
                  {
                    "churn_timestamp": "2008-09-27 23:58:36",
                    "churn": "TRUE",
                    "IdentifierId": "IdentifierId(21861)"
                  },
                  {
                    "churn_timestamp": "2008-09-27 23:58:36",
                    "churn": "FALSE",
                    "IdentifierId": "IdentifierId(16638)"
                  },
                  {
                    "churn_timestamp": "2008-09-27 23:58:36",
                    "churn": "TRUE",
                    "IdentifierId": "IdentifierId(70476)"
                  },
                  {
                    "churn_timestamp": "2008-09-27 23:58:36",
                    "churn": "TRUE",
                    "IdentifierId": "IdentifierId(66527)"
                  },
                  {
                    "churn_timestamp": "2008-09-27 23:58:36",
                    "churn": "FALSE",
                    "IdentifierId": "IdentifierId(1645)"
                  },
                  {
                    "churn_timestamp": "2008-09-27 23:58:36",
                    "churn": "FALSE",
                    "IdentifierId": "IdentifierId(34684)"
                  },
                  {
                    "churn_timestamp": "2008-09-27 23:58:36",
                    "churn": "FALSE",
                    "IdentifierId": "IdentifierId(68)"
                  },
                  {
                    "churn_timestamp": "2008-09-27 23:58:36",
                    "churn": "FALSE",
                    "IdentifierId": "IdentifierId(22716)"
                  },
                  {
                    "churn_timestamp": "2008-09-27 23:58:36",
                    "churn": "FALSE",
                    "IdentifierId": "IdentifierId(20816)"
                  },
                  {
                    "churn_timestamp": "2008-09-27 23:58:36",
                    "churn": "FALSE",
                    "IdentifierId": "IdentifierId(75670)"
                  },
                  {
                    "churn_timestamp": "2008-09-27 23:58:36",
                    "churn": "TRUE",
                    "IdentifierId": "IdentifierId(26892)"
                  },
                  {
                    "churn_timestamp": "2008-09-27 23:58:36",
                    "churn": "FALSE",
                    "IdentifierId": "IdentifierId(140)"
                  },
                  {
                    "churn_timestamp": "2008-09-27 23:58:36",
                    "churn": "FALSE",
                    "IdentifierId": "IdentifierId(26752)"
                  },
                  {
                    "churn_timestamp": "2008-09-27 23:58:36",
                    "churn": "FALSE",
                    "IdentifierId": "IdentifierId(61736)"
                  },
                  {
                    "churn_timestamp": "2008-09-27 23:58:36",
                    "churn": "FALSE",
                    "IdentifierId": "IdentifierId(22928)"
                  },
                  {
                    "churn_timestamp": "2008-09-27 23:58:36",
                    "churn": "FALSE",
                    "IdentifierId": "IdentifierId(939)"
                  },
                  {
                    "churn_timestamp": "2008-09-27 23:58:36",
                    "churn": "FALSE",
                    "IdentifierId": "IdentifierId(67451)"
                  },
                  {
                    "churn_timestamp": "2008-09-27 23:58:36",
                    "churn": "FALSE",
                    "IdentifierId": "IdentifierId(3923)"
                  },
                  {
                    "churn_timestamp": "2008-09-27 23:58:36",
                    "churn": "FALSE",
                    "IdentifierId": "IdentifierId(16193)"
                  },
                  {
                    "churn_timestamp": "2008-09-27 23:58:31",
                    "churn": "FALSE",
                    "IdentifierId": "IdentifierId(22467)"
                  },
                  {
                    "churn_timestamp": "2008-09-27 23:58:31",
                    "churn": "FALSE",
                    "IdentifierId": "IdentifierId(36263)"
                  },
                  {
                    "churn_timestamp": "2008-09-27 23:58:31",
                    "churn": "FALSE",
                    "IdentifierId": "IdentifierId(77685)"
                  },
                  {
                    "churn_timestamp": "2008-09-27 23:58:31",
                    "churn": "FALSE",
                    "IdentifierId": "IdentifierId(70558)"
                  },
                  {
                    "churn_timestamp": "2008-09-27 23:58:31",
                    "churn": "FALSE",
                    "IdentifierId": "IdentifierId(72354)"
                  },
                  {
                    "churn_timestamp": "2008-09-27 23:58:31",
                    "churn": "FALSE",
                    "IdentifierId": "IdentifierId(68995)"
                  },
                  {
                    "churn_timestamp": "2008-09-27 23:58:31",
                    "churn": "FALSE",
                    "IdentifierId": "IdentifierId(64520)"
                  },
                  {
                    "churn_timestamp": "2008-09-27 23:58:26",
                    "churn": "FALSE",
                    "IdentifierId": "IdentifierId(8558)"
                  },
                  {
                    "churn_timestamp": "2008-09-27 23:58:26",
                    "churn": "FALSE",
                    "IdentifierId": "IdentifierId(54820)"
                  },
                  {
                    "churn_timestamp": "2008-09-27 23:58:26",
                    "churn": "FALSE",
                    "IdentifierId": "IdentifierId(72743)"
                  },
                  {
                    "churn_timestamp": "2008-09-27 23:58:26",
                    "churn": "FALSE",
                    "IdentifierId": "IdentifierId(74183)"
                  },
                  {
                    "churn_timestamp": "2008-09-27 23:58:26",
                    "churn": "FALSE",
                    "IdentifierId": "IdentifierId(54682)"
                  },
                  {
                    "churn_timestamp": "2008-09-27 23:58:26",
                    "churn": "FALSE",
                    "IdentifierId": "IdentifierId(77634)"
                  },
                  {
                    "churn_timestamp": "2008-09-27 23:58:26",
                    "churn": "FALSE",
                    "IdentifierId": "IdentifierId(28735)"
                  },
                  {
                    "churn_timestamp": "2008-09-27 23:58:26",
                    "churn": "FALSE",
                    "IdentifierId": "IdentifierId(29484)"
                  },
                  {
                    "churn_timestamp": "2008-09-27 23:58:26",
                    "churn": "TRUE",
                    "IdentifierId": "IdentifierId(16053)"
                  },
                  {
                    "churn_timestamp": "2008-09-27 23:58:26",
                    "churn": "FALSE",
                    "IdentifierId": "IdentifierId(24886)"
                  },
                  {
                    "churn_timestamp": "2008-09-27 23:58:26",
                    "churn": "FALSE",
                    "IdentifierId": "IdentifierId(28955)"
                  },
                  {
                    "churn_timestamp": "2008-09-27 23:58:26",
                    "churn": "FALSE",
                    "IdentifierId": "IdentifierId(42163)"
                  },
                  {
                    "churn_timestamp": "2008-09-27 23:58:21",
                    "churn": "FALSE",
                    "IdentifierId": "IdentifierId(76620)"
                  },
                  {
                    "churn_timestamp": "2008-09-27 23:58:21",
                    "churn": "FALSE",
                    "IdentifierId": "IdentifierId(74714)"
                  },
                  {
                    "churn_timestamp": "2008-09-27 23:58:21",
                    "churn": "FALSE",
                    "IdentifierId": "IdentifierId(78128)"
                  },
                  {
                    "churn_timestamp": "2008-09-27 23:58:21",
                    "churn": "FALSE",
                    "IdentifierId": "IdentifierId(73093)"
                  },
                  {
                    "churn_timestamp": "2008-09-27 23:58:21",
                    "churn": "FALSE",
                    "IdentifierId": "IdentifierId(77832)"
                  },
                  {
                    "churn_timestamp": "2008-09-27 23:58:21",
                    "churn": "FALSE",
                    "IdentifierId": "IdentifierId(78073)"
                  },
                  {
                    "churn_timestamp": "2008-09-27 23:58:21",
                    "churn": "FALSE",
                    "IdentifierId": "IdentifierId(13857)"
                  },
                  {
                    "churn_timestamp": "2008-09-27 23:58:21",
                    "churn": "TRUE",
                    "IdentifierId": "IdentifierId(78155)"
                  },
                  {
                    "churn_timestamp": "2008-09-27 23:58:21",
                    "churn": "FALSE",
                    "IdentifierId": "IdentifierId(69147)"
                  },
                  {
                    "churn_timestamp": "2008-09-27 23:58:21",
                    "churn": "FALSE",
                    "IdentifierId": "IdentifierId(28427)"
                  },
                  {
                    "churn_timestamp": "2008-09-27 23:58:21",
                    "churn": "TRUE",
                    "IdentifierId": "IdentifierId(78549)"
                  },
                  {
                    "churn_timestamp": "2008-09-27 23:58:21",
                    "churn": "FALSE",
                    "IdentifierId": "IdentifierId(77561)"
                  },
                  {
                    "churn_timestamp": "2008-09-27 23:58:21",
                    "churn": "FALSE",
                    "IdentifierId": "IdentifierId(65725)"
                  },
                  {
                    "churn_timestamp": "2008-09-27 23:58:21",
                    "churn": "TRUE",
                    "IdentifierId": "IdentifierId(78503)"
                  },
                  {
                    "churn_timestamp": "2008-09-27 23:58:11",
                    "churn": "TRUE",
                    "IdentifierId": "IdentifierId(36)"
                  },
                  {
                    "churn_timestamp": "2008-09-27 23:58:11",
                    "churn": "FALSE",
                    "IdentifierId": "IdentifierId(75470)"
                  },
                  {
                    "churn_timestamp": "2008-09-27 23:58:11",
                    "churn": "FALSE",
                    "IdentifierId": "IdentifierId(73192)"
                  },
                  {
                    "churn_timestamp": "2008-09-27 23:58:11",
                    "churn": "FALSE",
                    "IdentifierId": "IdentifierId(9085)"
                  },
                  {
                    "churn_timestamp": "2008-09-27 23:58:06",
                    "churn": "FALSE",
                    "IdentifierId": "IdentifierId(41004)"
                  },
                  {
                    "churn_timestamp": "2008-09-27 23:58:01",
                    "churn": "FALSE",
                    "IdentifierId": "IdentifierId(25396)"
                  },
                  {
                    "churn_timestamp": "2008-09-27 23:58:01",
                    "churn": "FALSE",
                    "IdentifierId": "IdentifierId(22594)"
                  },
                  {
                    "churn_timestamp": "2008-09-27 23:58:01",
                    "churn": "FALSE",
                    "IdentifierId": "IdentifierId(59020)"
                  },
                  {
                    "churn_timestamp": "2008-09-27 23:58:01",
                    "churn": "FALSE",
                    "IdentifierId": "IdentifierId(753)"
                  },
                  {
                    "churn_timestamp": "2008-09-27 23:58:01",
                    "churn": "FALSE",
                    "IdentifierId": "IdentifierId(67612)"
                  },
                  {
                    "churn_timestamp": "2008-09-27 23:58:01",
                    "churn": "FALSE",
                    "IdentifierId": "IdentifierId(1801)"
                  },
                  {
                    "churn_timestamp": "2008-09-27 23:58:01",
                    "churn": "FALSE",
                    "IdentifierId": "IdentifierId(29539)"
                  },
                  {
                    "churn_timestamp": "2008-09-27 23:58:01",
                    "churn": "FALSE",
                    "IdentifierId": "IdentifierId(22283)"
                  },
                  {
                    "churn_timestamp": "2008-09-27 23:58:01",
                    "churn": "FALSE",
                    "IdentifierId": "IdentifierId(73360)"
                  },
                  {
                    "churn_timestamp": "2008-09-27 23:58:01",
                    "churn": "FALSE",
                    "IdentifierId": "IdentifierId(44477)"
                  },
                  {
                    "churn_timestamp": "2008-09-27 23:58:01",
                    "churn": "FALSE",
                    "IdentifierId": "IdentifierId(12938)"
                  },
                  {
                    "churn_timestamp": "2008-09-27 23:57:55",
                    "churn": "FALSE",
                    "IdentifierId": "IdentifierId(20006)"
                  },
                  {
                    "churn_timestamp": "2008-09-27 23:57:55",
                    "churn": "FALSE",
                    "IdentifierId": "IdentifierId(22005)"
                  },
                  {
                    "churn_timestamp": "2008-09-27 23:57:55",
                    "churn": "FALSE",
                    "IdentifierId": "IdentifierId(58276)"
                  },
                  {
                    "churn_timestamp": "2008-09-27 23:57:55",
                    "churn": "FALSE",
                    "IdentifierId": "IdentifierId(3634)"
                  },
                  {
                    "churn_timestamp": "2008-09-27 23:57:55",
                    "churn": "FALSE",
                    "IdentifierId": "IdentifierId(60268)"
                  },
                  {
                    "churn_timestamp": "2008-09-27 23:57:55",
                    "churn": "FALSE",
                    "IdentifierId": "IdentifierId(56181)"
                  },
                  {
                    "churn_timestamp": "2008-09-27 23:57:55",
                    "churn": "FALSE",
                    "IdentifierId": "IdentifierId(28490)"
                  },
                  {
                    "churn_timestamp": "2008-09-27 23:57:55",
                    "churn": "FALSE",
                    "IdentifierId": "IdentifierId(70425)"
                  },
                  {
                    "churn_timestamp": "2008-09-27 23:57:50",
                    "churn": "FALSE",
                    "IdentifierId": "IdentifierId(23150)"
                  },
                  {
                    "churn_timestamp": "2008-09-27 23:57:50",
                    "churn": "FALSE",
                    "IdentifierId": "IdentifierId(65943)"
                  },
                  {
                    "churn_timestamp": "2008-09-27 23:57:45",
                    "churn": "TRUE",
                    "IdentifierId": "IdentifierId(7746)"
                  },
                  {
                    "churn_timestamp": "2008-09-27 23:57:40",
                    "churn": "FALSE",
                    "IdentifierId": "IdentifierId(45504)"
                  },
                  {
                    "churn_timestamp": "2008-09-27 23:57:40",
                    "churn": "FALSE",
                    "IdentifierId": "IdentifierId(78393)"
                  },
                  {
                    "churn_timestamp": "2008-09-27 23:57:40",
                    "churn": "FALSE",
                    "IdentifierId": "IdentifierId(77642)"
                  },
                  {
                    "churn_timestamp": "2008-09-27 23:57:40",
                    "churn": "TRUE",
                    "IdentifierId": "IdentifierId(73588)"
                  },
                  {
                    "churn_timestamp": "2008-09-27 23:50:59",
                    "churn": "FALSE",
                    "IdentifierId": "IdentifierId(67862)"
                  },
                  {
                    "churn_timestamp": "2008-09-27 23:50:59",
                    "churn": "FALSE",
                    "IdentifierId": "IdentifierId(34743)"
                  },
                  {
                    "churn_timestamp": "2008-09-27 23:50:59",
                    "churn": "FALSE",
                    "IdentifierId": "IdentifierId(34858)"
                  },
                  {
                    "churn_timestamp": "2008-09-27 23:50:59",
                    "churn": "FALSE",
                    "IdentifierId": "IdentifierId(69475)"
                  },
                  {
                    "churn_timestamp": "2008-09-27 23:50:59",
                    "churn": "FALSE",
                    "IdentifierId": "IdentifierId(59718)"
                  },
                  {
                    "churn_timestamp": "2008-09-27 23:50:59",
                    "churn": "FALSE",
                    "IdentifierId": "IdentifierId(63384)"
                  },
                  {
                    "churn_timestamp": "2008-09-27 23:50:59",
                    "churn": "FALSE",
                    "IdentifierId": "IdentifierId(69929)"
                  },
                  {
                    "churn_timestamp": "2008-09-27 23:50:59",
                    "churn": "FALSE",
                    "IdentifierId": "IdentifierId(36553)"
                  },
                  {
                    "churn_timestamp": "2008-09-27 23:50:59",
                    "churn": "FALSE",
                    "IdentifierId": "IdentifierId(73986)"
                  },
                  {
                    "churn_timestamp": "2008-09-27 23:50:59",
                    "churn": "FALSE",
                    "IdentifierId": "IdentifierId(65496)"
                  },
                  {
                    "churn_timestamp": "2008-09-27 23:50:59",
                    "churn": "FALSE",
                    "IdentifierId": "IdentifierId(35362)"
                  },
                  {
                    "churn_timestamp": "2008-09-27 23:50:59",
                    "churn": "FALSE",
                    "IdentifierId": "IdentifierId(68826)"
                  },
                  {
                    "churn_timestamp": "2008-09-27 23:50:59",
                    "churn": "FALSE",
                    "IdentifierId": "IdentifierId(67068)"
                  },
                  {
                    "churn_timestamp": "2008-09-27 23:50:59",
                    "churn": "FALSE",
                    "IdentifierId": "IdentifierId(55051)"
                  },
                  {
                    "churn_timestamp": "2008-09-27 23:50:59",
                    "churn": "FALSE",
                    "IdentifierId": "IdentifierId(62446)"
                  },
                  {
                    "churn_timestamp": "2008-09-27 23:50:59",
                    "churn": "FALSE",
                    "IdentifierId": "IdentifierId(27494)"
                  },
                  {
                    "churn_timestamp": "2008-09-27 23:50:59",
                    "churn": "FALSE",
                    "IdentifierId": "IdentifierId(65357)"
                  },
                  {
                    "churn_timestamp": "2008-09-27 23:50:54",
                    "churn": "FALSE",
                    "IdentifierId": "IdentifierId(64794)"
                  },
                  {
                    "churn_timestamp": "2008-09-27 23:50:54",
                    "churn": "FALSE",
                    "IdentifierId": "IdentifierId(69535)"
                  },
                  {
                    "churn_timestamp": "2008-09-27 23:50:54",
                    "churn": "FALSE",
                    "IdentifierId": "IdentifierId(66873)"
                  },
                  {
                    "churn_timestamp": "2008-09-27 23:50:54",
                    "churn": "FALSE",
                    "IdentifierId": "IdentifierId(24126)"
                  },
                  {
                    "churn_timestamp": "2008-09-27 23:50:54",
                    "churn": "FALSE",
                    "IdentifierId": "IdentifierId(54003)"
                  },
                  {
                    "churn_timestamp": "2008-09-27 23:50:54",
                    "churn": "FALSE",
                    "IdentifierId": "IdentifierId(45029)"
                  },
                  {
                    "churn_timestamp": "2008-09-27 23:50:54",
                    "churn": "FALSE",
                    "IdentifierId": "IdentifierId(73130)"
                  },
                  {
                    "churn_timestamp": "2008-09-27 23:50:54",
                    "churn": "FALSE",
                    "IdentifierId": "IdentifierId(76681)"
                  },
                  {
                    "churn_timestamp": "2008-09-27 23:50:54",
                    "churn": "FALSE",
                    "IdentifierId": "IdentifierId(34903)"
                  },
                  {
                    "churn_timestamp": "2008-09-27 23:50:54",
                    "churn": "FALSE",
                    "IdentifierId": "IdentifierId(17712)"
                  },
                  {
                    "churn_timestamp": "2008-09-27 23:50:54",
                    "churn": "FALSE",
                    "IdentifierId": "IdentifierId(44349)"
                  },
                  {
                    "churn_timestamp": "2008-09-27 23:50:54",
                    "churn": "FALSE",
                    "IdentifierId": "IdentifierId(71458)"
                  },
                  {
                    "churn_timestamp": "2008-09-27 23:50:54",
                    "churn": "FALSE",
                    "IdentifierId": "IdentifierId(51324)"
                  },
                  {
                    "churn_timestamp": "2008-09-27 23:50:54",
                    "churn": "TRUE",
                    "IdentifierId": "IdentifierId(70299)"
                  },
                  {
                    "churn_timestamp": "2008-09-27 23:50:54",
                    "churn": "FALSE",
                    "IdentifierId": "IdentifierId(75690)"
                  },
                  {
                    "churn_timestamp": "2008-09-27 23:50:54",
                    "churn": "FALSE",
                    "IdentifierId": "IdentifierId(70974)"
                  },
                  {
                    "churn_timestamp": "2008-09-27 23:50:54",
                    "churn": "FALSE",
                    "IdentifierId": "IdentifierId(65724)"
                  },
                  {
                    "churn_timestamp": "2008-09-27 23:50:54",
                    "churn": "FALSE",
                    "IdentifierId": "IdentifierId(54658)"
                  },
                  {
                    "churn_timestamp": "2008-09-27 23:50:54",
                    "churn": "FALSE",
                    "IdentifierId": "IdentifierId(34664)"
                  },
                  {
                    "churn_timestamp": "2008-09-27 23:50:54",
                    "churn": "FALSE",
                    "IdentifierId": "IdentifierId(70590)"
                  },
                  {
                    "churn_timestamp": "2008-09-27 23:50:54",
                    "churn": "FALSE",
                    "IdentifierId": "IdentifierId(71023)"
                  },
                  {
                    "churn_timestamp": "2008-09-27 23:50:49",
                    "churn": "FALSE",
                    "IdentifierId": "IdentifierId(35796)"
                  },
                  {
                    "churn_timestamp": "2008-09-27 23:50:49",
                    "churn": "FALSE",
                    "IdentifierId": "IdentifierId(64313)"
                  },
                  {
                    "churn_timestamp": "2008-09-27 23:50:49",
                    "churn": "FALSE",
                    "IdentifierId": "IdentifierId(68334)"
                  },
                  {
                    "churn_timestamp": "2008-09-27 23:50:49",
                    "churn": "FALSE",
                    "IdentifierId": "IdentifierId(65296)"
                  },
                  {
                    "churn_timestamp": "2008-09-27 23:50:49",
                    "churn": "FALSE",
                    "IdentifierId": "IdentifierId(67099)"
                  },
                  {
                    "churn_timestamp": "2008-09-27 23:50:49",
                    "churn": "FALSE",
                    "IdentifierId": "IdentifierId(39521)"
                  },
                  {
                    "churn_timestamp": "2008-09-27 23:50:49",
                    "churn": "FALSE",
                    "IdentifierId": "IdentifierId(43211)"
                  },
                  {
                    "churn_timestamp": "2008-09-27 23:50:49",
                    "churn": "FALSE",
                    "IdentifierId": "IdentifierId(70173)"
                  },
                  {
                    "churn_timestamp": "2008-09-27 23:50:44",
                    "churn": "FALSE",
                    "IdentifierId": "IdentifierId(59629)"
                  },
                  {
                    "churn_timestamp": "2008-09-27 23:50:44",
                    "churn": "TRUE",
                    "IdentifierId": "IdentifierId(36545)"
                  },
                  {
                    "churn_timestamp": "2008-09-27 23:50:44",
                    "churn": "FALSE",
                    "IdentifierId": "IdentifierId(69358)"
                  },
                  {
                    "churn_timestamp": "2008-09-27 23:50:44",
                    "churn": "TRUE",
                    "IdentifierId": "IdentifierId(71867)"
                  },
                  {
                    "churn_timestamp": "2008-09-27 23:50:44",
                    "churn": "FALSE",
                    "IdentifierId": "IdentifierId(56759)"
                  },
                  {
                    "churn_timestamp": "2008-09-27 23:50:44",
                    "churn": "FALSE",
                    "IdentifierId": "IdentifierId(58321)"
                  },
                  {
                    "churn_timestamp": "2008-09-27 23:50:44",
                    "churn": "FALSE",
                    "IdentifierId": "IdentifierId(49778)"
                  },
                  {
                    "churn_timestamp": "2008-09-27 23:50:44",
                    "churn": "FALSE",
                    "IdentifierId": "IdentifierId(76769)"
                  },
                  {
                    "churn_timestamp": "2008-09-27 23:50:39",
                    "churn": "FALSE",
                    "IdentifierId": "IdentifierId(52988)"
                  },
                  {
                    "churn_timestamp": "2008-09-27 23:50:39",
                    "churn": "FALSE",
                    "IdentifierId": "IdentifierId(62995)"
                  },
                  {
                    "churn_timestamp": "2008-09-27 23:50:39",
                    "churn": "FALSE",
                    "IdentifierId": "IdentifierId(62447)"
                  },
                  {
                    "churn_timestamp": "2008-09-27 23:50:39",
                    "churn": "FALSE",
                    "IdentifierId": "IdentifierId(71908)"
                  },
                  {
                    "churn_timestamp": "2008-09-27 23:50:39",
                    "churn": "FALSE",
                    "IdentifierId": "IdentifierId(41992)"
                  },
                  {
                    "churn_timestamp": "2008-09-27 23:50:39",
                    "churn": "FALSE",
                    "IdentifierId": "IdentifierId(44963)"
                  },
                  {
                    "churn_timestamp": "2008-09-27 23:50:39",
                    "churn": "FALSE",
                    "IdentifierId": "IdentifierId(60243)"
                  },
                  {
                    "churn_timestamp": "2008-09-27 23:50:39",
                    "churn": "FALSE",
                    "IdentifierId": "IdentifierId(65323)"
                  },
                  {
                    "churn_timestamp": "2008-09-27 23:50:39",
                    "churn": "FALSE",
                    "IdentifierId": "IdentifierId(57830)"
                  },
                  {
                    "churn_timestamp": "2008-09-27 23:50:39",
                    "churn": "FALSE",
                    "IdentifierId": "IdentifierId(58890)"
                  },
                  {
                    "churn_timestamp": "2008-09-27 23:50:39",
                    "churn": "FALSE",
                    "IdentifierId": "IdentifierId(72307)"
                  },
                  {
                    "churn_timestamp": "2008-09-27 23:50:39",
                    "churn": "TRUE",
                    "IdentifierId": "IdentifierId(70319)"
                  },
                  {
                    "churn_timestamp": "2008-09-27 23:50:34",
                    "churn": "FALSE",
                    "IdentifierId": "IdentifierId(69126)"
                  },
                  {
                    "churn_timestamp": "2008-09-27 23:50:34",
                    "churn": "FALSE",
                    "IdentifierId": "IdentifierId(65484)"
                  },
                  {
                    "churn_timestamp": "2008-09-27 23:50:34",
                    "churn": "FALSE",
                    "IdentifierId": "IdentifierId(72360)"
                  },
                  {
                    "churn_timestamp": "2008-09-27 23:50:34",
                    "churn": "FALSE",
                    "IdentifierId": "IdentifierId(68905)"
                  },
                  {
                    "churn_timestamp": "2008-09-27 23:50:34",
                    "churn": "FALSE",
                    "IdentifierId": "IdentifierId(13666)"
                  },
                  {
                    "churn_timestamp": "2008-09-27 23:50:34",
                    "churn": "FALSE",
                    "IdentifierId": "IdentifierId(63527)"
                  },
                  {
                    "churn_timestamp": "2008-09-27 23:50:34",
                    "churn": "FALSE",
                    "IdentifierId": "IdentifierId(51942)"
                  },
                  {
                    "churn_timestamp": "2008-09-27 23:50:34",
                    "churn": "FALSE",
                    "IdentifierId": "IdentifierId(68375)"
                  },
                  {
                    "churn_timestamp": "2008-09-27 23:50:34",
                    "churn": "FALSE",
                    "IdentifierId": "IdentifierId(47500)"
                  },
                  {
                    "churn_timestamp": "2008-09-27 23:50:34",
                    "churn": "FALSE",
                    "IdentifierId": "IdentifierId(34535)"
                  },
                  {
                    "churn_timestamp": "2008-09-27 23:50:34",
                    "churn": "TRUE",
                    "IdentifierId": "IdentifierId(69913)"
                  },
                  {
                    "churn_timestamp": "2008-09-27 23:50:34",
                    "churn": "TRUE",
                    "IdentifierId": "IdentifierId(50411)"
                  },
                  {
                    "churn_timestamp": "2008-09-27 23:50:34",
                    "churn": "FALSE",
                    "IdentifierId": "IdentifierId(35004)"
                  },
                  {
                    "churn_timestamp": "2008-09-27 23:50:34",
                    "churn": "FALSE",
                    "IdentifierId": "IdentifierId(51154)"
                  },
                  {
                    "churn_timestamp": "2008-09-27 23:50:34",
                    "churn": "FALSE",
                    "IdentifierId": "IdentifierId(37317)"
                  },
                  {
                    "churn_timestamp": "2008-09-27 23:50:34",
                    "churn": "FALSE",
                    "IdentifierId": "IdentifierId(52499)"
                  },
                  {
                    "churn_timestamp": "2008-09-27 23:50:34",
                    "churn": "FALSE",
                    "IdentifierId": "IdentifierId(43406)"
                  },
                  {
                    "churn_timestamp": "2008-09-27 23:50:34",
                    "churn": "FALSE",
                    "IdentifierId": "IdentifierId(54126)"
                  },
                  {
                    "churn_timestamp": "2008-09-27 23:50:34",
                    "churn": "FALSE",
                    "IdentifierId": "IdentifierId(36517)"
                  },
                  {
                    "churn_timestamp": "2008-09-27 23:50:34",
                    "churn": "FALSE",
                    "IdentifierId": "IdentifierId(47583)"
                  },
                  {
                    "churn_timestamp": "2008-09-27 23:50:34",
                    "churn": "FALSE",
                    "IdentifierId": "IdentifierId(35760)"
                  },
                  {
                    "churn_timestamp": "2008-09-27 23:50:34",
                    "churn": "FALSE",
                    "IdentifierId": "IdentifierId(73449)"
                  },
                  {
                    "churn_timestamp": "2008-09-27 23:50:34",
                    "churn": "FALSE",
                    "IdentifierId": "IdentifierId(44882)"
                  },
                  {
                    "churn_timestamp": "2008-09-27 23:50:34",
                    "churn": "FALSE",
                    "IdentifierId": "IdentifierId(62444)"
                  },
                  {
                    "churn_timestamp": "2008-09-27 23:50:34",
                    "churn": "FALSE",
                    "IdentifierId": "IdentifierId(62789)"
                  },
                  {
                    "churn_timestamp": "2008-09-27 23:50:34",
                    "churn": "FALSE",
                    "IdentifierId": "IdentifierId(48885)"
                  },
                  {
                    "churn_timestamp": "2008-09-27 23:50:34",
                    "churn": "FALSE",
                    "IdentifierId": "IdentifierId(60619)"
                  },
                  {
                    "churn_timestamp": "2008-09-27 23:50:34",
                    "churn": "FALSE",
                    "IdentifierId": "IdentifierId(72024)"
                  },
                  {
                    "churn_timestamp": "2008-09-27 23:50:34",
                    "churn": "FALSE",
                    "IdentifierId": "IdentifierId(70839)"
                  },
                  {
                    "churn_timestamp": "2008-09-27 23:50:34",
                    "churn": "FALSE",
                    "IdentifierId": "IdentifierId(9044)"
                  },
                  {
                    "churn_timestamp": "2008-09-27 23:50:34",
                    "churn": "FALSE",
                    "IdentifierId": "IdentifierId(73725)"
                  },
                  {
                    "churn_timestamp": "2008-09-27 23:50:34",
                    "churn": "FALSE",
                    "IdentifierId": "IdentifierId(74563)"
                  },
                  {
                    "churn_timestamp": "2008-09-27 23:50:34",
                    "churn": "FALSE",
                    "IdentifierId": "IdentifierId(63216)"
                  },
                  {
                    "churn_timestamp": "2008-09-27 23:50:28",
                    "churn": "FALSE",
                    "IdentifierId": "IdentifierId(47075)"
                  },
                  {
                    "churn_timestamp": "2008-09-27 23:50:28",
                    "churn": "FALSE",
                    "IdentifierId": "IdentifierId(73469)"
                  },
                  {
                    "churn_timestamp": "2008-09-27 23:50:28",
                    "churn": "FALSE",
                    "IdentifierId": "IdentifierId(56186)"
                  },
                  {
                    "churn_timestamp": "2008-09-27 23:50:28",
                    "churn": "FALSE",
                    "IdentifierId": "IdentifierId(4734)"
                  },
                  {
                    "churn_timestamp": "2008-09-27 23:50:23",
                    "churn": "TRUE",
                    "IdentifierId": "IdentifierId(44797)"
                  },
                  {
                    "churn_timestamp": "2008-09-27 23:50:23",
                    "churn": "FALSE",
                    "IdentifierId": "IdentifierId(70181)"
                  },
                  {
                    "churn_timestamp": "2008-09-27 23:50:23",
                    "churn": "FALSE",
                    "IdentifierId": "IdentifierId(67876)"
                  },
                  {
                    "churn_timestamp": "2008-09-27 23:50:23",
                    "churn": "FALSE",
                    "IdentifierId": "IdentifierId(1353)"
                  },
                  {
                    "churn_timestamp": "2008-09-27 23:50:18",
                    "churn": "FALSE",
                    "IdentifierId": "IdentifierId(63903)"
                  },
                  {
                    "churn_timestamp": "2008-09-27 23:50:18",
                    "churn": "FALSE",
                    "IdentifierId": "IdentifierId(76749)"
                  },
                  {
                    "churn_timestamp": "2008-09-27 23:50:18",
                    "churn": "FALSE",
                    "IdentifierId": "IdentifierId(75587)"
                  },
                  {
                    "churn_timestamp": "2008-09-27 23:50:18",
                    "churn": "FALSE",
                    "IdentifierId": "IdentifierId(75861)"
                  },
                  {
                    "churn_timestamp": "2008-09-27 23:50:18",
                    "churn": "FALSE",
                    "IdentifierId": "IdentifierId(73114)"
                  },
                  {
                    "churn_timestamp": "2008-09-27 23:50:18",
                    "churn": "FALSE",
                    "IdentifierId": "IdentifierId(64935)"
                  },
                  {
                    "churn_timestamp": "2008-09-27 23:50:18",
                    "churn": "FALSE",
                    "IdentifierId": "IdentifierId(77533)"
                  },
                  {
                    "churn_timestamp": "2008-09-27 23:50:18",
                    "churn": "FALSE",
                    "IdentifierId": "IdentifierId(71183)"
                  },
                  {
                    "churn_timestamp": "2008-09-27 23:50:13",
                    "churn": "FALSE",
                    "IdentifierId": "IdentifierId(35874)"
                  },
                  {
                    "churn_timestamp": "2008-09-27 23:50:13",
                    "churn": "FALSE",
                    "IdentifierId": "IdentifierId(71080)"
                  },
                  {
                    "churn_timestamp": "2008-09-27 23:50:13",
                    "churn": "FALSE",
                    "IdentifierId": "IdentifierId(62276)"
                  },
                  {
                    "churn_timestamp": "2008-09-27 23:50:13",
                    "churn": "FALSE",
                    "IdentifierId": "IdentifierId(74819)"
                  },
                  {
                    "churn_timestamp": "2008-09-27 23:50:13",
                    "churn": "FALSE",
                    "IdentifierId": "IdentifierId(77098)"
                  },
                  {
                    "churn_timestamp": "2008-09-27 23:50:13",
                    "churn": "FALSE",
                    "IdentifierId": "IdentifierId(72186)"
                  },
                  {
                    "churn_timestamp": "2008-09-27 23:50:13",
                    "churn": "FALSE",
                    "IdentifierId": "IdentifierId(55538)"
                  },
                  {
                    "churn_timestamp": "2008-09-27 23:50:08",
                    "churn": "FALSE",
                    "IdentifierId": "IdentifierId(77352)"
                  },
                  {
                    "churn_timestamp": "2008-09-27 23:50:08",
                    "churn": "FALSE",
                    "IdentifierId": "IdentifierId(34971)"
                  },
                  {
                    "churn_timestamp": "2008-09-27 23:50:08",
                    "churn": "FALSE",
                    "IdentifierId": "IdentifierId(78512)"
                  },
                  {
                    "churn_timestamp": "2008-09-27 23:50:08",
                    "churn": "FALSE",
                    "IdentifierId": "IdentifierId(47543)"
                  },
                  {
                    "churn_timestamp": "2008-09-27 23:50:08",
                    "churn": "FALSE",
                    "IdentifierId": "IdentifierId(76159)"
                  },
                  {
                    "churn_timestamp": "2008-09-27 23:49:58",
                    "churn": "FALSE",
                    "IdentifierId": "IdentifierId(76975)"
                  },
                  {
                    "churn_timestamp": "2008-09-27 23:49:58",
                    "churn": "FALSE",
                    "IdentifierId": "IdentifierId(78023)"
                  },
                  {
                    "churn_timestamp": "2008-09-27 23:49:58",
                    "churn": "FALSE",
                    "IdentifierId": "IdentifierId(76437)"
                  },
                  {
                    "churn_timestamp": "2008-09-27 23:49:58",
                    "churn": "TRUE",
                    "IdentifierId": "IdentifierId(77539)"
                  },
                  {
                    "churn_timestamp": "2008-09-27 23:49:58",
                    "churn": "FALSE",
                    "IdentifierId": "IdentifierId(24953)"
                  },
                  {
                    "churn_timestamp": "2008-09-27 23:49:58",
                    "churn": "FALSE",
                    "IdentifierId": "IdentifierId(77795)"
                  },
                  {
                    "churn_timestamp": "2008-09-27 23:49:58",
                    "churn": "FALSE",
                    "IdentifierId": "IdentifierId(73480)"
                  },
                  {
                    "churn_timestamp": "2008-09-27 23:49:58",
                    "churn": "FALSE",
                    "IdentifierId": "IdentifierId(53745)"
                  },
                  {
                    "churn_timestamp": "2008-09-27 23:49:58",
                    "churn": "FALSE",
                    "IdentifierId": "IdentifierId(72425)"
                  },
                  {
                    "churn_timestamp": "2008-09-27 23:49:53",
                    "churn": "TRUE",
                    "IdentifierId": "IdentifierId(77661)"
                  },
                  {
                    "churn_timestamp": "2008-09-27 23:49:53",
                    "churn": "FALSE",
                    "IdentifierId": "IdentifierId(59801)"
                  },
                  {
                    "churn_timestamp": "2008-09-27 23:49:53",
                    "churn": "FALSE",
                    "IdentifierId": "IdentifierId(77579)"
                  },
                  {
                    "churn_timestamp": "2008-09-27 23:49:53",
                    "churn": "TRUE",
                    "IdentifierId": "IdentifierId(77833)"
                  },
                  {
                    "churn_timestamp": "2008-09-27 23:49:53",
                    "churn": "FALSE",
                    "IdentifierId": "IdentifierId(77216)"
                  },
                  {
                    "churn_timestamp": "2008-09-27 23:49:53",
                    "churn": "FALSE",
                    "IdentifierId": "IdentifierId(56652)"
                  },
                  {
                    "churn_timestamp": "2008-09-27 23:49:53",
                    "churn": "FALSE",
                    "IdentifierId": "IdentifierId(77884)"
                  },
                  {
                    "churn_timestamp": "2008-09-27 23:49:48",
                    "churn": "FALSE",
                    "IdentifierId": "IdentifierId(75904)"
                  },
                  {
                    "churn_timestamp": "2008-09-27 23:49:47",
                    "churn": "FALSE",
                    "IdentifierId": "IdentifierId(78085)"
                  },
                  {
                    "churn_timestamp": "2008-09-27 23:49:47",
                    "churn": "TRUE",
                    "IdentifierId": "IdentifierId(78194)"
                  },
                  {
                    "churn_timestamp": "2008-09-27 23:49:47",
                    "churn": "FALSE",
                    "IdentifierId": "IdentifierId(59656)"
                  },
                  {
                    "churn_timestamp": "2008-09-27 23:49:47",
                    "churn": "FALSE",
                    "IdentifierId": "IdentifierId(77865)"
                  },
                  {
                    "churn_timestamp": "2008-09-27 23:49:47",
                    "churn": "FALSE",
                    "IdentifierId": "IdentifierId(77482)"
                  },
                  {
                    "churn_timestamp": "2008-09-27 23:49:47",
                    "churn": "FALSE",
                    "IdentifierId": "IdentifierId(78002)"
                  },
                  {
                    "churn_timestamp": "2008-09-27 23:49:47",
                    "churn": "FALSE",
                    "IdentifierId": "IdentifierId(77966)"
                  },
                  {
                    "churn_timestamp": "2008-09-27 23:49:47",
                    "churn": "FALSE",
                    "IdentifierId": "IdentifierId(78438)"
                  },
                  {
                    "churn_timestamp": "2008-09-27 23:49:47",
                    "churn": "TRUE",
                    "IdentifierId": "IdentifierId(78059)"
                  },
                  {
                    "churn_timestamp": "2008-09-27 23:49:42",
                    "churn": "FALSE",
                    "IdentifierId": "IdentifierId(78149)"
                  },
                  {
                    "churn_timestamp": "2008-09-27 23:49:42",
                    "churn": "TRUE",
                    "IdentifierId": "IdentifierId(60852)"
                  },
                  {
                    "churn_timestamp": "2008-09-27 23:49:42",
                    "churn": "FALSE",
                    "IdentifierId": "IdentifierId(73644)"
                  },
                  {
                    "churn_timestamp": "2008-09-27 23:49:42",
                    "churn": "FALSE",
                    "IdentifierId": "IdentifierId(59990)"
                  },
                  {
                    "churn_timestamp": "2008-09-27 23:49:42",
                    "churn": "FALSE",
                    "IdentifierId": "IdentifierId(78459)"
                  },
                  {
                    "churn_timestamp": "2008-09-27 23:49:42",
                    "churn": "FALSE",
                    "IdentifierId": "IdentifierId(78206)"
                  },
                  {
                    "churn_timestamp": "2008-09-27 23:49:42",
                    "churn": "TRUE",
                    "IdentifierId": "IdentifierId(77987)"
                  },
                  {
                    "churn_timestamp": "2008-09-27 23:49:42",
                    "churn": "TRUE",
                    "IdentifierId": "IdentifierId(77805)"
                  },
                  {
                    "churn_timestamp": "2008-09-27 23:49:42",
                    "churn": "FALSE",
                    "IdentifierId": "IdentifierId(78277)"
                  },
                  {
                    "churn_timestamp": "2008-09-27 23:49:42",
                    "churn": "FALSE",
                    "IdentifierId": "IdentifierId(78336)"
                  },
                  {
                    "churn_timestamp": "2008-09-27 23:49:42",
                    "churn": "TRUE",
                    "IdentifierId": "IdentifierId(78216)"
                  },
                  {
                    "churn_timestamp": "2008-09-27 23:49:42",
                    "churn": "TRUE",
                    "IdentifierId": "IdentifierId(77776)"
                  },
                  {
                    "churn_timestamp": "2008-09-27 23:49:42",
                    "churn": "TRUE",
                    "IdentifierId": "IdentifierId(35533)"
                  },
                  {
                    "churn_timestamp": "2008-09-27 23:49:42",
                    "churn": "TRUE",
                    "IdentifierId": "IdentifierId(78331)"
                  },
                  {
                    "churn_timestamp": "2008-09-27 23:49:37",
                    "churn": "FALSE",
                    "IdentifierId": "IdentifierId(78547)"
                  },
                  {
                    "churn_timestamp": "2008-09-27 23:49:37",
                    "churn": "TRUE",
                    "IdentifierId": "IdentifierId(65572)"
                  },
                  {
                    "churn_timestamp": "2008-09-27 23:49:37",
                    "churn": "TRUE",
                    "IdentifierId": "IdentifierId(78562)"
                  },
                  {
                    "churn_timestamp": "2008-09-27 23:49:37",
                    "churn": "FALSE",
                    "IdentifierId": "IdentifierId(78572)"
                  },
                  {
                    "churn_timestamp": "2008-09-27 23:49:32",
                    "churn": "FALSE",
                    "IdentifierId": "IdentifierId(69300)"
                  },
                  {
                    "churn_timestamp": "2008-09-27 23:49:32",
                    "churn": "FALSE",
                    "IdentifierId": "IdentifierId(64031)"
                  },
                  {
                    "churn_timestamp": "2008-09-27 23:49:32",
                    "churn": "FALSE",
                    "IdentifierId": "IdentifierId(61958)"
                  },
                  {
                    "churn_timestamp": "2008-09-27 23:49:32",
                    "churn": "FALSE",
                    "IdentifierId": "IdentifierId(61802)"
                  },
                  {
                    "churn_timestamp": "2008-09-27 23:49:32",
                    "churn": "FALSE",
                    "IdentifierId": "IdentifierId(23438)"
                  },
                  {
                    "churn_timestamp": "2008-09-27 23:49:32",
                    "churn": "FALSE",
                    "IdentifierId": "IdentifierId(23149)"
                  },
                  {
                    "churn_timestamp": "2008-09-27 23:49:32",
                    "churn": "FALSE",
                    "IdentifierId": "IdentifierId(6231)"
                  },
                  {
                    "churn_timestamp": "2008-09-27 23:49:27",
                    "churn": "FALSE",
                    "IdentifierId": "IdentifierId(22672)"
                  },
                  {
                    "churn_timestamp": "2008-09-27 23:49:27",
                    "churn": "FALSE",
                    "IdentifierId": "IdentifierId(72657)"
                  },
                  {
                    "churn_timestamp": "2008-09-27 23:49:27",
                    "churn": "FALSE",
                    "IdentifierId": "IdentifierId(25994)"
                  },
                  {
                    "churn_timestamp": "2008-09-27 23:49:27",
                    "churn": "FALSE",
                    "IdentifierId": "IdentifierId(22655)"
                  },
                  {
                    "churn_timestamp": "2008-09-27 23:49:27",
                    "churn": "FALSE",
                    "IdentifierId": "IdentifierId(25930)"
                  },
                  {
                    "churn_timestamp": "2008-09-27 23:49:27",
                    "churn": "FALSE",
                    "IdentifierId": "IdentifierId(37932)"
                  },
                  {
                    "churn_timestamp": "2008-09-27 23:49:27",
                    "churn": "FALSE",
                    "IdentifierId": "IdentifierId(73355)"
                  },
                  {
                    "churn_timestamp": "2008-09-27 23:49:27",
                    "churn": "FALSE",
                    "IdentifierId": "IdentifierId(67732)"
                  },
                  {
                    "churn_timestamp": "2008-09-27 23:49:27",
                    "churn": "FALSE",
                    "IdentifierId": "IdentifierId(1055)"
                  },
                  {
                    "churn_timestamp": "2008-09-27 23:49:27",
                    "churn": "FALSE",
                    "IdentifierId": "IdentifierId(22645)"
                  },
                  {
                    "churn_timestamp": "2008-09-27 23:49:27",
                    "churn": "FALSE",
                    "IdentifierId": "IdentifierId(77318)"
                  },
                  {
                    "churn_timestamp": "2008-09-27 23:49:27",
                    "churn": "TRUE",
                    "IdentifierId": "IdentifierId(77564)"
                  },
                  {
                    "churn_timestamp": "2008-09-27 23:49:27",
                    "churn": "FALSE",
                    "IdentifierId": "IdentifierId(1384)"
                  },
                  {
                    "churn_timestamp": "2008-09-27 23:49:27",
                    "churn": "FALSE",
                    "IdentifierId": "IdentifierId(46833)"
                  },
                  {
                    "churn_timestamp": "2008-09-27 23:49:27",
                    "churn": "FALSE",
                    "IdentifierId": "IdentifierId(18827)"
                  },
                  {
                    "churn_timestamp": "2008-09-27 23:49:27",
                    "churn": "TRUE",
                    "IdentifierId": "IdentifierId(21207)"
                  },
                  {
                    "churn_timestamp": "2008-09-27 23:49:22",
                    "churn": "FALSE",
                    "IdentifierId": "IdentifierId(75799)"
                  },
                  {
                    "churn_timestamp": "2008-09-27 23:49:22",
                    "churn": "FALSE",
                    "IdentifierId": "IdentifierId(695)"
                  },
                  {
                    "churn_timestamp": "2008-09-27 23:49:22",
                    "churn": "FALSE",
                    "IdentifierId": "IdentifierId(22419)"
                  },
                  {
                    "churn_timestamp": "2008-09-27 23:49:22",
                    "churn": "FALSE",
                    "IdentifierId": "IdentifierId(1027)"
                  },
                  {
                    "churn_timestamp": "2008-09-27 23:49:22",
                    "churn": "FALSE",
                    "IdentifierId": "IdentifierId(68261)"
                  },
                  {
                    "churn_timestamp": "2008-09-27 23:49:17",
                    "churn": "FALSE",
                    "IdentifierId": "IdentifierId(22408)"
                  },
                  {
                    "churn_timestamp": "2008-09-27 23:49:17",
                    "churn": "FALSE",
                    "IdentifierId": "IdentifierId(69336)"
                  },
                  {
                    "churn_timestamp": "2008-09-27 23:49:17",
                    "churn": "FALSE",
                    "IdentifierId": "IdentifierId(70008)"
                  },
                  {
                    "churn_timestamp": "2008-09-27 23:49:17",
                    "churn": "TRUE",
                    "IdentifierId": "IdentifierId(72711)"
                  },
                  {
                    "churn_timestamp": "2008-09-27 23:49:17",
                    "churn": "TRUE",
                    "IdentifierId": "IdentifierId(63312)"
                  },
                  {
                    "churn_timestamp": "2008-09-27 23:49:17",
                    "churn": "FALSE",
                    "IdentifierId": "IdentifierId(11975)"
                  },
                  {
                    "churn_timestamp": "2008-09-27 23:49:17",
                    "churn": "FALSE",
                    "IdentifierId": "IdentifierId(303)"
                  },
                  {
                    "churn_timestamp": "2008-09-27 23:49:17",
                    "churn": "TRUE",
                    "IdentifierId": "IdentifierId(9357)"
                  },
                  {
                    "churn_timestamp": "2008-09-27 23:49:17",
                    "churn": "FALSE",
                    "IdentifierId": "IdentifierId(9175)"
                  },
                  {
                    "churn_timestamp": "2008-09-27 23:49:17",
                    "churn": "FALSE",
                    "IdentifierId": "IdentifierId(77568)"
                  },
                  {
                    "churn_timestamp": "2008-09-27 23:49:17",
                    "churn": "TRUE",
                    "IdentifierId": "IdentifierId(25822)"
                  },
                  {
                    "churn_timestamp": "2008-09-27 23:49:17",
                    "churn": "FALSE",
                    "IdentifierId": "IdentifierId(322)"
                  },
                  {
                    "churn_timestamp": "2008-09-27 23:49:17",
                    "churn": "FALSE",
                    "IdentifierId": "IdentifierId(52751)"
                  },
                  {
                    "churn_timestamp": "2008-09-27 23:49:17",
                    "churn": "FALSE",
                    "IdentifierId": "IdentifierId(23189)"
                  },
                  {
                    "churn_timestamp": "2008-09-27 23:49:17",
                    "churn": "FALSE",
                    "IdentifierId": "IdentifierId(12386)"
                  },
                  {
                    "churn_timestamp": "2008-09-27 23:49:17",
                    "churn": "FALSE",
                    "IdentifierId": "IdentifierId(1102)"
                  },
                  {
                    "churn_timestamp": "2008-09-27 23:49:12",
                    "churn": "FALSE",
                    "IdentifierId": "IdentifierId(32141)"
                  },
                  {
                    "churn_timestamp": "2008-09-27 23:49:12",
                    "churn": "FALSE",
                    "IdentifierId": "IdentifierId(7363)"
                  },
                  {
                    "churn_timestamp": "2008-09-27 23:49:12",
                    "churn": "FALSE",
                    "IdentifierId": "IdentifierId(21752)"
                  },
                  {
                    "churn_timestamp": "2008-09-27 23:49:12",
                    "churn": "FALSE",
                    "IdentifierId": "IdentifierId(26229)"
                  },
                  {
                    "churn_timestamp": "2008-09-27 23:49:12",
                    "churn": "FALSE",
                    "IdentifierId": "IdentifierId(22301)"
                  },
                  {
                    "churn_timestamp": "2008-09-27 23:49:12",
                    "churn": "FALSE",
                    "IdentifierId": "IdentifierId(73596)"
                  },
                  {
                    "churn_timestamp": "2008-09-27 23:49:12",
                    "churn": "TRUE",
                    "IdentifierId": "IdentifierId(60220)"
                  },
                  {
                    "churn_timestamp": "2008-09-27 23:49:12",
                    "churn": "FALSE",
                    "IdentifierId": "IdentifierId(21984)"
                  },
                  {
                    "churn_timestamp": "2008-09-27 23:49:12",
                    "churn": "FALSE",
                    "IdentifierId": "IdentifierId(32748)"
                  },
                  {
                    "churn_timestamp": "2008-09-27 23:49:12",
                    "churn": "FALSE",
                    "IdentifierId": "IdentifierId(62239)"
                  },
                  {
                    "churn_timestamp": "2008-09-27 23:49:12",
                    "churn": "FALSE",
                    "IdentifierId": "IdentifierId(5198)"
                  },
                  {
                    "churn_timestamp": "2008-09-27 23:49:12",
                    "churn": "FALSE",
                    "IdentifierId": "IdentifierId(24137)"
                  },
                  {
                    "churn_timestamp": "2008-09-27 23:49:12",
                    "churn": "FALSE",
                    "IdentifierId": "IdentifierId(75332)"
                  },
                  {
                    "churn_timestamp": "2008-09-27 23:49:12",
                    "churn": "FALSE",
                    "IdentifierId": "IdentifierId(11895)"
                  },
                  {
                    "churn_timestamp": "2008-09-27 23:49:12",
                    "churn": "TRUE",
                    "IdentifierId": "IdentifierId(35002)"
                  },
                  {
                    "churn_timestamp": "2008-09-27 23:49:12",
                    "churn": "FALSE",
                    "IdentifierId": "IdentifierId(28365)"
                  },
                  {
                    "churn_timestamp": "2008-09-27 23:49:12",
                    "churn": "FALSE",
                    "IdentifierId": "IdentifierId(31647)"
                  },
                  {
                    "churn_timestamp": "2008-09-27 23:49:12",
                    "churn": "FALSE",
                    "IdentifierId": "IdentifierId(22567)"
                  },
                  {
                    "churn_timestamp": "2008-09-27 23:49:12",
                    "churn": "FALSE",
                    "IdentifierId": "IdentifierId(76764)"
                  },
                  {
                    "churn_timestamp": "2008-09-27 23:48:57",
                    "churn": "FALSE",
                    "IdentifierId": "IdentifierId(15620)"
                  },
                  {
                    "churn_timestamp": "2008-09-27 23:48:52",
                    "churn": "FALSE",
                    "IdentifierId": "IdentifierId(77667)"
                  },
                  {
                    "churn_timestamp": "2008-09-27 23:48:46",
                    "churn": "FALSE",
                    "IdentifierId": "IdentifierId(15465)"
                  },
                  {
                    "churn_timestamp": "2008-09-27 23:48:36",
                    "churn": "FALSE",
                    "IdentifierId": "IdentifierId(19887)"
                  },
                  {
                    "churn_timestamp": "2008-09-27 23:48:26",
                    "churn": "FALSE",
                    "IdentifierId": "IdentifierId(45444)"
                  },
                  {
                    "churn_timestamp": "2008-09-27 23:48:06",
                    "churn": "TRUE",
                    "IdentifierId": "IdentifierId(12465)"
                  },
                  {
                    "churn_timestamp": "2008-09-27 23:48:06",
                    "churn": "FALSE",
                    "IdentifierId": "IdentifierId(77980)"
                  },
                  {
                    "churn_timestamp": "2008-09-27 23:48:01",
                    "churn": "FALSE",
                    "IdentifierId": "IdentifierId(18089)"
                  },
                  {
                    "churn_timestamp": "2008-09-27 23:48:01",
                    "churn": "FALSE",
                    "IdentifierId": "IdentifierId(63330)"
                  },
                  {
                    "churn_timestamp": "2008-09-27 23:48:01",
                    "churn": "FALSE",
                    "IdentifierId": "IdentifierId(58202)"
                  },
                  {
                    "churn_timestamp": "2008-09-27 23:48:01",
                    "churn": "FALSE",
                    "IdentifierId": "IdentifierId(68576)"
                  },
                  {
                    "churn_timestamp": "2008-09-27 23:48:01",
                    "churn": "FALSE",
                    "IdentifierId": "IdentifierId(6480)"
                  },
                  {
                    "churn_timestamp": "2008-09-27 23:47:50",
                    "churn": "FALSE",
                    "IdentifierId": "IdentifierId(36625)"
                  },
                  {
                    "churn_timestamp": "2008-09-27 23:47:45",
                    "churn": "FALSE",
                    "IdentifierId": "IdentifierId(19915)"
                  },
                  {
                    "churn_timestamp": "2008-09-27 23:47:35",
                    "churn": "FALSE",
                    "IdentifierId": "IdentifierId(24164)"
                  },
                  {
                    "churn_timestamp": "2008-09-27 23:47:25",
                    "churn": "FALSE",
                    "IdentifierId": "IdentifierId(22200)"
                  },
                  {
                    "churn_timestamp": "2008-09-27 23:47:10",
                    "churn": "FALSE",
                    "IdentifierId": "IdentifierId(23376)"
                  },
                  {
                    "churn_timestamp": "2008-09-27 23:47:04",
                    "churn": "FALSE",
                    "IdentifierId": "IdentifierId(1217)"
                  },
                  {
                    "churn_timestamp": "2008-09-27 23:46:54",
                    "churn": "FALSE",
                    "IdentifierId": "IdentifierId(66247)"
                  },
                  {
                    "churn_timestamp": "2008-09-27 23:46:49",
                    "churn": "FALSE",
                    "IdentifierId": "IdentifierId(71401)"
                  },
                  {
                    "churn_timestamp": "2008-09-27 23:46:49",
                    "churn": "FALSE",
                    "IdentifierId": "IdentifierId(77367)"
                  },
                  {
                    "churn_timestamp": "2008-09-27 23:42:49",
                    "churn": "FALSE",
                    "IdentifierId": "IdentifierId(35622)"
                  },
                  {
                    "churn_timestamp": "2008-09-27 23:42:39",
                    "churn": "TRUE",
                    "IdentifierId": "IdentifierId(53356)"
                  },
                  {
                    "churn_timestamp": "2008-09-27 23:42:34",
                    "churn": "FALSE",
                    "IdentifierId": "IdentifierId(62999)"
                  },
                  {
                    "churn_timestamp": "2008-09-27 23:42:24",
                    "churn": "FALSE",
                    "IdentifierId": "IdentifierId(46491)"
                  },
                  {
                    "churn_timestamp": "2008-09-27 23:42:24",
                    "churn": "FALSE",
                    "IdentifierId": "IdentifierId(41911)"
                  },
                  {
                    "churn_timestamp": "2008-09-27 23:42:08",
                    "churn": "FALSE",
                    "IdentifierId": "IdentifierId(52587)"
                  },
                  {
                    "churn_timestamp": "2008-09-27 23:41:48",
                    "churn": "FALSE",
                    "IdentifierId": "IdentifierId(45485)"
                  },
                  {
                    "churn_timestamp": "2008-09-27 23:41:33",
                    "churn": "FALSE",
                    "IdentifierId": "IdentifierId(45942)"
                  },
                  {
                    "churn_timestamp": "2008-09-27 23:41:33",
                    "churn": "FALSE",
                    "IdentifierId": "IdentifierId(77546)"
                  },
                  {
                    "churn_timestamp": "2008-09-27 23:41:28",
                    "churn": "FALSE",
                    "IdentifierId": "IdentifierId(25635)"
                  },
                  {
                    "churn_timestamp": "2008-09-27 23:41:28",
                    "churn": "TRUE",
                    "IdentifierId": "IdentifierId(75672)"
                  },
                  {
                    "churn_timestamp": "2008-09-27 23:41:22",
                    "churn": "FALSE",
                    "IdentifierId": "IdentifierId(17170)"
                  },
                  {
                    "churn_timestamp": "2008-09-27 23:41:17",
                    "churn": "FALSE",
                    "IdentifierId": "IdentifierId(443)"
                  },
                  {
                    "churn_timestamp": "2008-09-27 23:41:17",
                    "churn": "FALSE",
                    "IdentifierId": "IdentifierId(2001)"
                  },
                  {
                    "churn_timestamp": "2008-09-27 23:41:07",
                    "churn": "FALSE",
                    "IdentifierId": "IdentifierId(45457)"
                  },
                  {
                    "churn_timestamp": "2008-09-27 23:41:07",
                    "churn": "FALSE",
                    "IdentifierId": "IdentifierId(72914)"
                  },
                  {
                    "churn_timestamp": "2008-09-27 23:41:07",
                    "churn": "FALSE",
                    "IdentifierId": "IdentifierId(24721)"
                  },
                  {
                    "churn_timestamp": "2008-09-27 23:40:42",
                    "churn": "FALSE",
                    "IdentifierId": "IdentifierId(77755)"
                  },
                  {
                    "churn_timestamp": "2008-09-27 23:40:42",
                    "churn": "FALSE",
                    "IdentifierId": "IdentifierId(74238)"
                  },
                  {
                    "churn_timestamp": "2008-09-27 23:39:45",
                    "churn": "FALSE",
                    "IdentifierId": "IdentifierId(23430)"
                  },
                  {
                    "churn_timestamp": "2008-09-27 23:39:35",
                    "churn": "FALSE",
                    "IdentifierId": "IdentifierId(71219)"
                  },
                  {
                    "churn_timestamp": "2008-09-27 23:39:19",
                    "churn": "FALSE",
                    "IdentifierId": "IdentifierId(19094)"
                  },
                  {
                    "churn_timestamp": "2008-09-27 23:39:19",
                    "churn": "FALSE",
                    "IdentifierId": "IdentifierId(72087)"
                  },
                  {
                    "churn_timestamp": "2008-09-27 23:38:54",
                    "churn": "FALSE",
                    "IdentifierId": "IdentifierId(48432)"
                  },
                  {
                    "churn_timestamp": "2008-09-27 23:38:54",
                    "churn": "FALSE",
                    "IdentifierId": "IdentifierId(22876)"
                  },
                  {
                    "churn_timestamp": "2008-09-27 23:30:46",
                    "churn": "FALSE",
                    "IdentifierId": "IdentifierId(59354)"
                  },
                  {
                    "churn_timestamp": "2008-09-27 23:30:46",
                    "churn": "FALSE",
                    "IdentifierId": "IdentifierId(55932)"
                  },
                  {
                    "churn_timestamp": "2008-09-27 23:30:41",
                    "churn": "TRUE",
                    "IdentifierId": "IdentifierId(57770)"
                  },
                  {
                    "churn_timestamp": "2008-09-27 23:30:41",
                    "churn": "FALSE",
                    "IdentifierId": "IdentifierId(25800)"
                  },
                  {
                    "churn_timestamp": "2008-09-27 23:30:41",
                    "churn": "FALSE",
                    "IdentifierId": "IdentifierId(61396)"
                  },
                  {
                    "churn_timestamp": "2008-09-27 23:30:31",
                    "churn": "FALSE",
                    "IdentifierId": "IdentifierId(61994)"
                  },
                  {
                    "churn_timestamp": "2008-09-27 23:30:20",
                    "churn": "FALSE",
                    "IdentifierId": "IdentifierId(5717)"
                  },
                  {
                    "churn_timestamp": "2008-09-27 23:30:00",
                    "churn": "FALSE",
                    "IdentifierId": "IdentifierId(74610)"
                  },
                  {
                    "churn_timestamp": "2008-09-27 23:30:00",
                    "churn": "FALSE",
                    "IdentifierId": "IdentifierId(73002)"
                  },
                  {
                    "churn_timestamp": "2008-09-27 23:30:00",
                    "churn": "FALSE",
                    "IdentifierId": "IdentifierId(70129)"
                  },
                  {
                    "churn_timestamp": "2008-09-27 23:29:55",
                    "churn": "FALSE",
                    "IdentifierId": "IdentifierId(36307)"
                  },
                  {
                    "churn_timestamp": "2008-09-27 23:29:39",
                    "churn": "FALSE",
                    "IdentifierId": "IdentifierId(62570)"
                  },
                  {
                    "churn_timestamp": "2008-09-27 23:29:29",
                    "churn": "FALSE",
                    "IdentifierId": "IdentifierId(78431)"
                  },
                  {
                    "churn_timestamp": "2008-09-27 23:29:19",
                    "churn": "FALSE",
                    "IdentifierId": "IdentifierId(10221)"
                  },
                  {
                    "churn_timestamp": "2008-09-27 23:29:14",
                    "churn": "FALSE",
                    "IdentifierId": "IdentifierId(398)"
                  },
                  {
                    "churn_timestamp": "2008-09-27 23:29:09",
                    "churn": "FALSE",
                    "IdentifierId": "IdentifierId(22609)"
                  },
                  {
                    "churn_timestamp": "2008-09-27 23:29:03",
                    "churn": "FALSE",
                    "IdentifierId": "IdentifierId(1784)"
                  },
                  {
                    "churn_timestamp": "2008-09-27 23:28:58",
                    "churn": "FALSE",
                    "IdentifierId": "IdentifierId(300)"
                  },
                  {
                    "churn_timestamp": "2008-09-27 23:28:43",
                    "churn": "FALSE",
                    "IdentifierId": "IdentifierId(55362)"
                  },
                  {
                    "churn_timestamp": "2008-09-27 23:28:38",
                    "churn": "FALSE",
                    "IdentifierId": "IdentifierId(72469)"
                  },
                  {
                    "churn_timestamp": "2008-09-27 23:28:38",
                    "churn": "FALSE",
                    "IdentifierId": "IdentifierId(58725)"
                  },
                  {
                    "churn_timestamp": "2008-09-27 23:28:28",
                    "churn": "FALSE",
                    "IdentifierId": "IdentifierId(18473)"
                  },
                  {
                    "churn_timestamp": "2008-09-27 23:28:17",
                    "churn": "FALSE",
                    "IdentifierId": "IdentifierId(513)"
                  },
                  {
                    "churn_timestamp": "2008-09-27 23:28:12",
                    "churn": "FALSE",
                    "IdentifierId": "IdentifierId(22154)"
                  },
                  {
                    "churn_timestamp": "2008-09-27 23:28:12",
                    "churn": "FALSE",
                    "IdentifierId": "IdentifierId(12056)"
                  },
                  {
                    "churn_timestamp": "2008-09-27 23:28:12",
                    "churn": "FALSE",
                    "IdentifierId": "IdentifierId(22167)"
                  },
                  {
                    "churn_timestamp": "2008-09-27 23:28:12",
                    "churn": "FALSE",
                    "IdentifierId": "IdentifierId(66926)"
                  },
                  {
                    "churn_timestamp": "2008-09-27 23:28:02",
                    "churn": "FALSE",
                    "IdentifierId": "IdentifierId(8608)"
                  },
                  {
                    "churn_timestamp": "2008-09-27 23:27:47",
                    "churn": "FALSE",
                    "IdentifierId": "IdentifierId(69080)"
                  },
                  {
                    "churn_timestamp": "2008-09-27 23:27:41",
                    "churn": "TRUE",
                    "IdentifierId": "IdentifierId(22330)"
                  },
                  {
                    "churn_timestamp": "2008-09-27 23:27:36",
                    "churn": "FALSE",
                    "IdentifierId": "IdentifierId(21868)"
                  },
                  {
                    "churn_timestamp": "2008-09-27 23:27:31",
                    "churn": "FALSE",
                    "IdentifierId": "IdentifierId(23577)"
                  },
                  {
                    "churn_timestamp": "2008-09-27 23:27:16",
                    "churn": "FALSE",
                    "IdentifierId": "IdentifierId(21591)"
                  },
                  {
                    "churn_timestamp": "2008-09-27 23:27:16",
                    "churn": "FALSE",
                    "IdentifierId": "IdentifierId(72470)"
                  },
                  {
                    "churn_timestamp": "2008-09-27 23:27:16",
                    "churn": "TRUE",
                    "IdentifierId": "IdentifierId(78564)"
                  },
                  {
                    "churn_timestamp": "2008-09-27 23:26:56",
                    "churn": "FALSE",
                    "IdentifierId": "IdentifierId(40951)"
                  },
                  {
                    "churn_timestamp": "2008-09-27 23:26:56",
                    "churn": "FALSE",
                    "IdentifierId": "IdentifierId(26881)"
                  },
                  {
                    "churn_timestamp": "2008-09-27 23:26:51",
                    "churn": "FALSE",
                    "IdentifierId": "IdentifierId(10223)"
                  },
                  {
                    "churn_timestamp": "2008-09-27 23:26:35",
                    "churn": "FALSE",
                    "IdentifierId": "IdentifierId(20785)"
                  },
                  {
                    "churn_timestamp": "2008-09-27 23:26:35",
                    "churn": "FALSE",
                    "IdentifierId": "IdentifierId(61658)"
                  },
                  {
                    "churn_timestamp": "2008-09-27 23:20:37",
                    "churn": "FALSE",
                    "IdentifierId": "IdentifierId(47969)"
                  },
                  {
                    "churn_timestamp": "2008-09-27 23:20:37",
                    "churn": "FALSE",
                    "IdentifierId": "IdentifierId(67006)"
                  },
                  {
                    "churn_timestamp": "2008-09-27 23:20:37",
                    "churn": "FALSE",
                    "IdentifierId": "IdentifierId(53624)"
                  },
                  {
                    "churn_timestamp": "2008-09-27 23:20:32",
                    "churn": "FALSE",
                    "IdentifierId": "IdentifierId(49142)"
                  },
                  {
                    "churn_timestamp": "2008-09-27 23:20:32",
                    "churn": "FALSE",
                    "IdentifierId": "IdentifierId(73301)"
                  },
                  {
                    "churn_timestamp": "2008-09-27 23:20:22",
                    "churn": "FALSE",
                    "IdentifierId": "IdentifierId(70975)"
                  },
                  {
                    "churn_timestamp": "2008-09-27 23:20:12",
                    "churn": "FALSE",
                    "IdentifierId": "IdentifierId(36804)"
                  },
                  {
                    "churn_timestamp": "2008-09-27 23:20:12",
                    "churn": "FALSE",
                    "IdentifierId": "IdentifierId(45387)"
                  },
                  {
                    "churn_timestamp": "2008-09-27 23:20:12",
                    "churn": "FALSE",
                    "IdentifierId": "IdentifierId(46107)"
                  },
                  {
                    "churn_timestamp": "2008-09-27 23:20:07",
                    "churn": "FALSE",
                    "IdentifierId": "IdentifierId(73590)"
                  },
                  {
                    "churn_timestamp": "2008-09-27 23:19:56",
                    "churn": "FALSE",
                    "IdentifierId": "IdentifierId(35104)"
                  },
                  {
                    "churn_timestamp": "2008-09-27 23:19:56",
                    "churn": "FALSE",
                    "IdentifierId": "IdentifierId(51774)"
                  },
                  {
                    "churn_timestamp": "2008-09-27 23:19:51",
                    "churn": "FALSE",
                    "IdentifierId": "IdentifierId(51234)"
                  },
                  {
                    "churn_timestamp": "2008-09-27 23:19:15",
                    "churn": "TRUE",
                    "IdentifierId": "IdentifierId(78516)"
                  },
                  {
                    "churn_timestamp": "2008-09-27 23:19:15",
                    "churn": "FALSE",
                    "IdentifierId": "IdentifierId(76844)"
                  },
                  {
                    "churn_timestamp": "2008-09-27 23:19:10",
                    "churn": "FALSE",
                    "IdentifierId": "IdentifierId(41829)"
                  },
                  {
                    "churn_timestamp": "2008-09-27 23:19:10",
                    "churn": "FALSE",
                    "IdentifierId": "IdentifierId(1449)"
                  },
                  {
                    "churn_timestamp": "2008-09-27 23:19:05",
                    "churn": "FALSE",
                    "IdentifierId": "IdentifierId(57741)"
                  },
                  {
                    "churn_timestamp": "2008-09-27 23:19:00",
                    "churn": "FALSE",
                    "IdentifierId": "IdentifierId(29342)"
                  },
                  {
                    "churn_timestamp": "2008-09-27 23:18:50",
                    "churn": "FALSE",
                    "IdentifierId": "IdentifierId(61523)"
                  },
                  {
                    "churn_timestamp": "2008-09-27 23:18:45",
                    "churn": "FALSE",
                    "IdentifierId": "IdentifierId(24239)"
                  },
                  {
                    "churn_timestamp": "2008-09-27 23:18:34",
                    "churn": "FALSE",
                    "IdentifierId": "IdentifierId(5980)"
                  },
                  {
                    "churn_timestamp": "2008-09-27 23:18:29",
                    "churn": "FALSE",
                    "IdentifierId": "IdentifierId(76615)"
                  },
                  {
                    "churn_timestamp": "2008-09-27 23:18:24",
                    "churn": "FALSE",
                    "IdentifierId": "IdentifierId(203)"
                  },
                  {
                    "churn_timestamp": "2008-09-27 23:18:19",
                    "churn": "FALSE",
                    "IdentifierId": "IdentifierId(28749)"
                  },
                  {
                    "churn_timestamp": "2008-09-27 23:18:09",
                    "churn": "FALSE",
                    "IdentifierId": "IdentifierId(37611)"
                  },
                  {
                    "churn_timestamp": "2008-09-27 23:17:48",
                    "churn": "FALSE",
                    "IdentifierId": "IdentifierId(2439)"
                  },
                  {
                    "churn_timestamp": "2008-09-27 23:17:48",
                    "churn": "FALSE",
                    "IdentifierId": "IdentifierId(72645)"
                  },
                  {
                    "churn_timestamp": "2008-09-27 23:17:38",
                    "churn": "FALSE",
                    "IdentifierId": "IdentifierId(21834)"
                  },
                  {
                    "churn_timestamp": "2008-09-27 23:17:38",
                    "churn": "FALSE",
                    "IdentifierId": "IdentifierId(67439)"
                  },
                  {
                    "churn_timestamp": "2008-09-27 23:17:33",
                    "churn": "FALSE",
                    "IdentifierId": "IdentifierId(22473)"
                  },
                  {
                    "churn_timestamp": "2008-09-27 23:17:07",
                    "churn": "FALSE",
                    "IdentifierId": "IdentifierId(60182)"
                  },
                  {
                    "churn_timestamp": "2008-09-27 23:17:07",
                    "churn": "FALSE",
                    "IdentifierId": "IdentifierId(77376)"
                  },
                  {
                    "churn_timestamp": "2008-09-27 23:17:07",
                    "churn": "FALSE",
                    "IdentifierId": "IdentifierId(77521)"
                  },
                  {
                    "churn_timestamp": "2008-09-27 23:16:47",
                    "churn": "FALSE",
                    "IdentifierId": "IdentifierId(18720)"
                  },
                  {
                    "churn_timestamp": "2008-09-27 23:16:47",
                    "churn": "FALSE",
                    "IdentifierId": "IdentifierId(61239)"
                  },
                  {
                    "churn_timestamp": "2008-09-27 23:16:47",
                    "churn": "FALSE",
                    "IdentifierId": "IdentifierId(2808)"
                  },
                  {
                    "churn_timestamp": "2008-09-27 23:10:59",
                    "churn": "FALSE",
                    "IdentifierId": "IdentifierId(52928)"
                  },
                  {
                    "churn_timestamp": "2008-09-27 23:10:54",
                    "churn": "FALSE",
                    "IdentifierId": "IdentifierId(74448)"
                  },
                  {
                    "churn_timestamp": "2008-09-27 23:10:54",
                    "churn": "FALSE",
                    "IdentifierId": "IdentifierId(36187)"
                  },
                  {
                    "churn_timestamp": "2008-09-27 23:10:49",
                    "churn": "TRUE",
                    "IdentifierId": "IdentifierId(45364)"
                  },
                  {
                    "churn_timestamp": "2008-09-27 23:10:34",
                    "churn": "TRUE",
                    "IdentifierId": "IdentifierId(34598)"
                  },
                  {
                    "churn_timestamp": "2008-09-27 23:10:34",
                    "churn": "FALSE",
                    "IdentifierId": "IdentifierId(61560)"
                  },
                  {
                    "churn_timestamp": "2008-09-27 23:10:34",
                    "churn": "FALSE",
                    "IdentifierId": "IdentifierId(63098)"
                  },
                  {
                    "churn_timestamp": "2008-09-27 23:10:03",
                    "churn": "FALSE",
                    "IdentifierId": "IdentifierId(76341)"
                  },
                  {
                    "churn_timestamp": "2008-09-27 23:09:53",
                    "churn": "FALSE",
                    "IdentifierId": "IdentifierId(70571)"
                  },
                  {
                    "churn_timestamp": "2008-09-27 23:09:53",
                    "churn": "FALSE",
                    "IdentifierId": "IdentifierId(68298)"
                  },
                  {
                    "churn_timestamp": "2008-09-27 23:09:43",
                    "churn": "TRUE",
                    "IdentifierId": "IdentifierId(78239)"
                  },
                  {
                    "churn_timestamp": "2008-09-27 23:09:38",
                    "churn": "TRUE",
                    "IdentifierId": "IdentifierId(60588)"
                  },
                  {
                    "churn_timestamp": "2008-09-27 23:09:33",
                    "churn": "FALSE",
                    "IdentifierId": "IdentifierId(15535)"
                  },
                  {
                    "churn_timestamp": "2008-09-27 23:09:33",
                    "churn": "FALSE",
                    "IdentifierId": "IdentifierId(22254)"
                  },
                  {
                    "churn_timestamp": "2008-09-27 23:09:27",
                    "churn": "FALSE",
                    "IdentifierId": "IdentifierId(297)"
                  },
                  {
                    "churn_timestamp": "2008-09-27 23:09:27",
                    "churn": "FALSE",
                    "IdentifierId": "IdentifierId(2058)"
                  },
                  {
                    "churn_timestamp": "2008-09-27 23:09:22",
                    "churn": "FALSE",
                    "IdentifierId": "IdentifierId(22551)"
                  },
                  {
                    "churn_timestamp": "2008-09-27 23:09:22",
                    "churn": "FALSE",
                    "IdentifierId": "IdentifierId(388)"
                  },
                  {
                    "churn_timestamp": "2008-09-27 23:09:17",
                    "churn": "FALSE",
                    "IdentifierId": "IdentifierId(23482)"
                  },
                  {
                    "churn_timestamp": "2008-09-27 23:09:12",
                    "churn": "TRUE",
                    "IdentifierId": "IdentifierId(24674)"
                  },
                  {
                    "churn_timestamp": "2008-09-27 23:08:57",
                    "churn": "FALSE",
                    "IdentifierId": "IdentifierId(30284)"
                  },
                  {
                    "churn_timestamp": "2008-09-27 23:08:52",
                    "churn": "TRUE",
                    "IdentifierId": "IdentifierId(68507)"
                  },
                  {
                    "churn_timestamp": "2008-09-27 23:08:52",
                    "churn": "FALSE",
                    "IdentifierId": "IdentifierId(28894)"
                  },
                  {
                    "churn_timestamp": "2008-09-27 23:08:36",
                    "churn": "TRUE",
                    "IdentifierId": "IdentifierId(73452)"
                  },
                  {
                    "churn_timestamp": "2008-09-27 23:08:16",
                    "churn": "FALSE",
                    "IdentifierId": "IdentifierId(71479)"
                  },
                  {
                    "churn_timestamp": "2008-09-27 23:08:01",
                    "churn": "FALSE",
                    "IdentifierId": "IdentifierId(53826)"
                  },
                  {
                    "churn_timestamp": "2008-09-27 23:07:51",
                    "churn": "FALSE",
                    "IdentifierId": "IdentifierId(22793)"
                  },
                  {
                    "churn_timestamp": "2008-09-27 23:07:51",
                    "churn": "FALSE",
                    "IdentifierId": "IdentifierId(19558)"
                  },
                  {
                    "churn_timestamp": "2008-09-27 23:07:46",
                    "churn": "TRUE",
                    "IdentifierId": "IdentifierId(37029)"
                  },
                  {
                    "churn_timestamp": "2008-09-27 23:07:46",
                    "churn": "FALSE",
                    "IdentifierId": "IdentifierId(21879)"
                  },
                  {
                    "churn_timestamp": "2008-09-27 23:07:30",
                    "churn": "FALSE",
                    "IdentifierId": "IdentifierId(73731)"
                  },
                  {
                    "churn_timestamp": "2008-09-27 23:07:10",
                    "churn": "FALSE",
                    "IdentifierId": "IdentifierId(66943)"
                  },
                  {
                    "churn_timestamp": "2008-09-27 23:06:49",
                    "churn": "FALSE",
                    "IdentifierId": "IdentifierId(59154)"
                  },
                  {
                    "churn_timestamp": "2008-09-27 23:00:38",
                    "churn": "TRUE",
                    "IdentifierId": "IdentifierId(55338)"
                  },
                  {
                    "churn_timestamp": "2008-09-27 23:00:28",
                    "churn": "FALSE",
                    "IdentifierId": "IdentifierId(77132)"
                  },
                  {
                    "churn_timestamp": "2008-09-27 23:00:22",
                    "churn": "FALSE",
                    "IdentifierId": "IdentifierId(49810)"
                  },
                  {
                    "churn_timestamp": "2008-09-27 23:00:22",
                    "churn": "FALSE",
                    "IdentifierId": "IdentifierId(54882)"
                  },
                  {
                    "churn_timestamp": "2008-09-27 23:00:22",
                    "churn": "TRUE",
                    "IdentifierId": "IdentifierId(26677)"
                  },
                  {
                    "churn_timestamp": "2008-09-27 23:00:12",
                    "churn": "FALSE",
                    "IdentifierId": "IdentifierId(73587)"
                  },
                  {
                    "churn_timestamp": "2008-09-27 22:59:41",
                    "churn": "TRUE",
                    "IdentifierId": "IdentifierId(38415)"
                  },
                  {
                    "churn_timestamp": "2008-09-27 22:59:31",
                    "churn": "FALSE",
                    "IdentifierId": "IdentifierId(69100)"
                  },
                  {
                    "churn_timestamp": "2008-09-27 22:59:16",
                    "churn": "FALSE",
                    "IdentifierId": "IdentifierId(78172)"
                  },
                  {
                    "churn_timestamp": "2008-09-27 22:59:00",
                    "churn": "FALSE",
                    "IdentifierId": "IdentifierId(323)"
                  },
                  {
                    "churn_timestamp": "2008-09-27 22:58:55",
                    "churn": "FALSE",
                    "IdentifierId": "IdentifierId(12930)"
                  },
                  {
                    "churn_timestamp": "2008-09-27 22:58:29",
                    "churn": "TRUE",
                    "IdentifierId": "IdentifierId(27186)"
                  },
                  {
                    "churn_timestamp": "2008-09-27 22:58:14",
                    "churn": "FALSE",
                    "IdentifierId": "IdentifierId(22213)"
                  },
                  {
                    "churn_timestamp": "2008-09-27 22:58:04",
                    "churn": "FALSE",
                    "IdentifierId": "IdentifierId(50401)"
                  },
                  {
                    "churn_timestamp": "2008-09-27 22:57:49",
                    "churn": "TRUE",
                    "IdentifierId": "IdentifierId(32401)"
                  },
                  {
                    "churn_timestamp": "2008-09-27 22:57:43",
                    "churn": "FALSE",
                    "IdentifierId": "IdentifierId(77492)"
                  },
                  {
                    "churn_timestamp": "2008-09-27 22:57:38",
                    "churn": "FALSE",
                    "IdentifierId": "IdentifierId(9272)"
                  },
                  {
                    "churn_timestamp": "2008-09-27 22:57:38",
                    "churn": "FALSE",
                    "IdentifierId": "IdentifierId(508)"
                  },
                  {
                    "churn_timestamp": "2008-09-27 22:57:33",
                    "churn": "FALSE",
                    "IdentifierId": "IdentifierId(820)"
                  },
                  {
                    "churn_timestamp": "2008-09-27 22:57:33",
                    "churn": "FALSE",
                    "IdentifierId": "IdentifierId(65335)"
                  },
                  {
                    "churn_timestamp": "2008-09-27 22:57:23",
                    "churn": "FALSE",
                    "IdentifierId": "IdentifierId(59436)"
                  },
                  {
                    "churn_timestamp": "2008-09-27 22:50:45",
                    "churn": "FALSE",
                    "IdentifierId": "IdentifierId(35697)"
                  },
                  {
                    "churn_timestamp": "2008-09-27 22:50:34",
                    "churn": "FALSE",
                    "IdentifierId": "IdentifierId(59489)"
                  },
                  {
                    "churn_timestamp": "2008-09-27 22:50:34",
                    "churn": "FALSE",
                    "IdentifierId": "IdentifierId(74344)"
                  },
                  {
                    "churn_timestamp": "2008-09-27 22:50:34",
                    "churn": "FALSE",
                    "IdentifierId": "IdentifierId(37228)"
                  },
                  {
                    "churn_timestamp": "2008-09-27 22:50:19",
                    "churn": "FALSE",
                    "IdentifierId": "IdentifierId(34759)"
                  },
                  {
                    "churn_timestamp": "2008-09-27 22:50:19",
                    "churn": "FALSE",
                    "IdentifierId": "IdentifierId(42099)"
                  },
                  {
                    "churn_timestamp": "2008-09-27 22:50:14",
                    "churn": "FALSE",
                    "IdentifierId": "IdentifierId(74805)"
                  },
                  {
                    "churn_timestamp": "2008-09-27 22:49:54",
                    "churn": "FALSE",
                    "IdentifierId": "IdentifierId(77264)"
                  },
                  {
                    "churn_timestamp": "2008-09-27 22:49:49",
                    "churn": "TRUE",
                    "IdentifierId": "IdentifierId(42610)"
                  },
                  {
                    "churn_timestamp": "2008-09-27 22:49:38",
                    "churn": "FALSE",
                    "IdentifierId": "IdentifierId(77080)"
                  },
                  {
                    "churn_timestamp": "2008-09-27 22:49:38",
                    "churn": "FALSE",
                    "IdentifierId": "IdentifierId(77727)"
                  },
                  {
                    "churn_timestamp": "2008-09-27 22:49:28",
                    "churn": "TRUE",
                    "IdentifierId": "IdentifierId(73623)"
                  },
                  {
                    "churn_timestamp": "2008-09-27 22:49:23",
                    "churn": "TRUE",
                    "IdentifierId": "IdentifierId(78551)"
                  },
                  {
                    "churn_timestamp": "2008-09-27 22:49:23",
                    "churn": "TRUE",
                    "IdentifierId": "IdentifierId(78533)"
                  },
                  {
                    "churn_timestamp": "2008-09-27 22:49:08",
                    "churn": "FALSE",
                    "IdentifierId": "IdentifierId(68104)"
                  },
                  {
                    "churn_timestamp": "2008-09-27 22:49:08",
                    "churn": "TRUE",
                    "IdentifierId": "IdentifierId(76887)"
                  },
                  {
                    "churn_timestamp": "2008-09-27 22:49:03",
                    "churn": "FALSE",
                    "IdentifierId": "IdentifierId(22058)"
                  },
                  {
                    "churn_timestamp": "2008-09-27 22:49:03",
                    "churn": "FALSE",
                    "IdentifierId": "IdentifierId(19986)"
                  },
                  {
                    "churn_timestamp": "2008-09-27 22:48:58",
                    "churn": "FALSE",
                    "IdentifierId": "IdentifierId(22322)"
                  },
                  {
                    "churn_timestamp": "2008-09-27 22:48:58",
                    "churn": "FALSE",
                    "IdentifierId": "IdentifierId(1229)"
                  },
                  {
                    "churn_timestamp": "2008-09-27 22:48:37",
                    "churn": "TRUE",
                    "IdentifierId": "IdentifierId(77518)"
                  },
                  {
                    "churn_timestamp": "2008-09-27 22:48:32",
                    "churn": "FALSE",
                    "IdentifierId": "IdentifierId(22465)"
                  },
                  {
                    "churn_timestamp": "2008-09-27 22:48:32",
                    "churn": "FALSE",
                    "IdentifierId": "IdentifierId(62348)"
                  },
                  {
                    "churn_timestamp": "2008-09-27 22:48:01",
                    "churn": "FALSE",
                    "IdentifierId": "IdentifierId(22208)"
                  },
                  {
                    "churn_timestamp": "2008-09-27 22:47:56",
                    "churn": "FALSE",
                    "IdentifierId": "IdentifierId(27842)"
                  },
                  {
                    "churn_timestamp": "2008-09-27 22:47:51",
                    "churn": "FALSE",
                    "IdentifierId": "IdentifierId(22830)"
                  },
                  {
                    "churn_timestamp": "2008-09-27 22:47:51",
                    "churn": "FALSE",
                    "IdentifierId": "IdentifierId(59328)"
                  },
                  {
                    "churn_timestamp": "2008-09-27 22:47:46",
                    "churn": "FALSE",
                    "IdentifierId": "IdentifierId(25858)"
                  },
                  {
                    "churn_timestamp": "2008-09-27 22:47:41",
                    "churn": "TRUE",
                    "IdentifierId": "IdentifierId(11214)"
                  },
                  {
                    "churn_timestamp": "2008-09-27 22:47:41",
                    "churn": "FALSE",
                    "IdentifierId": "IdentifierId(1161)"
                  },
                  {
                    "churn_timestamp": "2008-09-27 22:47:16",
                    "churn": "FALSE",
                    "IdentifierId": "IdentifierId(72257)"
                  },
                  {
                    "churn_timestamp": "2008-09-27 22:47:16",
                    "churn": "FALSE",
                    "IdentifierId": "IdentifierId(77777)"
                  },
                  {
                    "churn_timestamp": "2008-09-27 22:47:10",
                    "churn": "FALSE",
                    "IdentifierId": "IdentifierId(1974)"
                  },
                  {
                    "churn_timestamp": "2008-09-27 22:46:35",
                    "churn": "FALSE",
                    "IdentifierId": "IdentifierId(76220)"
                  },
                  {
                    "churn_timestamp": "2008-09-27 22:40:44",
                    "churn": "FALSE",
                    "IdentifierId": "IdentifierId(60674)"
                  },
                  {
                    "churn_timestamp": "2008-09-27 22:40:44",
                    "churn": "FALSE",
                    "IdentifierId": "IdentifierId(56320)"
                  },
                  {
                    "churn_timestamp": "2008-09-27 22:40:44",
                    "churn": "FALSE",
                    "IdentifierId": "IdentifierId(75050)"
                  },
                  {
                    "churn_timestamp": "2008-09-27 22:40:19",
                    "churn": "FALSE",
                    "IdentifierId": "IdentifierId(64304)"
                  },
                  {
                    "churn_timestamp": "2008-09-27 22:39:48",
                    "churn": "FALSE",
                    "IdentifierId": "IdentifierId(78005)"
                  },
                  {
                    "churn_timestamp": "2008-09-27 22:39:33",
                    "churn": "FALSE",
                    "IdentifierId": "IdentifierId(22545)"
                  },
                  {
                    "churn_timestamp": "2008-09-27 22:39:33",
                    "churn": "FALSE",
                    "IdentifierId": "IdentifierId(23939)"
                  },
                  {
                    "churn_timestamp": "2008-09-27 22:39:23",
                    "churn": "FALSE",
                    "IdentifierId": "IdentifierId(24722)"
                  },
                  {
                    "churn_timestamp": "2008-09-27 22:39:23",
                    "churn": "FALSE",
                    "IdentifierId": "IdentifierId(62293)"
                  },
                  {
                    "churn_timestamp": "2008-09-27 22:39:18",
                    "churn": "FALSE",
                    "IdentifierId": "IdentifierId(61283)"
                  },
                  {
                    "churn_timestamp": "2008-09-27 22:39:12",
                    "churn": "FALSE",
                    "IdentifierId": "IdentifierId(1915)"
                  },
                  {
                    "churn_timestamp": "2008-09-27 22:38:47",
                    "churn": "FALSE",
                    "IdentifierId": "IdentifierId(62743)"
                  },
                  {
                    "churn_timestamp": "2008-09-27 22:38:26",
                    "churn": "FALSE",
                    "IdentifierId": "IdentifierId(2692)"
                  },
                  {
                    "churn_timestamp": "2008-09-27 22:38:16",
                    "churn": "TRUE",
                    "IdentifierId": "IdentifierId(1309)"
                  },
                  {
                    "churn_timestamp": "2008-09-27 22:38:11",
                    "churn": "FALSE",
                    "IdentifierId": "IdentifierId(798)"
                  },
                  {
                    "churn_timestamp": "2008-09-27 22:38:00",
                    "churn": "FALSE",
                    "IdentifierId": "IdentifierId(2780)"
                  },
                  {
                    "churn_timestamp": "2008-09-27 22:38:00",
                    "churn": "FALSE",
                    "IdentifierId": "IdentifierId(3571)"
                  },
                  {
                    "churn_timestamp": "2008-09-27 22:37:55",
                    "churn": "FALSE",
                    "IdentifierId": "IdentifierId(426)"
                  },
                  {
                    "churn_timestamp": "2008-09-27 22:37:55",
                    "churn": "FALSE",
                    "IdentifierId": "IdentifierId(63285)"
                  },
                  {
                    "churn_timestamp": "2008-09-27 22:37:30",
                    "churn": "FALSE",
                    "IdentifierId": "IdentifierId(27103)"
                  },
                  {
                    "churn_timestamp": "2008-09-27 22:37:30",
                    "churn": "FALSE",
                    "IdentifierId": "IdentifierId(13869)"
                  },
                  {
                    "churn_timestamp": "2008-09-27 22:37:09",
                    "churn": "FALSE",
                    "IdentifierId": "IdentifierId(22162)"
                  },
                  {
                    "churn_timestamp": "2008-09-27 22:37:04",
                    "churn": "FALSE",
                    "IdentifierId": "IdentifierId(49944)"
                  },
                  {
                    "churn_timestamp": "2008-09-27 22:37:04",
                    "churn": "TRUE",
                    "IdentifierId": "IdentifierId(22789)"
                  },
                  {
                    "churn_timestamp": "2008-09-27 22:36:49",
                    "churn": "TRUE",
                    "IdentifierId": "IdentifierId(30923)"
                  },
                  {
                    "churn_timestamp": "2008-09-27 22:30:37",
                    "churn": "FALSE",
                    "IdentifierId": "IdentifierId(70125)"
                  },
                  {
                    "churn_timestamp": "2008-09-27 22:30:32",
                    "churn": "FALSE",
                    "IdentifierId": "IdentifierId(56886)"
                  },
                  {
                    "churn_timestamp": "2008-09-27 22:30:21",
                    "churn": "FALSE",
                    "IdentifierId": "IdentifierId(61922)"
                  },
                  {
                    "churn_timestamp": "2008-09-27 22:29:56",
                    "churn": "TRUE",
                    "IdentifierId": "IdentifierId(35668)"
                  },
                  {
                    "churn_timestamp": "2008-09-27 22:29:15",
                    "churn": "FALSE",
                    "IdentifierId": "IdentifierId(48293)"
                  },
                  {
                    "churn_timestamp": "2008-09-27 22:29:15",
                    "churn": "TRUE",
                    "IdentifierId": "IdentifierId(78314)"
                  },
                  {
                    "churn_timestamp": "2008-09-27 22:29:05",
                    "churn": "FALSE",
                    "IdentifierId": "IdentifierId(10568)"
                  },
                  {
                    "churn_timestamp": "2008-09-27 22:29:00",
                    "churn": "FALSE",
                    "IdentifierId": "IdentifierId(72906)"
                  },
                  {
                    "churn_timestamp": "2008-09-27 22:28:24",
                    "churn": "FALSE",
                    "IdentifierId": "IdentifierId(22263)"
                  },
                  {
                    "churn_timestamp": "2008-09-27 22:28:19",
                    "churn": "FALSE",
                    "IdentifierId": "IdentifierId(24897)"
                  },
                  {
                    "churn_timestamp": "2008-09-27 22:28:09",
                    "churn": "FALSE",
                    "IdentifierId": "IdentifierId(23494)"
                  },
                  {
                    "churn_timestamp": "2008-09-27 22:28:04",
                    "churn": "FALSE",
                    "IdentifierId": "IdentifierId(22264)"
                  },
                  {
                    "churn_timestamp": "2008-09-27 22:28:04",
                    "churn": "FALSE",
                    "IdentifierId": "IdentifierId(57939)"
                  },
                  {
                    "churn_timestamp": "2008-09-27 22:27:23",
                    "churn": "FALSE",
                    "IdentifierId": "IdentifierId(27412)"
                  },
                  {
                    "churn_timestamp": "2008-09-27 22:27:23",
                    "churn": "FALSE",
                    "IdentifierId": "IdentifierId(152)"
                  },
                  {
                    "churn_timestamp": "2008-09-27 22:27:23",
                    "churn": "FALSE",
                    "IdentifierId": "IdentifierId(68475)"
                  },
                  {
                    "churn_timestamp": "2008-09-27 22:27:23",
                    "churn": "FALSE",
                    "IdentifierId": "IdentifierId(62226)"
                  },
                  {
                    "churn_timestamp": "2008-09-27 22:27:08",
                    "churn": "FALSE",
                    "IdentifierId": "IdentifierId(76766)"
                  },
                  {
                    "churn_timestamp": "2008-09-27 22:26:47",
                    "churn": "FALSE",
                    "IdentifierId": "IdentifierId(59776)"
                  },
                  {
                    "churn_timestamp": "2008-09-27 22:26:47",
                    "churn": "TRUE",
                    "IdentifierId": "IdentifierId(22218)"
                  },
                  {
                    "churn_timestamp": "2008-09-27 22:26:42",
                    "churn": "FALSE",
                    "IdentifierId": "IdentifierId(1003)"
                  },
                  {
                    "churn_timestamp": "2008-09-27 22:21:00",
                    "churn": "FALSE",
                    "IdentifierId": "IdentifierId(61089)"
                  },
                  {
                    "churn_timestamp": "2008-09-27 22:20:49",
                    "churn": "FALSE",
                    "IdentifierId": "IdentifierId(69298)"
                  },
                  {
                    "churn_timestamp": "2008-09-27 22:20:49",
                    "churn": "FALSE",
                    "IdentifierId": "IdentifierId(52992)"
                  },
                  {
                    "churn_timestamp": "2008-09-27 22:20:18",
                    "churn": "FALSE",
                    "IdentifierId": "IdentifierId(77748)"
                  },
                  {
                    "churn_timestamp": "2008-09-27 22:20:03",
                    "churn": "TRUE",
                    "IdentifierId": "IdentifierId(39886)"
                  },
                  {
                    "churn_timestamp": "2008-09-27 22:19:42",
                    "churn": "TRUE",
                    "IdentifierId": "IdentifierId(74656)"
                  },
                  {
                    "churn_timestamp": "2008-09-27 22:19:42",
                    "churn": "FALSE",
                    "IdentifierId": "IdentifierId(65900)"
                  },
                  {
                    "churn_timestamp": "2008-09-27 22:19:37",
                    "churn": "TRUE",
                    "IdentifierId": "IdentifierId(71616)"
                  },
                  {
                    "churn_timestamp": "2008-09-27 22:19:32",
                    "churn": "FALSE",
                    "IdentifierId": "IdentifierId(25473)"
                  },
                  {
                    "churn_timestamp": "2008-09-27 22:19:27",
                    "churn": "FALSE",
                    "IdentifierId": "IdentifierId(23426)"
                  },
                  {
                    "churn_timestamp": "2008-09-27 22:19:22",
                    "churn": "FALSE",
                    "IdentifierId": "IdentifierId(25043)"
                  },
                  {
                    "churn_timestamp": "2008-09-27 22:19:17",
                    "churn": "TRUE",
                    "IdentifierId": "IdentifierId(15683)"
                  },
                  {
                    "churn_timestamp": "2008-09-27 22:19:17",
                    "churn": "FALSE",
                    "IdentifierId": "IdentifierId(64346)"
                  },
                  {
                    "churn_timestamp": "2008-09-27 22:19:12",
                    "churn": "FALSE",
                    "IdentifierId": "IdentifierId(23952)"
                  },
                  {
                    "churn_timestamp": "2008-09-27 22:19:07",
                    "churn": "FALSE",
                    "IdentifierId": "IdentifierId(2240)"
                  },
                  {
                    "churn_timestamp": "2008-09-27 22:18:51",
                    "churn": "TRUE",
                    "IdentifierId": "IdentifierId(69818)"
                  },
                  {
                    "churn_timestamp": "2008-09-27 22:18:51",
                    "churn": "TRUE",
                    "IdentifierId": "IdentifierId(78420)"
                  },
                  {
                    "churn_timestamp": "2008-09-27 22:18:36",
                    "churn": "FALSE",
                    "IdentifierId": "IdentifierId(21965)"
                  },
                  {
                    "churn_timestamp": "2008-09-27 22:17:30",
                    "churn": "TRUE",
                    "IdentifierId": "IdentifierId(78497)"
                  },
                  {
                    "churn_timestamp": "2008-09-27 22:17:30",
                    "churn": "FALSE",
                    "IdentifierId": "IdentifierId(76191)"
                  },
                  {
                    "churn_timestamp": "2008-09-27 22:17:30",
                    "churn": "FALSE",
                    "IdentifierId": "IdentifierId(19383)"
                  },
                  {
                    "churn_timestamp": "2008-09-27 22:17:24",
                    "churn": "FALSE",
                    "IdentifierId": "IdentifierId(1043)"
                  },
                  {
                    "churn_timestamp": "2008-09-27 22:17:19",
                    "churn": "FALSE",
                    "IdentifierId": "IdentifierId(23036)"
                  },
                  {
                    "churn_timestamp": "2008-09-27 22:17:19",
                    "churn": "FALSE",
                    "IdentifierId": "IdentifierId(22025)"
                  },
                  {
                    "churn_timestamp": "2008-09-27 22:17:09",
                    "churn": "FALSE",
                    "IdentifierId": "IdentifierId(59345)"
                  },
                  {
                    "churn_timestamp": "2008-09-27 22:12:38",
                    "churn": "FALSE",
                    "IdentifierId": "IdentifierId(66654)"
                  },
                  {
                    "churn_timestamp": "2008-09-27 22:12:38",
                    "churn": "FALSE",
                    "IdentifierId": "IdentifierId(72191)"
                  },
                  {
                    "churn_timestamp": "2008-09-27 22:12:38",
                    "churn": "TRUE",
                    "IdentifierId": "IdentifierId(68977)"
                  },
                  {
                    "churn_timestamp": "2008-09-27 22:12:17",
                    "churn": "FALSE",
                    "IdentifierId": "IdentifierId(77445)"
                  },
                  {
                    "churn_timestamp": "2008-09-27 22:11:31",
                    "churn": "FALSE",
                    "IdentifierId": "IdentifierId(36797)"
                  },
                  {
                    "churn_timestamp": "2008-09-27 22:11:26",
                    "churn": "FALSE",
                    "IdentifierId": "IdentifierId(34049)"
                  },
                  {
                    "churn_timestamp": "2008-09-27 22:11:16",
                    "churn": "FALSE",
                    "IdentifierId": "IdentifierId(25521)"
                  },
                  {
                    "churn_timestamp": "2008-09-27 22:11:11",
                    "churn": "FALSE",
                    "IdentifierId": "IdentifierId(72006)"
                  },
                  {
                    "churn_timestamp": "2008-09-27 22:11:11",
                    "churn": "FALSE",
                    "IdentifierId": "IdentifierId(74766)"
                  },
                  {
                    "churn_timestamp": "2008-09-27 22:11:06",
                    "churn": "FALSE",
                    "IdentifierId": "IdentifierId(17739)"
                  },
                  {
                    "churn_timestamp": "2008-09-27 22:11:06",
                    "churn": "FALSE",
                    "IdentifierId": "IdentifierId(1300)"
                  },
                  {
                    "churn_timestamp": "2008-09-27 22:10:25",
                    "churn": "FALSE",
                    "IdentifierId": "IdentifierId(22206)"
                  },
                  {
                    "churn_timestamp": "2008-09-27 22:10:04",
                    "churn": "FALSE",
                    "IdentifierId": "IdentifierId(84)"
                  },
                  {
                    "churn_timestamp": "2008-09-27 22:09:54",
                    "churn": "FALSE",
                    "IdentifierId": "IdentifierId(177)"
                  },
                  {
                    "churn_timestamp": "2008-09-27 22:09:49",
                    "churn": "FALSE",
                    "IdentifierId": "IdentifierId(15781)"
                  },
                  {
                    "churn_timestamp": "2008-09-27 22:09:24",
                    "churn": "FALSE",
                    "IdentifierId": "IdentifierId(16187)"
                  },
                  {
                    "churn_timestamp": "2008-09-27 22:09:08",
                    "churn": "TRUE",
                    "IdentifierId": "IdentifierId(2366)"
                  },
                  {
                    "churn_timestamp": "2008-09-27 22:09:08",
                    "churn": "TRUE",
                    "IdentifierId": "IdentifierId(73295)"
                  },
                  {
                    "churn_timestamp": "2008-09-27 22:09:08",
                    "churn": "TRUE",
                    "IdentifierId": "IdentifierId(21086)"
                  },
                  {
                    "churn_timestamp": "2008-09-27 22:09:08",
                    "churn": "TRUE",
                    "IdentifierId": "IdentifierId(76193)"
                  },
                  {
                    "churn_timestamp": "2008-09-27 22:02:04",
                    "churn": "FALSE",
                    "IdentifierId": "IdentifierId(53785)"
                  },
                  {
                    "churn_timestamp": "2008-09-27 22:01:54",
                    "churn": "FALSE",
                    "IdentifierId": "IdentifierId(48560)"
                  },
                  {
                    "churn_timestamp": "2008-09-27 22:01:49",
                    "churn": "FALSE",
                    "IdentifierId": "IdentifierId(47368)"
                  },
                  {
                    "churn_timestamp": "2008-09-27 22:01:49",
                    "churn": "FALSE",
                    "IdentifierId": "IdentifierId(59614)"
                  },
                  {
                    "churn_timestamp": "2008-09-27 22:01:49",
                    "churn": "FALSE",
                    "IdentifierId": "IdentifierId(46748)"
                  },
                  {
                    "churn_timestamp": "2008-09-27 22:01:38",
                    "churn": "FALSE",
                    "IdentifierId": "IdentifierId(67673)"
                  },
                  {
                    "churn_timestamp": "2008-09-27 22:01:07",
                    "churn": "FALSE",
                    "IdentifierId": "IdentifierId(20650)"
                  },
                  {
                    "churn_timestamp": "2008-09-27 22:01:07",
                    "churn": "FALSE",
                    "IdentifierId": "IdentifierId(55299)"
                  },
                  {
                    "churn_timestamp": "2008-09-27 22:01:02",
                    "churn": "FALSE",
                    "IdentifierId": "IdentifierId(44907)"
                  },
                  {
                    "churn_timestamp": "2008-09-27 22:00:47",
                    "churn": "FALSE",
                    "IdentifierId": "IdentifierId(70302)"
                  },
                  {
                    "churn_timestamp": "2008-09-27 22:00:42",
                    "churn": "FALSE",
                    "IdentifierId": "IdentifierId(68454)"
                  },
                  {
                    "churn_timestamp": "2008-09-27 22:00:36",
                    "churn": "FALSE",
                    "IdentifierId": "IdentifierId(1094)"
                  },
                  {
                    "churn_timestamp": "2008-09-27 22:00:31",
                    "churn": "TRUE",
                    "IdentifierId": "IdentifierId(57316)"
                  },
                  {
                    "churn_timestamp": "2008-09-27 22:00:31",
                    "churn": "FALSE",
                    "IdentifierId": "IdentifierId(67275)"
                  },
                  {
                    "churn_timestamp": "2008-09-27 22:00:26",
                    "churn": "FALSE",
                    "IdentifierId": "IdentifierId(16992)"
                  },
                  {
                    "churn_timestamp": "2008-09-27 22:00:11",
                    "churn": "FALSE",
                    "IdentifierId": "IdentifierId(21870)"
                  },
                  {
                    "churn_timestamp": "2008-09-27 22:00:06",
                    "churn": "FALSE",
                    "IdentifierId": "IdentifierId(77625)"
                  },
                  {
                    "churn_timestamp": "2008-09-27 22:00:06",
                    "churn": "TRUE",
                    "IdentifierId": "IdentifierId(5744)"
                  },
                  {
                    "churn_timestamp": "2008-09-27 21:59:40",
                    "churn": "FALSE",
                    "IdentifierId": "IdentifierId(8109)"
                  },
                  {
                    "churn_timestamp": "2008-09-27 21:59:20",
                    "churn": "FALSE",
                    "IdentifierId": "IdentifierId(23434)"
                  },
                  {
                    "churn_timestamp": "2008-09-27 21:59:15",
                    "churn": "FALSE",
                    "IdentifierId": "IdentifierId(65947)"
                  },
                  {
                    "churn_timestamp": "2008-09-27 21:59:15",
                    "churn": "FALSE",
                    "IdentifierId": "IdentifierId(25291)"
                  },
                  {
                    "churn_timestamp": "2008-09-27 21:59:05",
                    "churn": "FALSE",
                    "IdentifierId": "IdentifierId(72384)"
                  },
                  {
                    "churn_timestamp": "2008-09-27 21:59:00",
                    "churn": "FALSE",
                    "IdentifierId": "IdentifierId(62085)"
                  },
                  {
                    "churn_timestamp": "2008-09-27 21:58:49",
                    "churn": "TRUE",
                    "IdentifierId": "IdentifierId(29603)"
                  },
                  {
                    "churn_timestamp": "2008-09-27 21:58:44",
                    "churn": "TRUE",
                    "IdentifierId": "IdentifierId(78467)"
                  },
                  {
                    "churn_timestamp": "2008-09-27 21:58:44",
                    "churn": "TRUE",
                    "IdentifierId": "IdentifierId(78409)"
                  },
                  {
                    "churn_timestamp": "2008-09-27 21:58:03",
                    "churn": "FALSE",
                    "IdentifierId": "IdentifierId(1369)"
                  },
                  {
                    "churn_timestamp": "2008-09-27 21:51:00",
                    "churn": "FALSE",
                    "IdentifierId": "IdentifierId(56487)"
                  },
                  {
                    "churn_timestamp": "2008-09-27 21:51:00",
                    "churn": "TRUE",
                    "IdentifierId": "IdentifierId(67152)"
                  },
                  {
                    "churn_timestamp": "2008-09-27 21:50:55",
                    "churn": "TRUE",
                    "IdentifierId": "IdentifierId(64095)"
                  },
                  {
                    "churn_timestamp": "2008-09-27 21:50:50",
                    "churn": "FALSE",
                    "IdentifierId": "IdentifierId(65066)"
                  },
                  {
                    "churn_timestamp": "2008-09-27 21:50:50",
                    "churn": "FALSE",
                    "IdentifierId": "IdentifierId(52142)"
                  },
                  {
                    "churn_timestamp": "2008-09-27 21:50:39",
                    "churn": "FALSE",
                    "IdentifierId": "IdentifierId(72123)"
                  },
                  {
                    "churn_timestamp": "2008-09-27 21:50:39",
                    "churn": "FALSE",
                    "IdentifierId": "IdentifierId(76721)"
                  },
                  {
                    "churn_timestamp": "2008-09-27 21:50:39",
                    "churn": "FALSE",
                    "IdentifierId": "IdentifierId(44398)"
                  },
                  {
                    "churn_timestamp": "2008-09-27 21:50:34",
                    "churn": "TRUE",
                    "IdentifierId": "IdentifierId(48597)"
                  },
                  {
                    "churn_timestamp": "2008-09-27 21:50:34",
                    "churn": "FALSE",
                    "IdentifierId": "IdentifierId(35413)"
                  },
                  {
                    "churn_timestamp": "2008-09-27 21:49:54",
                    "churn": "TRUE",
                    "IdentifierId": "IdentifierId(41100)"
                  },
                  {
                    "churn_timestamp": "2008-09-27 21:49:43",
                    "churn": "TRUE",
                    "IdentifierId": "IdentifierId(35661)"
                  },
                  {
                    "churn_timestamp": "2008-09-27 21:49:33",
                    "churn": "FALSE",
                    "IdentifierId": "IdentifierId(67578)"
                  },
                  {
                    "churn_timestamp": "2008-09-27 21:49:28",
                    "churn": "FALSE",
                    "IdentifierId": "IdentifierId(1075)"
                  },
                  {
                    "churn_timestamp": "2008-09-27 21:49:23",
                    "churn": "TRUE",
                    "IdentifierId": "IdentifierId(22409)"
                  },
                  {
                    "churn_timestamp": "2008-09-27 21:49:17",
                    "churn": "TRUE",
                    "IdentifierId": "IdentifierId(1638)"
                  },
                  {
                    "churn_timestamp": "2008-09-27 21:49:17",
                    "churn": "FALSE",
                    "IdentifierId": "IdentifierId(343)"
                  },
                  {
                    "churn_timestamp": "2008-09-27 21:49:12",
                    "churn": "FALSE",
                    "IdentifierId": "IdentifierId(24004)"
                  },
                  {
                    "churn_timestamp": "2008-09-27 21:49:02",
                    "churn": "FALSE",
                    "IdentifierId": "IdentifierId(23111)"
                  },
                  {
                    "churn_timestamp": "2008-09-27 21:48:52",
                    "churn": "FALSE",
                    "IdentifierId": "IdentifierId(77399)"
                  },
                  {
                    "churn_timestamp": "2008-09-27 21:48:42",
                    "churn": "FALSE",
                    "IdentifierId": "IdentifierId(5626)"
                  },
                  {
                    "churn_timestamp": "2008-09-27 21:48:32",
                    "churn": "FALSE",
                    "IdentifierId": "IdentifierId(2254)"
                  },
                  {
                    "churn_timestamp": "2008-09-27 21:48:11",
                    "churn": "FALSE",
                    "IdentifierId": "IdentifierId(63871)"
                  },
                  {
                    "churn_timestamp": "2008-09-27 21:47:56",
                    "churn": "FALSE",
                    "IdentifierId": "IdentifierId(23865)"
                  },
                  {
                    "churn_timestamp": "2008-09-27 21:47:56",
                    "churn": "TRUE",
                    "IdentifierId": "IdentifierId(29487)"
                  },
                  {
                    "churn_timestamp": "2008-09-27 21:47:46",
                    "churn": "FALSE",
                    "IdentifierId": "IdentifierId(22513)"
                  },
                  {
                    "churn_timestamp": "2008-09-27 21:47:10",
                    "churn": "FALSE",
                    "IdentifierId": "IdentifierId(31407)"
                  },
                  {
                    "churn_timestamp": "2008-09-27 21:47:05",
                    "churn": "FALSE",
                    "IdentifierId": "IdentifierId(22044)"
                  },
                  {
                    "churn_timestamp": "2008-09-27 21:43:09",
                    "churn": "FALSE",
                    "IdentifierId": "IdentifierId(72632)"
                  },
                  {
                    "churn_timestamp": "2008-09-27 21:42:59",
                    "churn": "FALSE",
                    "IdentifierId": "IdentifierId(29590)"
                  },
                  {
                    "churn_timestamp": "2008-09-27 21:42:54",
                    "churn": "FALSE",
                    "IdentifierId": "IdentifierId(74939)"
                  },
                  {
                    "churn_timestamp": "2008-09-27 21:42:13",
                    "churn": "FALSE",
                    "IdentifierId": "IdentifierId(73766)"
                  },
                  {
                    "churn_timestamp": "2008-09-27 21:42:08",
                    "churn": "TRUE",
                    "IdentifierId": "IdentifierId(78261)"
                  },
                  {
                    "churn_timestamp": "2008-09-27 21:41:52",
                    "churn": "FALSE",
                    "IdentifierId": "IdentifierId(58571)"
                  },
                  {
                    "churn_timestamp": "2008-09-27 21:41:47",
                    "churn": "TRUE",
                    "IdentifierId": "IdentifierId(775)"
                  },
                  {
                    "churn_timestamp": "2008-09-27 21:41:37",
                    "churn": "FALSE",
                    "IdentifierId": "IdentifierId(12571)"
                  },
                  {
                    "churn_timestamp": "2008-09-27 21:41:06",
                    "churn": "FALSE",
                    "IdentifierId": "IdentifierId(27659)"
                  },
                  {
                    "churn_timestamp": "2008-09-27 21:40:35",
                    "churn": "FALSE",
                    "IdentifierId": "IdentifierId(51101)"
                  },
                  {
                    "churn_timestamp": "2008-09-27 21:40:30",
                    "churn": "FALSE",
                    "IdentifierId": "IdentifierId(75958)"
                  },
                  {
                    "churn_timestamp": "2008-09-27 21:40:25",
                    "churn": "FALSE",
                    "IdentifierId": "IdentifierId(27486)"
                  },
                  {
                    "churn_timestamp": "2008-09-27 21:40:25",
                    "churn": "FALSE",
                    "IdentifierId": "IdentifierId(22009)"
                  },
                  {
                    "churn_timestamp": "2008-09-27 21:40:20",
                    "churn": "FALSE",
                    "IdentifierId": "IdentifierId(61542)"
                  },
                  {
                    "churn_timestamp": "2008-09-27 21:40:10",
                    "churn": "TRUE",
                    "IdentifierId": "IdentifierId(22316)"
                  },
                  {
                    "churn_timestamp": "2008-09-27 21:39:34",
                    "churn": "FALSE",
                    "IdentifierId": "IdentifierId(78122)"
                  },
                  {
                    "churn_timestamp": "2008-09-27 21:32:40",
                    "churn": "TRUE",
                    "IdentifierId": "IdentifierId(67207)"
                  },
                  {
                    "churn_timestamp": "2008-09-27 21:32:35",
                    "churn": "FALSE",
                    "IdentifierId": "IdentifierId(37239)"
                  },
                  {
                    "churn_timestamp": "2008-09-27 21:32:35",
                    "churn": "FALSE",
                    "IdentifierId": "IdentifierId(61818)"
                  },
                  {
                    "churn_timestamp": "2008-09-27 21:32:35",
                    "churn": "TRUE",
                    "IdentifierId": "IdentifierId(70330)"
                  },
                  {
                    "churn_timestamp": "2008-09-27 21:32:35",
                    "churn": "FALSE",
                    "IdentifierId": "IdentifierId(61893)"
                  },
                  {
                    "churn_timestamp": "2008-09-27 21:32:35",
                    "churn": "FALSE",
                    "IdentifierId": "IdentifierId(50397)"
                  },
                  {
                    "churn_timestamp": "2008-09-27 21:31:34",
                    "churn": "FALSE",
                    "IdentifierId": "IdentifierId(64135)"
                  },
                  {
                    "churn_timestamp": "2008-09-27 21:31:23",
                    "churn": "TRUE",
                    "IdentifierId": "IdentifierId(78263)"
                  },
                  {
                    "churn_timestamp": "2008-09-27 21:31:13",
                    "churn": "FALSE",
                    "IdentifierId": "IdentifierId(24723)"
                  },
                  {
                    "churn_timestamp": "2008-09-27 21:31:08",
                    "churn": "FALSE",
                    "IdentifierId": "IdentifierId(557)"
                  },
                  {
                    "churn_timestamp": "2008-09-27 21:30:58",
                    "churn": "FALSE",
                    "IdentifierId": "IdentifierId(25363)"
                  },
                  {
                    "churn_timestamp": "2008-09-27 21:30:53",
                    "churn": "FALSE",
                    "IdentifierId": "IdentifierId(354)"
                  },
                  {
                    "churn_timestamp": "2008-09-27 21:30:32",
                    "churn": "TRUE",
                    "IdentifierId": "IdentifierId(77913)"
                  },
                  {
                    "churn_timestamp": "2008-09-27 21:30:32",
                    "churn": "FALSE",
                    "IdentifierId": "IdentifierId(72551)"
                  },
                  {
                    "churn_timestamp": "2008-09-27 21:30:32",
                    "churn": "FALSE",
                    "IdentifierId": "IdentifierId(47174)"
                  },
                  {
                    "churn_timestamp": "2008-09-27 21:30:32",
                    "churn": "FALSE",
                    "IdentifierId": "IdentifierId(1108)"
                  },
                  {
                    "churn_timestamp": "2008-09-27 21:30:27",
                    "churn": "FALSE",
                    "IdentifierId": "IdentifierId(22182)"
                  },
                  {
                    "churn_timestamp": "2008-09-27 21:30:12",
                    "churn": "FALSE",
                    "IdentifierId": "IdentifierId(22675)"
                  },
                  {
                    "churn_timestamp": "2008-09-27 21:30:12",
                    "churn": "FALSE",
                    "IdentifierId": "IdentifierId(22728)"
                  },
                  {
                    "churn_timestamp": "2008-09-27 21:29:41",
                    "churn": "FALSE",
                    "IdentifierId": "IdentifierId(17351)"
                  },
                  {
                    "churn_timestamp": "2008-09-27 21:29:36",
                    "churn": "FALSE",
                    "IdentifierId": "IdentifierId(3251)"
                  },
                  {
                    "churn_timestamp": "2008-09-27 21:29:36",
                    "churn": "FALSE",
                    "IdentifierId": "IdentifierId(62175)"
                  },
                  {
                    "churn_timestamp": "2008-09-27 21:29:01",
                    "churn": "TRUE",
                    "IdentifierId": "IdentifierId(21960)"
                  },
                  {
                    "churn_timestamp": "2008-09-27 21:28:50",
                    "churn": "FALSE",
                    "IdentifierId": "IdentifierId(58271)"
                  },
                  {
                    "churn_timestamp": "2008-09-27 21:28:50",
                    "churn": "FALSE",
                    "IdentifierId": "IdentifierId(73666)"
                  },
                  {
                    "churn_timestamp": "2008-09-27 21:28:30",
                    "churn": "TRUE",
                    "IdentifierId": "IdentifierId(78527)"
                  },
                  {
                    "churn_timestamp": "2008-09-27 21:28:30",
                    "churn": "TRUE",
                    "IdentifierId": "IdentifierId(76478)"
                  },
                  {
                    "churn_timestamp": "2008-09-27 21:22:03",
                    "churn": "FALSE",
                    "IdentifierId": "IdentifierId(34629)"
                  },
                  {
                    "churn_timestamp": "2008-09-27 21:21:43",
                    "churn": "FALSE",
                    "IdentifierId": "IdentifierId(46249)"
                  },
                  {
                    "churn_timestamp": "2008-09-27 21:21:43",
                    "churn": "FALSE",
                    "IdentifierId": "IdentifierId(57566)"
                  },
                  {
                    "churn_timestamp": "2008-09-27 21:20:52",
                    "churn": "FALSE",
                    "IdentifierId": "IdentifierId(37138)"
                  },
                  {
                    "churn_timestamp": "2008-09-27 21:20:42",
                    "churn": "FALSE",
                    "IdentifierId": "IdentifierId(78051)"
                  },
                  {
                    "churn_timestamp": "2008-09-27 21:20:37",
                    "churn": "FALSE",
                    "IdentifierId": "IdentifierId(18748)"
                  },
                  {
                    "churn_timestamp": "2008-09-27 21:20:16",
                    "churn": "FALSE",
                    "IdentifierId": "IdentifierId(22453)"
                  },
                  {
                    "churn_timestamp": "2008-09-27 21:20:01",
                    "churn": "FALSE",
                    "IdentifierId": "IdentifierId(48548)"
                  },
                  {
                    "churn_timestamp": "2008-09-27 21:19:56",
                    "churn": "TRUE",
                    "IdentifierId": "IdentifierId(78284)"
                  },
                  {
                    "churn_timestamp": "2008-09-27 21:19:46",
                    "churn": "FALSE",
                    "IdentifierId": "IdentifierId(16470)"
                  },
                  {
                    "churn_timestamp": "2008-09-27 21:19:04",
                    "churn": "FALSE",
                    "IdentifierId": "IdentifierId(109)"
                  },
                  {
                    "churn_timestamp": "2008-09-27 21:18:59",
                    "churn": "FALSE",
                    "IdentifierId": "IdentifierId(22148)"
                  },
                  {
                    "churn_timestamp": "2008-09-27 21:18:54",
                    "churn": "FALSE",
                    "IdentifierId": "IdentifierId(22484)"
                  },
                  {
                    "churn_timestamp": "2008-09-27 21:18:34",
                    "churn": "FALSE",
                    "IdentifierId": "IdentifierId(15102)"
                  },
                  {
                    "churn_timestamp": "2008-09-27 21:18:34",
                    "churn": "TRUE",
                    "IdentifierId": "IdentifierId(75263)"
                  },
                  {
                    "churn_timestamp": "2008-09-27 21:18:24",
                    "churn": "TRUE",
                    "IdentifierId": "IdentifierId(75480)"
                  },
                  {
                    "churn_timestamp": "2008-09-27 21:18:09",
                    "churn": "TRUE",
                    "IdentifierId": "IdentifierId(32488)"
                  },
                  {
                    "churn_timestamp": "2008-09-27 21:10:23",
                    "churn": "TRUE",
                    "IdentifierId": "IdentifierId(1024)"
                  },
                  {
                    "churn_timestamp": "2008-09-27 21:09:47",
                    "churn": "FALSE",
                    "IdentifierId": "IdentifierId(40982)"
                  },
                  {
                    "churn_timestamp": "2008-09-27 21:09:37",
                    "churn": "TRUE",
                    "IdentifierId": "IdentifierId(74486)"
                  },
                  {
                    "churn_timestamp": "2008-09-27 21:09:01",
                    "churn": "FALSE",
                    "IdentifierId": "IdentifierId(21902)"
                  },
                  {
                    "churn_timestamp": "2008-09-27 21:07:55",
                    "churn": "FALSE",
                    "IdentifierId": "IdentifierId(8663)"
                  },
                  {
                    "churn_timestamp": "2008-09-27 21:07:50",
                    "churn": "FALSE",
                    "IdentifierId": "IdentifierId(22026)"
                  },
                  {
                    "churn_timestamp": "2008-09-27 21:07:34",
                    "churn": "FALSE",
                    "IdentifierId": "IdentifierId(17533)"
                  },
                  {
                    "churn_timestamp": "2008-09-27 21:07:29",
                    "churn": "FALSE",
                    "IdentifierId": "IdentifierId(76669)"
                  },
                  {
                    "churn_timestamp": "2008-09-27 21:07:19",
                    "churn": "TRUE",
                    "IdentifierId": "IdentifierId(65341)"
                  },
                  {
                    "churn_timestamp": "2008-09-27 21:07:19",
                    "churn": "TRUE",
                    "IdentifierId": "IdentifierId(73207)"
                  },
                  {
                    "churn_timestamp": "2008-09-27 21:07:19",
                    "churn": "FALSE",
                    "IdentifierId": "IdentifierId(21407)"
                  },
                  {
                    "churn_timestamp": "2008-09-27 21:07:09",
                    "churn": "FALSE",
                    "IdentifierId": "IdentifierId(60379)"
                  },
                  {
                    "churn_timestamp": "2008-09-27 21:06:54",
                    "churn": "FALSE",
                    "IdentifierId": "IdentifierId(57)"
                  },
                  {
                    "churn_timestamp": "2008-09-27 21:00:57",
                    "churn": "FALSE",
                    "IdentifierId": "IdentifierId(48793)"
                  },
                  {
                    "churn_timestamp": "2008-09-27 21:00:47",
                    "churn": "FALSE",
                    "IdentifierId": "IdentifierId(61748)"
                  },
                  {
                    "churn_timestamp": "2008-09-27 21:00:37",
                    "churn": "FALSE",
                    "IdentifierId": "IdentifierId(36442)"
                  },
                  {
                    "churn_timestamp": "2008-09-27 21:00:22",
                    "churn": "FALSE",
                    "IdentifierId": "IdentifierId(60498)"
                  },
                  {
                    "churn_timestamp": "2008-09-27 21:00:22",
                    "churn": "FALSE",
                    "IdentifierId": "IdentifierId(62621)"
                  },
                  {
                    "churn_timestamp": "2008-09-27 21:00:17",
                    "churn": "FALSE",
                    "IdentifierId": "IdentifierId(69909)"
                  },
                  {
                    "churn_timestamp": "2008-09-27 21:00:01",
                    "churn": "FALSE",
                    "IdentifierId": "IdentifierId(74833)"
                  },
                  {
                    "churn_timestamp": "2008-09-27 20:59:56",
                    "churn": "TRUE",
                    "IdentifierId": "IdentifierId(34455)"
                  },
                  {
                    "churn_timestamp": "2008-09-27 20:59:41",
                    "churn": "TRUE",
                    "IdentifierId": "IdentifierId(78517)"
                  },
                  {
                    "churn_timestamp": "2008-09-27 20:59:30",
                    "churn": "FALSE",
                    "IdentifierId": "IdentifierId(23308)"
                  },
                  {
                    "churn_timestamp": "2008-09-27 20:59:30",
                    "churn": "FALSE",
                    "IdentifierId": "IdentifierId(45807)"
                  },
                  {
                    "churn_timestamp": "2008-09-27 20:59:30",
                    "churn": "FALSE",
                    "IdentifierId": "IdentifierId(489)"
                  },
                  {
                    "churn_timestamp": "2008-09-27 20:59:20",
                    "churn": "FALSE",
                    "IdentifierId": "IdentifierId(22323)"
                  },
                  {
                    "churn_timestamp": "2008-09-27 20:59:20",
                    "churn": "FALSE",
                    "IdentifierId": "IdentifierId(22544)"
                  },
                  {
                    "churn_timestamp": "2008-09-27 20:59:15",
                    "churn": "FALSE",
                    "IdentifierId": "IdentifierId(10266)"
                  },
                  {
                    "churn_timestamp": "2008-09-27 20:59:00",
                    "churn": "FALSE",
                    "IdentifierId": "IdentifierId(75818)"
                  },
                  {
                    "churn_timestamp": "2008-09-27 20:59:00",
                    "churn": "FALSE",
                    "IdentifierId": "IdentifierId(74445)"
                  },
                  {
                    "churn_timestamp": "2008-09-27 20:58:55",
                    "churn": "TRUE",
                    "IdentifierId": "IdentifierId(67103)"
                  },
                  {
                    "churn_timestamp": "2008-09-27 20:58:55",
                    "churn": "FALSE",
                    "IdentifierId": "IdentifierId(23330)"
                  },
                  {
                    "churn_timestamp": "2008-09-27 20:58:14",
                    "churn": "FALSE",
                    "IdentifierId": "IdentifierId(28009)"
                  },
                  {
                    "churn_timestamp": "2008-09-27 20:58:04",
                    "churn": "FALSE",
                    "IdentifierId": "IdentifierId(601)"
                  },
                  {
                    "churn_timestamp": "2008-09-27 20:58:04",
                    "churn": "FALSE",
                    "IdentifierId": "IdentifierId(1321)"
                  },
                  {
                    "churn_timestamp": "2008-09-27 20:57:58",
                    "churn": "TRUE",
                    "IdentifierId": "IdentifierId(16884)"
                  },
                  {
                    "churn_timestamp": "2008-09-27 20:57:58",
                    "churn": "TRUE",
                    "IdentifierId": "IdentifierId(166)"
                  },
                  {
                    "churn_timestamp": "2008-09-27 20:57:38",
                    "churn": "FALSE",
                    "IdentifierId": "IdentifierId(25754)"
                  },
                  {
                    "churn_timestamp": "2008-09-27 20:57:33",
                    "churn": "FALSE",
                    "IdentifierId": "IdentifierId(69649)"
                  },
                  {
                    "churn_timestamp": "2008-09-27 20:57:12",
                    "churn": "FALSE",
                    "IdentifierId": "IdentifierId(58724)"
                  },
                  {
                    "churn_timestamp": "2008-09-27 20:57:07",
                    "churn": "FALSE",
                    "IdentifierId": "IdentifierId(22307)"
                  },
                  {
                    "churn_timestamp": "2008-09-27 20:50:20",
                    "churn": "FALSE",
                    "IdentifierId": "IdentifierId(63488)"
                  },
                  {
                    "churn_timestamp": "2008-09-27 20:50:20",
                    "churn": "FALSE",
                    "IdentifierId": "IdentifierId(38462)"
                  },
                  {
                    "churn_timestamp": "2008-09-27 20:50:15",
                    "churn": "FALSE",
                    "IdentifierId": "IdentifierId(72042)"
                  },
                  {
                    "churn_timestamp": "2008-09-27 20:50:10",
                    "churn": "FALSE",
                    "IdentifierId": "IdentifierId(37072)"
                  },
                  {
                    "churn_timestamp": "2008-09-27 20:49:13",
                    "churn": "FALSE",
                    "IdentifierId": "IdentifierId(78482)"
                  },
                  {
                    "churn_timestamp": "2008-09-27 20:48:52",
                    "churn": "FALSE",
                    "IdentifierId": "IdentifierId(30589)"
                  },
                  {
                    "churn_timestamp": "2008-09-27 20:48:47",
                    "churn": "FALSE",
                    "IdentifierId": "IdentifierId(22098)"
                  },
                  {
                    "churn_timestamp": "2008-09-27 20:48:32",
                    "churn": "FALSE",
                    "IdentifierId": "IdentifierId(32225)"
                  },
                  {
                    "churn_timestamp": "2008-09-27 20:48:27",
                    "churn": "FALSE",
                    "IdentifierId": "IdentifierId(31313)"
                  },
                  {
                    "churn_timestamp": "2008-09-27 20:48:01",
                    "churn": "FALSE",
                    "IdentifierId": "IdentifierId(21893)"
                  },
                  {
                    "churn_timestamp": "2008-09-27 20:48:01",
                    "churn": "FALSE",
                    "IdentifierId": "IdentifierId(74419)"
                  },
                  {
                    "churn_timestamp": "2008-09-27 20:47:36",
                    "churn": "TRUE",
                    "IdentifierId": "IdentifierId(22222)"
                  },
                  {
                    "churn_timestamp": "2008-09-27 20:47:36",
                    "churn": "FALSE",
                    "IdentifierId": "IdentifierId(69090)"
                  },
                  {
                    "churn_timestamp": "2008-09-27 20:47:25",
                    "churn": "FALSE",
                    "IdentifierId": "IdentifierId(4395)"
                  },
                  {
                    "churn_timestamp": "2008-09-27 20:47:20",
                    "churn": "FALSE",
                    "IdentifierId": "IdentifierId(36437)"
                  },
                  {
                    "churn_timestamp": "2008-09-27 20:47:05",
                    "churn": "TRUE",
                    "IdentifierId": "IdentifierId(60554)"
                  },
                  {
                    "churn_timestamp": "2008-09-27 20:46:24",
                    "churn": "FALSE",
                    "IdentifierId": "IdentifierId(25002)"
                  },
                  {
                    "churn_timestamp": "2008-09-27 20:40:23",
                    "churn": "FALSE",
                    "IdentifierId": "IdentifierId(42281)"
                  },
                  {
                    "churn_timestamp": "2008-09-27 20:40:18",
                    "churn": "FALSE",
                    "IdentifierId": "IdentifierId(60647)"
                  },
                  {
                    "churn_timestamp": "2008-09-27 20:40:08",
                    "churn": "FALSE",
                    "IdentifierId": "IdentifierId(73086)"
                  },
                  {
                    "churn_timestamp": "2008-09-27 20:39:27",
                    "churn": "FALSE",
                    "IdentifierId": "IdentifierId(36137)"
                  },
                  {
                    "churn_timestamp": "2008-09-27 20:39:01",
                    "churn": "FALSE",
                    "IdentifierId": "IdentifierId(11705)"
                  },
                  {
                    "churn_timestamp": "2008-09-27 20:38:56",
                    "churn": "FALSE",
                    "IdentifierId": "IdentifierId(22343)"
                  },
                  {
                    "churn_timestamp": "2008-09-27 20:38:31",
                    "churn": "FALSE",
                    "IdentifierId": "IdentifierId(72835)"
                  },
                  {
                    "churn_timestamp": "2008-09-27 20:38:00",
                    "churn": "TRUE",
                    "IdentifierId": "IdentifierId(22489)"
                  },
                  {
                    "churn_timestamp": "2008-09-27 20:37:34",
                    "churn": "FALSE",
                    "IdentifierId": "IdentifierId(19333)"
                  },
                  {
                    "churn_timestamp": "2008-09-27 20:37:09",
                    "churn": "FALSE",
                    "IdentifierId": "IdentifierId(77826)"
                  },
                  {
                    "churn_timestamp": "2008-09-27 20:36:43",
                    "churn": "FALSE",
                    "IdentifierId": "IdentifierId(2663)"
                  },
                  {
                    "churn_timestamp": "2008-09-27 20:36:28",
                    "churn": "FALSE",
                    "IdentifierId": "IdentifierId(52730)"
                  },
                  {
                    "churn_timestamp": "2008-09-27 20:31:00",
                    "churn": "FALSE",
                    "IdentifierId": "IdentifierId(75064)"
                  },
                  {
                    "churn_timestamp": "2008-09-27 20:31:00",
                    "churn": "FALSE",
                    "IdentifierId": "IdentifierId(16156)"
                  },
                  {
                    "churn_timestamp": "2008-09-27 20:30:55",
                    "churn": "FALSE",
                    "IdentifierId": "IdentifierId(40092)"
                  },
                  {
                    "churn_timestamp": "2008-09-27 20:30:34",
                    "churn": "FALSE",
                    "IdentifierId": "IdentifierId(37510)"
                  },
                  {
                    "churn_timestamp": "2008-09-27 20:30:34",
                    "churn": "FALSE",
                    "IdentifierId": "IdentifierId(36302)"
                  },
                  {
                    "churn_timestamp": "2008-09-27 20:30:14",
                    "churn": "FALSE",
                    "IdentifierId": "IdentifierId(69212)"
                  },
                  {
                    "churn_timestamp": "2008-09-27 20:30:03",
                    "churn": "FALSE",
                    "IdentifierId": "IdentifierId(74122)"
                  },
                  {
                    "churn_timestamp": "2008-09-27 20:28:57",
                    "churn": "FALSE",
                    "IdentifierId": "IdentifierId(63934)"
                  },
                  {
                    "churn_timestamp": "2008-09-27 20:28:01",
                    "churn": "FALSE",
                    "IdentifierId": "IdentifierId(27710)"
                  },
                  {
                    "churn_timestamp": "2008-09-27 20:28:01",
                    "churn": "FALSE",
                    "IdentifierId": "IdentifierId(30779)"
                  },
                  {
                    "churn_timestamp": "2008-09-27 20:27:56",
                    "churn": "FALSE",
                    "IdentifierId": "IdentifierId(23104)"
                  },
                  {
                    "churn_timestamp": "2008-09-27 20:27:56",
                    "churn": "FALSE",
                    "IdentifierId": "IdentifierId(36045)"
                  },
                  {
                    "churn_timestamp": "2008-09-27 20:27:56",
                    "churn": "TRUE",
                    "IdentifierId": "IdentifierId(21882)"
                  },
                  {
                    "churn_timestamp": "2008-09-27 20:26:50",
                    "churn": "FALSE",
                    "IdentifierId": "IdentifierId(10253)"
                  },
                  {
                    "churn_timestamp": "2008-09-27 20:22:56",
                    "churn": "FALSE",
                    "IdentifierId": "IdentifierId(35429)"
                  },
                  {
                    "churn_timestamp": "2008-09-27 20:21:39",
                    "churn": "FALSE",
                    "IdentifierId": "IdentifierId(22061)"
                  },
                  {
                    "churn_timestamp": "2008-09-27 20:21:34",
                    "churn": "FALSE",
                    "IdentifierId": "IdentifierId(23070)"
                  },
                  {
                    "churn_timestamp": "2008-09-27 20:21:34",
                    "churn": "FALSE",
                    "IdentifierId": "IdentifierId(25657)"
                  },
                  {
                    "churn_timestamp": "2008-09-27 20:20:43",
                    "churn": "FALSE",
                    "IdentifierId": "IdentifierId(73567)"
                  },
                  {
                    "churn_timestamp": "2008-09-27 20:20:33",
                    "churn": "FALSE",
                    "IdentifierId": "IdentifierId(22839)"
                  },
                  {
                    "churn_timestamp": "2008-09-27 20:20:23",
                    "churn": "FALSE",
                    "IdentifierId": "IdentifierId(29637)"
                  },
                  {
                    "churn_timestamp": "2008-09-27 20:20:07",
                    "churn": "TRUE",
                    "IdentifierId": "IdentifierId(30928)"
                  },
                  {
                    "churn_timestamp": "2008-09-27 20:19:57",
                    "churn": "FALSE",
                    "IdentifierId": "IdentifierId(43312)"
                  },
                  {
                    "churn_timestamp": "2008-09-27 20:19:57",
                    "churn": "FALSE",
                    "IdentifierId": "IdentifierId(26230)"
                  },
                  {
                    "churn_timestamp": "2008-09-27 20:19:37",
                    "churn": "TRUE",
                    "IdentifierId": "IdentifierId(71287)"
                  },
                  {
                    "churn_timestamp": "2008-09-27 20:19:26",
                    "churn": "FALSE",
                    "IdentifierId": "IdentifierId(72857)"
                  },
                  {
                    "churn_timestamp": "2008-09-27 20:18:56",
                    "churn": "FALSE",
                    "IdentifierId": "IdentifierId(41907)"
                  },
                  {
                    "churn_timestamp": "2008-09-27 20:12:02",
                    "churn": "FALSE",
                    "IdentifierId": "IdentifierId(58815)"
                  },
                  {
                    "churn_timestamp": "2008-09-27 20:11:57",
                    "churn": "TRUE",
                    "IdentifierId": "IdentifierId(74043)"
                  },
                  {
                    "churn_timestamp": "2008-09-27 20:11:57",
                    "churn": "FALSE",
                    "IdentifierId": "IdentifierId(57015)"
                  },
                  {
                    "churn_timestamp": "2008-09-27 20:11:52",
                    "churn": "FALSE",
                    "IdentifierId": "IdentifierId(62820)"
                  },
                  {
                    "churn_timestamp": "2008-09-27 20:11:52",
                    "churn": "FALSE",
                    "IdentifierId": "IdentifierId(71832)"
                  },
                  {
                    "churn_timestamp": "2008-09-27 20:11:52",
                    "churn": "FALSE",
                    "IdentifierId": "IdentifierId(73551)"
                  },
                  {
                    "churn_timestamp": "2008-09-27 20:11:46",
                    "churn": "FALSE",
                    "IdentifierId": "IdentifierId(61663)"
                  },
                  {
                    "churn_timestamp": "2008-09-27 20:11:46",
                    "churn": "TRUE",
                    "IdentifierId": "IdentifierId(68281)"
                  },
                  {
                    "churn_timestamp": "2008-09-27 20:11:36",
                    "churn": "TRUE",
                    "IdentifierId": "IdentifierId(58974)"
                  },
                  {
                    "churn_timestamp": "2008-09-27 20:11:36",
                    "churn": "FALSE",
                    "IdentifierId": "IdentifierId(64528)"
                  },
                  {
                    "churn_timestamp": "2008-09-27 20:11:36",
                    "churn": "FALSE",
                    "IdentifierId": "IdentifierId(73383)"
                  },
                  {
                    "churn_timestamp": "2008-09-27 20:10:40",
                    "churn": "TRUE",
                    "IdentifierId": "IdentifierId(77994)"
                  },
                  {
                    "churn_timestamp": "2008-09-27 20:10:30",
                    "churn": "TRUE",
                    "IdentifierId": "IdentifierId(28904)"
                  },
                  {
                    "churn_timestamp": "2008-09-27 20:10:19",
                    "churn": "FALSE",
                    "IdentifierId": "IdentifierId(32573)"
                  },
                  {
                    "churn_timestamp": "2008-09-27 20:10:14",
                    "churn": "FALSE",
                    "IdentifierId": "IdentifierId(22229)"
                  },
                  {
                    "churn_timestamp": "2008-09-27 20:10:14",
                    "churn": "FALSE",
                    "IdentifierId": "IdentifierId(3100)"
                  },
                  {
                    "churn_timestamp": "2008-09-27 20:09:54",
                    "churn": "FALSE",
                    "IdentifierId": "IdentifierId(7468)"
                  },
                  {
                    "churn_timestamp": "2008-09-27 20:09:43",
                    "churn": "FALSE",
                    "IdentifierId": "IdentifierId(22654)"
                  },
                  {
                    "churn_timestamp": "2008-09-27 20:09:08",
                    "churn": "FALSE",
                    "IdentifierId": "IdentifierId(68629)"
                  },
                  {
                    "churn_timestamp": "2008-09-27 20:08:58",
                    "churn": "FALSE",
                    "IdentifierId": "IdentifierId(27599)"
                  },
                  {
                    "churn_timestamp": "2008-09-27 20:08:47",
                    "churn": "FALSE",
                    "IdentifierId": "IdentifierId(14389)"
                  },
                  {
                    "churn_timestamp": "2008-09-27 20:08:47",
                    "churn": "FALSE",
                    "IdentifierId": "IdentifierId(18758)"
                  },
                  {
                    "churn_timestamp": "2008-09-27 20:08:47",
                    "churn": "TRUE",
                    "IdentifierId": "IdentifierId(754)"
                  },
                  {
                    "churn_timestamp": "2008-09-27 20:08:32",
                    "churn": "TRUE",
                    "IdentifierId": "IdentifierId(78126)"
                  },
                  {
                    "churn_timestamp": "2008-09-27 20:08:32",
                    "churn": "TRUE",
                    "IdentifierId": "IdentifierId(71289)"
                  },
                  {
                    "churn_timestamp": "2008-09-27 20:08:22",
                    "churn": "FALSE",
                    "IdentifierId": "IdentifierId(31)"
                  },
                  {
                    "churn_timestamp": "2008-09-27 20:00:20",
                    "churn": "TRUE",
                    "IdentifierId": "IdentifierId(34524)"
                  },
                  {
                    "churn_timestamp": "2008-09-27 20:00:20",
                    "churn": "FALSE",
                    "IdentifierId": "IdentifierId(62978)"
                  },
                  {
                    "churn_timestamp": "2008-09-27 20:00:04",
                    "churn": "FALSE",
                    "IdentifierId": "IdentifierId(50611)"
                  },
                  {
                    "churn_timestamp": "2008-09-27 19:59:59",
                    "churn": "TRUE",
                    "IdentifierId": "IdentifierId(59693)"
                  },
                  {
                    "churn_timestamp": "2008-09-27 19:59:39",
                    "churn": "FALSE",
                    "IdentifierId": "IdentifierId(75477)"
                  },
                  {
                    "churn_timestamp": "2008-09-27 19:59:23",
                    "churn": "TRUE",
                    "IdentifierId": "IdentifierId(48788)"
                  },
                  {
                    "churn_timestamp": "2008-09-27 19:59:08",
                    "churn": "FALSE",
                    "IdentifierId": "IdentifierId(22302)"
                  },
                  {
                    "churn_timestamp": "2008-09-27 19:59:03",
                    "churn": "FALSE",
                    "IdentifierId": "IdentifierId(26770)"
                  },
                  {
                    "churn_timestamp": "2008-09-27 19:59:03",
                    "churn": "FALSE",
                    "IdentifierId": "IdentifierId(25213)"
                  },
                  {
                    "churn_timestamp": "2008-09-27 19:59:03",
                    "churn": "FALSE",
                    "IdentifierId": "IdentifierId(63242)"
                  },
                  {
                    "churn_timestamp": "2008-09-27 19:58:58",
                    "churn": "FALSE",
                    "IdentifierId": "IdentifierId(22039)"
                  },
                  {
                    "churn_timestamp": "2008-09-27 19:58:37",
                    "churn": "FALSE",
                    "IdentifierId": "IdentifierId(351)"
                  },
                  {
                    "churn_timestamp": "2008-09-27 19:58:01",
                    "churn": "TRUE",
                    "IdentifierId": "IdentifierId(10269)"
                  },
                  {
                    "churn_timestamp": "2008-09-27 19:57:56",
                    "churn": "FALSE",
                    "IdentifierId": "IdentifierId(62143)"
                  },
                  {
                    "churn_timestamp": "2008-09-27 19:57:46",
                    "churn": "FALSE",
                    "IdentifierId": "IdentifierId(1390)"
                  },
                  {
                    "churn_timestamp": "2008-09-27 19:57:41",
                    "churn": "FALSE",
                    "IdentifierId": "IdentifierId(86)"
                  },
                  {
                    "churn_timestamp": "2008-09-27 19:57:36",
                    "churn": "TRUE",
                    "IdentifierId": "IdentifierId(24388)"
                  },
                  {
                    "churn_timestamp": "2008-09-27 19:57:31",
                    "churn": "FALSE",
                    "IdentifierId": "IdentifierId(68538)"
                  },
                  {
                    "churn_timestamp": "2008-09-27 19:57:31",
                    "churn": "FALSE",
                    "IdentifierId": "IdentifierId(155)"
                  },
                  {
                    "churn_timestamp": "2008-09-27 19:57:16",
                    "churn": "TRUE",
                    "IdentifierId": "IdentifierId(77155)"
                  },
                  {
                    "churn_timestamp": "2008-09-27 19:56:50",
                    "churn": "FALSE",
                    "IdentifierId": "IdentifierId(65046)"
                  },
                  {
                    "churn_timestamp": "2008-09-27 19:56:34",
                    "churn": "TRUE",
                    "IdentifierId": "IdentifierId(78266)"
                  },
                  {
                    "churn_timestamp": "2008-09-27 19:56:34",
                    "churn": "FALSE",
                    "IdentifierId": "IdentifierId(1887)"
                  }
                ],
                "schema": {
                  "IdentifierId": "string",
                  "churn_timestamp": "int",
                  "churn": "string"
                }
              },
              "isSummary": false,
              "language": "scala"
            }
          },
          "execution_count": 6,
          "metadata": {}
        }
      ],
      "metadata": {
        "diagram": {
          "activateDiagramType": 1,
          "chartConfig": {
            "category": "bar",
            "keys": [
              "IdentifierId"
            ],
            "values": [
              "churn_timestamp"
            ],
            "yLabel": "churn_timestamp",
            "xLabel": "IdentifierId",
            "aggregation": "SUM",
            "aggByBackend": false
          },
          "aggData": "{\"churn_timestamp\":{\"IdentifierId(1003)\":0,\"IdentifierId(1020)\":0,\"IdentifierId(10221)\":0,\"IdentifierId(10223)\":0,\"IdentifierId(1024)\":0,\"IdentifierId(10253)\":0,\"IdentifierId(10266)\":0,\"IdentifierId(10269)\":0,\"IdentifierId(1027)\":0,\"IdentifierId(1043)\":0,\"IdentifierId(1055)\":0,\"IdentifierId(10568)\":0,\"IdentifierId(1075)\":0,\"IdentifierId(10868)\":0,\"IdentifierId(109)\":0,\"IdentifierId(1094)\":0,\"IdentifierId(1102)\":0,\"IdentifierId(1108)\":0,\"IdentifierId(11214)\":0,\"IdentifierId(1148)\":0,\"IdentifierId(11609)\":0,\"IdentifierId(1161)\":0,\"IdentifierId(11675)\":0,\"IdentifierId(1170)\":0,\"IdentifierId(11705)\":0,\"IdentifierId(11895)\":0,\"IdentifierId(11975)\":0,\"IdentifierId(12056)\":0,\"IdentifierId(1217)\":0,\"IdentifierId(1229)\":0,\"IdentifierId(12386)\":0,\"IdentifierId(12465)\":0,\"IdentifierId(12571)\":0,\"IdentifierId(12930)\":0,\"IdentifierId(12938)\":0,\"IdentifierId(1300)\":0,\"IdentifierId(1309)\":0,\"IdentifierId(13184)\":0,\"IdentifierId(1321)\":0,\"IdentifierId(1353)\":0,\"IdentifierId(13666)\":0,\"IdentifierId(1369)\":0,\"IdentifierId(13705)\":0,\"IdentifierId(1384)\":0,\"IdentifierId(13857)\":0,\"IdentifierId(13869)\":0,\"IdentifierId(1390)\":0,\"IdentifierId(140)\":0,\"IdentifierId(1415)\":0,\"IdentifierId(14389)\":0,\"IdentifierId(1449)\":0,\"IdentifierId(14788)\":0,\"IdentifierId(15102)\":0,\"IdentifierId(152)\":0,\"IdentifierId(15465)\":0,\"IdentifierId(155)\":0,\"IdentifierId(15535)\":0,\"IdentifierId(15620)\":0,\"IdentifierId(15683)\":0,\"IdentifierId(15781)\":0,\"IdentifierId(16053)\":0,\"IdentifierId(16156)\":0,\"IdentifierId(16187)\":0,\"IdentifierId(16193)\":0,\"IdentifierId(1638)\":0,\"IdentifierId(1645)\":0,\"IdentifierId(16470)\":0,\"IdentifierId(166)\":0,\"IdentifierId(16638)\":0,\"IdentifierId(16884)\":0,\"IdentifierId(16992)\":0,\"IdentifierId(17111)\":0,\"IdentifierId(17170)\":0,\"IdentifierId(17351)\":0,\"IdentifierId(17533)\":0,\"IdentifierId(177)\":0,\"IdentifierId(17712)\":0,\"IdentifierId(17739)\":0,\"IdentifierId(17775)\":0,\"IdentifierId(1784)\":0,\"IdentifierId(1801)\":0,\"IdentifierId(18089)\":0,\"IdentifierId(182)\":0,\"IdentifierId(1821)\":0,\"IdentifierId(18473)\":0,\"IdentifierId(18720)\":0,\"IdentifierId(18732)\":0,\"IdentifierId(18748)\":0,\"IdentifierId(18758)\":0,\"IdentifierId(18827)\":0,\"IdentifierId(1887)\":0,\"IdentifierId(19094)\":0,\"IdentifierId(1915)\":0,\"IdentifierId(19333)\":0,\"IdentifierId(19383)\":0,\"IdentifierId(19558)\":0,\"IdentifierId(19581)\":0,\"IdentifierId(1974)\":0,\"IdentifierId(19887)\":0,\"IdentifierId(19915)\":0,\"IdentifierId(19986)\":0,\"IdentifierId(20006)\":0,\"IdentifierId(2001)\":0,\"IdentifierId(203)\":0,\"IdentifierId(2058)\":0,\"IdentifierId(20650)\":0,\"IdentifierId(20770)\":0,\"IdentifierId(20785)\":0,\"IdentifierId(20816)\":0,\"IdentifierId(20879)\":0,\"IdentifierId(21086)\":0,\"IdentifierId(21161)\":0,\"IdentifierId(21207)\":0,\"IdentifierId(21407)\":0,\"IdentifierId(21591)\":0,\"IdentifierId(21752)\":0,\"IdentifierId(21834)\":0,\"IdentifierId(21861)\":0,\"IdentifierId(21868)\":0,\"IdentifierId(21870)\":0,\"IdentifierId(21879)\":0,\"IdentifierId(21882)\":0,\"IdentifierId(21891)\":0,\"IdentifierId(21893)\":0,\"IdentifierId(21902)\":0,\"IdentifierId(21960)\":0,\"IdentifierId(21965)\":0,\"IdentifierId(21984)\":0,\"IdentifierId(22005)\":0,\"IdentifierId(22007)\":0,\"IdentifierId(22009)\":0,\"IdentifierId(22025)\":0,\"IdentifierId(22026)\":0,\"IdentifierId(22039)\":0,\"IdentifierId(22044)\":0,\"IdentifierId(22058)\":0,\"IdentifierId(22061)\":0,\"IdentifierId(22098)\":0,\"IdentifierId(22137)\":0,\"IdentifierId(22148)\":0,\"IdentifierId(22154)\":0,\"IdentifierId(22162)\":0,\"IdentifierId(22167)\":0,\"IdentifierId(22182)\":0,\"IdentifierId(22200)\":0,\"IdentifierId(22206)\":0,\"IdentifierId(22208)\":0,\"IdentifierId(22213)\":0,\"IdentifierId(22218)\":0,\"IdentifierId(22222)\":0,\"IdentifierId(22229)\":0,\"IdentifierId(22246)\":0,\"IdentifierId(22250)\":0,\"IdentifierId(22254)\":0,\"IdentifierId(22263)\":0,\"IdentifierId(22264)\":0,\"IdentifierId(22283)\":0,\"IdentifierId(22301)\":0,\"IdentifierId(22302)\":0,\"IdentifierId(22307)\":0,\"IdentifierId(22316)\":0,\"IdentifierId(22322)\":0,\"IdentifierId(22323)\":0,\"IdentifierId(22330)\":0,\"IdentifierId(22343)\":0,\"IdentifierId(22382)\":0,\"IdentifierId(2240)\":0,\"IdentifierId(22408)\":0,\"IdentifierId(22409)\":0,\"IdentifierId(22419)\":0,\"IdentifierId(22453)\":0,\"IdentifierId(22465)\":0,\"IdentifierId(22467)\":0,\"IdentifierId(22473)\":0,\"IdentifierId(22484)\":0,\"IdentifierId(22489)\":0,\"IdentifierId(22513)\":0,\"IdentifierId(2254)\":0,\"IdentifierId(22544)\":0,\"IdentifierId(22545)\":0,\"IdentifierId(22551)\":0,\"IdentifierId(22561)\":0,\"IdentifierId(22567)\":0,\"IdentifierId(22594)\":0,\"IdentifierId(22609)\":0,\"IdentifierId(22645)\":0,\"IdentifierId(22654)\":0,\"IdentifierId(22655)\":0,\"IdentifierId(22672)\":0,\"IdentifierId(22675)\":0,\"IdentifierId(22716)\":0,\"IdentifierId(22728)\":0,\"IdentifierId(22786)\":0,\"IdentifierId(22789)\":0,\"IdentifierId(22793)\":0,\"IdentifierId(22830)\":0,\"IdentifierId(22839)\":0,\"IdentifierId(22876)\":0,\"IdentifierId(22928)\":0,\"IdentifierId(23036)\":0,\"IdentifierId(23070)\":0,\"IdentifierId(2309)\":0,\"IdentifierId(23104)\":0,\"IdentifierId(23111)\":0,\"IdentifierId(23149)\":0,\"IdentifierId(23150)\":0,\"IdentifierId(23187)\":0,\"IdentifierId(23189)\":0,\"IdentifierId(23308)\":0,\"IdentifierId(23330)\":0,\"IdentifierId(23376)\":0,\"IdentifierId(23426)\":0,\"IdentifierId(23430)\":0,\"IdentifierId(23434)\":0,\"IdentifierId(23438)\":0,\"IdentifierId(23482)\":0,\"IdentifierId(23494)\":0,\"IdentifierId(23577)\":0,\"IdentifierId(23650)\":0,\"IdentifierId(2366)\":0,\"IdentifierId(23742)\":0,\"IdentifierId(23865)\":0,\"IdentifierId(23939)\":0,\"IdentifierId(23952)\":0,\"IdentifierId(24004)\":0,\"IdentifierId(24126)\":0,\"IdentifierId(24137)\":0,\"IdentifierId(24164)\":0,\"IdentifierId(24239)\":0,\"IdentifierId(24288)\":0,\"IdentifierId(24388)\":0,\"IdentifierId(2439)\":0,\"IdentifierId(24448)\":0,\"IdentifierId(24558)\":0,\"IdentifierId(24674)\":0,\"IdentifierId(24721)\":0,\"IdentifierId(24722)\":0,\"IdentifierId(24723)\":0,\"IdentifierId(24886)\":0,\"IdentifierId(24897)\":0,\"IdentifierId(24953)\":0,\"IdentifierId(25002)\":0,\"IdentifierId(25043)\":0,\"IdentifierId(25200)\":0,\"IdentifierId(25213)\":0,\"IdentifierId(25291)\":0,\"IdentifierId(25363)\":0,\"IdentifierId(25396)\":0,\"IdentifierId(25473)\":0,\"IdentifierId(25521)\":0,\"IdentifierId(25635)\":0,\"IdentifierId(25657)\":0,\"IdentifierId(25754)\":0,\"IdentifierId(25800)\":0,\"IdentifierId(25822)\":0,\"IdentifierId(25858)\":0,\"IdentifierId(25930)\":0,\"IdentifierId(25994)\":0,\"IdentifierId(26088)\":0,\"IdentifierId(26229)\":0,\"IdentifierId(26230)\":0,\"IdentifierId(2663)\":0,\"IdentifierId(26677)\":0,\"IdentifierId(26752)\":0,\"IdentifierId(26770)\":0,\"IdentifierId(26881)\":0,\"IdentifierId(26892)\":0,\"IdentifierId(2692)\":0,\"IdentifierId(27103)\":0,\"IdentifierId(27186)\":0,\"IdentifierId(27212)\":0,\"IdentifierId(27412)\":0,\"IdentifierId(27486)\":0,\"IdentifierId(27494)\":0,\"IdentifierId(27548)\":0,\"IdentifierId(27599)\":0,\"IdentifierId(27659)\":0,\"IdentifierId(27710)\":0,\"IdentifierId(2780)\":0,\"IdentifierId(27842)\":0,\"IdentifierId(27900)\":0,\"IdentifierId(28009)\":0,\"IdentifierId(2808)\":0,\"IdentifierId(28365)\":0,\"IdentifierId(28427)\":0,\"IdentifierId(28486)\":0,\"IdentifierId(28490)\":0,\"IdentifierId(28622)\":0,\"IdentifierId(28735)\":0,\"IdentifierId(28749)\":0,\"IdentifierId(28758)\":0,\"IdentifierId(28894)\":0,\"IdentifierId(28904)\":0,\"IdentifierId(28955)\":0,\"IdentifierId(29342)\":0,\"IdentifierId(29484)\":0,\"IdentifierId(29487)\":0,\"IdentifierId(29539)\":0,\"IdentifierId(29590)\":0,\"IdentifierId(29603)\":0,\"IdentifierId(29637)\":0,\"IdentifierId(297)\":0,\"IdentifierId(29904)\":0,\"IdentifierId(300)\":0,\"IdentifierId(30052)\":0,\"IdentifierId(30284)\":0,\"IdentifierId(303)\":0,\"IdentifierId(30491)\":0,\"IdentifierId(30589)\":0,\"IdentifierId(30779)\":0,\"IdentifierId(30923)\":0,\"IdentifierId(30928)\":0,\"IdentifierId(31)\":0,\"IdentifierId(3100)\":0,\"IdentifierId(31313)\":0,\"IdentifierId(31407)\":0,\"IdentifierId(31558)\":0,\"IdentifierId(31563)\":0,\"IdentifierId(31647)\":0,\"IdentifierId(32141)\":0,\"IdentifierId(322)\":0,\"IdentifierId(32225)\":0,\"IdentifierId(323)\":0,\"IdentifierId(32401)\":0,\"IdentifierId(32488)\":0,\"IdentifierId(3251)\":0,\"IdentifierId(32573)\":0,\"IdentifierId(32590)\":0,\"IdentifierId(32748)\":0,\"IdentifierId(32765)\":0,\"IdentifierId(33593)\":0,\"IdentifierId(33598)\":0,\"IdentifierId(34049)\":0,\"IdentifierId(343)\":0,\"IdentifierId(34455)\":0,\"IdentifierId(34524)\":0,\"IdentifierId(34535)\":0,\"IdentifierId(34598)\":0,\"IdentifierId(34629)\":0,\"IdentifierId(34664)\":0,\"IdentifierId(34684)\":0,\"IdentifierId(3472)\":0,\"IdentifierId(34743)\":0,\"IdentifierId(34759)\":0,\"IdentifierId(34858)\":0,\"IdentifierId(34903)\":0,\"IdentifierId(34971)\":0,\"IdentifierId(35002)\":0,\"IdentifierId(35004)\":0,\"IdentifierId(351)\":0,\"IdentifierId(35104)\":0,\"IdentifierId(35362)\":0,\"IdentifierId(354)\":0,\"IdentifierId(35413)\":0,\"IdentifierId(35429)\":0,\"IdentifierId(35533)\":0,\"IdentifierId(35622)\":0,\"IdentifierId(35661)\":0,\"IdentifierId(35668)\":0,\"IdentifierId(35697)\":0,\"IdentifierId(3571)\":0,\"IdentifierId(35760)\":0,\"IdentifierId(35796)\":0,\"IdentifierId(35874)\":0,\"IdentifierId(36)\":0,\"IdentifierId(36045)\":0,\"IdentifierId(36137)\":0,\"IdentifierId(36187)\":0,\"IdentifierId(36263)\":0,\"IdentifierId(36302)\":0,\"IdentifierId(36307)\":0,\"IdentifierId(3634)\":0,\"IdentifierId(36437)\":0,\"IdentifierId(36442)\":0,\"IdentifierId(36517)\":0,\"IdentifierId(36545)\":0,\"IdentifierId(36553)\":0,\"IdentifierId(36625)\":0,\"IdentifierId(36797)\":0,\"IdentifierId(36804)\":0,\"IdentifierId(37029)\":0,\"IdentifierId(37072)\":0,\"IdentifierId(37138)\":0,\"IdentifierId(37228)\":0,\"IdentifierId(37239)\":0,\"IdentifierId(37317)\":0,\"IdentifierId(37510)\":0,\"IdentifierId(37611)\":0,\"IdentifierId(37932)\":0,\"IdentifierId(38415)\":0,\"IdentifierId(38462)\":0,\"IdentifierId(388)\":0,\"IdentifierId(3923)\":0,\"IdentifierId(39521)\":0,\"IdentifierId(398)\":0,\"IdentifierId(39886)\":0,\"IdentifierId(40092)\":0,\"IdentifierId(40951)\":0,\"IdentifierId(40982)\":0,\"IdentifierId(41004)\":0,\"IdentifierId(41100)\":0,\"IdentifierId(417)\":0,\"IdentifierId(41829)\":0,\"IdentifierId(41907)\":0,\"IdentifierId(41911)\":0,\"IdentifierId(41992)\":0,\"IdentifierId(42099)\":0,\"IdentifierId(42163)\":0,\"IdentifierId(42281)\":0,\"IdentifierId(426)\":0,\"IdentifierId(42610)\":0,\"IdentifierId(43211)\":0,\"IdentifierId(43312)\":0,\"IdentifierId(43406)\":0,\"IdentifierId(43759)\":0,\"IdentifierId(4395)\":0,\"IdentifierId(443)\":0,\"IdentifierId(44349)\":0,\"IdentifierId(44398)\":0,\"IdentifierId(44477)\":0,\"IdentifierId(44797)\":0,\"IdentifierId(44882)\":0,\"IdentifierId(44907)\":0,\"IdentifierId(44963)\":0,\"IdentifierId(45029)\":0,\"IdentifierId(45364)\":0,\"IdentifierId(45387)\":0,\"IdentifierId(45444)\":0,\"IdentifierId(45457)\":0,\"IdentifierId(45485)\":0,\"IdentifierId(45504)\":0,\"IdentifierId(45807)\":0,\"IdentifierId(45942)\":0,\"IdentifierId(46107)\":0,\"IdentifierId(46110)\":0,\"IdentifierId(46249)\":0,\"IdentifierId(46491)\":0,\"IdentifierId(46502)\":0,\"IdentifierId(46748)\":0,\"IdentifierId(46833)\":0,\"IdentifierId(47075)\":0,\"IdentifierId(47174)\":0,\"IdentifierId(4734)\":0,\"IdentifierId(47368)\":0,\"IdentifierId(47500)\":0,\"IdentifierId(47543)\":0,\"IdentifierId(47583)\":0,\"IdentifierId(47969)\":0,\"IdentifierId(48293)\":0,\"IdentifierId(48432)\":0,\"IdentifierId(48548)\":0,\"IdentifierId(48560)\":0,\"IdentifierId(48597)\":0,\"IdentifierId(48788)\":0,\"IdentifierId(48793)\":0,\"IdentifierId(48885)\":0,\"IdentifierId(489)\":0,\"IdentifierId(49142)\":0,\"IdentifierId(49558)\":0,\"IdentifierId(49778)\":0,\"IdentifierId(49810)\":0,\"IdentifierId(49944)\":0,\"IdentifierId(50397)\":0,\"IdentifierId(50401)\":0,\"IdentifierId(50411)\":0,\"IdentifierId(50490)\":0,\"IdentifierId(50611)\":0,\"IdentifierId(508)\":0,\"IdentifierId(51101)\":0,\"IdentifierId(51154)\":0,\"IdentifierId(51234)\":0,\"IdentifierId(513)\":0,\"IdentifierId(51324)\":0,\"IdentifierId(51774)\":0,\"IdentifierId(51861)\":0,\"IdentifierId(51930)\":0,\"IdentifierId(51942)\":0,\"IdentifierId(5198)\":0,\"IdentifierId(52142)\":0,\"IdentifierId(52499)\":0,\"IdentifierId(52587)\":0,\"IdentifierId(52730)\":0,\"IdentifierId(52751)\":0,\"IdentifierId(52928)\":0,\"IdentifierId(52988)\":0,\"IdentifierId(52992)\":0,\"IdentifierId(53308)\":0,\"IdentifierId(53356)\":0,\"IdentifierId(53624)\":0,\"IdentifierId(53745)\":0,\"IdentifierId(53785)\":0,\"IdentifierId(53826)\":0,\"IdentifierId(54003)\":0,\"IdentifierId(54126)\":0,\"IdentifierId(54658)\":0,\"IdentifierId(54682)\":0,\"IdentifierId(54820)\":0,\"IdentifierId(54882)\":0,\"IdentifierId(55051)\":0,\"IdentifierId(55299)\":0,\"IdentifierId(55338)\":0,\"IdentifierId(55362)\":0,\"IdentifierId(55538)\":0,\"IdentifierId(557)\":0,\"IdentifierId(55932)\":0,\"IdentifierId(56181)\":0,\"IdentifierId(56186)\":0,\"IdentifierId(5626)\":0,\"IdentifierId(56320)\":0,\"IdentifierId(56487)\":0,\"IdentifierId(565)\":0,\"IdentifierId(56652)\":0,\"IdentifierId(56759)\":0,\"IdentifierId(56776)\":0,\"IdentifierId(56886)\":0,\"IdentifierId(57)\":0,\"IdentifierId(57015)\":0,\"IdentifierId(5717)\":0,\"IdentifierId(57316)\":0,\"IdentifierId(5744)\":0,\"IdentifierId(57566)\":0,\"IdentifierId(57741)\":0,\"IdentifierId(57770)\":0,\"IdentifierId(5783)\":0,\"IdentifierId(57830)\":0,\"IdentifierId(57939)\":0,\"IdentifierId(58202)\":0,\"IdentifierId(58271)\":0,\"IdentifierId(58276)\":0,\"IdentifierId(58321)\":0,\"IdentifierId(58571)\":0,\"IdentifierId(58724)\":0,\"IdentifierId(58725)\":0,\"IdentifierId(58815)\":0,\"IdentifierId(58866)\":0,\"IdentifierId(58890)\":0,\"IdentifierId(58974)\":0,\"IdentifierId(59020)\":0,\"IdentifierId(59154)\":0,\"IdentifierId(59328)\":0,\"IdentifierId(59345)\":0,\"IdentifierId(59354)\":0,\"IdentifierId(59436)\":0,\"IdentifierId(59489)\":0,\"IdentifierId(59614)\":0,\"IdentifierId(59629)\":0,\"IdentifierId(59656)\":0,\"IdentifierId(59693)\":0,\"IdentifierId(59718)\":0,\"IdentifierId(59776)\":0,\"IdentifierId(5980)\":0,\"IdentifierId(59801)\":0,\"IdentifierId(59990)\":0,\"IdentifierId(601)\":0,\"IdentifierId(60179)\":0,\"IdentifierId(60182)\":0,\"IdentifierId(60220)\":0,\"IdentifierId(60243)\":0,\"IdentifierId(60268)\":0,\"IdentifierId(60379)\":0,\"IdentifierId(60498)\":0,\"IdentifierId(60554)\":0,\"IdentifierId(60588)\":0,\"IdentifierId(60619)\":0,\"IdentifierId(60647)\":0,\"IdentifierId(60674)\":0,\"IdentifierId(60852)\":0,\"IdentifierId(61089)\":0,\"IdentifierId(61239)\":0,\"IdentifierId(61283)\":0,\"IdentifierId(61396)\":0,\"IdentifierId(6142)\":0,\"IdentifierId(61510)\":0,\"IdentifierId(61523)\":0,\"IdentifierId(61542)\":0,\"IdentifierId(61560)\":0,\"IdentifierId(61658)\":0,\"IdentifierId(61663)\":0,\"IdentifierId(61736)\":0,\"IdentifierId(61748)\":0,\"IdentifierId(61802)\":0,\"IdentifierId(61814)\":0,\"IdentifierId(61818)\":0,\"IdentifierId(61893)\":0,\"IdentifierId(61922)\":0,\"IdentifierId(61958)\":0,\"IdentifierId(61994)\":0,\"IdentifierId(62085)\":0,\"IdentifierId(62143)\":0,\"IdentifierId(62175)\":0,\"IdentifierId(62226)\":0,\"IdentifierId(62239)\":0,\"IdentifierId(62276)\":0,\"IdentifierId(62293)\":0,\"IdentifierId(6231)\":0,\"IdentifierId(62348)\":0,\"IdentifierId(62444)\":0,\"IdentifierId(62446)\":0,\"IdentifierId(62447)\":0,\"IdentifierId(62469)\":0,\"IdentifierId(62570)\":0,\"IdentifierId(62621)\":0,\"IdentifierId(62646)\":0,\"IdentifierId(62743)\":0,\"IdentifierId(62789)\":0,\"IdentifierId(62820)\":0,\"IdentifierId(62978)\":0,\"IdentifierId(62995)\":0,\"IdentifierId(62999)\":0,\"IdentifierId(63048)\":0,\"IdentifierId(63098)\":0,\"IdentifierId(63216)\":0,\"IdentifierId(63242)\":0,\"IdentifierId(63285)\":0,\"IdentifierId(63312)\":0,\"IdentifierId(63330)\":0,\"IdentifierId(63384)\":0,\"IdentifierId(63488)\":0,\"IdentifierId(63527)\":0,\"IdentifierId(63529)\":0,\"IdentifierId(63871)\":0,\"IdentifierId(63903)\":0,\"IdentifierId(63934)\":0,\"IdentifierId(64031)\":0,\"IdentifierId(64095)\":0,\"IdentifierId(64135)\":0,\"IdentifierId(64304)\":0,\"IdentifierId(64313)\":0,\"IdentifierId(64346)\":0,\"IdentifierId(64520)\":0,\"IdentifierId(64528)\":0,\"IdentifierId(64794)\":0,\"IdentifierId(6480)\":0,\"IdentifierId(64935)\":0,\"IdentifierId(65046)\":0,\"IdentifierId(65066)\":0,\"IdentifierId(65177)\":0,\"IdentifierId(65296)\":0,\"IdentifierId(65323)\":0,\"IdentifierId(65335)\":0,\"IdentifierId(65341)\":0,\"IdentifierId(65357)\":0,\"IdentifierId(65484)\":0,\"IdentifierId(65496)\":0,\"IdentifierId(65572)\":0,\"IdentifierId(65724)\":0,\"IdentifierId(65725)\":0,\"IdentifierId(65900)\":0,\"IdentifierId(65943)\":0,\"IdentifierId(65947)\":0,\"IdentifierId(66247)\":0,\"IdentifierId(665)\":0,\"IdentifierId(66527)\":0,\"IdentifierId(66654)\":0,\"IdentifierId(66873)\":0,\"IdentifierId(66926)\":0,\"IdentifierId(66943)\":0,\"IdentifierId(67006)\":0,\"IdentifierId(67068)\":0,\"IdentifierId(67099)\":0,\"IdentifierId(67103)\":0,\"IdentifierId(67152)\":0,\"IdentifierId(67207)\":0,\"IdentifierId(67275)\":0,\"IdentifierId(67439)\":0,\"IdentifierId(67451)\":0,\"IdentifierId(67578)\":0,\"IdentifierId(67612)\":0,\"IdentifierId(67673)\":0,\"IdentifierId(67732)\":0,\"IdentifierId(67739)\":0,\"IdentifierId(67862)\":0,\"IdentifierId(67876)\":0,\"IdentifierId(68)\":0,\"IdentifierId(68104)\":0,\"IdentifierId(68112)\":0,\"IdentifierId(68221)\":0,\"IdentifierId(68261)\":0,\"IdentifierId(68281)\":0,\"IdentifierId(68298)\":0,\"IdentifierId(68334)\":0,\"IdentifierId(68375)\":0,\"IdentifierId(68454)\":0,\"IdentifierId(68475)\":0,\"IdentifierId(685)\":0,\"IdentifierId(68507)\":0,\"IdentifierId(68538)\":0,\"IdentifierId(68576)\":0,\"IdentifierId(68629)\":0,\"IdentifierId(68826)\":0,\"IdentifierId(68905)\":0,\"IdentifierId(68977)\":0,\"IdentifierId(68995)\":0,\"IdentifierId(69075)\":0,\"IdentifierId(69080)\":0,\"IdentifierId(69090)\":0,\"IdentifierId(69100)\":0,\"IdentifierId(69126)\":0,\"IdentifierId(69147)\":0,\"IdentifierId(69149)\":0,\"IdentifierId(69212)\":0,\"IdentifierId(69298)\":0,\"IdentifierId(69300)\":0,\"IdentifierId(69336)\":0,\"IdentifierId(69358)\":0,\"IdentifierId(69475)\":0,\"IdentifierId(695)\":0,\"IdentifierId(69528)\":0,\"IdentifierId(69535)\":0,\"IdentifierId(69649)\":0,\"IdentifierId(69818)\":0,\"IdentifierId(69909)\":0,\"IdentifierId(69913)\":0,\"IdentifierId(69929)\":0,\"IdentifierId(70008)\":0,\"IdentifierId(70125)\":0,\"IdentifierId(70129)\":0,\"IdentifierId(70173)\":0,\"IdentifierId(70181)\":0,\"IdentifierId(70299)\":0,\"IdentifierId(70302)\":0,\"IdentifierId(70319)\":0,\"IdentifierId(70330)\":0,\"IdentifierId(70425)\":0,\"IdentifierId(70476)\":0,\"IdentifierId(70558)\":0,\"IdentifierId(70571)\":0,\"IdentifierId(70590)\":0,\"IdentifierId(70731)\":0,\"IdentifierId(70838)\":0,\"IdentifierId(70839)\":0,\"IdentifierId(7084)\":0,\"IdentifierId(70974)\":0,\"IdentifierId(70975)\":0,\"IdentifierId(71023)\":0,\"IdentifierId(71080)\":0,\"IdentifierId(71183)\":0,\"IdentifierId(71219)\":0,\"IdentifierId(71287)\":0,\"IdentifierId(71289)\":0,\"IdentifierId(71401)\":0,\"IdentifierId(71458)\":0,\"IdentifierId(71479)\":0,\"IdentifierId(71616)\":0,\"IdentifierId(71832)\":0,\"IdentifierId(71853)\":0,\"IdentifierId(71867)\":0,\"IdentifierId(71893)\":0,\"IdentifierId(71901)\":0,\"IdentifierId(71908)\":0,\"IdentifierId(71918)\":0,\"IdentifierId(71977)\":0,\"IdentifierId(72006)\":0,\"IdentifierId(72024)\":0,\"IdentifierId(72042)\":0,\"IdentifierId(72087)\":0,\"IdentifierId(72123)\":0,\"IdentifierId(72186)\":0,\"IdentifierId(72191)\":0,\"IdentifierId(72257)\":0,\"IdentifierId(72307)\":0,\"IdentifierId(72354)\":0,\"IdentifierId(72360)\":0,\"IdentifierId(72384)\":0,\"IdentifierId(72425)\":0,\"IdentifierId(72469)\":0,\"IdentifierId(72470)\":0,\"IdentifierId(72551)\":0,\"IdentifierId(72632)\":0,\"IdentifierId(72645)\":0,\"IdentifierId(72657)\":0,\"IdentifierId(72711)\":0,\"IdentifierId(72743)\":0,\"IdentifierId(72835)\":0,\"IdentifierId(72846)\":0,\"IdentifierId(72857)\":0,\"IdentifierId(72858)\":0,\"IdentifierId(72906)\":0,\"IdentifierId(72914)\":0,\"IdentifierId(73002)\":0,\"IdentifierId(73086)\":0,\"IdentifierId(73093)\":0,\"IdentifierId(73114)\":0,\"IdentifierId(73130)\":0,\"IdentifierId(73192)\":0,\"IdentifierId(73207)\":0,\"IdentifierId(73295)\":0,\"IdentifierId(73301)\":0,\"IdentifierId(73308)\":0,\"IdentifierId(73355)\":0,\"IdentifierId(73360)\":0,\"IdentifierId(73383)\":0,\"IdentifierId(73449)\":0,\"IdentifierId(73452)\":0,\"IdentifierId(73469)\":0,\"IdentifierId(73480)\":0,\"IdentifierId(7355)\":0,\"IdentifierId(73551)\":0,\"IdentifierId(73567)\":0,\"IdentifierId(73587)\":0,\"IdentifierId(73588)\":0,\"IdentifierId(73590)\":0,\"IdentifierId(73596)\":0,\"IdentifierId(73623)\":0,\"IdentifierId(7363)\":0,\"IdentifierId(73644)\":0,\"IdentifierId(73666)\":0,\"IdentifierId(73725)\":0,\"IdentifierId(73731)\":0,\"IdentifierId(73761)\":0,\"IdentifierId(73766)\":0,\"IdentifierId(73850)\":0,\"IdentifierId(73986)\":0,\"IdentifierId(74043)\":0,\"IdentifierId(74107)\":0,\"IdentifierId(74122)\":0,\"IdentifierId(74127)\":0,\"IdentifierId(74183)\":0,\"IdentifierId(74227)\":0,\"IdentifierId(74238)\":0,\"IdentifierId(74344)\":0,\"IdentifierId(74419)\":0,\"IdentifierId(74445)\":0,\"IdentifierId(74448)\":0,\"IdentifierId(74486)\":0,\"IdentifierId(74563)\":0,\"IdentifierId(74610)\":0,\"IdentifierId(74656)\":0,\"IdentifierId(7468)\":0,\"IdentifierId(74714)\":0,\"IdentifierId(74766)\":0,\"IdentifierId(74805)\":0,\"IdentifierId(74819)\":0,\"IdentifierId(74833)\":0,\"IdentifierId(74939)\":0,\"IdentifierId(75050)\":0,\"IdentifierId(75064)\":0,\"IdentifierId(75141)\":0,\"IdentifierId(75255)\":0,\"IdentifierId(75263)\":0,\"IdentifierId(753)\":0,\"IdentifierId(75332)\":0,\"IdentifierId(754)\":0,\"IdentifierId(75470)\":0,\"IdentifierId(75477)\":0,\"IdentifierId(75480)\":0,\"IdentifierId(75587)\":0,\"IdentifierId(75670)\":0,\"IdentifierId(75672)\":0,\"IdentifierId(75690)\":0,\"IdentifierId(75706)\":0,\"IdentifierId(75769)\":0,\"IdentifierId(75799)\":0,\"IdentifierId(75818)\":0,\"IdentifierId(75861)\":0,\"IdentifierId(75895)\":0,\"IdentifierId(75904)\":0,\"IdentifierId(75958)\":0,\"IdentifierId(76159)\":0,\"IdentifierId(76191)\":0,\"IdentifierId(76193)\":0,\"IdentifierId(76220)\":0,\"IdentifierId(76341)\":0,\"IdentifierId(76437)\":0,\"IdentifierId(76478)\":0,\"IdentifierId(76615)\":0,\"IdentifierId(76620)\":0,\"IdentifierId(76669)\":0,\"IdentifierId(76681)\":0,\"IdentifierId(76721)\":0,\"IdentifierId(76749)\":0,\"IdentifierId(76764)\":0,\"IdentifierId(76766)\":0,\"IdentifierId(76769)\":0,\"IdentifierId(76771)\":0,\"IdentifierId(76844)\":0,\"IdentifierId(76887)\":0,\"IdentifierId(76975)\":0,\"IdentifierId(76996)\":0,\"IdentifierId(77080)\":0,\"IdentifierId(77098)\":0,\"IdentifierId(77132)\":0,\"IdentifierId(77155)\":0,\"IdentifierId(77216)\":0,\"IdentifierId(77264)\":0,\"IdentifierId(77318)\":0,\"IdentifierId(77352)\":0,\"IdentifierId(77367)\":0,\"IdentifierId(77376)\":0,\"IdentifierId(77399)\":0,\"IdentifierId(77445)\":0,\"IdentifierId(7746)\":0,\"IdentifierId(77482)\":0,\"IdentifierId(77492)\":0,\"IdentifierId(775)\":0,\"IdentifierId(77518)\":0,\"IdentifierId(77521)\":0,\"IdentifierId(77533)\":0,\"IdentifierId(77539)\":0,\"IdentifierId(77546)\":0,\"IdentifierId(77561)\":0,\"IdentifierId(77564)\":0,\"IdentifierId(77568)\":0,\"IdentifierId(77579)\":0,\"IdentifierId(77624)\":0,\"IdentifierId(77625)\":0,\"IdentifierId(77634)\":0,\"IdentifierId(77642)\":0,\"IdentifierId(77661)\":0,\"IdentifierId(77667)\":0,\"IdentifierId(77670)\":0,\"IdentifierId(77685)\":0,\"IdentifierId(77727)\":0,\"IdentifierId(77748)\":0,\"IdentifierId(77755)\":0,\"IdentifierId(77756)\":0,\"IdentifierId(77763)\":0,\"IdentifierId(77776)\":0,\"IdentifierId(77777)\":0,\"IdentifierId(77795)\":0,\"IdentifierId(77805)\":0,\"IdentifierId(77826)\":0,\"IdentifierId(77832)\":0,\"IdentifierId(77833)\":0,\"IdentifierId(77865)\":0,\"IdentifierId(77881)\":0,\"IdentifierId(77884)\":0,\"IdentifierId(77913)\":0,\"IdentifierId(77966)\":0,\"IdentifierId(77980)\":0,\"IdentifierId(77987)\":0,\"IdentifierId(77994)\":0,\"IdentifierId(78002)\":0,\"IdentifierId(78005)\":0,\"IdentifierId(78023)\":0,\"IdentifierId(78051)\":0,\"IdentifierId(78059)\":0,\"IdentifierId(78073)\":0,\"IdentifierId(78085)\":0,\"IdentifierId(78122)\":0,\"IdentifierId(78126)\":0,\"IdentifierId(78128)\":0,\"IdentifierId(78149)\":0,\"IdentifierId(78155)\":0,\"IdentifierId(78172)\":0,\"IdentifierId(78194)\":0,\"IdentifierId(78206)\":0,\"IdentifierId(78216)\":0,\"IdentifierId(78239)\":0,\"IdentifierId(78261)\":0,\"IdentifierId(78263)\":0,\"IdentifierId(78266)\":0,\"IdentifierId(78277)\":0,\"IdentifierId(78284)\":0,\"IdentifierId(78314)\":0,\"IdentifierId(78331)\":0,\"IdentifierId(78336)\":0,\"IdentifierId(78393)\":0,\"IdentifierId(78405)\":0,\"IdentifierId(78409)\":0,\"IdentifierId(78420)\":0,\"IdentifierId(78429)\":0,\"IdentifierId(78431)\":0,\"IdentifierId(78438)\":0,\"IdentifierId(78459)\":0,\"IdentifierId(78467)\":0,\"IdentifierId(78482)\":0,\"IdentifierId(78497)\":0,\"IdentifierId(78503)\":0,\"IdentifierId(78512)\":0,\"IdentifierId(78516)\":0,\"IdentifierId(78517)\":0,\"IdentifierId(78527)\":0,\"IdentifierId(78533)\":0,\"IdentifierId(78536)\":0,\"IdentifierId(78547)\":0,\"IdentifierId(78549)\":0,\"IdentifierId(78550)\":0,\"IdentifierId(78551)\":0,\"IdentifierId(78561)\":0,\"IdentifierId(78562)\":0,\"IdentifierId(78564)\":0,\"IdentifierId(78567)\":0,\"IdentifierId(78572)\":0,\"IdentifierId(798)\":0,\"IdentifierId(8109)\":0,\"IdentifierId(820)\":0,\"IdentifierId(84)\":0,\"IdentifierId(8558)\":0,\"IdentifierId(86)\":0,\"IdentifierId(8608)\":0,\"IdentifierId(8663)\":0,\"IdentifierId(881)\":0,\"IdentifierId(9044)\":0,\"IdentifierId(9085)\":0,\"IdentifierId(9175)\":0,\"IdentifierId(9272)\":0,\"IdentifierId(9357)\":0,\"IdentifierId(939)\":0,\"IdentifierId(9661)\":0,\"IdentifierId(990)\":0}}",
          "isSummary": false,
          "previewData": {
            "filter": null
          },
          "isSql": false
        }
      },
      "source": [
        "display(churners_df)"
      ],
      "attachments": {}
    },
    {
      "cell_type": "code",
      "execution_count": null,
      "outputs": [],
      "metadata": {},
      "source": [
        "#연습용 셀"
      ],
      "attachments": {}
    },
    {
      "cell_type": "markdown",
      "metadata": {},
      "source": [
        "## 3.3 Extract Values From brackets\n",
        "- ### https://regex101.com/r/Ra7VjU/1\n",
        ""
      ],
      "attachments": {}
    },
    {
      "cell_type": "code",
      "execution_count": 5,
      "outputs": [],
      "metadata": {},
      "source": [
        "# Character_Log_Data(사용자 캐릭터 로그 데이터)\n",
        "wow_log_df = wow_log_df.withColumn('IdentifierId', regexp_extract(col('IdentifierId'), r\"\\(([^()]+)\\)\", 1))\\\n",
        ".withColumn('zoneId', regexp_extract(col('zoneId'), r\"\\(([^()]+)\\)\", 1)) #8,654,936\n",
        "# InGame_Log_Data(인게임 캐릭터 위치 로그 데이터)\n",
        "zones_df = zones_df.withColumn('zoneId', regexp_extract(col('zoneId'), r\"\\(([^()]+)\\)\", 1)) #160\n",
        "\n",
        "# Churn_Label_Log_Data(이탈 여부 태그 로그 데이터)\n",
        "churners_df = churners_df.withColumn('IdentifierId', regexp_extract(col('IdentifierId'), r\"\\(([^()]+)\\)\", 1)) #14,579"
      ],
      "attachments": {}
    },
    {
      "cell_type": "code",
      "execution_count": null,
      "outputs": [],
      "metadata": {},
      "source": [
        "#연습용 셀"
      ],
      "attachments": {}
    },
    {
      "cell_type": "markdown",
      "metadata": {},
      "source": [
        "## 3.4 Join DataFrme by Column( IdentifierId , zoneId )\n",
        ""
      ],
      "attachments": {}
    },
    {
      "cell_type": "code",
      "execution_count": 25,
      "outputs": [],
      "metadata": {
        "diagram": {
          "activateDiagramType": 1,
          "chartConfig": {
            "category": "bar",
            "keys": [
              "IdentifierId"
            ],
            "values": [
              "log_timestamp"
            ],
            "yLabel": "log_timestamp",
            "xLabel": "IdentifierId",
            "aggregation": "SUM",
            "aggByBackend": false
          },
          "aggData": "{\"log_timestamp\":{\"IdentifierId(1003)\":0,\"IdentifierId(10043)\":0,\"IdentifierId(10223)\":0,\"IdentifierId(10263)\":0,\"IdentifierId(10266)\":0,\"IdentifierId(10543)\":0,\"IdentifierId(1055)\":0,\"IdentifierId(1094)\":0,\"IdentifierId(11087)\":0,\"IdentifierId(112)\":0,\"IdentifierId(11609)\":0,\"IdentifierId(11705)\":0,\"IdentifierId(11706)\":0,\"IdentifierId(1195)\":0,\"IdentifierId(12166)\":0,\"IdentifierId(12213)\":0,\"IdentifierId(12295)\":0,\"IdentifierId(12386)\":0,\"IdentifierId(12663)\":0,\"IdentifierId(1274)\":0,\"IdentifierId(12930)\":0,\"IdentifierId(1316)\":0,\"IdentifierId(133)\":0,\"IdentifierId(13619)\":0,\"IdentifierId(1379)\":0,\"IdentifierId(13816)\":0,\"IdentifierId(1386)\":0,\"IdentifierId(13980)\":0,\"IdentifierId(140)\":0,\"IdentifierId(141)\":0,\"IdentifierId(14525)\":0,\"IdentifierId(1484)\":0,\"IdentifierId(1491)\":0,\"IdentifierId(15224)\":0,\"IdentifierId(15605)\":0,\"IdentifierId(16156)\":0,\"IdentifierId(1617)\":0,\"IdentifierId(16384)\":0,\"IdentifierId(16597)\":0,\"IdentifierId(16797)\":0,\"IdentifierId(16817)\":0,\"IdentifierId(16884)\":0,\"IdentifierId(16968)\":0,\"IdentifierId(17230)\":0,\"IdentifierId(17528)\":0,\"IdentifierId(17738)\":0,\"IdentifierId(1774)\":0,\"IdentifierId(178)\":0,\"IdentifierId(18065)\":0,\"IdentifierId(182)\":0,\"IdentifierId(18411)\":0,\"IdentifierId(18442)\":0,\"IdentifierId(18473)\":0,\"IdentifierId(18610)\":0,\"IdentifierId(18827)\":0,\"IdentifierId(18863)\":0,\"IdentifierId(18898)\":0,\"IdentifierId(19050)\":0,\"IdentifierId(19085)\":0,\"IdentifierId(19449)\":0,\"IdentifierId(195)\":0,\"IdentifierId(19566)\":0,\"IdentifierId(19666)\":0,\"IdentifierId(19818)\":0,\"IdentifierId(2035)\":0,\"IdentifierId(20521)\":0,\"IdentifierId(21046)\":0,\"IdentifierId(2158)\":0,\"IdentifierId(2166)\":0,\"IdentifierId(21752)\":0,\"IdentifierId(21810)\":0,\"IdentifierId(21828)\":0,\"IdentifierId(21861)\":0,\"IdentifierId(21880)\":0,\"IdentifierId(21885)\":0,\"IdentifierId(21905)\":0,\"IdentifierId(21950)\":0,\"IdentifierId(21957)\":0,\"IdentifierId(21976)\":0,\"IdentifierId(22007)\":0,\"IdentifierId(22021)\":0,\"IdentifierId(22039)\":0,\"IdentifierId(22069)\":0,\"IdentifierId(22071)\":0,\"IdentifierId(22155)\":0,\"IdentifierId(22167)\":0,\"IdentifierId(22171)\":0,\"IdentifierId(22176)\":0,\"IdentifierId(22246)\":0,\"IdentifierId(22249)\":0,\"IdentifierId(22271)\":0,\"IdentifierId(22307)\":0,\"IdentifierId(22311)\":0,\"IdentifierId(22321)\":0,\"IdentifierId(22350)\":0,\"IdentifierId(22368)\":0,\"IdentifierId(22379)\":0,\"IdentifierId(2240)\":0,\"IdentifierId(22410)\":0,\"IdentifierId(22424)\":0,\"IdentifierId(22444)\":0,\"IdentifierId(22453)\":0,\"IdentifierId(22454)\":0,\"IdentifierId(22456)\":0,\"IdentifierId(22466)\":0,\"IdentifierId(22474)\":0,\"IdentifierId(22488)\":0,\"IdentifierId(22519)\":0,\"IdentifierId(22541)\":0,\"IdentifierId(22555)\":0,\"IdentifierId(22557)\":0,\"IdentifierId(22576)\":0,\"IdentifierId(22594)\":0,\"IdentifierId(22609)\":0,\"IdentifierId(22629)\":0,\"IdentifierId(22653)\":0,\"IdentifierId(22662)\":0,\"IdentifierId(22666)\":0,\"IdentifierId(22703)\":0,\"IdentifierId(22737)\":0,\"IdentifierId(22793)\":0,\"IdentifierId(2288)\":0,\"IdentifierId(2289)\":0,\"IdentifierId(22934)\":0,\"IdentifierId(22937)\":0,\"IdentifierId(230)\":0,\"IdentifierId(23060)\":0,\"IdentifierId(23062)\":0,\"IdentifierId(23145)\":0,\"IdentifierId(23186)\":0,\"IdentifierId(23248)\":0,\"IdentifierId(23291)\":0,\"IdentifierId(23482)\":0,\"IdentifierId(23487)\":0,\"IdentifierId(23577)\":0,\"IdentifierId(23737)\":0,\"IdentifierId(23807)\":0,\"IdentifierId(24158)\":0,\"IdentifierId(24209)\":0,\"IdentifierId(24388)\":0,\"IdentifierId(24390)\":0,\"IdentifierId(246)\":0,\"IdentifierId(24674)\":0,\"IdentifierId(24707)\":0,\"IdentifierId(24723)\":0,\"IdentifierId(24767)\":0,\"IdentifierId(24815)\":0,\"IdentifierId(24854)\":0,\"IdentifierId(25140)\":0,\"IdentifierId(25213)\":0,\"IdentifierId(25335)\":0,\"IdentifierId(25501)\":0,\"IdentifierId(25687)\":0,\"IdentifierId(25748)\":0,\"IdentifierId(26111)\":0,\"IdentifierId(26137)\":0,\"IdentifierId(26235)\":0,\"IdentifierId(26278)\":0,\"IdentifierId(26610)\":0,\"IdentifierId(2663)\":0,\"IdentifierId(26843)\":0,\"IdentifierId(26983)\":0,\"IdentifierId(27081)\":0,\"IdentifierId(27288)\":0,\"IdentifierId(27427)\":0,\"IdentifierId(27554)\":0,\"IdentifierId(27659)\":0,\"IdentifierId(27711)\":0,\"IdentifierId(27725)\":0,\"IdentifierId(2780)\":0,\"IdentifierId(2796)\":0,\"IdentifierId(28651)\":0,\"IdentifierId(28695)\":0,\"IdentifierId(29058)\":0,\"IdentifierId(29710)\":0,\"IdentifierId(29896)\":0,\"IdentifierId(29999)\":0,\"IdentifierId(30072)\":0,\"IdentifierId(30078)\":0,\"IdentifierId(303)\":0,\"IdentifierId(30452)\":0,\"IdentifierId(30974)\":0,\"IdentifierId(31524)\":0,\"IdentifierId(31647)\":0,\"IdentifierId(323)\":0,\"IdentifierId(32357)\":0,\"IdentifierId(32438)\":0,\"IdentifierId(3249)\":0,\"IdentifierId(32661)\":0,\"IdentifierId(3275)\":0,\"IdentifierId(32794)\":0,\"IdentifierId(32818)\":0,\"IdentifierId(32985)\":0,\"IdentifierId(33016)\":0,\"IdentifierId(33170)\":0,\"IdentifierId(33256)\":0,\"IdentifierId(34319)\":0,\"IdentifierId(34454)\":0,\"IdentifierId(345)\":0,\"IdentifierId(34666)\":0,\"IdentifierId(34673)\":0,\"IdentifierId(34870)\":0,\"IdentifierId(35004)\":0,\"IdentifierId(35143)\":0,\"IdentifierId(35204)\":0,\"IdentifierId(35263)\":0,\"IdentifierId(35268)\":0,\"IdentifierId(35336)\":0,\"IdentifierId(354)\":0,\"IdentifierId(35580)\":0,\"IdentifierId(35622)\":0,\"IdentifierId(3565)\":0,\"IdentifierId(35697)\":0,\"IdentifierId(35729)\":0,\"IdentifierId(35760)\":0,\"IdentifierId(36)\":0,\"IdentifierId(36139)\":0,\"IdentifierId(36187)\":0,\"IdentifierId(36200)\":0,\"IdentifierId(36245)\":0,\"IdentifierId(36328)\":0,\"IdentifierId(36407)\":0,\"IdentifierId(36442)\":0,\"IdentifierId(36553)\":0,\"IdentifierId(37029)\":0,\"IdentifierId(37036)\":0,\"IdentifierId(37039)\":0,\"IdentifierId(37084)\":0,\"IdentifierId(38081)\":0,\"IdentifierId(38082)\":0,\"IdentifierId(38324)\":0,\"IdentifierId(38495)\":0,\"IdentifierId(38500)\":0,\"IdentifierId(39107)\":0,\"IdentifierId(39253)\":0,\"IdentifierId(39365)\":0,\"IdentifierId(394)\":0,\"IdentifierId(39590)\":0,\"IdentifierId(4002)\":0,\"IdentifierId(40092)\":0,\"IdentifierId(40453)\":0,\"IdentifierId(40469)\":0,\"IdentifierId(40700)\":0,\"IdentifierId(41029)\":0,\"IdentifierId(41252)\":0,\"IdentifierId(4141)\":0,\"IdentifierId(41436)\":0,\"IdentifierId(41519)\":0,\"IdentifierId(41661)\":0,\"IdentifierId(417)\":0,\"IdentifierId(41715)\":0,\"IdentifierId(41728)\":0,\"IdentifierId(41802)\":0,\"IdentifierId(41829)\":0,\"IdentifierId(42099)\":0,\"IdentifierId(42267)\":0,\"IdentifierId(43945)\":0,\"IdentifierId(4399)\":0,\"IdentifierId(44)\":0,\"IdentifierId(44354)\":0,\"IdentifierId(44387)\":0,\"IdentifierId(44398)\":0,\"IdentifierId(44477)\":0,\"IdentifierId(45029)\":0,\"IdentifierId(45364)\":0,\"IdentifierId(45368)\":0,\"IdentifierId(45422)\":0,\"IdentifierId(45457)\":0,\"IdentifierId(45491)\":0,\"IdentifierId(45552)\":0,\"IdentifierId(45704)\":0,\"IdentifierId(45918)\":0,\"IdentifierId(460)\":0,\"IdentifierId(46138)\":0,\"IdentifierId(46188)\":0,\"IdentifierId(46502)\":0,\"IdentifierId(46755)\":0,\"IdentifierId(46794)\":0,\"IdentifierId(46803)\":0,\"IdentifierId(47077)\":0,\"IdentifierId(47108)\":0,\"IdentifierId(47116)\":0,\"IdentifierId(47531)\":0,\"IdentifierId(47637)\":0,\"IdentifierId(47880)\":0,\"IdentifierId(48234)\":0,\"IdentifierId(48417)\":0,\"IdentifierId(48432)\":0,\"IdentifierId(48589)\":0,\"IdentifierId(48660)\":0,\"IdentifierId(48670)\":0,\"IdentifierId(48821)\":0,\"IdentifierId(4932)\":0,\"IdentifierId(49719)\":0,\"IdentifierId(49788)\":0,\"IdentifierId(49810)\":0,\"IdentifierId(4989)\":0,\"IdentifierId(49944)\":0,\"IdentifierId(50046)\":0,\"IdentifierId(50401)\":0,\"IdentifierId(50524)\":0,\"IdentifierId(5088)\":0,\"IdentifierId(51138)\":0,\"IdentifierId(51246)\":0,\"IdentifierId(51444)\":0,\"IdentifierId(51738)\":0,\"IdentifierId(51768)\":0,\"IdentifierId(52103)\":0,\"IdentifierId(52362)\":0,\"IdentifierId(52427)\":0,\"IdentifierId(52445)\":0,\"IdentifierId(52497)\":0,\"IdentifierId(52499)\":0,\"IdentifierId(52549)\":0,\"IdentifierId(52793)\":0,\"IdentifierId(52818)\":0,\"IdentifierId(52944)\":0,\"IdentifierId(53)\":0,\"IdentifierId(53170)\":0,\"IdentifierId(53228)\":0,\"IdentifierId(53229)\":0,\"IdentifierId(53785)\":0,\"IdentifierId(53911)\":0,\"IdentifierId(54534)\":0,\"IdentifierId(54676)\":0,\"IdentifierId(54869)\":0,\"IdentifierId(54918)\":0,\"IdentifierId(55037)\":0,\"IdentifierId(55051)\":0,\"IdentifierId(55614)\":0,\"IdentifierId(55667)\":0,\"IdentifierId(55762)\":0,\"IdentifierId(55787)\":0,\"IdentifierId(55791)\":0,\"IdentifierId(55922)\":0,\"IdentifierId(55932)\":0,\"IdentifierId(56579)\":0,\"IdentifierId(56692)\":0,\"IdentifierId(57101)\":0,\"IdentifierId(57137)\":0,\"IdentifierId(57316)\":0,\"IdentifierId(57744)\":0,\"IdentifierId(57770)\":0,\"IdentifierId(57830)\":0,\"IdentifierId(58074)\":0,\"IdentifierId(582)\":0,\"IdentifierId(58242)\":0,\"IdentifierId(58710)\":0,\"IdentifierId(58800)\":0,\"IdentifierId(58813)\":0,\"IdentifierId(58974)\":0,\"IdentifierId(58987)\":0,\"IdentifierId(59029)\":0,\"IdentifierId(59334)\":0,\"IdentifierId(59425)\":0,\"IdentifierId(59467)\":0,\"IdentifierId(59548)\":0,\"IdentifierId(59629)\":0,\"IdentifierId(59772)\":0,\"IdentifierId(60100)\":0,\"IdentifierId(60168)\":0,\"IdentifierId(60179)\":0,\"IdentifierId(60250)\":0,\"IdentifierId(60343)\":0,\"IdentifierId(60525)\":0,\"IdentifierId(60628)\":0,\"IdentifierId(60674)\":0,\"IdentifierId(60782)\":0,\"IdentifierId(60859)\":0,\"IdentifierId(60870)\":0,\"IdentifierId(61105)\":0,\"IdentifierId(61239)\":0,\"IdentifierId(61409)\":0,\"IdentifierId(61421)\":0,\"IdentifierId(61505)\":0,\"IdentifierId(61510)\":0,\"IdentifierId(61560)\":0,\"IdentifierId(61663)\":0,\"IdentifierId(61736)\":0,\"IdentifierId(61755)\":0,\"IdentifierId(61769)\":0,\"IdentifierId(61773)\":0,\"IdentifierId(61856)\":0,\"IdentifierId(61883)\":0,\"IdentifierId(61942)\":0,\"IdentifierId(62)\":0,\"IdentifierId(62023)\":0,\"IdentifierId(62095)\":0,\"IdentifierId(62348)\":0,\"IdentifierId(62410)\":0,\"IdentifierId(62426)\":0,\"IdentifierId(62580)\":0,\"IdentifierId(62585)\":0,\"IdentifierId(62591)\":0,\"IdentifierId(62829)\":0,\"IdentifierId(62933)\":0,\"IdentifierId(62987)\":0,\"IdentifierId(62995)\":0,\"IdentifierId(62999)\":0,\"IdentifierId(63081)\":0,\"IdentifierId(63133)\":0,\"IdentifierId(63273)\":0,\"IdentifierId(63302)\":0,\"IdentifierId(63311)\":0,\"IdentifierId(63335)\":0,\"IdentifierId(63401)\":0,\"IdentifierId(63533)\":0,\"IdentifierId(63541)\":0,\"IdentifierId(63599)\":0,\"IdentifierId(63604)\":0,\"IdentifierId(63646)\":0,\"IdentifierId(63662)\":0,\"IdentifierId(63729)\":0,\"IdentifierId(63753)\":0,\"IdentifierId(63804)\":0,\"IdentifierId(64)\":0,\"IdentifierId(64031)\":0,\"IdentifierId(64095)\":0,\"IdentifierId(64136)\":0,\"IdentifierId(64141)\":0,\"IdentifierId(64297)\":0,\"IdentifierId(64310)\":0,\"IdentifierId(64380)\":0,\"IdentifierId(64397)\":0,\"IdentifierId(64475)\":0,\"IdentifierId(64497)\":0,\"IdentifierId(64510)\":0,\"IdentifierId(64580)\":0,\"IdentifierId(64604)\":0,\"IdentifierId(64609)\":0,\"IdentifierId(64632)\":0,\"IdentifierId(64650)\":0,\"IdentifierId(64655)\":0,\"IdentifierId(64656)\":0,\"IdentifierId(64784)\":0,\"IdentifierId(64813)\":0,\"IdentifierId(64823)\":0,\"IdentifierId(64875)\":0,\"IdentifierId(64904)\":0,\"IdentifierId(64923)\":0,\"IdentifierId(64950)\":0,\"IdentifierId(64975)\":0,\"IdentifierId(650)\":0,\"IdentifierId(65002)\":0,\"IdentifierId(65013)\":0,\"IdentifierId(65077)\":0,\"IdentifierId(65180)\":0,\"IdentifierId(65181)\":0,\"IdentifierId(65217)\":0,\"IdentifierId(65230)\":0,\"IdentifierId(65322)\":0,\"IdentifierId(65403)\":0,\"IdentifierId(65409)\":0,\"IdentifierId(65415)\":0,\"IdentifierId(65420)\":0,\"IdentifierId(65436)\":0,\"IdentifierId(65444)\":0,\"IdentifierId(65469)\":0,\"IdentifierId(65477)\":0,\"IdentifierId(65490)\":0,\"IdentifierId(65494)\":0,\"IdentifierId(65531)\":0,\"IdentifierId(65547)\":0,\"IdentifierId(65548)\":0,\"IdentifierId(65549)\":0,\"IdentifierId(65550)\":0,\"IdentifierId(663)\":0,\"IdentifierId(6759)\":0,\"IdentifierId(68)\":0,\"IdentifierId(7087)\":0,\"IdentifierId(7127)\":0,\"IdentifierId(722)\":0,\"IdentifierId(753)\":0,\"IdentifierId(782)\":0,\"IdentifierId(7842)\":0,\"IdentifierId(87)\":0,\"IdentifierId(9084)\":0,\"IdentifierId(9085)\":0,\"IdentifierId(91)\":0,\"IdentifierId(9194)\":0,\"IdentifierId(941)\":0,\"IdentifierId(9486)\":0,\"IdentifierId(9583)\":0,\"IdentifierId(9695)\":0,\"IdentifierId(973)\":0,\"IdentifierId(980)\":0}}",
          "isSummary": false,
          "previewData": {
            "filter": null
          },
          "isSql": false
        }
      },
      "source": [
        "# Character_Log_Data(사용자 캐릭터 로그 데이터) ∩ InGame_Log_Data(인게임 캐릭터 위치 로그 데이터)\n",
        "wow_log_join = wow_log_df.join(zones_df, wow_log_df.zoneId == zones_df.zoneId).drop(zones_df.zoneId)\n",
        "print('Character ∩ InGame =', wow_log_join.count(), len(wow_log_join.columns))\n",
        "\n",
        "# Character_Log_Data(사용자 캐릭터 로그 데이터) ∩ InGame_Log_Data(인게임 캐릭터 위치 로그 데이터) ∩ Churn_Label_Log_Data(이탈 여부 태그 로그 데이터)\n",
        "wow_log_result_join = wow_log_join.join(churners_df, wow_log_join.IdentifierId == churners_df.IdentifierId).drop(churners_df.IdentifierId)\n",
        "print('Character ∩ InGame ∩ Churn_Label =', wow_log_result_join.count(), len(wow_log_result_join.columns))\n",
        "display(wow_log_result_join)"
      ],
      "attachments": {}
    },
    {
      "cell_type": "code",
      "execution_count": null,
      "outputs": [],
      "metadata": {},
      "source": [
        "#pandas dataframe으로 하는 join\n",
        "\n",
        "#df_pandas_INNER_JOIN = pd.merge(wow_log_pandas_df, churner_pandas_df, left_on='IdentifierId', right_on='IdentifierId', how='inner')\n",
        "#df_pandas_INNER_JOIN_result = pd.merge(df_pandas_INNER_JOIN, zones_pandas_df, left_on='zoneId', right_on='zoneId', how='inner')\n",
        "#print(df_pandas_INNER_JOIN_result)\n",
        ""
      ],
      "attachments": {}
    },
    {
      "cell_type": "code",
      "execution_count": 26,
      "outputs": [],
      "metadata": {},
      "source": [
        "#연습용 셀"
      ],
      "attachments": {}
    },
    {
      "cell_type": "markdown",
      "metadata": {},
      "source": [
        "## 3.5 Save File & Table\n",
        "\n",
        ""
      ],
      "attachments": {}
    },
    {
      "cell_type": "code",
      "execution_count": 17,
      "outputs": [],
      "metadata": {},
      "source": [
        "wow_log_result_join.createOrReplaceTempView(\"pysparkdftemptable\") #temptable에 저장\n",
        "wow_log_result_join.write.mode(\"overwrite\").saveAsTable('sparkwowdataset') # sparkpool에 저장\n",
        "wow_log_result_join.write.mode(\"overwrite\").save('abfss://aaafilesystem@aaatraing.dfs.core.windows.net/sparkpooldata/churnersdf_yj3.csv', format='csv', header=True) #ADLS에 저장"
      ],
      "attachments": {}
    },
    {
      "cell_type": "code",
      "execution_count": 22,
      "outputs": [
        {
          "output_type": "execute_result",
          "data": {
            "text/plain": "scala_df: org.apache.spark.sql.DataFrame = [IdentifierId: string, level: string ... 19 more fields]"
          },
          "execution_count": 23,
          "metadata": {}
        }
      ],
      "metadata": {
        "diagram": {
          "activateDiagramType": 1,
          "chartConfig": {
            "category": "bar",
            "keys": [
              "IdentifierId"
            ],
            "values": [
              "log_timestamp"
            ],
            "yLabel": "log_timestamp",
            "xLabel": "IdentifierId",
            "aggregation": "SUM",
            "aggByBackend": false
          },
          "aggData": "{\"log_timestamp\":{\"36\":0,\"44\":0,\"53\":0,\"62\":0,\"64\":0,\"68\":0,\"87\":0,\"91\":0,\"112\":0,\"133\":0,\"140\":0,\"141\":0,\"178\":0,\"182\":0,\"195\":0,\"230\":0,\"246\":0,\"303\":0,\"323\":0,\"345\":0,\"354\":0,\"394\":0,\"417\":0,\"460\":0,\"582\":0,\"650\":0,\"663\":0,\"722\":0,\"753\":0,\"782\":0,\"941\":0,\"973\":0,\"980\":0,\"1003\":0,\"1055\":0,\"1094\":0,\"1195\":0,\"1274\":0,\"1316\":0,\"1379\":0,\"1386\":0,\"1484\":0,\"1491\":0,\"1617\":0,\"1774\":0,\"2035\":0,\"2158\":0,\"2166\":0,\"2240\":0,\"2288\":0,\"2289\":0,\"2663\":0,\"2780\":0,\"2796\":0,\"3249\":0,\"3275\":0,\"3565\":0,\"4002\":0,\"4141\":0,\"4399\":0,\"4932\":0,\"4989\":0,\"5088\":0,\"6759\":0,\"7087\":0,\"7127\":0,\"7842\":0,\"9084\":0,\"9085\":0,\"9194\":0,\"9486\":0,\"9583\":0,\"9695\":0,\"10043\":0,\"10223\":0,\"10263\":0,\"10266\":0,\"10543\":0,\"11087\":0,\"11609\":0,\"11705\":0,\"11706\":0,\"12166\":0,\"12213\":0,\"12295\":0,\"12386\":0,\"12663\":0,\"12930\":0,\"13619\":0,\"13816\":0,\"13980\":0,\"14525\":0,\"15224\":0,\"15605\":0,\"16156\":0,\"16384\":0,\"16597\":0,\"16797\":0,\"16817\":0,\"16884\":0,\"16968\":0,\"17230\":0,\"17528\":0,\"17738\":0,\"18065\":0,\"18411\":0,\"18442\":0,\"18473\":0,\"18610\":0,\"18827\":0,\"18863\":0,\"18898\":0,\"19050\":0,\"19085\":0,\"19449\":0,\"19566\":0,\"19666\":0,\"19818\":0,\"20521\":0,\"21046\":0,\"21752\":0,\"21810\":0,\"21828\":0,\"21861\":0,\"21880\":0,\"21885\":0,\"21905\":0,\"21950\":0,\"21957\":0,\"21976\":0,\"22007\":0,\"22021\":0,\"22039\":0,\"22069\":0,\"22071\":0,\"22155\":0,\"22167\":0,\"22171\":0,\"22176\":0,\"22246\":0,\"22249\":0,\"22271\":0,\"22307\":0,\"22311\":0,\"22321\":0,\"22350\":0,\"22368\":0,\"22379\":0,\"22410\":0,\"22424\":0,\"22444\":0,\"22453\":0,\"22454\":0,\"22456\":0,\"22466\":0,\"22474\":0,\"22488\":0,\"22519\":0,\"22541\":0,\"22555\":0,\"22557\":0,\"22576\":0,\"22594\":0,\"22609\":0,\"22629\":0,\"22653\":0,\"22662\":0,\"22666\":0,\"22703\":0,\"22737\":0,\"22793\":0,\"22934\":0,\"22937\":0,\"23060\":0,\"23062\":0,\"23145\":0,\"23186\":0,\"23248\":0,\"23291\":0,\"23482\":0,\"23487\":0,\"23577\":0,\"23737\":0,\"23807\":0,\"24158\":0,\"24209\":0,\"24388\":0,\"24390\":0,\"24674\":0,\"24707\":0,\"24723\":0,\"24767\":0,\"24815\":0,\"24854\":0,\"25140\":0,\"25213\":0,\"25335\":0,\"25501\":0,\"25687\":0,\"25748\":0,\"26111\":0,\"26137\":0,\"26235\":0,\"26278\":0,\"26610\":0,\"26843\":0,\"26983\":0,\"27081\":0,\"27288\":0,\"27427\":0,\"27554\":0,\"27659\":0,\"27711\":0,\"27725\":0,\"28651\":0,\"28695\":0,\"29058\":0,\"29710\":0,\"29896\":0,\"29999\":0,\"30072\":0,\"30078\":0,\"30452\":0,\"30974\":0,\"31524\":0,\"31647\":0,\"32357\":0,\"32438\":0,\"32661\":0,\"32794\":0,\"32818\":0,\"32985\":0,\"33016\":0,\"33170\":0,\"33256\":0,\"34319\":0,\"34454\":0,\"34666\":0,\"34673\":0,\"34870\":0,\"35004\":0,\"35143\":0,\"35204\":0,\"35263\":0,\"35268\":0,\"35336\":0,\"35580\":0,\"35622\":0,\"35697\":0,\"35729\":0,\"35760\":0,\"36139\":0,\"36187\":0,\"36200\":0,\"36245\":0,\"36328\":0,\"36407\":0,\"36442\":0,\"36553\":0,\"37029\":0,\"37036\":0,\"37039\":0,\"37084\":0,\"38081\":0,\"38082\":0,\"38324\":0,\"38495\":0,\"38500\":0,\"39107\":0,\"39253\":0,\"39365\":0,\"39590\":0,\"40092\":0,\"40453\":0,\"40469\":0,\"40700\":0,\"41029\":0,\"41252\":0,\"41436\":0,\"41519\":0,\"41661\":0,\"41715\":0,\"41728\":0,\"41802\":0,\"41829\":0,\"42099\":0,\"42267\":0,\"43945\":0,\"44354\":0,\"44387\":0,\"44398\":0,\"44477\":0,\"45029\":0,\"45364\":0,\"45368\":0,\"45422\":0,\"45457\":0,\"45491\":0,\"45552\":0,\"45704\":0,\"45918\":0,\"46138\":0,\"46188\":0,\"46502\":0,\"46755\":0,\"46794\":0,\"46803\":0,\"47077\":0,\"47108\":0,\"47116\":0,\"47531\":0,\"47637\":0,\"47880\":0,\"48234\":0,\"48417\":0,\"48432\":0,\"48589\":0,\"48660\":0,\"48670\":0,\"48821\":0,\"49719\":0,\"49788\":0,\"49810\":0,\"49944\":0,\"50046\":0,\"50401\":0,\"50524\":0,\"51138\":0,\"51246\":0,\"51444\":0,\"51738\":0,\"51768\":0,\"52103\":0,\"52362\":0,\"52427\":0,\"52445\":0,\"52497\":0,\"52499\":0,\"52549\":0,\"52793\":0,\"52818\":0,\"52944\":0,\"53170\":0,\"53228\":0,\"53229\":0,\"53785\":0,\"53911\":0,\"54534\":0,\"54676\":0,\"54869\":0,\"54918\":0,\"55037\":0,\"55051\":0,\"55614\":0,\"55667\":0,\"55762\":0,\"55787\":0,\"55791\":0,\"55922\":0,\"55932\":0,\"56579\":0,\"56692\":0,\"57101\":0,\"57137\":0,\"57316\":0,\"57744\":0,\"57770\":0,\"57830\":0,\"58074\":0,\"58242\":0,\"58710\":0,\"58800\":0,\"58813\":0,\"58974\":0,\"58987\":0,\"59029\":0,\"59334\":0,\"59425\":0,\"59467\":0,\"59548\":0,\"59629\":0,\"59772\":0,\"60100\":0,\"60168\":0,\"60179\":0,\"60250\":0,\"60343\":0,\"60525\":0,\"60628\":0,\"60674\":0,\"60782\":0,\"60859\":0,\"60870\":0,\"61105\":0,\"61239\":0,\"61409\":0,\"61421\":0,\"61505\":0,\"61510\":0,\"61560\":0,\"61663\":0,\"61736\":0,\"61755\":0,\"61769\":0,\"61773\":0,\"61856\":0,\"61883\":0,\"61942\":0,\"62023\":0,\"62095\":0,\"62348\":0,\"62410\":0,\"62426\":0,\"62580\":0,\"62585\":0,\"62591\":0,\"62829\":0,\"62933\":0,\"62987\":0,\"62995\":0,\"62999\":0,\"63081\":0,\"63133\":0,\"63273\":0,\"63302\":0,\"63311\":0,\"63335\":0,\"63401\":0,\"63533\":0,\"63541\":0,\"63599\":0,\"63604\":0,\"63646\":0,\"63662\":0,\"63729\":0,\"63753\":0,\"63804\":0,\"64031\":0,\"64095\":0,\"64136\":0,\"64141\":0,\"64297\":0,\"64310\":0,\"64380\":0,\"64397\":0,\"64475\":0,\"64497\":0,\"64510\":0,\"64580\":0,\"64604\":0,\"64609\":0,\"64632\":0,\"64650\":0,\"64655\":0,\"64656\":0,\"64784\":0,\"64813\":0,\"64823\":0,\"64875\":0,\"64904\":0,\"64923\":0,\"64950\":0,\"64975\":0,\"65002\":0,\"65013\":0,\"65077\":0,\"65180\":0,\"65181\":0,\"65217\":0,\"65230\":0,\"65322\":0,\"65403\":0,\"65409\":0,\"65415\":0,\"65420\":0,\"65436\":0,\"65444\":0,\"65469\":0,\"65477\":0,\"65490\":0,\"65494\":0,\"65531\":0,\"65547\":0,\"65548\":0,\"65549\":0,\"65550\":0}}",
          "isSummary": false,
          "previewData": {
            "filter": null
          },
          "isSql": false
        }
      },
      "source": [
        "%%spark\n",
        "val scala_df = spark.sqlContext.sql (\"select * from pysparkdftemptable\")\n",
        "scala_df.write.mode(\"overwrite\").synapsesql(\"aaasqlpool.dbo.notebooksqlwowdata\", Constants.INTERNAL) //Sql pool에 저장"
      ],
      "attachments": {}
    },
    {
      "cell_type": "code",
      "execution_count": null,
      "outputs": [],
      "metadata": {},
      "source": [
        ""
      ],
      "attachments": {}
    }
  ]
}