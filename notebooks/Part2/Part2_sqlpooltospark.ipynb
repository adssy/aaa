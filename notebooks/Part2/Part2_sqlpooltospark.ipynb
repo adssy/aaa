{
  "metadata": {
    "saveOutput": true,
    "language_info": {
      "name": "scala"
    }
  },
  "nbformat": 4,
  "nbformat_minor": 2,
  "cells": [
    {
      "cell_type": "code",
      "execution_count": 1,
      "outputs": [
        {
          "output_type": "execute_result",
          "execution_count": 1,
          "data": {
            "text/plain": "df: org.apache.spark.sql.DataFrame = [identifierid: string, level: int ... 19 more fields]"
          },
          "metadata": {}
        }
      ],
      "metadata": {},
      "source": [
        "%%spark\n",
        "val df = spark.read.sqlanalytics(\"aaasqlpool.dbo.dataflow_table\") \n",
        "df.write.mode(\"overwrite\").saveAsTable(\"default.dataflowsparkwowdataset\")"
      ]
    },
    {
      "cell_type": "code",
      "execution_count": null,
      "outputs": [],
      "metadata": {},
      "source": [],
      "attachments": {}
    }
  ]
}